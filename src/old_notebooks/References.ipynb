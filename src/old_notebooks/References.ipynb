{
 "cells": [
  {
   "cell_type": "code",
   "execution_count": 1,
   "metadata": {
    "collapsed": true
   },
   "outputs": [],
   "source": [
    "%load_ext autoreload\n",
    "%autoreload 2"
   ]
  },
  {
   "cell_type": "code",
   "execution_count": 2,
   "metadata": {
    "collapsed": true
   },
   "outputs": [],
   "source": [
    "import matplotlib\n",
    "import matplotlib.pyplot as plt\n",
    "import time\n",
    "import numpy as np\n",
    "import query_db\n",
    "import composite"
   ]
  },
  {
   "cell_type": "code",
   "execution_count": 3,
   "metadata": {
    "collapsed": false
   },
   "outputs": [
    {
     "name": "stdout",
     "output_type": "stream",
     "text": [
      "Collecting data...\n",
      "ERROR:  1998bu_19990126_0_2_00.dat None\n",
      "ERROR:  2002bo_20020313_3360_7726_00.dat None\n",
      "ERROR:  2002bo_20020314_0_2_00.dat None\n",
      "ERROR:  2002bo_20020403_0_2_00.dat None\n",
      "ERROR:  2002bo_20020421_0_2_00.dat None\n",
      "ERROR:  2002bo_20020518_0_2_00.dat None\n",
      "ERROR:  2003hv_20040901_51567_151964_00.dat None\n",
      "ERROR:  sn2006oa-20061116-not.dat None\n",
      "ERROR:  sn2006oa-20061122-not.dat None\n",
      "ERROR:  sn2007jg-20070918-not.dat None\n",
      "ERROR:  sn1992a-19920116.220-iue.flm None\n",
      "4995 valid SNe found\n",
      "Arrays cleaned\n"
     ]
    }
   ],
   "source": [
    "SN_Array = composite.grab(\"SELECT * from Supernovae inner join Photometry ON Supernovae.SN = Photometry.SN\", multi_epoch = True, make_corr = False)"
   ]
  },
  {
   "cell_type": "code",
   "execution_count": 5,
   "metadata": {
    "collapsed": false,
    "scrolled": true
   },
   "outputs": [
    {
     "name": "stdout",
     "output_type": "stream",
     "text": [
      "2007ApJ...669L..17H\n",
      "2007ApJ...671L..25S\n",
      "2007ApJ...654L..53T\n",
      "2004MNRAS.348..261B\n",
      "2005ApJ...632..450L\n",
      "2008MNRAS.388..971P\n",
      "1996MNRAS.278..111P\n",
      "2001PASP..113.1178L\n",
      "2008MNRAS.384..107E\n",
      "2007A&A...471..527G\n",
      "2012MNRAS.425.1789S\n",
      "2005A&A...436.1021\n",
      "2006PASP..118..722C\n",
      "1997ASIC..486.....R\n",
      "2013ApJ...773...53F\n",
      "1992AJ....104.1543F\n",
      "2011A&A...526A..28O\n",
      "2015MNRAS.453.3300A\n",
      "2003PASP..115..453L\n",
      "2009AJ....138..376F\n",
      "2006AJ....132..189J\n",
      "2010ApJ...708.1748F\n",
      "1993ApJ...415..589K\n",
      "2006MNRAS.369.1880E\n",
      "2003AJ....125.1087G\n",
      "2007A&A...469..645S\n",
      "2009PASJ...61..713Y\n",
      "2012AJ....143..126B\n",
      "2001PASP..113..308M\n",
      "1993Natur.365..728R\n",
      "2003ApJ...595..779V\n",
      "2008ApJ...675..626W\n",
      "2001MNRAS.321..254S\n",
      "2013A&A...554A..27P\n",
      "2011MNRAS.410..585S\n",
      "2009ApJ...697..380W\n",
      "2014MNRAS.439.1959M\n",
      "2001AJ....121.1648M\n",
      "2015MNRAS.452.4307P\n",
      "2007PASP..119..360P\n",
      "2007AIPC..937..311L\n",
      "2010PASP..122....1Z\n",
      "2014ApJ...786..134M\n",
      "1992ApJ...384L..15F\n",
      "2011AJ....142...74K\n",
      "2001ApJ...549L.215C\n",
      "2008ApJ...686..117F\n",
      "2001ApJ...546..734L\n",
      "2005A&A...429..667A\n",
      "1999AJ....117.2709L\n",
      "1994AJ....108.2233W\n",
      "2013ApJ...769L...1F\n",
      "2018MNRAS.479..517P\n"
     ]
    }
   ],
   "source": [
    "ref_list = []\n",
    "for SN in SN_Array:\n",
    "    if SN.ref != None:\n",
    "        ref_list.append(SN.ref)\n",
    "ref_set = set(ref_list)\n",
    "for r in ref_set:\n",
    "    print r"
   ]
  },
  {
   "cell_type": "code",
   "execution_count": 8,
   "metadata": {
    "collapsed": false
   },
   "outputs": [
    {
     "name": "stdout",
     "output_type": "stream",
     "text": [
      "1 1994M_19940605_3699_9505_00.dat 1994m 33.9542611415 other 3699.59 9505.2566 None\n",
      "2 1994Q_19940605_3497_9708_00.dat 1994q 11.4543632062 other 3497.67 9708.2264 None\n",
      "3 1994Q_19940706_3602_9706_00.dat 1994q 41.5641961063 other 3602.26 9706.3566 None\n",
      "4 1994S_19940706_3501_9665_00.dat 1994s 20.3668916849 other 3501.05 9665.1573 None\n",
      "5 sn2001ay-20010502.813-hst.flm 2001ay 8.31841777288 uv 2930.0 5695.0 None\n",
      "6 sn2001ay-20010509.704-hst.flm 2001ay 15.1129247052 uv 2930.0 5695.0 None\n",
      "7 sn2003bt-20030317.713-hst.flm 2003bt None uv 1690.0 5690.0 None\n",
      "8 sn2004dt-20040820-hst.flm 2004dt 0.674688397911 uv 1801.95 3370.81 None\n",
      "9 sn2004dt-20040823-hst.flm 2004dt 3.61664362135 uv 1919.47 3370.62 None\n",
      "10 sn2004ef-20040914-hst.flm 2004ef -1.99323947487 uv 1883.09 3431.81 None\n",
      "11 sn2004ef-20040918-hst.flm 2004ef 1.88654539106 uv 2049.91 3411.26 None\n",
      "12 sn2005cf-20050603-hst.flm 2005cf -9.26811868518 uv 1753.76 3395.97 None\n",
      "13 sn2005cf-20050605-hst.flm 2005cf -7.28095773209 uv 1816.97 3396.48 None\n",
      "14 sn2005cf-20050607-hst.flm 2005cf -5.29379677901 uv 1834.65 3396.43 None\n",
      "15 sn2005cf-20050611-hst.flm 2005cf -1.31947487285 uv 1778.54 3396.12 None\n",
      "16 sn2005cf-20050614-hst.flm 2005cf 1.66126655678 uv 1847.6 3402.0 None\n",
      "17 sn2005m-20050128-hst.flm 2005m -6.42465753425 uv 1951.14 3395.46 None\n",
      "18 sn2005m-20050131-hst.flm 2005m -3.48923679061 uv 1897.94 3382.46 None\n"
     ]
    }
   ],
   "source": [
    "i=0\n",
    "for SN in SN_Array:\n",
    "    if SN.ref not in ref_set:\n",
    "        i+=1\n",
    "        print i, SN.filename, SN.name, SN.phase, SN.source, SN.minwave, SN.maxwave, SN.ref"
   ]
  },
  {
   "cell_type": "code",
   "execution_count": 9,
   "metadata": {
    "collapsed": true
   },
   "outputs": [],
   "source": [
    "sn2003du_bs = [\"2003du_20030425_3428_9436_00.dat\",\n",
    "               \"2003du_20030429_3428_9436_00.dat\",\n",
    "               \"2003du_20030515_3252_7200_00.dat\",\n",
    "               \"2003du_20030515_4969_9241_00.dat\",\n",
    "               \"2003du_20030519_3477_9734_00.dat\",\n",
    "               \"2003du_20030612_3497_9436_00.dat\",\n",
    "               \"2003du_20030801_3503_9436_00.dat\",\n",
    "               \"2003du_20030921_3676_9050_00.dat\",\n",
    "               \"2003du_20030922_3676_9051_00.dat\"]"
   ]
  },
  {
   "cell_type": "code",
   "execution_count": 13,
   "metadata": {
    "collapsed": false
   },
   "outputs": [
    {
     "name": "stdout",
     "output_type": "stream",
     "text": [
      "1 1993z sn1993z-19940317-ui.flm 0.83 None None\n",
      "2 2001bp sn2001bp-far-20010516-ui.flm 0.51 None None\n",
      "3 2005ao sn2005ao-20050313.539-ui.flm 0.52 None None\n",
      "4 2005de sn2005de-20050815.340-ui-corrected.flm -0.75 None None\n",
      "5 2005di sn2005di-20050826.406-ui.flm 0.49 None None\n",
      "6 2005er sn2005er-20051005.229-deimos.flm -0.26 None None\n",
      "7 2007gi sn2007gi-20070814.173-ui.flm -0.35 None None\n",
      "8 2008ec sn2008ec-20080726.359-ui-corrected.flm -0.24 None None\n",
      "9 2008s1 sn2008s1-20080526-ui-corrected.flm 0.49 None None\n",
      "10 2000dg sn2000dg-20000902.38-fast.flm -0.789600385171 None None\n",
      "11 2000dg sn2000dg-20000903.37-fast.flm 0.163697640833 None None\n",
      "12 2007kk sn2007kk-20071008.41-fast.flm -0.758885686833 None None\n",
      "13 2008ae sn2008ae-20080211.32-fast.flm -0.0776623628791 None None\n",
      "14 2008ae sn2008ae-20080212.35-fast.flm 0.922240559166 None None\n",
      "15 snf20080522-000 snf20080522-000-20080604.17-fast.flm -0.315789473686 None None\n",
      "16 snf20080522-000 snf20080522-000-20080605.19-fast.flm 0.660287081342 None None\n",
      "17 snf20080522-011 snf20080522-011-20080531.25-fast.flm 0.529916176898 None None\n",
      "18 snf20080720-001 snf20080720-001-20080724.44-fast.flm -0.352630032325 None None\n",
      "19 2005M SN05M_050204_b01_DUP_WF.dat 0.322070621376 None None\n",
      "20 2007A SN07A_070113_b01_DUP_BC.dat 0.697685844802 None None\n",
      "21 2007S SN07S_070212_b01_DUP_WF.dat -0.897542115585 None None\n",
      "22 2007S SN07S_070213_b01_DUP_WF.dat 0.0986310017883 None None\n",
      "23 2009aa SN09aa_090216_b01_BAA_IM.dat 0.107075760841 None None\n",
      "24 2009aa SN09aa_090216_r01_BAA_IM.dat 0.107075760841 None None\n",
      "25 2009ad SN09ad_090223_b01_DUP_WF.dat -0.53481135772 None None\n",
      "26 2009ag SN09ag_090226_b01_DUP_WF.dat -0.475888324855 None None\n",
      "27 2009D SN09D_090109_b01_NTT_EF.dat -0.0292680069415 None None\n",
      "28 2009D SN09D_090109_r01_NTT_EF.dat -0.0585360143373 None None\n",
      "29 2009D SN09D_090110_r01_GEM_GM.dat 0.858528209372 None None\n",
      "30 2009F SN09F_090110_r01_GEM_GM.dat -0.157952930174 None None\n",
      "31 2008Q sn2008Q-20080209.23-fixedbg-swift.flm -0.2 None None\n",
      "32 2009Y sn2009Y-20090213.16-fixedbg-swift.flm -0.7 None None\n",
      "33 2013cg sn2013cg-20130512.95-fixedbg-swift.flm 0.0 None None\n",
      "34 2016eiy sn2016eiy-20160805.58-fixedbg-swift.flm 0.6 None None\n",
      "35 2016ekg sn2016ekg-20160806.31-fixedbg-swift.flm -0.7 None None\n"
     ]
    }
   ],
   "source": [
    "i=0\n",
    "for SN in SN_Array:\n",
    "    if SN.phase > -1 and SN.phase < 1 and SN.dm15_source is None and SN.dm15_from_fits is None:\n",
    "        i+=1\n",
    "        print i, SN.name, SN.filename, SN.phase, SN.dm15_source, SN.dm15_from_fits"
   ]
  },
  {
   "cell_type": "code",
   "execution_count": null,
   "metadata": {
    "collapsed": true
   },
   "outputs": [],
   "source": []
  }
 ],
 "metadata": {
  "anaconda-cloud": {},
  "kernelspec": {
   "display_name": "Python [conda root]",
   "language": "python",
   "name": "conda-root-py"
  },
  "language_info": {
   "codemirror_mode": {
    "name": "ipython",
    "version": 2
   },
   "file_extension": ".py",
   "mimetype": "text/x-python",
   "name": "python",
   "nbconvert_exporter": "python",
   "pygments_lexer": "ipython2",
   "version": "2.7.12"
  },
  "toc": {
   "base_numbering": 1,
   "nav_menu": {},
   "number_sections": true,
   "sideBar": true,
   "skip_h1_title": false,
   "title_cell": "Table of Contents",
   "title_sidebar": "Contents",
   "toc_cell": false,
   "toc_position": {},
   "toc_section_display": true,
   "toc_window_display": false
  }
 },
 "nbformat": 4,
 "nbformat_minor": 1
}
