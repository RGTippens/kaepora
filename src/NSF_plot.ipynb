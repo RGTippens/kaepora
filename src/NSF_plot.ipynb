{
 "cells": [
  {
   "cell_type": "code",
   "execution_count": 1,
   "metadata": {
    "collapsed": true
   },
   "outputs": [],
   "source": [
    "import matplotlib\n",
    "matplotlib.use('qt5agg')\n",
    "import matplotlib.pyplot as plt\n",
    "import time\n",
    "import numpy as np\n",
    "import query_db\n",
    "import matplotlib.gridspec as gridspec\n",
    "import composite"
   ]
  },
  {
   "cell_type": "code",
   "execution_count": 2,
   "metadata": {
    "collapsed": true
   },
   "outputs": [],
   "source": [
    "import matplotlib.patheffects as PathEffects"
   ]
  },
  {
   "cell_type": "code",
   "execution_count": 3,
   "metadata": {
    "collapsed": true
   },
   "outputs": [],
   "source": [
    "def make_colorbar(composites):\n",
    "    params = []\n",
    "    # for comp in composites:\n",
    "    # \tparams.append(np.average(comp.dm15_array[comp.x1:comp.x2]))\n",
    "    # norm = matplotlib.colors.Normalize(vmin=np.min(params),vmax=np.max(params))\n",
    "    norm = matplotlib.colors.Normalize(vmin=1.,vmax=len(composites) + 1.)\n",
    "    c_m = matplotlib.cm.plasma\n",
    "    # c_m = matplotlib.cm.winter_r\n",
    "    s_m = matplotlib.cm.ScalarMappable(cmap=c_m, norm=norm)\n",
    "    s_m.set_array([])\n",
    "\n",
    "    return s_m"
   ]
  },
  {
   "cell_type": "code",
   "execution_count": 12,
   "metadata": {
    "collapsed": true
   },
   "outputs": [],
   "source": [
    "def comparison_plot(composites, sn_arrays):\n",
    "\n",
    "#     plt.style.use('ggplot')\n",
    "    colors = [color['color'] for color in list(plt.rcParams['axes.prop_cycle'])]\n",
    "    h = [3,1,1,1,1,1,1]\n",
    "\n",
    "#     gs = gridspec.GridSpec(7, 1, height_ratios=h, hspace = .001)\n",
    "#     fig = plt.figure(num = 1, dpi = 100, figsize = [10,10])\n",
    "    fig = plt.figure(num = 1, dpi = 100, figsize = [10,8])\n",
    "    s_m = make_colorbar(composites)\n",
    "    lw = 3\n",
    "\n",
    "    plt.rc('font', family='serif')\n",
    "    plt.gca().set_yticklabels([])\n",
    "    plt.minorticks_on()\n",
    "    plt.xticks(fontsize = 20)\n",
    "    plt.yticks(fontsize = 20)\n",
    "    plt.tick_params(\n",
    "        which='major', \n",
    "        bottom='on', \n",
    "        top='on',\n",
    "        left='on',\n",
    "        right='on',\n",
    "        length=10)\n",
    "    plt.tick_params(\n",
    "        which='minor', \n",
    "        bottom='on', \n",
    "        top='on',\n",
    "        left='on',\n",
    "        right='on',\n",
    "        length=5)\n",
    "    \n",
    "#     composites, scales = composite.optimize_scales(composites, composites[0], True)\n",
    "    comp = composites[0]\n",
    "#     param = k\n",
    "    rel_flux = plt.subplot(111)\n",
    "    plt.ylabel('Relative Flux + Const.', fontsize=20)\n",
    "#     plt.plot(comp.wavelength[comp.x1:comp.x2], comp.flux[comp.x1:comp.x2], linewidth = lw, color = [0.43924706, 0., 0.50192941, 1.])\n",
    "    colors = [\"#FC3624\", \"#E6B836\"]\n",
    "    i=0\n",
    "    \n",
    "    names = ['2006oa','2006ot']\n",
    "    for SN in sn_arrays[0]:\n",
    "        if SN.name in names:\n",
    "            plt.plot(SN.wavelength[SN.x1:SN.x2], SN.flux[SN.x1:SN.x2], linewidth = 2, color = colors[i], alpha = .9)\n",
    "            i+=1\n",
    "    for SN in sn_arrays[0]:\n",
    "        if SN.name == '2004as':\n",
    "            plt.plot(SN.wavelength[SN.x1:SN.x2], SN.flux[SN.x1:SN.x2], linewidth = 2, color = '#62AB7B', alpha = .9)\n",
    "            \n",
    "    for SN in sn_arrays[0]:\n",
    "        if SN.name == '2005m':\n",
    "            plt.plot(SN.wavelength[SN.x1:SN.x2], SN.flux[SN.x1:SN.x2], linewidth = 2, color = \"#09252F\", alpha = .9)\n",
    "            \n",
    "#     plt.plot(sn_arrays[0][12].wavelength[SN.x1:SN.x2], sn_arrays[0][12].flux[SN.x1:SN.x2], linewidth = 2, color = '#62AB7B', alpha = .9)\n",
    "        \n",
    "    plt.plot(comp.wavelength[comp.x1:comp.x2], comp.flux[comp.x1:comp.x2] - .5, linewidth = 5, color = '#3F627C')\n",
    "    \n",
    "    composites, scales = composite.optimize_scales(composites, composites[0], True)\n",
    "    \n",
    "    plt.plot(composites[0].wavelength[composites[0].x1:composites[0].x2], composites[0].flux[composites[0].x1:composites[0].x2] - 1, linewidth = 5, color = '#3F627C')\n",
    "    plt.plot(composites[1].wavelength[composites[1].x1:composites[1].x2], composites[1].flux[composites[1].x1:composites[1].x2] - 1, linewidth = 5, color = '#8D1D11')\n",
    "\n",
    "    plt.xlabel( 'Rest Wavelength ' + \"($\\mathrm{\\AA}$)\", fontsize=20)\n",
    "    plt.xlim(3300,7200)\n",
    "    plt.ylim(-1., 1.1)\n",
    "    # cb = plt.colorbar(s_m, ax = fig.axes)\n",
    "    # cb.set_label('Phase', fontdict = font)\n",
    "    # for ax in fig.axes:\n",
    "    # \tax.set_axis_bgcolor('white')\n",
    "    \n",
    "    ax = plt.axes()\n",
    "    ax.arrow(5036, .21, 0, -.2, width = 10, head_width=100, head_length=.1, fc='k', ec='k')\n",
    "    ax.arrow(5036, -.26, 0, -.2, width = 10, head_width=100, head_length=.1, fc='k', ec='k')\n",
    "    \n",
    "    txt1 = plt.text(5500, .36, \"Individual Spectra\", color='#3F627C', fontsize = 20)\n",
    "    txt1.set_path_effects([PathEffects.withStroke(linewidth=1, foreground='k')])\n",
    "    txt2 = plt.text(5500, -.14, \"Composite Spectrum\", color='#3F627C', fontsize = 20)\n",
    "    txt2.set_path_effects([PathEffects.withStroke(linewidth=1, foreground='k')])\n",
    "    txt3 = plt.text(5500, -.62, \"Comparison\", color='#3F627C', fontsize = 20)\n",
    "    txt3.set_path_effects([PathEffects.withStroke(linewidth=1, foreground='k')])\n",
    "#     ax.arrow(0, 0, 0.5, 0.5, head_width=0.05, head_length=0.1, fc='k', ec='k')\n",
    "\n",
    "\n",
    "    \n",
    "    plt.show()"
   ]
  },
  {
   "cell_type": "code",
   "execution_count": 6,
   "metadata": {
    "collapsed": true
   },
   "outputs": [],
   "source": [
    "query_dm15_max_fewer_bins = [\"SELECT * from Supernovae inner join Photometry ON Supernovae.SN = Photometry.SN where phase >= -1 and phase <= 1 and ((dm15_cfa < .98 or dm15_from_fits < .98))\",\n",
    "                             \"SELECT * from Supernovae inner join Photometry ON Supernovae.SN = Photometry.SN where phase >= -1 and phase <= 1 and ((dm15_cfa >= 1.3 or dm15_from_fits >= 1.3)) and ((dm15_cfa <= 1.8 or dm15_from_fits <= 1.8))\"]"
   ]
  },
  {
   "cell_type": "code",
   "execution_count": 9,
   "metadata": {
    "collapsed": false
   },
   "outputs": [
    {
     "name": "stdout",
     "output_type": "stream",
     "text": [
      "SQL Query: SELECT * from Supernovae inner join Photometry ON Supernovae.SN = Photometry.SN where phase >= -1 and phase <= 1 and ((dm15_cfa < .98 or dm15_from_fits < .98))\n",
      "Collecting data...\n",
      "22 spectra found\n",
      "152 questionable files currently ignored\n",
      "0 questionable spectra removed 22 spectra left\n",
      "0 Peculiar Ias removed 22 spectra left\n",
      "22 SNs with host corrections\n",
      "Arrays cleaned\n",
      "152 questionable files currently ignored\n",
      "1 spectra with nan ivars removed 21 spectra left\n",
      "1996ai sn1996ai-19960620.15-mmt.flm 28.307554791 0.88 None -0.949999999997 cfa 3176.0 8806.0\n",
      "Host correction...\n",
      "1998es sn1998es-19981125-ui-corrected.flm 69.1436677309 0.85 None 0.28 bsnip 3346.0 10044.0\n",
      "Host correction...\n",
      "1999aa sn1999aa-19990223-ui.flm 44.0459361476 0.78 None 0.24 bsnip 3344.0 10350.0\n",
      "Host correction...\n",
      "2002de sn2002de-20020608.374-ui-corrected.flm 7.9496540894 0.96 None -0.32 bsnip 3140.0 10066.0\n",
      "Host correction...\n",
      "2005eq sn2005eq-20051011.376-ui-corrected.flm 37.8569772533 0.88 None 0.66 bsnip 3278.0 10156.0\n",
      "Host correction...\n",
      "1994ae sn1994ae-19941130.49-fast.flm 137.218074829 0.96 None 0.989999999998 cfa 3486.0 6932.0\n",
      "Host correction...\n",
      "1994s sn1994S-19940616.24-fast.flm 28.5796929951 0.94 None 0.939999999995 cfa 3798.0 7564.0\n",
      "Host correction...\n",
      "1999dq sn1999dq-19990915.45-fast.flm 82.2719313334 0.86 None 0.449999999997 cfa 3720.0 7386.0\n",
      "Host correction...\n",
      "1999gp sn1999gp-20000107.13-fast.flm 25.5206786605 0.87 None 0.0299999999988 cfa 3674.0 7296.0\n",
      "Host correction...\n",
      "2001cp sn2001cp-20010629.28-fast.flm 28.064815056 0.88 None 0.879999999997 cfa 3690.0 7326.0\n",
      "Host correction...\n",
      "2001eh sn2001eh-20010917.39-fast.flm 25.9461667787 0.92 None -0.110000000001 cfa 3638.0 7222.0\n",
      "Host correction...\n",
      "2002cd sn2002cd-20020419.48-fast.flm 20.7958345144 0.84 None 0.280000000006 cfa 3732.0 7394.0\n",
      "Host correction...\n",
      "2002jy sn2002jy-20021226.12-fast.flm 31.1301164169 0.88 None 0.120000000003 cfa 3700.0 7346.0\n",
      "Host correction...\n",
      "2003hu sn2003hu-20030919.19-fast.flm 11.1326469482 None 0.880569111523 0.0900000000038 cfa 3512.0 6966.0\n",
      "Host correction...\n",
      "2004as sn2004as-20040321.27-fast.flm 29.9561901178 0.92 None -0.130000000005 cfa 3660.0 7264.0\n",
      "Host correction...\n",
      "2005m sn2005M-20050204.26-fast.flm 27.220117384 0.87 None 0.160000000003 cfa 3466.0 7202.0\n",
      "Host correction...\n",
      "2006oa sn2006oa-20061127.10-fast.flm 11.2074538846 0.89 None -0.0999999999985 cfa 3330.0 6944.0\n",
      "Host correction...\n",
      "2006ot sn2006ot-20061124.23-fast.flm 11.7353430976 0.84 None -0.469999999994 cfa 3360.0 6998.0\n",
      "Host correction...\n",
      "2006s sn2006S-20060202.47-fast.flm 34.4213979711 0.93 None -0.729999999996 cfa 3434.0 7134.0\n",
      "Host correction...\n",
      "2007f sn2007F-20070122.49-fast.flm 26.2070731511 0.96 None -0.910000000003 cfa 3448.0 7194.0\n",
      "Host correction...\n",
      "2007s sn2007S-20070212.33-fast.flm 46.7606200036 0.94 None -0.769999999997 cfa 3480.0 7264.0\n",
      "Host correction...\n",
      "21 SNs with host corrections\n",
      "Creating composite...\n",
      "Done.\n",
      "SQL Query: SELECT * from Supernovae inner join Photometry ON Supernovae.SN = Photometry.SN where phase >= -1 and phase <= 1 and ((dm15_cfa >= 1.3 or dm15_from_fits >= 1.3)) and ((dm15_cfa <= 1.8 or dm15_from_fits <= 1.8))\n",
      "Collecting data...\n",
      "24 spectra found\n",
      "152 questionable files currently ignored\n",
      "0 questionable spectra removed 24 spectra left\n",
      "1 Peculiar Ias removed 23 spectra left\n",
      "22 SNs with host corrections\n",
      "Arrays cleaned\n",
      "152 questionable files currently ignored\n",
      "0 spectra with nan ivars removed 22 spectra left\n",
      "2000dk sn2000dk-20000926-ui-corrected.flm 46.5582359543 1.62 None 1.0 bsnip 3294.0 10172.0\n",
      "Host correction...\n",
      "2002eu sn2002eu-20020903-ui.flm 21.8482743207 1.52 None -0.06 bsnip 3086.0 9974.0\n",
      "Host correction...\n",
      "2002fb sn2002fb-20020913-ui-corrected.flm 27.2042647112 1.77 None 0.98 bsnip 3198.0 10192.0\n",
      "Host correction...\n",
      "2002he sn2002he-20021108-br.flm 70.9263350618 1.44 None 0.29 bsnip 3048.0 9150.0\n",
      "Host correction...\n",
      "2004gs sn2004gs-20041217.447-ui-corrected.flm 28.3734591732 1.41 None 0.44 bsnip 3318.0 10008.0\n",
      "Host correction...\n",
      "2005lz sn2005lz-20060101.381-deimos.flm 22.438944213 1.34 None 0.58 bsnip 4792.0 9626.0\n",
      "Host correction...\n",
      "2006n sn2006n-20060124.285-ui.flm 33.5303792292 1.5 None -0.9 bsnip 3324.0 10402.0\n",
      "Host correction...\n",
      "2007bc sn2007bc-20070410.323-ui-corrected.flm 40.8042361928 1.37 None 0.61 bsnip 3298.0 10336.0\n",
      "Host correction...\n",
      "1994d sn1994D-19940321.35-fast.flm 143.508679821 1.37 None -0.150000000001 cfa 3744.0 7564.0\n",
      "Host correction...\n",
      "1994t sn1994T-19940612.19-fast.flm 3.62813221224 1.51 None 0.790000000001 cfa 3726.0 7420.0\n",
      "Host correction...\n",
      "1998bp sn1998bp-19980502.47-fast.flm 48.584181819 1.79 None -0.93 cfa 3732.0 7394.0\n",
      "Host correction...\n",
      "1998co sn1998co-19980623.45-fast.flm 41.8372717871 None 1.43684328517 -0.0500000000029 cfa 3704.0 7356.0\n",
      "Host correction...\n",
      "1998dx sn1998dx-19980915.22-fast.flm 8.89334401872 1.32 None -0.68 cfa 3580.0 7104.0\n",
      "Host correction...\n",
      "1999cc sn1999cc-19990517.40-fast.flm 19.0235542368 1.35 None -0.199999999997 cfa 3658.0 7262.0\n",
      "Host correction...\n",
      "2001ep sn2001ep-20011017.42-fast.flm 57.1332125932 1.3 None -0.18 cfa 3724.0 7394.0\n",
      "Host correction...\n",
      "2003it sn2003it-20031022.26-fast.flm 38.894080221 1.36 None -0.239999999998 cfa 3680.0 7306.0\n",
      "Host correction...\n",
      "2003iv sn2003iv-20031021.38-fast.flm 23.770719402 1.65 None -0.520000000004 cfa 3648.0 7242.0\n",
      "Host correction...\n",
      "2003u sn2003U-20030206.55-fast.flm 11.7309258213 1.46 None -0.75 cfa 3670.0 7286.0\n",
      "Host correction...\n",
      "2004ef sn2004ef-20040916.34-fast.flm 25.087450214 1.39 None 0.639999999999 cfa 3422.0 7138.0\n",
      "Host correction...\n",
      "2006gj sn2006gj-20060920.43-fast.flm 19.217234825 1.48 None -0.669999999998 cfa 3440.0 7168.0\n",
      "Host correction...\n",
      "2006gt SN06gt_060925_b01_DUP_WF.dat 21.7787084927 1.66 None 0.279999999795 csp 3688.0 8790.0\n",
      "Host correction...\n",
      "2007bd SN07bd_070417_b01_DUP_WF.dat 28.1437031822 1.3 None 0.540000000037 csp 3736.0 8908.0\n",
      "Host correction...\n",
      "22 SNs with host corrections\n",
      "Creating composite...\n",
      "Done.\n"
     ]
    }
   ],
   "source": [
    "comps, sn_arrays, boot_sn_arrays = query_db.main(len(query_dm15_max_fewer_bins), query_dm15_max_fewer_bins, boot='nb', medmean=1)"
   ]
  },
  {
   "cell_type": "code",
   "execution_count": 10,
   "metadata": {
    "collapsed": false
   },
   "outputs": [
    {
     "name": "stdout",
     "output_type": "stream",
     "text": [
      "1.14390730255\n",
      "0.817035129609\n",
      "0.814731749277\n",
      "0.925684012388\n",
      "1.01498545404\n",
      "0.7907250683\n",
      "0.851598086519\n",
      "0.702904218957\n",
      "0.710182119308\n",
      "0.764892045546\n",
      "0.778213102606\n",
      "0.920075553288\n",
      "0.807666224763\n",
      "0.686152688234\n",
      "0.793715651727\n",
      "1.12469299335\n",
      "0.998610197912\n",
      "1.33026935351\n",
      "0.856626125969\n",
      "0.960210642657\n",
      "0.919665394568\n"
     ]
    }
   ],
   "source": [
    "norm = 1./np.amax(comps[0].flux[comps[0].x1:comps[0].x2])\n",
    "comps[0].flux = norm*comps[0].flux\n",
    "\n",
    "for SN in sn_arrays[0]:\n",
    "    SN.flux = norm*SN.flux\n",
    "    print np.amax(SN.flux[SN.x1:SN.x2])\n",
    "    "
   ]
  },
  {
   "cell_type": "code",
   "execution_count": 14,
   "metadata": {
    "collapsed": false
   },
   "outputs": [],
   "source": [
    "query_db.set_min_num_spec(comps, 5)\n",
    "comparison_plot(comps, sn_arrays)\n",
    "plt.savefig(\"procedure.pdf\", dpi = 300, bbox_inches = 'tight')"
   ]
  },
  {
   "cell_type": "code",
   "execution_count": null,
   "metadata": {
    "collapsed": true
   },
   "outputs": [],
   "source": [
    "#emphasize not standard candles, parameters that do not correlate with lum. correct for cosmology, \n",
    "#lc shape color. remains correlations between hubres and host gal (what is causing this probably not host that is just proxy)\n",
    "#something there not taking into account\n",
    "#photometry good, but spectra have way more info\n",
    "\n",
    "#new trends: diversity: high low velocity, carbon, polarization, redshifted features, outflow from progenitor\n",
    "#database has *all* of the useful info that we have ever taken\n",
    "#continually adding new data foundation, more public data as well"
   ]
  }
 ],
 "metadata": {
  "anaconda-cloud": {},
  "kernelspec": {
   "display_name": "Python [conda root]",
   "language": "python",
   "name": "conda-root-py"
  },
  "language_info": {
   "codemirror_mode": {
    "name": "ipython",
    "version": 2
   },
   "file_extension": ".py",
   "mimetype": "text/x-python",
   "name": "python",
   "nbconvert_exporter": "python",
   "pygments_lexer": "ipython2",
   "version": "2.7.12"
  }
 },
 "nbformat": 4,
 "nbformat_minor": 1
}
