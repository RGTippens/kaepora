{
 "cells": [
  {
   "cell_type": "code",
   "execution_count": 1,
   "metadata": {
    "collapsed": true
   },
   "outputs": [],
   "source": [
    "import matplotlib\n",
    "matplotlib.use('qt5agg')\n",
    "import matplotlib.pyplot as plt\n",
    "import time\n",
    "import numpy as np\n",
    "import query_db\n",
    "import matplotlib.gridspec as gridspec\n",
    "import composite"
   ]
  },
  {
   "cell_type": "code",
   "execution_count": 2,
   "metadata": {
    "collapsed": true
   },
   "outputs": [],
   "source": [
    "def make_colorbar(composites):\n",
    "    params = []\n",
    "    # for comp in composites:\n",
    "    # \tparams.append(np.average(comp.dm15_array[comp.x1:comp.x2]))\n",
    "    # norm = matplotlib.colors.Normalize(vmin=np.min(params),vmax=np.max(params))\n",
    "    norm = matplotlib.colors.Normalize(vmin=1.,vmax=len(composites) + 1.)\n",
    "    c_m = matplotlib.cm.plasma\n",
    "    # c_m = matplotlib.cm.winter_r\n",
    "    s_m = matplotlib.cm.ScalarMappable(cmap=c_m, norm=norm)\n",
    "    s_m.set_array([])\n",
    "\n",
    "    return s_m"
   ]
  },
  {
   "cell_type": "code",
   "execution_count": 36,
   "metadata": {
    "collapsed": true
   },
   "outputs": [],
   "source": [
    "def comparison_plot(composites, sn_arrays):\n",
    "\n",
    "#     plt.style.use('ggplot')\n",
    "    colors = [color['color'] for color in list(plt.rcParams['axes.prop_cycle'])]\n",
    "    h = [3,1,1,1,1,1,1]\n",
    "    font = {'family' : 'serif',\n",
    "        'color'  : 'black',\n",
    "        'weight' : 'bold',\n",
    "        'size'   : 25,\n",
    "        }\n",
    "\n",
    "#     gs = gridspec.GridSpec(7, 1, height_ratios=h, hspace = .001)\n",
    "#     fig = plt.figure(num = 1, dpi = 100, figsize = [10,10])\n",
    "    fig = plt.figure(num = 1, dpi = 100, figsize = [10,8])\n",
    "    s_m = make_colorbar(composites)\n",
    "    lw = 3\n",
    "\n",
    "    plt.rc('font', family='serif')\n",
    "    plt.gca().set_yticklabels([])\n",
    "    plt.minorticks_on()\n",
    "    plt.xticks(fontsize = 20)\n",
    "    plt.yticks(fontsize = 20)\n",
    "    plt.tick_params(\n",
    "        which='major', \n",
    "        bottom='on', \n",
    "        top='on',\n",
    "        left='on',\n",
    "        right='on',\n",
    "        length=10)\n",
    "    plt.tick_params(\n",
    "        which='minor', \n",
    "        bottom='on', \n",
    "        top='on',\n",
    "        left='on',\n",
    "        right='on',\n",
    "        length=5)\n",
    "    \n",
    "    composites, scales = composite.optimize_scales(composites, composites[0], True)\n",
    "\n",
    "    i = 0\n",
    "    k = 1\n",
    "    for comp in composites:\n",
    "        param = k\n",
    "        rel_flux = plt.subplot(111)\n",
    "        plt.ylabel('Relative Flux', fontdict = font)\n",
    "        plt.plot(comp.wavelength[comp.x1:comp.x2], comp.flux[comp.x1:comp.x2] - i*np.amax(comp.flux[comp.x1:comp.x2]), linewidth = lw, color = s_m.to_rgba(param))\n",
    "        for SN in sn_arrays[i]:\n",
    "            plt.plot(SN.wavelength[SN.x1:SN.x2], SN.flux[SN.x1:SN.x2] - i*np.amax(comp.flux[comp.x1:comp.x2]), linewidth = 1, color = s_m.to_rgba(param), alpha = .2)\n",
    "\n",
    "        i+=1\n",
    "        k+=1\n",
    "\n",
    "    plt.xlabel( 'Wavelength ' + \"($\\mathrm{\\AA}$)\", fontdict = font)\n",
    "    plt.xlim(3400,7600)\n",
    "    plt.ylim(-4.e-15, 6e-15)\n",
    "    # cb = plt.colorbar(s_m, ax = fig.axes)\n",
    "    # cb.set_label('Phase', fontdict = font)\n",
    "    # for ax in fig.axes:\n",
    "    # \tax.set_axis_bgcolor('white')\n",
    "    \n",
    "    plt.show()"
   ]
  },
  {
   "cell_type": "code",
   "execution_count": 24,
   "metadata": {
    "collapsed": true
   },
   "outputs": [],
   "source": [
    "query_dm15_max_fewer_bins = [\"SELECT * from Supernovae inner join Photometry ON Supernovae.SN = Photometry.SN where phase >= -1 and phase <= 1 and ((dm15_cfa < .95 or dm15_from_fits < .95))\",\n",
    "                             \"SELECT * from Supernovae inner join Photometry ON Supernovae.SN = Photometry.SN where phase >= -1 and phase <= 1 and ((dm15_cfa >= 1.42 or dm15_from_fits >= 1.42)) and ((dm15_cfa <= 1.8 or dm15_from_fits >= 1.8))\"]"
   ]
  },
  {
   "cell_type": "code",
   "execution_count": 25,
   "metadata": {
    "collapsed": false
   },
   "outputs": [
    {
     "name": "stdout",
     "output_type": "stream",
     "text": [
      "SQL Query: SELECT * from Supernovae inner join Photometry ON Supernovae.SN = Photometry.SN where phase >= -1 and phase <= 1 and ((dm15_cfa < .95 or dm15_from_fits < .95))\n",
      "Collecting data...\n",
      "19 spectra found\n",
      "151 questionable files currently ignored\n",
      "0 questionable spectra removed 19 spectra left\n",
      "0 Peculiar Ias removed 19 spectra left\n",
      "19 SNs with host corrections\n",
      "Arrays cleaned\n",
      "151 questionable files currently ignored\n",
      "1 spectra with nan ivars removed 18 spectra left\n",
      "1996ai sn1996ai-19960620.15-mmt.flm\n",
      "Host correction...\n",
      "1998es sn1998es-19981125-ui-corrected.flm\n",
      "Host correction...\n",
      "1999aa sn1999aa-19990223-ui.flm\n",
      "Host correction...\n",
      "2005eq sn2005eq-20051011.376-ui-corrected.flm\n",
      "Host correction...\n",
      "1994s sn1994S-19940616.24-fast.flm\n",
      "Host correction...\n",
      "1999dq sn1999dq-19990915.45-fast.flm\n",
      "Host correction...\n",
      "1999gp sn1999gp-20000107.13-fast.flm\n",
      "Host correction...\n",
      "2001cp sn2001cp-20010629.28-fast.flm\n",
      "Host correction...\n",
      "2001eh sn2001eh-20010917.39-fast.flm\n",
      "Host correction...\n",
      "2002cd sn2002cd-20020419.48-fast.flm\n",
      "Host correction...\n",
      "2002jy sn2002jy-20021226.12-fast.flm\n",
      "Host correction...\n",
      "2003hu sn2003hu-20030919.19-fast.flm\n",
      "Host correction...\n",
      "2004as sn2004as-20040321.27-fast.flm\n",
      "Host correction...\n",
      "2005m sn2005M-20050204.26-fast.flm\n",
      "Host correction...\n",
      "2006oa sn2006oa-20061127.10-fast.flm\n",
      "Host correction...\n",
      "2006ot sn2006ot-20061124.23-fast.flm\n",
      "Host correction...\n",
      "2006s sn2006S-20060202.47-fast.flm\n",
      "Host correction...\n",
      "2007s sn2007S-20070212.33-fast.flm\n",
      "Host correction...\n",
      "18 SNs with host corrections\n",
      "Creating composite...\n",
      "Done.\n",
      "SQL Query: SELECT * from Supernovae inner join Photometry ON Supernovae.SN = Photometry.SN where phase >= -1 and phase <= 1 and ((dm15_cfa >= 1.42 or dm15_from_fits >= 1.42)) and ((dm15_cfa <= 1.8 or dm15_from_fits >= 1.8))\n",
      "Collecting data...\n",
      "15 spectra found\n",
      "151 questionable files currently ignored\n",
      "0 questionable spectra removed 15 spectra left\n",
      "1 Peculiar Ias removed 14 spectra left\n",
      "13 SNs with host corrections\n",
      "Arrays cleaned\n",
      "151 questionable files currently ignored\n",
      "0 spectra with nan ivars removed 13 spectra left\n",
      "2000dk sn2000dk-20000926-ui-corrected.flm\n",
      "Host correction...\n",
      "2002eu sn2002eu-20020903-ui.flm\n",
      "Host correction...\n",
      "2002fb sn2002fb-20020913-ui-corrected.flm\n",
      "Host correction...\n",
      "2002he sn2002he-20021108-br.flm\n",
      "Host correction...\n",
      "2005dv sn2005dv-20050911.170-ui.flm\n",
      "Host correction...\n",
      "2006n sn2006n-20060124.285-ui.flm\n",
      "Host correction...\n",
      "2007n sn2007n-20070122.583-deimos.flm\n",
      "Host correction...\n",
      "1994t sn1994T-19940612.19-fast.flm\n",
      "Host correction...\n",
      "1998bp sn1998bp-19980502.47-fast.flm\n",
      "Host correction...\n",
      "2003iv sn2003iv-20031021.38-fast.flm\n",
      "Host correction...\n",
      "2003u sn2003U-20030206.55-fast.flm\n",
      "Host correction...\n",
      "2006gj sn2006gj-20060920.43-fast.flm\n",
      "Host correction...\n",
      "2006gt SN06gt_060925_b01_DUP_WF.dat\n",
      "Host correction...\n",
      "13 SNs with host corrections\n",
      "Creating composite...\n",
      "Done.\n"
     ]
    }
   ],
   "source": [
    "comps, sn_arrays = query_db.main(len(query_dm15_max_fewer_bins), query_dm15_max_fewer_bins)"
   ]
  },
  {
   "cell_type": "code",
   "execution_count": 38,
   "metadata": {
    "collapsed": false
   },
   "outputs": [],
   "source": [
    "query_db.set_min_num_spec(comps, 5)\n",
    "comparison_plot(comps, sn_arrays)"
   ]
  },
  {
   "cell_type": "code",
   "execution_count": null,
   "metadata": {
    "collapsed": true
   },
   "outputs": [],
   "source": [
    "#emphasize not standard candles, parameters that do not correlate with lum. correct for cosmology, \n",
    "#lc shape color. remains correlations between hubres and host gal (what is causing this probably not host that is just proxy)\n",
    "#something there not taking into account\n",
    "#photometry good, but spectra have way more info\n",
    "\n",
    "#new trends: diversity: high low velocity, carbon, polarization, redshifted features, outflow from progenitor\n",
    "#database has *all* of the useful info that we have ever taken\n",
    "#continually adding new data foundation, more public data as well"
   ]
  }
 ],
 "metadata": {
  "anaconda-cloud": {},
  "kernelspec": {
   "display_name": "Python [conda root]",
   "language": "python",
   "name": "conda-root-py"
  },
  "language_info": {
   "codemirror_mode": {
    "name": "ipython",
    "version": 2
   },
   "file_extension": ".py",
   "mimetype": "text/x-python",
   "name": "python",
   "nbconvert_exporter": "python",
   "pygments_lexer": "ipython2",
   "version": "2.7.12"
  }
 },
 "nbformat": 4,
 "nbformat_minor": 1
}
