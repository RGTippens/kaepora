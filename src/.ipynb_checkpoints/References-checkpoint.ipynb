{
 "cells": [
  {
   "cell_type": "code",
   "execution_count": 1,
   "metadata": {
    "collapsed": true
   },
   "outputs": [],
   "source": [
    "%load_ext autoreload\n",
    "%autoreload 2"
   ]
  },
  {
   "cell_type": "code",
   "execution_count": 2,
   "metadata": {
    "collapsed": true
   },
   "outputs": [],
   "source": [
    "import matplotlib\n",
    "import matplotlib.pyplot as plt\n",
    "import time\n",
    "import numpy as np\n",
    "import query_db\n",
    "import composite"
   ]
  },
  {
   "cell_type": "code",
   "execution_count": 3,
   "metadata": {
    "collapsed": false
   },
   "outputs": [
    {
     "name": "stdout",
     "output_type": "stream",
     "text": [
      "Collecting data...\n",
      "ERROR:  1998bu_19990126_0_2_00.dat None\n",
      "ERROR:  2002bo_20020313_3360_7726_00.dat None\n",
      "ERROR:  2002bo_20020314_0_2_00.dat None\n",
      "ERROR:  2002bo_20020403_0_2_00.dat None\n",
      "ERROR:  2002bo_20020421_0_2_00.dat None\n",
      "ERROR:  2002bo_20020518_0_2_00.dat None\n",
      "ERROR:  2003hv_20040901_51567_151964_00.dat None\n",
      "ERROR:  sn2006oa-20061116-not.dat None\n",
      "ERROR:  sn2006oa-20061122-not.dat None\n",
      "ERROR:  sn2007jg-20070918-not.dat None\n",
      "ERROR:  sn1992a-19920116.220-iue.flm None\n",
      "4995 valid SNe found\n",
      "Arrays cleaned\n"
     ]
    }
   ],
   "source": [
    "SN_Array = composite.grab(\"SELECT * from Supernovae inner join Photometry ON Supernovae.SN = Photometry.SN\", multi_epoch = True, make_corr = False)"
   ]
  },
  {
   "cell_type": "code",
   "execution_count": 5,
   "metadata": {
    "collapsed": false,
    "scrolled": true
   },
   "outputs": [
    {
     "name": "stdout",
     "output_type": "stream",
     "text": [
      "2007ApJ...669L..17H\n",
      "2007ApJ...671L..25S\n",
      "2007ApJ...654L..53T\n",
      "2004MNRAS.348..261B\n",
      "2005ApJ...632..450L\n",
      "2008MNRAS.388..971P\n",
      "1996MNRAS.278..111P\n",
      "2001PASP..113.1178L\n",
      "2008MNRAS.384..107E\n",
      "2007A&A...471..527G\n",
      "2012MNRAS.425.1789S\n",
      "2005A&A...436.1021\n",
      "2006PASP..118..722C\n",
      "1997ASIC..486.....R\n",
      "2013ApJ...773...53F\n",
      "1992AJ....104.1543F\n",
      "2011A&A...526A..28O\n",
      "2015MNRAS.453.3300A\n",
      "2003PASP..115..453L\n",
      "2009AJ....138..376F\n",
      "2006AJ....132..189J\n",
      "2010ApJ...708.1748F\n",
      "1993ApJ...415..589K\n",
      "2006MNRAS.369.1880E\n",
      "2003AJ....125.1087G\n",
      "2007A&A...469..645S\n",
      "2009PASJ...61..713Y\n",
      "2012AJ....143..126B\n",
      "2001PASP..113..308M\n",
      "1993Natur.365..728R\n",
      "2003ApJ...595..779V\n",
      "2008ApJ...675..626W\n",
      "2001MNRAS.321..254S\n",
      "2013A&A...554A..27P\n",
      "2011MNRAS.410..585S\n",
      "2009ApJ...697..380W\n",
      "2014MNRAS.439.1959M\n",
      "2001AJ....121.1648M\n",
      "2015MNRAS.452.4307P\n",
      "2007PASP..119..360P\n",
      "2007AIPC..937..311L\n",
      "2010PASP..122....1Z\n",
      "2014ApJ...786..134M\n",
      "1992ApJ...384L..15F\n",
      "2011AJ....142...74K\n",
      "2001ApJ...549L.215C\n",
      "2008ApJ...686..117F\n",
      "2001ApJ...546..734L\n",
      "2005A&A...429..667A\n",
      "1999AJ....117.2709L\n",
      "1994AJ....108.2233W\n",
      "2013ApJ...769L...1F\n",
      "2018MNRAS.479..517P\n"
     ]
    }
   ],
   "source": [
    "ref_list = []\n",
    "for SN in SN_Array:\n",
    "    if SN.ref != None:\n",
    "        ref_list.append(SN.ref)\n",
    "ref_set = set(ref_list)\n",
    "for r in ref_set:\n",
    "    print r"
   ]
  },
  {
   "cell_type": "code",
   "execution_count": 8,
   "metadata": {
    "collapsed": false
   },
   "outputs": [
    {
     "name": "stdout",
     "output_type": "stream",
     "text": [
      "1 1994M_19940605_3699_9505_00.dat 1994m 33.9542611415 other 3699.59 9505.2566 None\n",
      "2 1994Q_19940605_3497_9708_00.dat 1994q 11.4543632062 other 3497.67 9708.2264 None\n",
      "3 1994Q_19940706_3602_9706_00.dat 1994q 41.5641961063 other 3602.26 9706.3566 None\n",
      "4 1994S_19940706_3501_9665_00.dat 1994s 20.3668916849 other 3501.05 9665.1573 None\n",
      "5 sn2001ay-20010502.813-hst.flm 2001ay 8.31841777288 uv 2930.0 5695.0 None\n",
      "6 sn2001ay-20010509.704-hst.flm 2001ay 15.1129247052 uv 2930.0 5695.0 None\n",
      "7 sn2003bt-20030317.713-hst.flm 2003bt None uv 1690.0 5690.0 None\n",
      "8 sn2004dt-20040820-hst.flm 2004dt 0.674688397911 uv 1801.95 3370.81 None\n",
      "9 sn2004dt-20040823-hst.flm 2004dt 3.61664362135 uv 1919.47 3370.62 None\n",
      "10 sn2004ef-20040914-hst.flm 2004ef -1.99323947487 uv 1883.09 3431.81 None\n",
      "11 sn2004ef-20040918-hst.flm 2004ef 1.88654539106 uv 2049.91 3411.26 None\n",
      "12 sn2005cf-20050603-hst.flm 2005cf -9.26811868518 uv 1753.76 3395.97 None\n",
      "13 sn2005cf-20050605-hst.flm 2005cf -7.28095773209 uv 1816.97 3396.48 None\n",
      "14 sn2005cf-20050607-hst.flm 2005cf -5.29379677901 uv 1834.65 3396.43 None\n",
      "15 sn2005cf-20050611-hst.flm 2005cf -1.31947487285 uv 1778.54 3396.12 None\n",
      "16 sn2005cf-20050614-hst.flm 2005cf 1.66126655678 uv 1847.6 3402.0 None\n",
      "17 sn2005m-20050128-hst.flm 2005m -6.42465753425 uv 1951.14 3395.46 None\n",
      "18 sn2005m-20050131-hst.flm 2005m -3.48923679061 uv 1897.94 3382.46 None\n"
     ]
    }
   ],
   "source": [
    "i=0\n",
    "for SN in SN_Array:\n",
    "    if SN.ref not in ref_set:\n",
    "        i+=1\n",
    "        print i, SN.filename, SN.name, SN.phase, SN.source, SN.minwave, SN.maxwave, SN.ref"
   ]
  },
  {
   "cell_type": "code",
   "execution_count": 9,
   "metadata": {
    "collapsed": true
   },
   "outputs": [],
   "source": [
    "sn2003du_bs = [\"2003du_20030425_3428_9436_00.dat\",\n",
    "               \"2003du_20030429_3428_9436_00.dat\",\n",
    "               \"2003du_20030515_3252_7200_00.dat\",\n",
    "               \"2003du_20030515_4969_9241_00.dat\",\n",
    "               \"2003du_20030519_3477_9734_00.dat\",\n",
    "               \"2003du_20030612_3497_9436_00.dat\",\n",
    "               \"2003du_20030801_3503_9436_00.dat\",\n",
    "               \"2003du_20030921_3676_9050_00.dat\",\n",
    "               \"2003du_20030922_3676_9051_00.dat\"]"
   ]
  },
  {
   "cell_type": "code",
   "execution_count": 10,
   "metadata": {
    "collapsed": false
   },
   "outputs": [
    {
     "name": "stdout",
     "output_type": "stream",
     "text": [
      "1994M_19940605_3699_9505_00.dat Unknown\n",
      "1994Q_19940605_3497_9708_00.dat Unknown\n",
      "1994Q_19940706_3602_9706_00.dat Unknown\n",
      "1994S_19940706_3501_9665_00.dat Unknown\n",
      "sn2004dt-20040820-hst.flm Unknown\n",
      "sn2004dt-20040823-hst.flm Unknown\n",
      "sn2004ef-20040914-hst.flm Unknown\n",
      "sn2004ef-20040918-hst.flm Unknown\n",
      "sn2005cf-20050603-hst.flm Unknown\n",
      "sn2005cf-20050605-hst.flm Unknown\n",
      "sn2005cf-20050607-hst.flm Unknown\n",
      "sn2005cf-20050611-hst.flm Unknown\n",
      "sn2005cf-20050614-hst.flm Unknown\n",
      "sn2005m-20050128-hst.flm Unknown\n",
      "sn2005m-20050131-hst.flm Unknown\n"
     ]
    }
   ],
   "source": [
    "for SN in SN_Array:\n",
    "    if SN.source == \"bsnip\" and SN.ref is None:\n",
    "        print SN.filename, \"2012MNRAS.425.1789S\"\n",
    "    elif SN.name == \"1994d\" and SN.ref is None:\n",
    "        print SN.filename, \"1996MNRAS.278..111P\"\n",
    "    elif SN.filename == \"1994M_19940605_3699_9505_00.dat\" and SN.ref is None:\n",
    "        print SN.filename, \"Unknown\"\n",
    "    elif SN.filename == \"1994Q_19940605_3497_9708_00.dat\" and SN.ref is None:\n",
    "        print SN.filename, \"Unknown\"\n",
    "    elif SN.filename == \"1994Q_19940706_3602_9706_00.dat\" and SN.ref is None:\n",
    "        print SN.filename, \"Unknown\"\n",
    "    elif SN.filename == \"1994S_19940706_3501_9665_00.dat\" and SN.ref is None:\n",
    "        print SN.filename, \"Unknown\"\n",
    "    elif SN.name == \"1996x\" and SN.ref is None:\n",
    "        print SN.filename, \"2001MNRAS.321..254S\"\n",
    "    elif SN.name == \"1998bu\" and SN.ref is None:\n",
    "        print SN.filename, \"2001ApJ...549L.215C\"\n",
    "    elif SN.name == \"2000e\" and SN.ref is None:\n",
    "        print SN.filename, \"2003ApJ...595..779V\"\n",
    "    elif SN.name == \"2002bo\" and SN.ref is None:\n",
    "        print SN.filename, \"2004MNRAS.348..261B\"\n",
    "    elif SN.name == \"2002dj\" and SN.ref is None:\n",
    "        print SN.filename, \"2008MNRAS.388..971P\"\n",
    "    elif SN.name == \"2002er\" and SN.ref is None:\n",
    "        print SN.filename, \"2005A&A...436.1021\"\n",
    "    elif SN.name == \"2003cg\" and SN.ref is None:\n",
    "        print SN.filename, \"2006MNRAS.369.1880E\"\n",
    "    elif SN.name == \"2003du\" and SN.ref is None:\n",
    "        if SN.filename in sn2003du_bs:\n",
    "            print SN.filename, \"2005A&A...429..667A\"\n",
    "        else:\n",
    "            print SN.filename, \"2007A&A...469..645S\"\n",
    "    elif SN.name == \"2005am\" and SN.ref is None:\n",
    "        print SN.filename, \"2007AIPC..937..311L\"\n",
    "    elif SN.name == \"2005cf\" and SN.ref is None:\n",
    "        if 'uvot' in SN.filename:\n",
    "            print SN.filename, \"2007A&A...471..527G\"\n",
    "        elif 'hst' in SN.filename:\n",
    "            print SN.filename, \"Unknown\"\n",
    "        else:\n",
    "            print SN.filename, \"2007A&A...471..527G\"\n",
    "    elif SN.name == \"2006x\" and SN.ref is None:\n",
    "        print SN.filename, \"2009PASJ...61..713Y\"\n",
    "    elif SN.name == \"2006gz\" and SN.ref is None:\n",
    "        print SN.filename, \"2007ApJ...669L..17H\"\n",
    "    elif SN.name == \"2006d\" and SN.ref is None:\n",
    "        print SN.filename, \"2007ApJ...654L..53T\"\n",
    "    elif SN.name == \"2006nz\" and SN.ref is None:\n",
    "        print SN.filename, \"2011A&A...526A..28O\"\n",
    "    elif SN.name == \"2011fe\" and SN.ref is None:\n",
    "        print SN.filename, \"2013A&A...554A..27P\"\n",
    "    elif SN.name == \"1980n\" and SN.ref is None:\n",
    "        print SN.filename, \"2008ApJ...686..117F\"\n",
    "    elif SN.name == \"1981b\" and SN.ref is None:\n",
    "        print SN.filename, \"2008ApJ...686..117F\"\n",
    "    elif SN.name == \"1986g\" and SN.ref is None:\n",
    "        print SN.filename, \"2008ApJ...686..117F\"\n",
    "    elif SN.name == \"1989b\" and SN.ref is None:\n",
    "        print SN.filename, \"2008ApJ...686..117F\"\n",
    "    elif SN.name == \"1989m\" and SN.ref is None:\n",
    "        print SN.filename, \"2008ApJ...686..117F\"\n",
    "    elif SN.name == \"1990m\" and SN.ref is None:\n",
    "        print SN.filename, \"2008ApJ...686..117F\"\n",
    "    elif SN.name == \"1990n\" and SN.ref is None:\n",
    "        print SN.filename, \"2008ApJ...686..117F\"\n",
    "    elif SN.name == \"1991bg\" and SN.ref is None:\n",
    "        print SN.filename, \"2008ApJ...686..117F\"\n",
    "    elif SN.name == \"1991t\" and SN.ref is None:\n",
    "        print SN.filename, \"2008ApJ...686..117F\"\n",
    "    elif SN.name == \"1992a\" and SN.ref is None:\n",
    "        print SN.filename, \"2008ApJ...686..117F\"\n",
    "    elif SN.name == \"1992ay\" and SN.ref is None:\n",
    "        print SN.filename, \"2011AJ....142...74K\"\n",
    "    elif SN.name == \"2001ba\" and SN.ref is None:\n",
    "        print SN.filename, \"2008ApJ...686..117F\"\n",
    "    elif SN.name == \"2001eh\" and SN.ref is None:\n",
    "        print SN.filename, \"2008ApJ...686..117F\"\n",
    "    elif SN.name == \"2001el\" and SN.ref is None:\n",
    "        print SN.filename, \"2008ApJ...686..117F\"\n",
    "    elif SN.name == \"2001ep\" and SN.ref is None:\n",
    "        print SN.filename, \"2008ApJ...686..117F\"\n",
    "    elif SN.name == \"2001ex\" and SN.ref is None:\n",
    "        print SN.filename, \"2008ApJ...686..117F\"\n",
    "    elif SN.name == \"2003bf\" and SN.ref is None:\n",
    "        print SN.filename, \"2008ApJ...686..117F\"\n",
    "    elif SN.name == \"2004dt\" and SN.ref is None:\n",
    "        print SN.filename, \"Unknown\"\n",
    "    elif SN.name == \"2004ef\" and SN.ref is None:\n",
    "        print SN.filename, \"Unknown\"\n",
    "    elif SN.name == \"2005m\" and SN.ref is None:\n",
    "        print SN.filename, \"Unknown\"\n",
    "    elif SN.source == \"swift_uv\" and SN.ref is None:\n",
    "        print SN.filename, \"2018MNRAS.479..517P\""
   ]
  },
  {
   "cell_type": "code",
   "execution_count": null,
   "metadata": {
    "collapsed": true
   },
   "outputs": [],
   "source": []
  }
 ],
 "metadata": {
  "anaconda-cloud": {},
  "kernelspec": {
   "display_name": "Python [conda root]",
   "language": "python",
   "name": "conda-root-py"
  },
  "language_info": {
   "codemirror_mode": {
    "name": "ipython",
    "version": 2
   },
   "file_extension": ".py",
   "mimetype": "text/x-python",
   "name": "python",
   "nbconvert_exporter": "python",
   "pygments_lexer": "ipython2",
   "version": "2.7.12"
  },
  "toc": {
   "base_numbering": 1,
   "nav_menu": {},
   "number_sections": true,
   "sideBar": true,
   "skip_h1_title": false,
   "title_cell": "Table of Contents",
   "title_sidebar": "Contents",
   "toc_cell": false,
   "toc_position": {},
   "toc_section_display": true,
   "toc_window_display": false
  }
 },
 "nbformat": 4,
 "nbformat_minor": 1
}
