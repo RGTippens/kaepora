{
 "cells": [
  {
   "cell_type": "code",
   "execution_count": 1,
   "metadata": {
    "collapsed": true
   },
   "outputs": [],
   "source": [
    "import matplotlib\n",
    "matplotlib.use('qt5agg')\n",
    "import matplotlib.pyplot as plt\n",
    "import time\n",
    "import numpy as np\n",
    "import query_db\n",
    "import composite"
   ]
  },
  {
   "cell_type": "code",
   "execution_count": 2,
   "metadata": {
    "collapsed": true
   },
   "outputs": [],
   "source": [
    "def stacked_plot_max(composites,buff,label_buff):\n",
    "    font1 = {'family' : 'serif',\n",
    "        'color'  : 'black',\n",
    "        'weight' : 'bold',\n",
    "        'size'   : 20,\n",
    "        }\n",
    "    \n",
    "    font2 = {'family' : 'serif',\n",
    "        'color'  : 'black',\n",
    "        'weight' : 'bold',\n",
    "        'size'   : 10,\n",
    "        }\n",
    "    \n",
    "    fig, ax = plt.subplots(1,1)\n",
    "    fig.set_size_inches(15, 30, forward = True)\n",
    "    ax.get_yaxis().set_ticks([])\n",
    "    ax.xaxis.set_tick_params(length=10, width = 2)\n",
    "    plt.ylabel('Relative Flux + const.', fontdict = font1, fontsize = 40)\n",
    "    plt.xlabel( 'Wavelength ' + \"($\\mathrm{\\AA}$)\", fontdict = font1, fontsize = 40)\n",
    "    plt.xticks(fontsize = 20)\n",
    "    composites, scales = composite.optimize_scales(composites, composites[0], True)\n",
    "\n",
    "    i = 0\n",
    "    for comp in composites:\n",
    "        dm15 = np.average(comp.dm15[comp.x1:comp.x2])\n",
    "#         ax.plot(comp.wavelength[comp.x1:comp.x2], 2.e15*comp.flux[comp.x1:comp.x2] - 1200*dm15, color = '#3F5D7D', linewidth = 4)\n",
    "        ax.plot(comp.wavelength[comp.x1:comp.x2], 2.e15*comp.flux[comp.x1:comp.x2] - buff*i, color = '#3F5D7D', linewidth = 4)\n",
    "#         plt.fill_between(comp.wavelength[comp.x1:comp.x2], 2.e15*comp.low_conf[comp.x1:comp.x2]- buff*i, 2.e15*comp.up_conf[comp.x1:comp.x2] - buff*i, alpha = 0.5)\n",
    "#         plt.text(9700, comp.flux[comp.x2] - 1200*dm15 + 30, '$\\mathbf{\\Delta m_{15}}$ = ' + str(round(dm15, 2)), fontdict = font1)\n",
    "        plt.text(8000, comp.flux[comp.x2] - buff*i +label_buff, '$\\mathbf{\\Delta m_{15}}$ = ' + str(round(dm15, 2)), fontdict = font2, fontsize = 30)\n",
    "        i += 1\n",
    "#     plt.title('Maximum Light Composite Spectra \\n for Different Light Curve Shapes', fontdict = font1, fontsize = 40)\n",
    "    plt.xlim([3000,10500])\n",
    "#     plt.savefig('../../FOE_figures/dm15_split_max.png', dpi = 300, bbox_inches = 'tight')\n",
    "    plt.show()"
   ]
  },
  {
   "cell_type": "markdown",
   "metadata": {},
   "source": [
    "# Hubble Residuals"
   ]
  },
  {
   "cell_type": "code",
   "execution_count": 15,
   "metadata": {
    "collapsed": true
   },
   "outputs": [],
   "source": [
    "query_hubble_res = [\"SELECT * from Supernovae inner join Photometry ON Supernovae.SN = Photometry.SN where phase >= 5 and phase <= 9 and Hubble_Res > .1\",\n",
    "                    \"SELECT * from Supernovae inner join Photometry ON Supernovae.SN = Photometry.SN where phase >= 5 and phase <= 9 and Hubble_Res <= -.1\"]"
   ]
  },
  {
   "cell_type": "code",
   "execution_count": 16,
   "metadata": {
    "collapsed": false
   },
   "outputs": [
    {
     "name": "stdout",
     "output_type": "stream",
     "text": [
      "SQL Query: SELECT * from Supernovae inner join Photometry ON Supernovae.SN = Photometry.SN where phase >= 5 and phase <= 9 and Hubble_Res > .1\n",
      "Collecting data...\n",
      "13 spectra found\n",
      "Arrays cleaned\n",
      "bad file removed\n",
      "0 spectra with nan ivars removed\n",
      "Peculiar Ias removed 12 spectra left\n",
      "2001ay sn2001ay-20010430-ui.flm 6.79 0.68 None\n",
      "Host correction...\n",
      "2003iv sn2003iv-20031028-ui.flm 6.58 1.65 None\n",
      "Host correction...\n",
      "2005hj sn2005hj-20051108.457-deimos.flm 7.51 None 0.85116780468\n",
      "Host correction...\n",
      "2006mp sn2006mp-20061120.101-ui.flm 5.66 None None\n",
      "Host correction...\n",
      "1996c sn1996C-19960223.44-mmt.flm 7.94 0.93 None\n",
      "Host correction...\n",
      "2002jy sn2002jy-20030101.10-fast.flm 6.1 0.88 None\n",
      "Host correction...\n",
      "2004as sn2004as-20040327.35-fast.flm 5.95 0.92 None\n",
      "Host correction...\n",
      "2006ev sn2006ev-20060916.23-fast.flm 5.63 1.32 None\n",
      "Host correction...\n",
      "2007ca sn2007ca-20070512.27-fast.flm 5.57 0.89 None\n",
      "Host correction...\n",
      "2007fb sn2007fb-20070711.41-fast.flm 5.71000000001 None None\n",
      "2008r sn2008R-20080202.13-fast.flm 5.32999999999 1.54 None\n",
      "Host correction...\n",
      "2008z sn2008Z-20080226.44-fast.flm 7.74000000001 1.02 None\n",
      "10 SNs with host corrections\n",
      "Creating composite...\n",
      "Done.\n",
      "SQL Query: SELECT * from Supernovae inner join Photometry ON Supernovae.SN = Photometry.SN where phase >= 5 and phase <= 9 and Hubble_Res <= -.1\n",
      "Collecting data...\n",
      "18 spectra found\n",
      "Arrays cleaned\n",
      "bad file removed\n",
      "0 spectra with nan ivars removed\n",
      "Peculiar Ias removed 17 spectra left\n",
      "1998dx sn1998dx-19980921-ui.flm 5.13 1.32 None\n",
      "Host correction...\n",
      "1998v sn1998v-19980326-br.flm 7.2 0.99 None\n",
      "Host correction...\n",
      "2001ep sn2001ep-20011025-ui-corrected.flm 7.85 1.3 None\n",
      "Host correction...\n",
      "2005am SN05am_050315_b01_DUP_WF.dat 7.98999999976 1.3 None\n",
      "Host correction...\n",
      "2006cz sn2006cz-20060626.304-ui.flm 6.91 None None\n",
      "Host correction...\n",
      "2007cq sn2007cq-20070707.439-ui.flm 7.84 1.2 None\n",
      "Host correction...\n",
      "1998ab sn1998ab-19980419.29-fast.flm 7.89 1.04 None\n",
      "Host correction...\n",
      "1998co sn1998co-19980630.47-fast.flm 6.97 None 1.7342423379\n",
      "Host correction...\n",
      "1999dq sn1999dq-19990920.46-fast.flm 5.46 0.86 None\n",
      "Host correction...\n",
      "2001bf sn2001bf-20010525.47-mmt.flm 8.77 0.99 None\n",
      "Host correction...\n",
      "2006cp sn2006cp-20060617.21-fast.flm 6.51 0.98 None\n",
      "Host correction...\n",
      "2006et sn2006et-20060922.37-fast.flm 6.47 1.02 None\n",
      "Host correction...\n",
      "2007bc SN07bc_070417_b01_DUP_WF.dat 7.54000000004 1.37 None\n",
      "Host correction...\n",
      "2008l sn2008L-20080202.15-fast.flm 5.75 1.38 None\n",
      "Host correction...\n",
      "2008bc SN08bc_080328_g01_NTT_EM.dat 5.01000000024 None None\n",
      "Host correction...\n",
      "2008bq SN08bq_080412_b01_DUP_WF.dat 5.5700000003 None None\n",
      "Host correction...\n",
      "2002dj 2002dj_20020704_3340_10256_00.dat 8.4 1.19 None\n",
      "Host correction...\n",
      "17 SNs with host corrections\n",
      "Creating composite...\n",
      "Done.\n"
     ]
    }
   ],
   "source": [
    "comps_hubble_res = query_db.main(len(query_hubble_res), query_hubble_res)"
   ]
  },
  {
   "cell_type": "code",
   "execution_count": 17,
   "metadata": {
    "collapsed": true
   },
   "outputs": [],
   "source": [
    "query_db.set_min_num_spec(comps_hubble_res, 5)\n",
    "query_db.comparison_plot(comps_hubble_res)\n",
    "stacked_plot_max(comps_hubble_res,5,1)"
   ]
  },
  {
   "cell_type": "code",
   "execution_count": null,
   "metadata": {
    "collapsed": true
   },
   "outputs": [],
   "source": []
  }
 ],
 "metadata": {
  "anaconda-cloud": {},
  "kernelspec": {
   "display_name": "Python [conda root]",
   "language": "python",
   "name": "conda-root-py"
  },
  "language_info": {
   "codemirror_mode": {
    "name": "ipython",
    "version": 2
   },
   "file_extension": ".py",
   "mimetype": "text/x-python",
   "name": "python",
   "nbconvert_exporter": "python",
   "pygments_lexer": "ipython2",
   "version": "2.7.12"
  }
 },
 "nbformat": 4,
 "nbformat_minor": 1
}
