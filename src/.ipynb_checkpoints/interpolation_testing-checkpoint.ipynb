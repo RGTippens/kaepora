{
 "cells": [
  {
   "cell_type": "code",
   "execution_count": 14,
   "metadata": {
    "collapsed": true
   },
   "outputs": [],
   "source": [
    "import prep\n",
    "import glob\n",
    "import numpy as np\n",
    "import newdb\n",
    "import matplotlib.pyplot as plt\n",
    "import math\n",
    "import scipy.interpolate as inter"
   ]
  },
  {
   "cell_type": "code",
   "execution_count": 2,
   "metadata": {
    "collapsed": true
   },
   "outputs": [],
   "source": [
    "%load_ext autoreload\n",
    "%autoreload 2\n",
    "%matplotlib inline"
   ]
  },
  {
   "cell_type": "code",
   "execution_count": 3,
   "metadata": {
    "collapsed": false
   },
   "outputs": [
    {
     "name": "stdout",
     "output_type": "stream",
     "text": [
      "2562\n"
     ]
    }
   ],
   "source": [
    "file_names = glob.glob(\"../../../cfa_test_data/*.flm\")\n",
    "print len(file_names)"
   ]
  },
  {
   "cell_type": "code",
   "execution_count": 4,
   "metadata": {
    "collapsed": true
   },
   "outputs": [],
   "source": [
    "test_file = file_names[1855]\n",
    "spectrum = np.loadtxt(test_file)"
   ]
  },
  {
   "cell_type": "code",
   "execution_count": 17,
   "metadata": {
    "collapsed": false
   },
   "outputs": [
    {
     "name": "stdout",
     "output_type": "stream",
     "text": [
      "1.47\n"
     ]
    }
   ],
   "source": [
    "wave = spectrum[:, 0]\n",
    "flux = spectrum[:, 1]\n",
    "err = spectrum[:, 2]\n",
    "var = err**2.\n",
    "pixel_scale = np.median(np.diff(wave))\n",
    "print pixel_scale"
   ]
  },
  {
   "cell_type": "code",
   "execution_count": 32,
   "metadata": {
    "collapsed": false
   },
   "outputs": [],
   "source": [
    "wave_min = 999\n",
    "wave_max = 12001\n",
    "dw = 2\n",
    "wavelength_mids = np.arange(math.ceil(wave_min), math.floor(wave_max),\n",
    "                       dtype=int, step=dw)\n",
    "lower = wave[0]\n",
    "upper = wave[-1]"
   ]
  },
  {
   "cell_type": "code",
   "execution_count": 33,
   "metadata": {
    "collapsed": false
   },
   "outputs": [],
   "source": [
    "good_data = np.where((wave >= lower) & (wave <= upper))\n",
    "influx = inter.splrep(wave[good_data], flux[good_data])\n",
    "inivar = inter.splrep(wave[good_data], var[good_data])\n",
    "# inter_flux = inter.splev(wavelength_mids, influx, ext = 3)\n",
    "# inter_ivar = inter.splev(wavelength_mids, inivar, ext = 3)"
   ]
  },
  {
   "cell_type": "code",
   "execution_count": 34,
   "metadata": {
    "collapsed": false
   },
   "outputs": [
    {
     "name": "stdout",
     "output_type": "stream",
     "text": [
      "3500.0 7410.2\n"
     ]
    }
   ],
   "source": [
    "print lower,upper"
   ]
  },
  {
   "cell_type": "code",
   "execution_count": 64,
   "metadata": {
    "collapsed": false
   },
   "outputs": [
    {
     "name": "stdout",
     "output_type": "stream",
     "text": [
      "3500.0 7411.0\n"
     ]
    }
   ],
   "source": [
    "low_int = math.ceil(lower)\n",
    "up_int = math.ceil(upper)\n",
    "print low_int, up_int\n",
    "wave_final = []\n",
    "flux_final = []\n",
    "var_final = []"
   ]
  },
  {
   "cell_type": "code",
   "execution_count": 65,
   "metadata": {
    "collapsed": false
   },
   "outputs": [],
   "source": [
    "for mid_point in wavelength_mids:\n",
    "    inter_flux_mid_left = float(inter.splev(mid_point, influx, ext = 3))\n",
    "    inter_ivar_mid_left = float(inter.splev(mid_point, inivar, ext = 3))\n",
    "    inter_flux_mid_right = float(inter.splev(mid_point+dw, influx, ext = 3))\n",
    "    inter_ivar_mid_right = float(inter.splev(mid_point+dw, inivar, ext = 3))\n",
    "    waves_to_sum = np.where((wave >= mid_point) & (wave <= mid_point+dw))[0]\n",
    "    wave_final.append((mid_point + mid_point +dw)/2.)\n",
    "    if (mid_point >= lower and (mid_point+dw) <= upper):\n",
    "        waves = [mid_point]\n",
    "        fluxes = [inter_flux_mid_left]\n",
    "        for i, w in enumerate(waves_to_sum):\n",
    "            waves.append(wave[w])\n",
    "            fluxes.append(flux[w])\n",
    "        waves.append(mid_point+dw)\n",
    "        fluxes.append(inter_flux_mid_right)\n",
    "        new_point = np.trapz(fluxes, x=waves)\n",
    "        flux_final.append(new_point)\n",
    "        #TODO: Variance\n",
    "    elif (mid_point < lower and (mid_point+dw) < lower) or (mid_point > upper):\n",
    "        flux_final.append(0.)\n",
    "        var_final.append(0.)\n",
    "    elif (mid_point < lower and (mid_point+dw) > lower):\n",
    "        waves = []\n",
    "        fluxes = []\n",
    "        print 'here'\n",
    "        for i, w in enumerate(waves_to_sum):\n",
    "            waves.append(wave[w])\n",
    "            fluxes.append(flux[w])\n",
    "        waves.append(mid_point+dw)\n",
    "        fluxes.append(inter_flux_mid_right)\n",
    "        new_point = np.trapz(fluxes, x=waves)\n",
    "        flux_final.append(new_point)\n",
    "    elif (mid_point < upper and (mid_point+dw) > upper):\n",
    "        waves = [mid_point]\n",
    "        fluxes = [inter_flux_mid_left]\n",
    "        print 'here'\n",
    "        for i, w in enumerate(waves_to_sum):\n",
    "            waves.append(wave[w])\n",
    "            fluxes.append(flux[w])\n",
    "        new_point = np.trapz(fluxes, x=waves)\n",
    "        flux_final.append(new_point)"
   ]
  },
  {
   "cell_type": "code",
   "execution_count": 70,
   "metadata": {
    "collapsed": false
   },
   "outputs": [
    {
     "name": "stdout",
     "output_type": "stream",
     "text": [
      "5501 5501\n"
     ]
    },
    {
     "data": {
      "image/png": "[encoded data removed]",
      "text/plain": [
       "<matplotlib.figure.Figure at 0x122e9400>"
      ]
     },
     "metadata": {},
     "output_type": "display_data"
    }
   ],
   "source": [
    "print len(wave_final), len(flux_final)\n",
    "plt.plot(wave,2.*flux)\n",
    "plt.plot(wave_final, flux_final)\n",
    "plt.xlim(lower-50,upper+50)\n",
    "plt.show()"
   ]
  },
  {
   "cell_type": "code",
   "execution_count": null,
   "metadata": {
    "collapsed": true
   },
   "outputs": [],
   "source": []
  }
 ],
 "metadata": {
  "anaconda-cloud": {},
  "kernelspec": {
   "display_name": "Python [conda root]",
   "language": "python",
   "name": "conda-root-py"
  },
  "language_info": {
   "codemirror_mode": {
    "name": "ipython",
    "version": 2
   },
   "file_extension": ".py",
   "mimetype": "text/x-python",
   "name": "python",
   "nbconvert_exporter": "python",
   "pygments_lexer": "ipython2",
   "version": "2.7.12"
  },
  "toc": {
   "base_numbering": 1,
   "nav_menu": {},
   "number_sections": true,
   "sideBar": true,
   "skip_h1_title": false,
   "title_cell": "Table of Contents",
   "title_sidebar": "Contents",
   "toc_cell": false,
   "toc_position": {},
   "toc_section_display": true,
   "toc_window_display": false
  }
 },
 "nbformat": 4,
 "nbformat_minor": 1
}
