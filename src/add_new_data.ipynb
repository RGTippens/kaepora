{
 "cells": [
  {
   "cell_type": "code",
   "execution_count": 1,
   "metadata": {},
   "outputs": [],
   "source": [
    "%load_ext autoreload\n",
    "%autoreload 2"
   ]
  },
  {
   "cell_type": "code",
   "execution_count": 2,
   "metadata": {},
   "outputs": [],
   "source": [
    "import numpy as np\n",
    "import matplotlib.pyplot as plt\n",
    "import composite\n",
    "%matplotlib inline\n",
    "from numpy import trapz\n",
    "import copy\n",
    "import glob as glob\n",
    "from numpy import trapz\n",
    "from astropy.time import Time\n",
    "from scipy import interpolate\n",
    "import spectral_analysis as sa\n",
    "import sqlite3 as sq3\n",
    "import kaepora as kpora\n",
    "import kaepora_plot as kplot\n",
    "import add_new_columns as anc\n",
    "c = 299792 #speed of light in km/s"
   ]
  },
  {
   "cell_type": "markdown",
   "metadata": {},
   "source": [
    "# Adding Data into Database File"
   ]
  },
  {
   "cell_type": "markdown",
   "metadata": {},
   "source": [
    "Observed silicon velocity"
   ]
  },
  {
   "cell_type": "code",
   "execution_count": 3,
   "metadata": {},
   "outputs": [],
   "source": [
    "si_v_filenames = []\n",
    "si_v = []\n",
    "\n",
    "si_v_file = open(\"new_data/si_v.txt\", \"r\")\n",
    "for line in si_v_file:\n",
    "    si_v_filenames.append(line.split()[0])\n",
    "    si_v.append(line.split()[1])\n",
    "si_v_file.close\n",
    "\n",
    "si_v_dict = {}\n",
    "for n in range(0, len(si_v)):\n",
    "    si_v_dict[si_v_filenames[n]] = si_v[n]\n",
    "    \n",
    "anc.add_arbitrary_spectra_column('si_v', si_v_dict, 'float', \"../data/kaepora_v1_DEV.db\")"
   ]
  },
  {
   "cell_type": "markdown",
   "metadata": {},
   "source": [
    "Silicon velocity at max light"
   ]
  },
  {
   "cell_type": "code",
   "execution_count": 5,
   "metadata": {},
   "outputs": [],
   "source": [
    "si_v0_events = []\n",
    "si_v0 = []\n",
    "\n",
    "si_v0_file = open(\"new_data/si_v0.txt\", \"r\")\n",
    "for line in si_v0_file:\n",
    "    si_v0_events.append(line.split()[0])\n",
    "    si_v0.append(line.split()[1])\n",
    "si_v0_file.close\n",
    "\n",
    "si_v0_dict = {}\n",
    "for n in range(0, len(si_v0)):\n",
    "    si_v0_dict[si_v0_events[n]] = si_v0[n]\n",
    "    \n",
    "anc.add_arbitrary_event_column('si_v0', si_v0_dict, 'float', \"../data/kaepora_v1_DEV.db\")"
   ]
  },
  {
   "cell_type": "markdown",
   "metadata": {},
   "source": [
    "Silicon equivalent width"
   ]
  },
  {
   "cell_type": "code",
   "execution_count": 7,
   "metadata": {},
   "outputs": [],
   "source": [
    "si_eqw_filenames = []\n",
    "si_eqw_values = []\n",
    "\n",
    "si_eqw_file = open(\"new_data/si_eqw.txt\", \"r\")\n",
    "for line in si_eqw_file:\n",
    "    si_eqw_filenames.append(line.split()[0])\n",
    "    si_eqw_values.append(line.split()[1])\n",
    "si_eqw_file.close\n",
    "\n",
    "si_eqw_dict = {}\n",
    "for n in range(0, len(si_eqw_values)):\n",
    "    si_eqw_dict[si_eqw_filenames[n]] = si_eqw_values[n]\n",
    "    \n",
    "anc.add_arbitrary_spectra_column('si_eqw', si_eqw_dict, \"float\", \"../data/kaepora_v1_DEV.db\")"
   ]
  },
  {
   "cell_type": "markdown",
   "metadata": {},
   "source": [
    "# Composite Test"
   ]
  },
  {
   "cell_type": "code",
   "execution_count": 11,
   "metadata": {},
   "outputs": [
    {
     "name": "stdout",
     "output_type": "stream",
     "text": [
      "Collecting data from ../data/kaepora_v1_DEV.db ...\n",
      "7 Total Spectra found\n",
      "0 flagged spectra removed 7 spectra left\n",
      "0 spectra of peculiar Ias removed 7 spectra left\n",
      "7 spectra of SNe that have host reddening corrections\n",
      "Arrays cleaned\n"
     ]
    }
   ],
   "source": [
    "v_obs_query = \"SELECT * from Spectra inner join Events ON Spectra.SN = Events.SN where si_v < -15000 and phase between -2 and 2\"\n",
    "v_obs_spectra = composite.grab(v_obs_query, multi_epoch = True, make_corr = True)"
   ]
  },
  {
   "cell_type": "code",
   "execution_count": 12,
   "metadata": {},
   "outputs": [
    {
     "name": "stdout",
     "output_type": "stream",
     "text": [
      "SQL Query: SELECT * from Spectra inner join Events ON Spectra.SN = Events.SN where si_v < -15000 and phase between -2 and 2\n",
      "Collecting data from ../data/kaepora_v1_DEV.db ...\n",
      "7 Total Spectra found\n",
      "0 flagged spectra removed 7 spectra left\n",
      "0 spectra of peculiar Ias removed 7 spectra left\n",
      "7 spectra of SNe that have host reddening corrections\n",
      "Arrays cleaned\n",
      "7 spectra may have telluric contamination\n",
      "3 total SNe\n",
      "removed spectra of SNe with A_V > 2.0\n",
      "Using 3 spectra of 2 SNe\n",
      "Gini balancing...\n",
      "Balanced after 1 iterations\n"
     ]
    }
   ],
   "source": [
    "composites, sn_arrays, boot_sn_arrays = kpora.make_composite([v_obs_query], boot=False, medmean=1, verbose=False, gini_balance=True, combine=True)"
   ]
  },
  {
   "cell_type": "code",
   "execution_count": 13,
   "metadata": {},
   "outputs": [
    {
     "ename": "IndexError",
     "evalue": "index 0 is out of bounds for axis 0 with size 0",
     "output_type": "error",
     "traceback": [
      "\u001b[0;31m---------------------------------------------------------------------------\u001b[0m",
      "\u001b[0;31mIndexError\u001b[0m                                Traceback (most recent call last)",
      "\u001b[0;32m<ipython-input-13-931ecd67a796>\u001b[0m in \u001b[0;36m<module>\u001b[0;34m()\u001b[0m\n\u001b[0;32m----> 1\u001b[0;31m \u001b[0mkpora\u001b[0m\u001b[0;34m.\u001b[0m\u001b[0mset_min_num_spec\u001b[0m\u001b[0;34m(\u001b[0m\u001b[0mcomposites\u001b[0m\u001b[0;34m,\u001b[0m \u001b[0;36m5\u001b[0m\u001b[0;34m)\u001b[0m\u001b[0;34m\u001b[0m\u001b[0m\n\u001b[0m\u001b[1;32m      2\u001b[0m \u001b[0mkplot\u001b[0m\u001b[0;34m.\u001b[0m\u001b[0mcomparison_plot\u001b[0m\u001b[0;34m(\u001b[0m\u001b[0mcomposites\u001b[0m\u001b[0;34m,\u001b[0m \u001b[0mmin_num_show\u001b[0m\u001b[0;34m=\u001b[0m\u001b[0;36m5\u001b[0m\u001b[0;34m)\u001b[0m\u001b[0;34m\u001b[0m\u001b[0m\n",
      "\u001b[0;32m/Users/msiebert/Documents/UCSC/Research/kaepora/src/kaepora.pyc\u001b[0m in \u001b[0;36mset_min_num_spec\u001b[0;34m(composites, num)\u001b[0m\n\u001b[1;32m     30\u001b[0m         \u001b[0mcomp\u001b[0m\u001b[0;34m.\u001b[0m\u001b[0mspec_bin\u001b[0m \u001b[0;34m=\u001b[0m \u001b[0mnp\u001b[0m\u001b[0;34m.\u001b[0m\u001b[0marray\u001b[0m\u001b[0;34m(\u001b[0m\u001b[0mcomp\u001b[0m\u001b[0;34m.\u001b[0m\u001b[0mspec_bin\u001b[0m\u001b[0;34m)\u001b[0m\u001b[0;34m\u001b[0m\u001b[0m\n\u001b[1;32m     31\u001b[0m         \u001b[0mvalid_range\u001b[0m \u001b[0;34m=\u001b[0m \u001b[0mnp\u001b[0m\u001b[0;34m.\u001b[0m\u001b[0mwhere\u001b[0m\u001b[0;34m(\u001b[0m\u001b[0mcomp\u001b[0m\u001b[0;34m.\u001b[0m\u001b[0mspec_bin\u001b[0m \u001b[0;34m>=\u001b[0m \u001b[0mnum\u001b[0m\u001b[0;34m)\u001b[0m\u001b[0;34m[\u001b[0m\u001b[0;36m0\u001b[0m\u001b[0;34m]\u001b[0m\u001b[0;34m\u001b[0m\u001b[0m\n\u001b[0;32m---> 32\u001b[0;31m         \u001b[0mcomp\u001b[0m\u001b[0;34m.\u001b[0m\u001b[0mx1\u001b[0m\u001b[0;34m,\u001b[0m \u001b[0mcomp\u001b[0m\u001b[0;34m.\u001b[0m\u001b[0mx2\u001b[0m \u001b[0;34m=\u001b[0m \u001b[0mvalid_range\u001b[0m\u001b[0;34m[\u001b[0m\u001b[0;36m0\u001b[0m\u001b[0;34m]\u001b[0m\u001b[0;34m,\u001b[0m \u001b[0mvalid_range\u001b[0m\u001b[0;34m[\u001b[0m\u001b[0;34m-\u001b[0m\u001b[0;36m1\u001b[0m\u001b[0;34m]\u001b[0m\u001b[0;34m\u001b[0m\u001b[0m\n\u001b[0m\u001b[1;32m     33\u001b[0m \u001b[0;34m\u001b[0m\u001b[0m\n\u001b[1;32m     34\u001b[0m \u001b[0;34m\u001b[0m\u001b[0m\n",
      "\u001b[0;31mIndexError\u001b[0m: index 0 is out of bounds for axis 0 with size 0"
     ]
    }
   ],
   "source": [
    "kpora.set_min_num_spec(composites, 5)\n",
    "kplot.comparison_plot(composites, min_num_show=5)"
   ]
  },
  {
   "cell_type": "code",
   "execution_count": null,
   "metadata": {},
   "outputs": [],
   "source": []
  }
 ],
 "metadata": {
  "kernelspec": {
   "display_name": "Python 2",
   "language": "python",
   "name": "python2"
  },
  "language_info": {
   "codemirror_mode": {
    "name": "ipython",
    "version": 2
   },
   "file_extension": ".py",
   "mimetype": "text/x-python",
   "name": "python",
   "nbconvert_exporter": "python",
   "pygments_lexer": "ipython2",
   "version": "2.7.16"
  }
 },
 "nbformat": 4,
 "nbformat_minor": 2
}
