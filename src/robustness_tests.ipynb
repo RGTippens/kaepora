{
 "cells": [
  {
   "cell_type": "code",
   "execution_count": 1,
   "metadata": {
    "collapsed": true
   },
   "outputs": [],
   "source": [
    "%load_ext autoreload\n",
    "%autoreload 2"
   ]
  },
  {
   "cell_type": "code",
   "execution_count": 2,
   "metadata": {
    "collapsed": true
   },
   "outputs": [],
   "source": [
    "import matplotlib\n",
    "matplotlib.use('qt5agg')\n",
    "import matplotlib.pyplot as plt\n",
    "import time\n",
    "import numpy as np\n",
    "import query_db\n",
    "import composite\n",
    "import matplotlib.gridspec as gridspec"
   ]
  },
  {
   "cell_type": "code",
   "execution_count": 4,
   "metadata": {
    "collapsed": true
   },
   "outputs": [],
   "source": [
    "query_max = [\"SELECT * from Supernovae inner join Photometry ON Supernovae.SN = Photometry.SN and phase >= -7 and phase < -6\"]"
   ]
  },
  {
   "cell_type": "code",
   "execution_count": 5,
   "metadata": {
    "collapsed": false
   },
   "outputs": [
    {
     "name": "stdout",
     "output_type": "stream",
     "text": [
      "SQL Query: SELECT * from Supernovae inner join Photometry ON Supernovae.SN = Photometry.SN and phase >= -7 and phase < -6\n",
      "Collecting data...\n",
      "61 spectra found\n",
      "153 questionable files currently ignored\n",
      "2 questionable spectra removed 59 spectra left\n",
      "1 Peculiar Ias removed 58 spectra left\n",
      "41 SNs with host corrections\n",
      "Arrays cleaned\n",
      "153 questionable files currently ignored\n",
      "1 spectra with nan ivars removed 40 spectra left\n",
      "1994d sn1994D-19940315.36-mmt.flm 74.9928587537 1.37 None -6.14 cfa 49426.36 3604.0 7900.0\n",
      "Host correction...\n",
      "1995ac sn1995ac-19950926-uoi.flm 11.0580910033 0.77 None -6.34 bsnip 49986.406 3098.0 9902.0\n",
      "Host correction...\n",
      "1999dk sn1999dk-19990817-ui.flm 55.0112411584 None 0.893643877201 -6.6 bsnip 51407.376 3342.0 10346.0\n",
      "Host correction...\n",
      "2002cr sn2002cr-20020507-ui-corrected.flm 49.5899013369 1.19 None -6.78 bsnip 52401.354 3320.0 10254.0\n",
      "Host correction...\n",
      "2002hw sn2002hw-20021111-br.flm 42.7660070151 1.44 None -6.27 bsnip 52589.0 3092.0 9196.0\n",
      "Host correction...\n",
      "2004dt sn2004dt-20040816.413-ui-corrected.flm 30.481639234 1.14 None -6.46 bsnip 53233.413 3306.0 10150.0\n",
      "Host correction...\n",
      "2005el sn2005el-20050926.496-ui-corrected.flm 48.6306501119 1.27 None -6.7 bsnip 53639.496 3308.0 10296.0\n",
      "Host correction...\n",
      "2005eq sn2005eq-20051004.512-ui.flm 11.3607143678 0.88 None -6.01 bsnip 53647.512 3280.0 10156.0\n",
      "Host correction...\n",
      "2006lf sn2006lf-20061030.420-ui-corrected.flm 38.1207811201 1.3 None -6.3 bsnip 54038.42 3336.0 10314.0\n",
      "Host correction...\n",
      "2007ci sn2007ci-20070519.316-ui.flm 0.515576 1.6 None -6.57 bsnip 54239.316 3418.0 9926.0\n",
      "Host correction...\n",
      "2007qe sn2007qe-20071118.104-ui.flm 0.480642 1.03 None -6.54 bsnip 54422.104 3296.0 10372.0\n",
      "Host correction...\n",
      "1997bq sn1997bq-19970413.22-fast.flm 37.0289236433 1.14 None -6.68 cfa 50551.22 3716.0 7442.0\n",
      "Host correction...\n",
      "1997br sn1997br-19970414.31-fast.flm 61.1051497983 1.09 None -6.99000000001 cfa 50552.31 3730.0 7470.0\n",
      "Host correction...\n",
      "1997do sn1997do-19971107.51-fast.flm 68.0110746478 0.94 None -6.59 cfa 50759.51 3734.0 7416.0\n",
      "Host correction...\n",
      "1998de sn1998de-19980726.47-fast.flm 22.3068615579 1.88 None -6.23 cfa 51020.47 3710.0 7370.0\n",
      "Host correction...\n",
      "1998es sn1998es-19981119.28-fast.flm 61.9908998621 0.85 None -6.42 cfa 51136.28 3436.0 7136.0\n",
      "Host correction...\n",
      "1999aa sn1999aa-19990217.26-fast.flm 40.2030992289 0.78 None -6.14 cfa 51226.26 3442.0 7068.0\n",
      "Host correction...\n",
      "1999dq sn1999dq-19990908.48-fast.flm 76.6786684406 0.86 None -6.52 cfa 51429.48 3718.0 7384.0\n",
      "Host correction...\n",
      "2001cp sn2001cp-20010621.45-fast.flm 12.9686398185 0.88 None -6.95 cfa 52081.45 3690.0 7326.0\n",
      "Host correction...\n",
      "2001v sn2001V-20010226.30-fast.flm 32.9782743533 0.82 None -6.5 cfa 51966.3 3716.0 7380.0\n",
      "Host correction...\n",
      "2002bo sn2002bo-20020317.35-fast.flm 77.1776562379 1.08 None -6.35 cfa 52350.35 3756.0 7460.0\n",
      "Host correction...\n",
      "2002cd sn2002cd-20020412.49-fast.flm 17.5241015798 0.84 None -6.71 cfa 52376.49 3732.0 7394.0\n",
      "Host correction...\n",
      "2002de sn2002de-20020602.24-fast.flm 9.60141882387 0.96 None -6.26 cfa 52427.24 3670.0 7286.0\n",
      "Host correction...\n",
      "2002dj sn2002dj-20020619.18-fast.flm 45.6749271333 1.19 None -6.42 cfa 52444.18 3736.0 7440.0\n",
      "Host correction...\n",
      "2003cg 2003cg_20030325_3720_9153_00.dat 40.5335391367 1.26 None -6.4 other 52723.0 3756.0 9066.0\n",
      "Host correction...\n",
      "2003fa sn2003fa-20030609.38-fast.flm 10.2603537419 0.8 None -6.82 cfa 52799.38 3626.0 7198.0\n",
      "Host correction...\n",
      "2003w sn2003W-20030203.33-fast.flm 26.7469336013 1.14 None -6.37 cfa 52673.33 3698.0 7344.0\n",
      "Host correction...\n",
      "2004as sn2004as-20040315.31-fast.flm 25.1470450462 0.92 None -6.09 cfa 53079.31 3660.0 7264.0\n",
      "Host correction...\n",
      "2004ef sn2004ef-20040909.24-fast.flm 14.8600517453 1.39 None -6.46 cfa 53257.24 3494.0 7198.0\n",
      "Host correction...\n",
      "2004fu sn2004fu-20041110.17-fast.flm 39.8557021596 1.08 None -6.43 cfa 53319.17 3500.0 7294.0\n",
      "Host correction...\n",
      "2005iq sn2005iq-20051107.21-fast.flm 13.975098704 1.19 None -6.19 cfa 53681.21 3430.0 7128.0\n",
      "Host correction...\n",
      "2006ax sn2006ax-20060326.29-fast.flm 55.2534475195 1.06 None -6.51 cfa 53820.29 3480.0 7238.0\n",
      "Host correction...\n",
      "2006cp sn2006cp-20060604.24-fast.flm 32.7737115032 0.98 None -6.46 cfa 53890.24 3458.0 7194.0\n",
      "Host correction...\n",
      "2006gr sn2006gr-20060928.18-fast.flm 26.9808197936 0.81 None -6.22 cfa 54006.18 3410.0 7114.0\n",
      "Host correction...\n",
      "2006le sn2006le-20061101.43-fast.flm 34.9020405157 0.88 None -6.97 cfa 54040.43 3468.0 7236.0\n",
      "Host correction...\n",
      "2006oa sn2006oa-20061121.09-fast.flm 9.95665404683 0.89 None -6.11 cfa 54060.09 3334.0 6946.0\n",
      "Host correction...\n",
      "2007le sn2007le-20071019.21-fast.flm 84.7688466286 1.01 None -6.49 cfa 54392.21 3502.0 7318.0\n",
      "Host correction...\n",
      "2008hv SN08hv_081210_r01_NTT_EF.dat 61.0652850142 None 1.11901047681 -6.03000000026 csp 54810.32 5226.0 9046.0\n",
      "Host correction...\n",
      "2005cf sn2005cf-20050606.7-uvot.flm 79.3566822555 1.1 None -6.7 uv 53527.0 2038.0 9608.0\n",
      "Host correction...\n",
      "2012ht sn2012ht-20121228.32-fixedbg-swift.flm 3.75530014238 1.39 None -6.3 swift_uv None 1946.0 6708.0\n",
      "Host correction...\n",
      "40 SNs with host corrections\n",
      "Creating composite...\n",
      "Done.\n",
      "Bootstrapping\n",
      "scaling boots...\n",
      "plotting...\n",
      "computing confidence intervals...\n"
     ]
    }
   ],
   "source": [
    "comps_max, sn_arrays, boot_sn_arrays = query_db.main(len(query_max), query_max, boot='b', medmean=1, selection = 'max_coverage')"
   ]
  },
  {
   "cell_type": "code",
   "execution_count": 23,
   "metadata": {
    "collapsed": false
   },
   "outputs": [
    {
     "name": "stdout",
     "output_type": "stream",
     "text": [
      "SQL Query: SELECT * from Supernovae inner join Photometry ON Supernovae.SN = Photometry.SN and phase >= -7 and phase < -6\n",
      "Collecting data...\n",
      "64 spectra found\n",
      "153 questionable files currently ignored\n",
      "2 questionable spectra removed 62 spectra left\n",
      "1 Peculiar Ias removed 61 spectra left\n",
      "42 SNs with host corrections\n",
      "Arrays cleaned\n",
      "153 questionable files currently ignored\n",
      "1 spectra with nan ivars removed 41 spectra left\n",
      "1994d sn1994D-19940315.36-mmt.flm 74.9928587537 1.37 None -6.14 cfa 49426.36 3604.0 7900.0\n",
      "Host correction...\n",
      "1995ac sn1995ac-19950926-uoi.flm 11.0580910033 0.77 None -6.34 bsnip 49986.406 3098.0 9902.0\n",
      "Host correction...\n",
      "1999dk sn1999dk-19990817-ui.flm 55.0112411584 None 0.893643877201 -6.6 bsnip 51407.376 3342.0 10346.0\n",
      "Host correction...\n",
      "2002cr sn2002cr-20020507-ui-corrected.flm 49.5899013369 1.19 None -6.78 bsnip 52401.354 3320.0 10254.0\n",
      "Host correction...\n",
      "2002hw sn2002hw-20021111-br.flm 42.7660070151 1.44 None -6.27 bsnip 52589.0 3092.0 9196.0\n",
      "Host correction...\n",
      "2004dt sn2004dt-20040816.413-ui-corrected.flm 30.481639234 1.14 None -6.46 bsnip 53233.413 3306.0 10150.0\n",
      "Host correction...\n",
      "2005el sn2005el-20050926.496-ui-corrected.flm 48.6306501119 1.27 None -6.7 bsnip 53639.496 3308.0 10296.0\n",
      "Host correction...\n",
      "2005eq sn2005eq-20051004.512-ui.flm 11.3607143678 0.88 None -6.01 bsnip 53647.512 3280.0 10156.0\n",
      "Host correction...\n",
      "2006lf sn2006lf-20061030.420-ui-corrected.flm 38.1207811201 1.3 None -6.3 bsnip 54038.42 3336.0 10314.0\n",
      "Host correction...\n",
      "2007ci sn2007ci-20070519.316-ui.flm 0.515576 1.6 None -6.57 bsnip 54239.316 3418.0 9926.0\n",
      "Host correction...\n",
      "2007qe sn2007qe-20071118.104-ui.flm 0.480642 1.03 None -6.54 bsnip 54422.104 3296.0 10372.0\n",
      "Host correction...\n",
      "1997bq sn1997bq-19970413.22-fast.flm 37.0289236433 1.14 None -6.68 cfa 50551.22 3716.0 7442.0\n",
      "Host correction...\n",
      "1997br sn1997br-19970414.31-fast.flm 61.1051497983 1.09 None -6.99000000001 cfa 50552.31 3730.0 7470.0\n",
      "Host correction...\n",
      "1997do sn1997do-19971107.51-fast.flm 68.0110746478 0.94 None -6.59 cfa 50759.51 3734.0 7416.0\n",
      "Host correction...\n",
      "1998de sn1998de-19980726.47-fast.flm 22.3068615579 1.88 None -6.23 cfa 51020.47 3710.0 7370.0\n",
      "Host correction...\n",
      "1998es sn1998es-19981119.28-fast.flm 61.9908998621 0.85 None -6.42 cfa 51136.28 3436.0 7136.0\n",
      "Host correction...\n",
      "1999aa sn1999aa-19990217.26-fast.flm 40.2030992289 0.78 None -6.14 cfa 51226.26 3442.0 7068.0\n",
      "Host correction...\n",
      "1999dq sn1999dq-19990908.48-fast.flm 76.6786684406 0.86 None -6.52 cfa 51429.48 3718.0 7384.0\n",
      "Host correction...\n",
      "2001cp sn2001cp-20010621.45-fast.flm 12.9686398185 0.88 None -6.95 cfa 52081.45 3690.0 7326.0\n",
      "Host correction...\n",
      "2001v sn2001V-20010226.30-fast.flm 32.9782743533 0.82 None -6.5 cfa 51966.3 3716.0 7380.0\n",
      "Host correction...\n",
      "2002bo sn2002bo-20020317.35-fast.flm 77.1776562379 1.08 None -6.35 cfa 52350.35 3756.0 7460.0\n",
      "Host correction...\n",
      "2002cd sn2002cd-20020412.49-fast.flm 17.5241015798 0.84 None -6.71 cfa 52376.49 3732.0 7394.0\n",
      "Host correction...\n",
      "2002de sn2002de-20020602.24-fast.flm 9.60141882387 0.96 None -6.26 cfa 52427.24 3670.0 7286.0\n",
      "Host correction...\n",
      "2002dj sn2002dj-20020619.18-fast.flm 45.6749271333 1.19 None -6.42 cfa 52444.18 3736.0 7440.0\n",
      "Host correction...\n",
      "2003cg 2003cg_20030325_3720_9153_00.dat 40.5335391367 1.26 None -6.4 other 52723.0 3756.0 9066.0\n",
      "Host correction...\n",
      "2003fa sn2003fa-20030609.38-fast.flm 10.2603537419 0.8 None -6.82 cfa 52799.38 3626.0 7198.0\n",
      "Host correction...\n",
      "2003w sn2003W-20030203.33-fast.flm 26.7469336013 1.14 None -6.37 cfa 52673.33 3698.0 7344.0\n",
      "Host correction...\n",
      "2004as sn2004as-20040315.31-fast.flm 25.1470450462 0.92 None -6.09 cfa 53079.31 3660.0 7264.0\n",
      "Host correction...\n",
      "2004ef sn2004ef-20040909.24-fast.flm 14.8600517453 1.39 None -6.46 cfa 53257.24 3494.0 7198.0\n",
      "Host correction...\n",
      "2004fu sn2004fu-20041110.17-fast.flm 39.8557021596 1.08 None -6.43 cfa 53319.17 3500.0 7294.0\n",
      "Host correction...\n",
      "2005iq sn2005iq-20051107.21-fast.flm 13.975098704 1.19 None -6.19 cfa 53681.21 3430.0 7128.0\n",
      "Host correction...\n",
      "2006ax sn2006ax-20060326.29-fast.flm 55.2534475195 1.06 None -6.51 cfa 53820.29 3480.0 7238.0\n",
      "Host correction...\n",
      "2006cp sn2006cp-20060604.24-fast.flm 32.7737115032 0.98 None -6.46 cfa 53890.24 3458.0 7194.0\n",
      "Host correction...\n",
      "2006gr sn2006gr-20060928.18-fast.flm 26.9808197936 0.81 None -6.22 cfa 54006.18 3410.0 7114.0\n",
      "Host correction...\n",
      "2006le sn2006le-20061101.43-fast.flm 34.9020405157 0.88 None -6.97 cfa 54040.43 3468.0 7236.0\n",
      "Host correction...\n",
      "2006oa sn2006oa-20061121.09-fast.flm 9.95665404683 0.89 None -6.11 cfa 54060.09 3334.0 6946.0\n",
      "Host correction...\n",
      "2007le sn2007le-20071019.21-fast.flm 84.7688466286 1.01 None -6.49 cfa 54392.21 3502.0 7318.0\n",
      "Host correction...\n",
      "2008hv SN08hv_081210_r01_NTT_EF.dat 61.0652850142 None 1.11901047681 -6.03000000026 csp 54810.32 5226.0 9046.0\n",
      "Host correction...\n",
      "2008hv SN08hv_081210_b01_NTT_EF.dat 67.5745153668 None 1.11901047681 -6.04000000004 csp 54810.31 3310.0 5880.0\n",
      "Host correction...\n",
      "2005cf sn2005cf-20050606.7-uvot.flm 79.3566822555 1.1 None -6.7 uv 53527.0 2038.0 9608.0\n",
      "Host correction...\n",
      "2012ht sn2012ht-20121228.32-fixedbg-swift.flm 3.75530014238 1.39 None -6.3 swift_uv None 1946.0 6708.0\n",
      "Host correction...\n",
      "41 SNs with host corrections\n",
      "Creating composite...\n",
      "Done.\n",
      "Bootstrapping\n",
      "scaling boots...\n",
      "plotting...\n",
      "computing confidence intervals...\n"
     ]
    }
   ],
   "source": [
    "comps_max_spliced, sn_arrays_spliced, boot_sn_arrays_spliced = query_db.main(len(query_max), query_max, boot='b', medmean=1, selection = 'max_coverage_splice')"
   ]
  },
  {
   "cell_type": "code",
   "execution_count": 39,
   "metadata": {
    "collapsed": true
   },
   "outputs": [],
   "source": [
    "query_db.set_min_num_spec([comps_max[0], comps_max_spliced[0]], 1)\n",
    "# comparison_plot(comps_host_max)\n",
    "query_db.comparison_plot([comps_max[0], comps_max_spliced[0]], scale_type=False)"
   ]
  },
  {
   "cell_type": "code",
   "execution_count": 27,
   "metadata": {
    "collapsed": false
   },
   "outputs": [
    {
     "name": "stdout",
     "output_type": "stream",
     "text": [
      "SQL Query: SELECT * from Supernovae inner join Photometry ON Supernovae.SN = Photometry.SN and phase >= -7 and phase < -6\n",
      "Collecting data...\n",
      "61 spectra found\n",
      "153 questionable files currently ignored\n",
      "3 questionable spectra removed 58 spectra left\n",
      "1 Peculiar Ias removed 57 spectra left\n",
      "40 SNs with host corrections\n",
      "Arrays cleaned\n",
      "153 questionable files currently ignored\n",
      "1 spectra with nan ivars removed 39 spectra left\n",
      "1994d sn1994d-19940315.flm 94.114075122 1.37 None -6.32 bsnip 49426.0 3284.0 7216.0\n",
      "Host correction...\n",
      "1995ac sn1995ac-19950926-uoi.flm 11.0580910033 0.77 None -6.34 bsnip 49986.406 3098.0 9902.0\n",
      "Host correction...\n",
      "1999dk sn1999dk-19990817-ui.flm 55.0112411584 None 0.893643877201 -6.6 bsnip 51407.376 3342.0 10346.0\n",
      "Host correction...\n",
      "2002cr sn2002cr-20020508.21-fast.flm 67.0658339256 1.19 None -6.39 cfa 52402.21 3736.0 7422.0\n",
      "Host correction...\n",
      "2002hw sn2002hw-20021111-br.flm 42.7660070151 1.44 None -6.27 bsnip 52589.0 3092.0 9196.0\n",
      "Host correction...\n",
      "2004dt sn2004dt-20040816.413-ui-corrected.flm 30.481639234 1.14 None -6.46 bsnip 53233.413 3306.0 10150.0\n",
      "Host correction...\n",
      "2005el sn2005el-20050926.496-ui-corrected.flm 48.6306501119 1.27 None -6.7 bsnip 53639.496 3308.0 10296.0\n",
      "Host correction...\n",
      "2005eq sn2005eq-20051004.512-ui.flm 11.3607143678 0.88 None -6.01 bsnip 53647.512 3280.0 10156.0\n",
      "Host correction...\n",
      "2007ci sn2007ci-20070519.316-ui.flm 0.515576 1.6 None -6.57 bsnip 54239.316 3418.0 9926.0\n",
      "Host correction...\n",
      "2007qe sn2007qe-20071118.104-ui.flm 0.480642 1.03 None -6.54 bsnip 54422.104 3296.0 10372.0\n",
      "Host correction...\n",
      "1997bq sn1997bq-19970413.22-fast.flm 37.0289236433 1.14 None -6.68 cfa 50551.22 3716.0 7442.0\n",
      "Host correction...\n",
      "1997br sn1997br-19970414.31-fast.flm 61.1051497983 1.09 None -6.99000000001 cfa 50552.31 3730.0 7470.0\n",
      "Host correction...\n",
      "1997do sn1997do-19971107.51-fast.flm 68.0110746478 0.94 None -6.59 cfa 50759.51 3734.0 7416.0\n",
      "Host correction...\n",
      "1998de sn1998de-19980726.47-fast.flm 22.3068615579 1.88 None -6.23 cfa 51020.47 3710.0 7370.0\n",
      "Host correction...\n",
      "1998es sn1998es-19981119.28-fast.flm 61.9908998621 0.85 None -6.42 cfa 51136.28 3436.0 7136.0\n",
      "Host correction...\n",
      "1999aa sn1999aa-19990217.26-fast.flm 40.2030992289 0.78 None -6.14 cfa 51226.26 3442.0 7068.0\n",
      "Host correction...\n",
      "1999dq sn1999dq-19990908.48-fast.flm 76.6786684406 0.86 None -6.52 cfa 51429.48 3718.0 7384.0\n",
      "Host correction...\n",
      "2001cp sn2001cp-20010621.45-fast.flm 12.9686398185 0.88 None -6.95 cfa 52081.45 3690.0 7326.0\n",
      "Host correction...\n",
      "2001v sn2001V-20010226.30-fast.flm 32.9782743533 0.82 None -6.5 cfa 51966.3 3716.0 7380.0\n",
      "Host correction...\n",
      "2002bo sn2002bo-20020317.35-fast.flm 77.1776562379 1.08 None -6.35 cfa 52350.35 3756.0 7460.0\n",
      "Host correction...\n",
      "2002cd sn2002cd-20020412.49-fast.flm 17.5241015798 0.84 None -6.71 cfa 52376.49 3732.0 7394.0\n",
      "Host correction...\n",
      "2002de sn2002de-20020602.24-fast.flm 9.60141882387 0.96 None -6.26 cfa 52427.24 3670.0 7286.0\n",
      "Host correction...\n",
      "2002dj sn2002dj-20020619.18-fast.flm 45.6749271333 1.19 None -6.42 cfa 52444.18 3736.0 7440.0\n",
      "Host correction...\n",
      "2003cg 2003cg_20030325_3720_9153_00.dat 40.5335391367 1.26 None -6.4 other 52723.0 3756.0 9066.0\n",
      "Host correction...\n",
      "2003fa sn2003fa-20030609.38-fast.flm 10.2603537419 0.8 None -6.82 cfa 52799.38 3626.0 7198.0\n",
      "Host correction...\n",
      "2003w sn2003W-20030203.33-fast.flm 26.7469336013 1.14 None -6.37 cfa 52673.33 3698.0 7344.0\n",
      "Host correction...\n",
      "2004as sn2004as-20040315.31-fast.flm 25.1470450462 0.92 None -6.09 cfa 53079.31 3660.0 7264.0\n",
      "Host correction...\n",
      "2004ef sn2004ef-20040909.24-fast.flm 14.8600517453 1.39 None -6.46 cfa 53257.24 3494.0 7198.0\n",
      "Host correction...\n",
      "2004fu sn2004fu-20041110.17-fast.flm 39.8557021596 1.08 None -6.43 cfa 53319.17 3500.0 7294.0\n",
      "Host correction...\n",
      "2005iq sn2005iq-20051107.21-fast.flm 13.975098704 1.19 None -6.19 cfa 53681.21 3430.0 7128.0\n",
      "Host correction...\n",
      "2006ax sn2006ax-20060326.29-fast.flm 55.2534475195 1.06 None -6.51 cfa 53820.29 3480.0 7238.0\n",
      "Host correction...\n",
      "2006cp sn2006cp-20060604.24-fast.flm 32.7737115032 0.98 None -6.46 cfa 53890.24 3458.0 7194.0\n",
      "Host correction...\n",
      "2006gr sn2006gr-20060928.18-fast.flm 26.9808197936 0.81 None -6.22 cfa 54006.18 3410.0 7114.0\n",
      "Host correction...\n",
      "2006le sn2006le-20061101.43-fast.flm 34.9020405157 0.88 None -6.97 cfa 54040.43 3468.0 7236.0\n",
      "Host correction...\n",
      "2006oa sn2006oa-20061121.09-fast.flm 9.95665404683 0.89 None -6.11 cfa 54060.09 3334.0 6946.0\n",
      "Host correction...\n",
      "2007le sn2007le-20071019.21-fast.flm 84.7688466286 1.01 None -6.49 cfa 54392.21 3502.0 7318.0\n",
      "Host correction...\n",
      "2008hv SN08hv_081210_b01_NTT_EF.dat 67.5745153668 None 1.11901047681 -6.04000000004 csp 54810.31 3310.0 5880.0\n",
      "Host correction...\n",
      "2005cf 2005cf_20050606_3200_9720_00.dat 95.8550359195 1.1 None -6.7 other 53527.0 3230.0 9610.0\n",
      "Host correction...\n",
      "2012ht sn2012ht-20121228.32-fixedbg-swift.flm 3.75530014238 1.39 None -6.3 swift_uv None 1946.0 6708.0\n",
      "Host correction...\n",
      "39 SNs with host corrections\n",
      "Creating composite...\n",
      "Done.\n",
      "Bootstrapping\n",
      "scaling boots...\n",
      "plotting...\n",
      "computing confidence intervals...\n"
     ]
    }
   ],
   "source": [
    "comps_max_phase, sn_arrays_phase, boot_sn_arrays_phase = query_db.main(len(query_max), query_max, boot='b', medmean=1, selection = 'accurate_phase')"
   ]
  },
  {
   "cell_type": "code",
   "execution_count": 28,
   "metadata": {
    "collapsed": true
   },
   "outputs": [],
   "source": [
    "query_db.set_min_num_spec([comps_max[0], comps_max_phase[0]], 1)\n",
    "# comparison_plot(comps_host_max)\n",
    "query_db.comparison_plot([comps_max[0], comps_max_phase[0]])"
   ]
  },
  {
   "cell_type": "code",
   "execution_count": 29,
   "metadata": {
    "collapsed": false
   },
   "outputs": [
    {
     "name": "stdout",
     "output_type": "stream",
     "text": [
      "SQL Query: SELECT * from Supernovae inner join Photometry ON Supernovae.SN = Photometry.SN and phase >= -7 and phase < -6\n",
      "Collecting data...\n",
      "61 spectra found\n",
      "153 questionable files currently ignored\n",
      "2 questionable spectra removed 59 spectra left\n",
      "1 Peculiar Ias removed 58 spectra left\n",
      "41 SNs with host corrections\n",
      "Arrays cleaned\n",
      "153 questionable files currently ignored\n",
      "1 spectra with nan ivars removed 40 spectra left\n",
      "1994d sn1994d-19940315.flm 94.114075122 1.37 None -6.32 bsnip 49426.0 3284.0 7216.0\n",
      "Host correction...\n",
      "1995ac sn1995ac-19950926-uoi.flm 11.0580910033 0.77 None -6.34 bsnip 49986.406 3098.0 9902.0\n",
      "Host correction...\n",
      "1999dk sn1999dk-19990817-ui.flm 55.0112411584 None 0.893643877201 -6.6 bsnip 51407.376 3342.0 10346.0\n",
      "Host correction...\n",
      "2002cr sn2002cr-20020508.21-fast.flm 67.0658339256 1.19 None -6.39 cfa 52402.21 3736.0 7422.0\n",
      "Host correction...\n",
      "2002hw sn2002hw-20021111-br.flm 42.7660070151 1.44 None -6.27 bsnip 52589.0 3092.0 9196.0\n",
      "Host correction...\n",
      "2004dt sn2004dt-20040816.413-ui-corrected.flm 30.481639234 1.14 None -6.46 bsnip 53233.413 3306.0 10150.0\n",
      "Host correction...\n",
      "2005el SN05el_050927_b01_DUP_WF.dat 59.9892567029 1.27 None -6.25 csp 53640.34 3796.0 9050.0\n",
      "Host correction...\n",
      "2005eq sn2005eq-20051004.512-ui.flm 11.3607143678 0.88 None -6.01 bsnip 53647.512 3280.0 10156.0\n",
      "Host correction...\n",
      "2006lf sn2006lf-20061030.420-ui-corrected.flm 38.1207811201 1.3 None -6.3 bsnip 54038.42 3336.0 10314.0\n",
      "Host correction...\n",
      "2007ci sn2007ci-20070520.20-fast.flm 26.7680900161 1.6 None -6.2 cfa 54240.2 3474.0 7238.0\n",
      "Host correction...\n",
      "2007qe sn2007qe-20071118.104-ui.flm 0.480642 1.03 None -6.54 bsnip 54422.104 3296.0 10372.0\n",
      "Host correction...\n",
      "1997bq sn1997bq-19970413.22-fast.flm 37.0289236433 1.14 None -6.68 cfa 50551.22 3716.0 7442.0\n",
      "Host correction...\n",
      "1997br sn1997br-19970414.31-fast.flm 61.1051497983 1.09 None -6.99000000001 cfa 50552.31 3730.0 7470.0\n",
      "Host correction...\n",
      "1997do sn1997do-19971107.51-fast.flm 68.0110746478 0.94 None -6.59 cfa 50759.51 3734.0 7416.0\n",
      "Host correction...\n",
      "1998de sn1998de-19980726.47-fast.flm 22.3068615579 1.88 None -6.23 cfa 51020.47 3710.0 7370.0\n",
      "Host correction...\n",
      "1998es sn1998es-19981119.28-fast.flm 61.9908998621 0.85 None -6.42 cfa 51136.28 3436.0 7136.0\n",
      "Host correction...\n",
      "1999aa sn1999aa-19990217.26-fast.flm 40.2030992289 0.78 None -6.14 cfa 51226.26 3442.0 7068.0\n",
      "Host correction...\n",
      "1999dq sn1999dq-19990908.48-fast.flm 76.6786684406 0.86 None -6.52 cfa 51429.48 3718.0 7384.0\n",
      "Host correction...\n",
      "2001cp sn2001cp-20010621.45-fast.flm 12.9686398185 0.88 None -6.95 cfa 52081.45 3690.0 7326.0\n",
      "Host correction...\n",
      "2001v sn2001V-20010226.30-fast.flm 32.9782743533 0.82 None -6.5 cfa 51966.3 3716.0 7380.0\n",
      "Host correction...\n",
      "2002bo sn2002bo-20020317.35-fast.flm 77.1776562379 1.08 None -6.35 cfa 52350.35 3756.0 7460.0\n",
      "Host correction...\n",
      "2002cd sn2002cd-20020412.49-fast.flm 17.5241015798 0.84 None -6.71 cfa 52376.49 3732.0 7394.0\n",
      "Host correction...\n",
      "2002de sn2002de-20020602.24-fast.flm 9.60141882387 0.96 None -6.26 cfa 52427.24 3670.0 7286.0\n",
      "Host correction...\n",
      "2002dj sn2002dj-20020619.18-fast.flm 45.6749271333 1.19 None -6.42 cfa 52444.18 3736.0 7440.0\n",
      "Host correction...\n",
      "2003cg sn2003cg-20030325.24-fast.flm 43.0894177806 1.26 None -6.16 cfa 52723.24 3756.0 7460.0\n",
      "Host correction...\n",
      "2003fa sn2003fa-20030609.38-fast.flm 10.2603537419 0.8 None -6.82 cfa 52799.38 3626.0 7198.0\n",
      "Host correction...\n",
      "2003w sn2003W-20030203.33-fast.flm 26.7469336013 1.14 None -6.37 cfa 52673.33 3698.0 7344.0\n",
      "Host correction...\n",
      "2004as sn2004as-20040315.31-fast.flm 25.1470450462 0.92 None -6.09 cfa 53079.31 3660.0 7264.0\n",
      "Host correction...\n",
      "2004ef SN04ef_040909_b01_CLA_LD.dat 20.5815654338 1.39 None -6.18999999994 csp 53257.27 3592.0 6596.0\n",
      "Host correction...\n",
      "2004fu sn2004fu-20041110.17-fast.flm 39.8557021596 1.08 None -6.43 cfa 53319.17 3500.0 7294.0\n",
      "Host correction...\n",
      "2005iq sn2005iq-20051107.21-fast.flm 13.975098704 1.19 None -6.19 cfa 53681.21 3430.0 7128.0\n",
      "Host correction...\n",
      "2006ax sn2006ax-20060326.29-fast.flm 55.2534475195 1.06 None -6.51 cfa 53820.29 3480.0 7238.0\n",
      "Host correction...\n",
      "2006cp sn2006cp-20060604.24-fast.flm 32.7737115032 0.98 None -6.46 cfa 53890.24 3458.0 7194.0\n",
      "Host correction...\n",
      "2006gr sn2006gr-20060928.18-fast.flm 26.9808197936 0.81 None -6.22 cfa 54006.18 3410.0 7114.0\n",
      "Host correction...\n",
      "2006le sn2006le-20061101.43-fast.flm 34.9020405157 0.88 None -6.97 cfa 54040.43 3468.0 7236.0\n",
      "Host correction...\n",
      "2006oa sn2006oa-20061121.09-fast.flm 9.95665404683 0.89 None -6.11 cfa 54060.09 3334.0 6946.0\n",
      "Host correction...\n",
      "2007le sn2007le-20071019.21-fast.flm 84.7688466286 1.01 None -6.49 cfa 54392.21 3502.0 7318.0\n",
      "Host correction...\n",
      "2008hv SN08hv_081210_b01_NTT_EF.dat 67.5745153668 None 1.11901047681 -6.04000000004 csp 54810.31 3310.0 5880.0\n",
      "Host correction...\n",
      "2005cf 2005cf_20050606_3200_9720_00.dat 95.8550359195 1.1 None -6.7 other 53527.0 3230.0 9610.0\n",
      "Host correction...\n",
      "2012ht sn2012ht-20121228.32-fixedbg-swift.flm 3.75530014238 1.39 None -6.3 swift_uv None 1946.0 6708.0\n",
      "Host correction...\n",
      "40 SNs with host corrections\n",
      "Creating composite...\n",
      "Done.\n",
      "Bootstrapping\n",
      "scaling boots...\n",
      "plotting...\n",
      "computing confidence intervals...\n"
     ]
    }
   ],
   "source": [
    "comps_max_snr, sn_arrays_snr, boot_sn_arrays_snr = query_db.main(len(query_max), query_max, boot='b', medmean=1, selection = 'max_snr')"
   ]
  },
  {
   "cell_type": "code",
   "execution_count": 30,
   "metadata": {
    "collapsed": true
   },
   "outputs": [],
   "source": [
    "query_db.set_min_num_spec([comps_max[0], comps_max_snr[0]], 1)\n",
    "query_db.comparison_plot([comps_max[0], comps_max_snr[0]], scale_type=False)"
   ]
  },
  {
   "cell_type": "code",
   "execution_count": 6,
   "metadata": {
    "collapsed": false
   },
   "outputs": [
    {
     "name": "stdout",
     "output_type": "stream",
     "text": [
      "SQL Query: SELECT * from Supernovae inner join Photometry ON Supernovae.SN = Photometry.SN and phase >= -7 and phase < -6\n",
      "Collecting data...\n",
      "61 spectra found\n",
      "153 questionable files currently ignored\n",
      "2 questionable spectra removed 59 spectra left\n",
      "1 Peculiar Ias removed 58 spectra left\n",
      "41 SNs with host corrections\n",
      "Arrays cleaned\n",
      "153 questionable files currently ignored\n",
      "1 spectra with nan ivars removed 40 spectra left\n",
      "1994d sn1994D-19940315.36-mmt.flm 74.9928587537 1.37 None -6.14 cfa 49426.36 3604.0 7900.0\n",
      "Host correction...\n",
      "1995ac sn1995ac-19950926-uoi.flm 11.0580910033 0.77 None -6.34 bsnip 49986.406 3098.0 9902.0\n",
      "Host correction...\n",
      "1999dk sn1999dk-19990817-ui.flm 55.0112411584 None 0.893643877201 -6.6 bsnip 51407.376 3342.0 10346.0\n",
      "Host correction...\n",
      "2002cr sn2002cr-20020507-ui-corrected.flm 49.5899013369 1.19 None -6.78 bsnip 52401.354 3320.0 10254.0\n",
      "Host correction...\n",
      "2002hw sn2002hw-20021111-br.flm 42.7660070151 1.44 None -6.27 bsnip 52589.0 3092.0 9196.0\n",
      "Host correction...\n",
      "2004dt sn2004dt-20040816.413-ui-corrected.flm 30.481639234 1.14 None -6.46 bsnip 53233.413 3306.0 10150.0\n",
      "Host correction...\n",
      "2005el sn2005el-20050926.496-ui-corrected.flm 48.6306501119 1.27 None -6.7 bsnip 53639.496 3308.0 10296.0\n",
      "Host correction...\n",
      "2005eq sn2005eq-20051004.512-ui.flm 11.3607143678 0.88 None -6.01 bsnip 53647.512 3280.0 10156.0\n",
      "Host correction...\n",
      "2006lf sn2006lf-20061030.420-ui-corrected.flm 38.1207811201 1.3 None -6.3 bsnip 54038.42 3336.0 10314.0\n",
      "Host correction...\n",
      "2007ci sn2007ci-20070519.316-ui.flm 0.515576 1.6 None -6.57 bsnip 54239.316 3418.0 9926.0\n",
      "Host correction...\n",
      "2007qe sn2007qe-20071118.104-ui.flm 0.480642 1.03 None -6.54 bsnip 54422.104 3296.0 10372.0\n",
      "Host correction...\n",
      "1997bq sn1997bq-19970413.22-fast.flm 37.0289236433 1.14 None -6.68 cfa 50551.22 3716.0 7442.0\n",
      "Host correction...\n",
      "1997br sn1997br-19970414.31-fast.flm 61.1051497983 1.09 None -6.99000000001 cfa 50552.31 3730.0 7470.0\n",
      "Host correction...\n",
      "1997do sn1997do-19971107.51-fast.flm 68.0110746478 0.94 None -6.59 cfa 50759.51 3734.0 7416.0\n",
      "Host correction...\n",
      "1998de sn1998de-19980726.47-fast.flm 22.3068615579 1.88 None -6.23 cfa 51020.47 3710.0 7370.0\n",
      "Host correction...\n",
      "1998es sn1998es-19981119.28-fast.flm 61.9908998621 0.85 None -6.42 cfa 51136.28 3436.0 7136.0\n",
      "Host correction...\n",
      "1999aa sn1999aa-19990217.26-fast.flm 40.2030992289 0.78 None -6.14 cfa 51226.26 3442.0 7068.0\n",
      "Host correction...\n",
      "1999dq sn1999dq-19990908.48-fast.flm 76.6786684406 0.86 None -6.52 cfa 51429.48 3718.0 7384.0\n",
      "Host correction...\n",
      "2001cp sn2001cp-20010621.45-fast.flm 12.9686398185 0.88 None -6.95 cfa 52081.45 3690.0 7326.0\n",
      "Host correction...\n",
      "2001v sn2001V-20010226.30-fast.flm 32.9782743533 0.82 None -6.5 cfa 51966.3 3716.0 7380.0\n",
      "Host correction...\n",
      "2002bo sn2002bo-20020317.35-fast.flm 77.1776562379 1.08 None -6.35 cfa 52350.35 3756.0 7460.0\n",
      "Host correction...\n",
      "2002cd sn2002cd-20020412.49-fast.flm 17.5241015798 0.84 None -6.71 cfa 52376.49 3732.0 7394.0\n",
      "Host correction...\n",
      "2002de sn2002de-20020602.24-fast.flm 9.60141882387 0.96 None -6.26 cfa 52427.24 3670.0 7286.0\n",
      "Host correction...\n",
      "2002dj sn2002dj-20020619.18-fast.flm 45.6749271333 1.19 None -6.42 cfa 52444.18 3736.0 7440.0\n",
      "Host correction...\n",
      "2003cg 2003cg_20030325_3720_9153_00.dat 40.5335391367 1.26 None -6.4 other 52723.0 3756.0 9066.0\n",
      "Host correction...\n",
      "2003fa sn2003fa-20030609.38-fast.flm 10.2603537419 0.8 None -6.82 cfa 52799.38 3626.0 7198.0\n",
      "Host correction...\n",
      "2003w sn2003W-20030203.33-fast.flm 26.7469336013 1.14 None -6.37 cfa 52673.33 3698.0 7344.0\n",
      "Host correction...\n",
      "2004as sn2004as-20040315.31-fast.flm 25.1470450462 0.92 None -6.09 cfa 53079.31 3660.0 7264.0\n",
      "Host correction...\n",
      "2004ef sn2004ef-20040909.24-fast.flm 14.8600517453 1.39 None -6.46 cfa 53257.24 3494.0 7198.0\n",
      "Host correction...\n",
      "2004fu sn2004fu-20041110.17-fast.flm 39.8557021596 1.08 None -6.43 cfa 53319.17 3500.0 7294.0\n",
      "Host correction...\n",
      "2005iq sn2005iq-20051107.21-fast.flm 13.975098704 1.19 None -6.19 cfa 53681.21 3430.0 7128.0\n",
      "Host correction...\n",
      "2006ax sn2006ax-20060326.29-fast.flm 55.2534475195 1.06 None -6.51 cfa 53820.29 3480.0 7238.0\n",
      "Host correction...\n",
      "2006cp sn2006cp-20060604.24-fast.flm 32.7737115032 0.98 None -6.46 cfa 53890.24 3458.0 7194.0\n",
      "Host correction...\n",
      "2006gr sn2006gr-20060928.18-fast.flm 26.9808197936 0.81 None -6.22 cfa 54006.18 3410.0 7114.0\n",
      "Host correction...\n",
      "2006le sn2006le-20061101.43-fast.flm 34.9020405157 0.88 None -6.97 cfa 54040.43 3468.0 7236.0\n",
      "Host correction...\n",
      "2006oa sn2006oa-20061121.09-fast.flm 9.95665404683 0.89 None -6.11 cfa 54060.09 3334.0 6946.0\n",
      "Host correction...\n",
      "2007le sn2007le-20071019.21-fast.flm 84.7688466286 1.01 None -6.49 cfa 54392.21 3502.0 7318.0\n",
      "Host correction...\n",
      "2008hv SN08hv_081210_r01_NTT_EF.dat 61.0652850142 None 1.11901047681 -6.03000000026 csp 54810.32 5226.0 9046.0\n",
      "Host correction...\n",
      "2005cf sn2005cf-20050606.7-uvot.flm 79.3566822555 1.1 None -6.7 uv 53527.0 2038.0 9608.0\n",
      "Host correction...\n",
      "2012ht sn2012ht-20121228.32-fixedbg-swift.flm 3.75530014238 1.39 None -6.3 swift_uv None 1946.0 6708.0\n",
      "Host correction...\n",
      "40 SNs with host corrections\n",
      "Creating composite...\n"
     ]
    },
    {
     "name": "stderr",
     "output_type": "stream",
     "text": [
      "C:\\Program Files\\Anaconda2\\lib\\site-packages\\numpy\\lib\\nanfunctions.py:769: RuntimeWarning: All-NaN slice encountered\n",
      "  warnings.warn(\"All-NaN slice encountered\", RuntimeWarning)\n"
     ]
    },
    {
     "name": "stdout",
     "output_type": "stream",
     "text": [
      "Done.\n",
      "Bootstrapping\n",
      "scaling boots...\n",
      "plotting...\n",
      "computing confidence intervals...\n"
     ]
    }
   ],
   "source": [
    "comps_max_med, sn_arrays_med, boot_sn_arrays_med = query_db.main(len(query_max), query_max, boot='b', medmean=2, selection = 'max_coverage')"
   ]
  },
  {
   "cell_type": "code",
   "execution_count": 40,
   "metadata": {
    "collapsed": false
   },
   "outputs": [],
   "source": [
    "query_db.set_min_num_spec([comps_max[0], comps_max_med[0]], 1)\n",
    "query_db.comparison_plot([comps_max[0], comps_max_med[0]], scale_type=False)"
   ]
  },
  {
   "cell_type": "code",
   "execution_count": 10,
   "metadata": {
    "collapsed": false
   },
   "outputs": [],
   "source": [
    "query_max_lim = [\"SELECT * from Supernovae inner join Photometry ON Supernovae.SN = Photometry.SN and phase >= -7 and phase < -4 and ((dm15_source > 1.1 and dm15_source < 1.2) or (dm15_from_fits > 1.1 and dm15_from_fits < 1.2))\"]"
   ]
  },
  {
   "cell_type": "code",
   "execution_count": 11,
   "metadata": {
    "collapsed": false
   },
   "outputs": [
    {
     "name": "stdout",
     "output_type": "stream",
     "text": [
      "SQL Query: SELECT * from Supernovae inner join Photometry ON Supernovae.SN = Photometry.SN and phase >= -7 and phase < -4 and ((dm15_source > 1.1 and dm15_source < 1.2) or (dm15_from_fits > 1.1 and dm15_from_fits < 1.2))\n",
      "Collecting data...\n",
      "ERROR:  sn2007jg-20070918-not.dat None\n",
      "13 spectra found\n",
      "153 questionable files currently ignored\n",
      "0 questionable spectra removed 13 spectra left\n",
      "0 Peculiar Ias removed 13 spectra left\n",
      "12 SNs with host corrections\n",
      "Arrays cleaned\n",
      "153 questionable files currently ignored\n",
      "0 spectra with nan ivars removed 12 spectra left\n",
      "2002cr sn2002cr-20020507-ui-corrected.flm 49.5899013369 1.19 None -6.78 bsnip 52401.354 3320.0 10254.0\n",
      "Host correction...\n",
      "2003w sn2003W-20030204-ui.flm 19.4479814533 1.14 None -5.06 bsnip 52674.339 3092.0 10146.0\n",
      "Host correction...\n",
      "2004dt sn2004dt-20040816.413-ui-corrected.flm 30.481639234 1.14 None -6.46 bsnip 53233.413 3306.0 10150.0\n",
      "Host correction...\n",
      "2005iq sn2005iq-20051107.215-deimos.flm 37.947799231 1.19 None -5.86 bsnip 53681.215 4790.0 9680.0\n",
      "Host correction...\n",
      "2007co sn2007co-20070609.398-ui-corrected.flm 29.2711524525 1.16 None -4.09 bsnip 54260.398 3274.0 10176.0\n",
      "Host correction...\n",
      "1997bq sn1997bq-19970413.22-fast.flm 37.0289236433 1.14 None -6.68 cfa 50551.22 3716.0 7442.0\n",
      "Host correction...\n",
      "1998dh sn1998dh-19980730.44-fast.flm 53.0392552075 1.17 None -5.46 cfa 51024.44 3738.0 7424.0\n",
      "Host correction...\n",
      "1999cl sn1999cl-19990608.24-fast.flm 96.4559657769 1.17 None -5.26 cfa 51337.24 3554.0 7058.0\n",
      "Host correction...\n",
      "2002dj 2002dj_20020620_3210_9231_00.dat 48.5329628247 1.19 None -5.6 other 52445.0 3232.0 9096.0\n",
      "Host correction...\n",
      "2002dp sn2002dp-20020620.47-fast.flm 48.5602097903 1.12 None -4.83 cfa 52445.47 3728.0 7424.0\n",
      "Host correction...\n",
      "2003kc sn2003kc-20031128.53-fast.flm 12.3069148256 None 1.1265951925 -5.87 cfa 52971.53 3652.0 7250.0\n",
      "Host correction...\n",
      "2008hv SN08hv_081210_r01_NTT_EF.dat 61.0652850142 None 1.11901047681 -6.03000000026 csp 54810.32 5226.0 9046.0\n",
      "Host correction...\n",
      "12 SNs with host corrections\n",
      "Creating composite...\n",
      "Done.\n",
      "Bootstrapping\n",
      "scaling boots...\n",
      "plotting...\n",
      "computing confidence intervals...\n"
     ]
    }
   ],
   "source": [
    "comps_max_lim, sn_arrays_lim, boot_sn_arrays_lim = query_db.main(len(query_max_lim), query_max_lim, boot='b', medmean=1, selection = 'max_coverage')"
   ]
  },
  {
   "cell_type": "code",
   "execution_count": 31,
   "metadata": {
    "collapsed": false
   },
   "outputs": [
    {
     "name": "stdout",
     "output_type": "stream",
     "text": [
      "SQL Query: SELECT * from Supernovae inner join Photometry ON Supernovae.SN = Photometry.SN and phase >= -7 and phase < -4 and ((dm15_source > 1.1 and dm15_source < 1.2) or (dm15_from_fits > 1.1 and dm15_from_fits < 1.2))\n",
      "Collecting data...\n",
      "ERROR:  sn2007jg-20070918-not.dat None\n",
      "15 spectra found\n",
      "153 questionable files currently ignored\n",
      "0 questionable spectra removed 15 spectra left\n",
      "0 Peculiar Ias removed 15 spectra left\n",
      "14 SNs with host corrections\n",
      "Arrays cleaned\n",
      "153 questionable files currently ignored\n",
      "0 spectra with nan ivars removed 14 spectra left\n",
      "2002cr sn2002cr-20020507-ui-corrected.flm 49.5899013369 1.19 None -6.78 bsnip 52401.354 3320.0 10254.0\n",
      "Host correction...\n",
      "2003w sn2003W-20030204-ui.flm 19.4479814533 1.14 None -5.06 bsnip 52674.339 3092.0 10146.0\n",
      "Host correction...\n",
      "2004dt sn2004dt-20040816.413-ui-corrected.flm 30.481639234 1.14 None -6.46 bsnip 53233.413 3306.0 10150.0\n",
      "Host correction...\n",
      "2005iq sn2005iq-20051107.215-deimos.flm 37.947799231 1.19 None -5.86 bsnip 53681.215 4790.0 9680.0\n",
      "Host correction...\n",
      "2005iq sn2005iq-20051107.21-fast.flm 13.975098704 1.19 None -6.19 cfa 53681.21 3430.0 7128.0\n",
      "Host correction...\n",
      "2007co sn2007co-20070609.398-ui-corrected.flm 29.2711524525 1.16 None -4.09 bsnip 54260.398 3274.0 10176.0\n",
      "Host correction...\n",
      "1997bq sn1997bq-19970413.22-fast.flm 37.0289236433 1.14 None -6.68 cfa 50551.22 3716.0 7442.0\n",
      "Host correction...\n",
      "1998dh sn1998dh-19980730.44-fast.flm 53.0392552075 1.17 None -5.46 cfa 51024.44 3738.0 7424.0\n",
      "Host correction...\n",
      "1999cl sn1999cl-19990608.24-fast.flm 96.4559657769 1.17 None -5.26 cfa 51337.24 3554.0 7058.0\n",
      "Host correction...\n",
      "2002dj 2002dj_20020620_3210_9231_00.dat 48.5329628247 1.19 None -5.6 other 52445.0 3232.0 9096.0\n",
      "Host correction...\n",
      "2002dp sn2002dp-20020620.47-fast.flm 48.5602097903 1.12 None -4.83 cfa 52445.47 3728.0 7424.0\n",
      "Host correction...\n",
      "2003kc sn2003kc-20031128.53-fast.flm 12.3069148256 None 1.1265951925 -5.87 cfa 52971.53 3652.0 7250.0\n",
      "Host correction...\n",
      "2008hv SN08hv_081210_r01_NTT_EF.dat 61.0652850142 None 1.11901047681 -6.03000000026 csp 54810.32 5226.0 9046.0\n",
      "Host correction...\n",
      "2008hv SN08hv_081210_b01_NTT_EF.dat 67.5745153668 None 1.11901047681 -6.04000000004 csp 54810.31 3310.0 5880.0\n",
      "Host correction...\n",
      "14 SNs with host corrections\n",
      "Creating composite...\n",
      "Done.\n",
      "Bootstrapping\n",
      "scaling boots...\n",
      "plotting...\n",
      "computing confidence intervals...\n"
     ]
    }
   ],
   "source": [
    "comps_max_lim_spliced, sn_arrays_lim_spliced, boot_sn_arrays_lim_spliced = query_db.main(len(query_max_lim), query_max_lim, boot='b', medmean=1, selection = 'max_coverage_splice')"
   ]
  },
  {
   "cell_type": "code",
   "execution_count": 32,
   "metadata": {
    "collapsed": false
   },
   "outputs": [],
   "source": [
    "query_db.set_min_num_spec([comps_max_lim[0], comps_max_lim_spliced[0]], 1)\n",
    "query_db.comparison_plot([comps_max_lim[0], comps_max_lim_spliced[0]], scale_type=False)"
   ]
  },
  {
   "cell_type": "code",
   "execution_count": 33,
   "metadata": {
    "collapsed": false
   },
   "outputs": [
    {
     "name": "stdout",
     "output_type": "stream",
     "text": [
      "SQL Query: SELECT * from Supernovae inner join Photometry ON Supernovae.SN = Photometry.SN and phase >= -7 and phase < -4 and ((dm15_source > 1.1 and dm15_source < 1.2) or (dm15_from_fits > 1.1 and dm15_from_fits < 1.2))\n",
      "Collecting data...\n",
      "ERROR:  sn2007jg-20070918-not.dat None\n",
      "13 spectra found\n",
      "153 questionable files currently ignored\n",
      "0 questionable spectra removed 13 spectra left\n",
      "0 Peculiar Ias removed 13 spectra left\n",
      "12 SNs with host corrections\n",
      "Arrays cleaned\n",
      "153 questionable files currently ignored\n",
      "0 spectra with nan ivars removed 12 spectra left\n",
      "2002cr sn2002cr-20020508.21-fast.flm 67.0658339256 1.19 None -6.39 cfa 52402.21 3736.0 7422.0\n",
      "Host correction...\n",
      "2003w sn2003W-20030204.27-fast.flm 23.4546337066 1.14 None -5.43 cfa 52674.27 3698.0 7344.0\n",
      "Host correction...\n",
      "2004dt sn2004dt-20040816.413-ui-corrected.flm 30.481639234 1.14 None -6.46 bsnip 53233.413 3306.0 10150.0\n",
      "Host correction...\n",
      "2005iq sn2005iq-20051107.215-deimos.flm 37.947799231 1.19 None -5.86 bsnip 53681.215 4790.0 9680.0\n",
      "Host correction...\n",
      "2007co sn2007co-20070608.35-fast.flm 23.1710564633 1.16 None -5.25 cfa 54259.35 3436.0 7170.0\n",
      "Host correction...\n",
      "1997bq sn1997bq-19970414.21-fast.flm 59.1488876313 1.14 None -5.69 cfa 50552.21 3716.0 7442.0\n",
      "Host correction...\n",
      "1998dh sn1998dh-19980730.44-fast.flm 53.0392552075 1.17 None -5.46 cfa 51024.44 3738.0 7424.0\n",
      "Host correction...\n",
      "1999cl sn1999cl-19990608.24-fast.flm 96.4559657769 1.17 None -5.26 cfa 51337.24 3554.0 7058.0\n",
      "Host correction...\n",
      "2002dj 2002dj_20020620_3210_9231_00.dat 48.5329628247 1.19 None -5.6 other 52445.0 3232.0 9096.0\n",
      "Host correction...\n",
      "2002dp sn2002dp-20020620.47-fast.flm 48.5602097903 1.12 None -4.83 cfa 52445.47 3728.0 7424.0\n",
      "Host correction...\n",
      "2003kc sn2003kc-20031128.53-fast.flm 12.3069148256 None 1.1265951925 -5.87 cfa 52971.53 3652.0 7250.0\n",
      "Host correction...\n",
      "2008hv SN08hv_081210_r01_NTT_EF.dat 61.0652850142 None 1.11901047681 -6.03000000026 csp 54810.32 5226.0 9046.0\n",
      "Host correction...\n",
      "12 SNs with host corrections\n",
      "Creating composite...\n",
      "Done.\n",
      "Bootstrapping\n",
      "scaling boots...\n",
      "plotting...\n",
      "computing confidence intervals...\n"
     ]
    }
   ],
   "source": [
    "comps_max_lim_phase, sn_arrays_lim_phase, boot_sn_arrays_lim_phase = query_db.main(len(query_max_lim), query_max_lim, boot='b', medmean=1, selection = 'accurate_phase')"
   ]
  },
  {
   "cell_type": "code",
   "execution_count": 35,
   "metadata": {
    "collapsed": false
   },
   "outputs": [],
   "source": [
    "query_db.set_min_num_spec([comps_max_lim[0], comps_max_lim_phase[0]], 1)\n",
    "query_db.comparison_plot([comps_max_lim[0], comps_max_lim_phase[0]], scale_type=False)"
   ]
  },
  {
   "cell_type": "code",
   "execution_count": 36,
   "metadata": {
    "collapsed": false
   },
   "outputs": [
    {
     "name": "stdout",
     "output_type": "stream",
     "text": [
      "SQL Query: SELECT * from Supernovae inner join Photometry ON Supernovae.SN = Photometry.SN and phase >= -7 and phase < -4 and ((dm15_source > 1.1 and dm15_source < 1.2) or (dm15_from_fits > 1.1 and dm15_from_fits < 1.2))\n",
      "Collecting data...\n",
      "ERROR:  sn2007jg-20070918-not.dat None\n",
      "13 spectra found\n",
      "153 questionable files currently ignored\n",
      "0 questionable spectra removed 13 spectra left\n",
      "0 Peculiar Ias removed 13 spectra left\n",
      "12 SNs with host corrections\n",
      "Arrays cleaned\n",
      "153 questionable files currently ignored\n",
      "0 spectra with nan ivars removed 12 spectra left\n",
      "2002cr sn2002cr-20020508.21-fast.flm 67.0658339256 1.19 None -6.39 cfa 52402.21 3736.0 7422.0\n",
      "Host correction...\n",
      "2003w sn2003W-20030203.33-fast.flm 26.7469336013 1.14 None -6.37 cfa 52673.33 3698.0 7344.0\n",
      "Host correction...\n",
      "2004dt sn2004dt-20040816.413-ui-corrected.flm 30.481639234 1.14 None -6.46 bsnip 53233.413 3306.0 10150.0\n",
      "Host correction...\n",
      "2005iq sn2005iq-20051107.215-deimos.flm 37.947799231 1.19 None -5.86 bsnip 53681.215 4790.0 9680.0\n",
      "Host correction...\n",
      "2007co sn2007co-20070609.398-ui-corrected.flm 29.2711524525 1.16 None -4.09 bsnip 54260.398 3274.0 10176.0\n",
      "Host correction...\n",
      "1997bq sn1997bq-19970414.21-fast.flm 59.1488876313 1.14 None -5.69 cfa 50552.21 3716.0 7442.0\n",
      "Host correction...\n",
      "1998dh sn1998dh-19980730.44-fast.flm 53.0392552075 1.17 None -5.46 cfa 51024.44 3738.0 7424.0\n",
      "Host correction...\n",
      "1999cl sn1999cl-19990609.24-fast.flm 108.696403118 1.17 None -4.26 cfa 51338.24 3554.0 7058.0\n",
      "Host correction...\n",
      "2002dj 2002dj_20020620_3210_9231_00.dat 48.5329628247 1.19 None -5.6 other 52445.0 3232.0 9096.0\n",
      "Host correction...\n",
      "2002dp sn2002dp-20020620.47-fast.flm 48.5602097903 1.12 None -4.83 cfa 52445.47 3728.0 7424.0\n",
      "Host correction...\n",
      "2003kc sn2003kc-20031128.53-fast.flm 12.3069148256 None 1.1265951925 -5.87 cfa 52971.53 3652.0 7250.0\n",
      "Host correction...\n",
      "2008hv SN08hv_081210_b01_NTT_EF.dat 67.5745153668 None 1.11901047681 -6.04000000004 csp 54810.31 3310.0 5880.0\n",
      "Host correction...\n",
      "12 SNs with host corrections\n",
      "Creating composite...\n",
      "Done.\n",
      "Bootstrapping\n",
      "scaling boots...\n",
      "plotting...\n",
      "computing confidence intervals...\n"
     ]
    }
   ],
   "source": [
    "comps_max_lim_snr, sn_arrays_lim_snr, boot_sn_arrays_lim_snr = query_db.main(len(query_max_lim), query_max_lim, boot='b', medmean=1, selection = 'max_snr')"
   ]
  },
  {
   "cell_type": "code",
   "execution_count": 37,
   "metadata": {
    "collapsed": true
   },
   "outputs": [],
   "source": [
    "query_db.set_min_num_spec([comps_max_lim[0], comps_max_lim_snr[0]], 1)\n",
    "query_db.comparison_plot([comps_max_lim[0], comps_max_lim_snr[0]], scale_type=False)"
   ]
  },
  {
   "cell_type": "code",
   "execution_count": 15,
   "metadata": {
    "collapsed": false
   },
   "outputs": [
    {
     "name": "stdout",
     "output_type": "stream",
     "text": [
      "SQL Query: SELECT * from Supernovae inner join Photometry ON Supernovae.SN = Photometry.SN and phase >= -7 and phase < -4 and ((dm15_source > 1.1 and dm15_source < 1.2) or (dm15_from_fits > 1.1 and dm15_from_fits < 1.2))\n",
      "Collecting data...\n",
      "ERROR:  sn2007jg-20070918-not.dat None\n",
      "13 spectra found\n",
      "153 questionable files currently ignored\n",
      "0 questionable spectra removed 13 spectra left\n",
      "0 Peculiar Ias removed 13 spectra left\n",
      "12 SNs with host corrections\n",
      "Arrays cleaned\n",
      "153 questionable files currently ignored\n",
      "0 spectra with nan ivars removed 12 spectra left\n",
      "2002cr sn2002cr-20020507-ui-corrected.flm 49.5899013369 1.19 None -6.78 bsnip 52401.354 3320.0 10254.0\n",
      "Host correction...\n",
      "2003w sn2003W-20030204-ui.flm 19.4479814533 1.14 None -5.06 bsnip 52674.339 3092.0 10146.0\n",
      "Host correction...\n",
      "2004dt sn2004dt-20040816.413-ui-corrected.flm 30.481639234 1.14 None -6.46 bsnip 53233.413 3306.0 10150.0\n",
      "Host correction...\n",
      "2005iq sn2005iq-20051107.215-deimos.flm 37.947799231 1.19 None -5.86 bsnip 53681.215 4790.0 9680.0\n",
      "Host correction...\n",
      "2007co sn2007co-20070609.398-ui-corrected.flm 29.2711524525 1.16 None -4.09 bsnip 54260.398 3274.0 10176.0\n",
      "Host correction...\n",
      "1997bq sn1997bq-19970413.22-fast.flm 37.0289236433 1.14 None -6.68 cfa 50551.22 3716.0 7442.0\n",
      "Host correction...\n",
      "1998dh sn1998dh-19980730.44-fast.flm 53.0392552075 1.17 None -5.46 cfa 51024.44 3738.0 7424.0\n",
      "Host correction...\n",
      "1999cl sn1999cl-19990608.24-fast.flm 96.4559657769 1.17 None -5.26 cfa 51337.24 3554.0 7058.0\n",
      "Host correction...\n",
      "2002dj 2002dj_20020620_3210_9231_00.dat 48.5329628247 1.19 None -5.6 other 52445.0 3232.0 9096.0\n",
      "Host correction...\n",
      "2002dp sn2002dp-20020620.47-fast.flm 48.5602097903 1.12 None -4.83 cfa 52445.47 3728.0 7424.0\n",
      "Host correction...\n",
      "2003kc sn2003kc-20031128.53-fast.flm 12.3069148256 None 1.1265951925 -5.87 cfa 52971.53 3652.0 7250.0\n",
      "Host correction...\n",
      "2008hv SN08hv_081210_r01_NTT_EF.dat 61.0652850142 None 1.11901047681 -6.03000000026 csp 54810.32 5226.0 9046.0\n",
      "Host correction...\n",
      "12 SNs with host corrections\n",
      "Creating composite...\n",
      "Done.\n",
      "Bootstrapping\n",
      "scaling boots...\n",
      "plotting...\n",
      "computing confidence intervals...\n"
     ]
    }
   ],
   "source": [
    "comps_max_lim_med, sn_arrays_lim_med, boot_sn_arrays_lim_med = query_db.main(len(query_max_lim), query_max_lim, boot='b', medmean=2, selection = 'max_coverage')"
   ]
  },
  {
   "cell_type": "code",
   "execution_count": 42,
   "metadata": {
    "collapsed": true
   },
   "outputs": [],
   "source": [
    "query_db.set_min_num_spec([comps_max_lim[0], comps_max_lim_med[0]], 1)\n",
    "query_db.comparison_plot([comps_max_lim[0], comps_max_lim_med[0]], scale_type=False)"
   ]
  },
  {
   "cell_type": "code",
   "execution_count": null,
   "metadata": {
    "collapsed": true
   },
   "outputs": [],
   "source": []
  }
 ],
 "metadata": {
  "kernelspec": {
   "display_name": "Python [conda root]",
   "language": "python",
   "name": "conda-root-py"
  },
  "language_info": {
   "codemirror_mode": {
    "name": "ipython",
    "version": 2
   },
   "file_extension": ".py",
   "mimetype": "text/x-python",
   "name": "python",
   "nbconvert_exporter": "python",
   "pygments_lexer": "ipython2",
   "version": "2.7.12"
  }
 },
 "nbformat": 4,
 "nbformat_minor": 1
}
