{
 "cells": [
  {
   "cell_type": "code",
   "execution_count": 1,
   "metadata": {
    "collapsed": false
   },
   "outputs": [],
   "source": [
    "import matplotlib\n",
    "matplotlib.use('qt5agg')\n",
    "import matplotlib.pyplot as plt\n",
    "import time\n",
    "import numpy as np\n",
    "import query_db"
   ]
  },
  {
   "cell_type": "code",
   "execution_count": 2,
   "metadata": {
    "collapsed": false
   },
   "outputs": [],
   "source": [
    "%load_ext autoreload\n",
    "%autoreload 2"
   ]
  },
  {
   "cell_type": "code",
   "execution_count": 3,
   "metadata": {
    "collapsed": true
   },
   "outputs": [],
   "source": [
    "import matplotlib.gridspec as gridspec\n",
    "import spectral_analysis as sa\n",
    "from scipy.special import erf\n",
    "import datafidelity as df"
   ]
  },
  {
   "cell_type": "code",
   "execution_count": 4,
   "metadata": {
    "collapsed": true
   },
   "outputs": [],
   "source": [
    "def make_colorbar(composites):\n",
    "    params = []\n",
    "    # for comp in composites:\n",
    "    # \tparams.append(np.average(comp.dm15_array[comp.x1:comp.x2]))\n",
    "    # norm = matplotlib.colors.Normalize(vmin=np.min(params),vmax=np.max(params))\n",
    "    norm = matplotlib.colors.Normalize(vmin=1.,vmax=len(composites) + 1.)\n",
    "    c_m = matplotlib.cm.plasma\n",
    "    # c_m = matplotlib.cm.winter_r\n",
    "    s_m = matplotlib.cm.ScalarMappable(cmap=c_m, norm=norm)\n",
    "    s_m.set_array([])\n",
    "\n",
    "    return s_m"
   ]
  },
  {
   "cell_type": "code",
   "execution_count": 5,
   "metadata": {
    "collapsed": true
   },
   "outputs": [],
   "source": [
    "def comparison_plot(composites):\n",
    "\n",
    "#     plt.style.use('ggplot')\n",
    "    colors = [color['color'] for color in list(plt.rcParams['axes.prop_cycle'])]\n",
    "    h = [3,1,1,1,1,1,1]\n",
    "    font = {'family' : 'serif',\n",
    "        'color'  : 'black',\n",
    "        'weight' : 'bold',\n",
    "        'size'   : 10,\n",
    "        }\n",
    "\n",
    "#     gs = gridspec.GridSpec(7, 1, height_ratios=h, hspace = .001)\n",
    "#     fig = plt.figure(num = 1, dpi = 100, figsize = [10,10])\n",
    "    fig = plt.figure(num = 1, dpi = 100, figsize = [10,8])\n",
    "    s_m = make_colorbar(composites)\n",
    "    lw = 3\n",
    "\n",
    "    composites, scales = composite.optimize_scales(composites, composites[0], True)\n",
    "\n",
    "    i = 0\n",
    "    k = 1\n",
    "    for comp in composites:\n",
    "        # param = np.average(comp.dm15_array[comp.x1:comp.x2])\n",
    "        param = k\n",
    "\n",
    "#         rel_flux = plt.subplot(gs[0])\n",
    "        rel_flux = plt.subplot(111)\n",
    "#         plt.setp(rel_flux.get_xticklabels(), visible=False)\n",
    "        plt.ylabel('Relative Flux', fontdict = font)\n",
    "        rel_flux.axes.get_yaxis().set_ticks([])\n",
    "        # plt.plot(comp.wavelength[comp.x1:comp.x2], comp.flux[comp.x1:comp.x2], color = s_m.to_rgba(param))\n",
    "        plt.plot(comp.wavelength[comp.x1:comp.x2], comp.flux[comp.x1:comp.x2], linewidth = lw, color = s_m.to_rgba(param))\n",
    "        if len(comp.low_conf) > 0 and len(comp.up_conf) > 0:\n",
    "            plt.fill_between(comp.wavelength[comp.x1:comp.x2], comp.low_conf[comp.x1:comp.x2], \n",
    "                             comp.up_conf[comp.x1:comp.x2], color = s_m.to_rgba(param), alpha = 0.5)\n",
    "            # plt.fill_between(comp.wavelength[comp.x1:comp.x2], comp.low_conf[comp.x1:comp.x2], \n",
    "            # \t             comp.up_conf[comp.x1:comp.x2], color = colors[i%len(colors)], alpha = 0.5)\n",
    "\n",
    "#         var = plt.subplot(gs[1], sharex = rel_flux)\n",
    "#         plt.setp(var.get_xticklabels(), visible=False)\n",
    "#         plt.ylabel('Variance', fontdict = font)\n",
    "#         # plt.plot(comp.wavelength[comp.x1:comp.x2], comp.ivar[comp.x1:comp.x2], color = s_m.to_rgba(param))\n",
    "#         plt.plot(comp.wavelength[comp.x1:comp.x2], comp.ivar[comp.x1:comp.x2], linewidth = lw, color = s_m.to_rgba(param))\n",
    "\n",
    "#         res = plt.subplot(gs[2], sharex = rel_flux)\n",
    "#         plt.setp(res.get_xticklabels(), visible=False)\n",
    "#         plt.ylabel('Residuals', fontdict = font)\n",
    "#         # plt.plot(comp.wavelength[comp.x1:comp.x2], comp.flux[comp.x1:comp.x2] - composites[0].flux[comp.x1:comp.x2], color = s_m.to_rgba(param))\n",
    "#         plt.plot(comp.wavelength[comp.x1:comp.x2], comp.flux[comp.x1:comp.x2] - composites[0].flux[comp.x1:comp.x2], linewidth = lw, color = s_m.to_rgba(param))\n",
    "#         if len(comp.low_conf) > 0 and len(comp.up_conf) > 0:\n",
    "#             low_resid = comp.low_conf[comp.x1:comp.x2] - composites[0].flux[comp.x1:comp.x2]\n",
    "#             up_resid = comp.up_conf[comp.x1:comp.x2] - composites[0].flux[comp.x1:comp.x2]\n",
    "#             plt.fill_between(comp.wavelength[comp.x1:comp.x2], low_resid, up_resid, color = s_m.to_rgba(param), alpha = 0.5)\n",
    "#             # plt.fill_between(comp.wavelength[comp.x1:comp.x2], low_resid, up_resid, color = colors[i%len(colors)], alpha = 0.5)\n",
    "\n",
    "#         spec = plt.subplot(gs[3], sharex = rel_flux)\n",
    "#         plt.setp(spec.get_xticklabels(), visible=False)\n",
    "#         plt.ylabel('Spectra/Bin', fontdict = font)\n",
    "#         # plt.plot(comp.wavelength[comp.x1:comp.x2], comp.spec_bin[comp.x1:comp.x2], color = s_m.to_rgba(param))\n",
    "#         plt.plot(comp.wavelength[comp.x1:comp.x2], comp.spec_bin[comp.x1:comp.x2], linewidth = lw, color = s_m.to_rgba(param))\n",
    "\n",
    "#         phase = plt.subplot(gs[4], sharex = rel_flux)\n",
    "#         plt.setp(phase.get_xticklabels(), visible=False)\n",
    "#         plt.ylabel('Phase [d]', fontdict = font)\n",
    "#         # plt.plot(comp.wavelength[comp.x1:comp.x2], comp.phase_array[comp.x1:comp.x2], color = s_m.to_rgba(param))\n",
    "#         plt.plot(comp.wavelength[comp.x1:comp.x2], comp.phase_array[comp.x1:comp.x2], linewidth = lw, color = s_m.to_rgba(param))\n",
    "\n",
    "#         delt = plt.subplot(gs[5], sharex = rel_flux)\n",
    "#         plt.setp(delt.get_xticklabels(), visible=False)\n",
    "#         plt.ylabel('$\\Delta$m$_{15}$', fontdict = font)\n",
    "#         # plt.plot(comp.wavelength[comp.x1:comp.x2], comp.dm15[comp.x1:comp.x2], color = s_m.to_rgba(param))\n",
    "#         plt.plot(comp.wavelength[comp.x1:comp.x2], comp.dm15[comp.x1:comp.x2], linewidth = lw, color = s_m.to_rgba(param))\n",
    "\n",
    "#         plt.subplot(gs[6], sharex = rel_flux)\n",
    "#         plt.ylabel('Redshift', fontdict = font)\n",
    "#         # plt.plot(comp.wavelength[comp.x1:comp.x2], comp.red_array[comp.x1:comp.x2], color = s_m.to_rgba(param))\n",
    "#         plt.plot(comp.wavelength[comp.x1:comp.x2], comp.red_array[comp.x1:comp.x2], linewidth = lw, color = s_m.to_rgba(param))\n",
    "\n",
    "        i+=1\n",
    "        k+=1\n",
    "\n",
    "    plt.xlabel( 'Wavelength ' + \"($\\mathrm{\\AA}$)\", fontdict = font)\n",
    "    # cb = plt.colorbar(s_m, ax = fig.axes)\n",
    "    # cb.set_label('Phase', fontdict = font)\n",
    "    # for ax in fig.axes:\n",
    "    # \tax.set_axis_bgcolor('white')\n",
    "\n",
    "    plt.show()"
   ]
  },
  {
   "cell_type": "code",
   "execution_count": null,
   "metadata": {
    "collapsed": true
   },
   "outputs": [],
   "source": [
    "query_strings_low_dm15 = [\"SELECT * from Supernovae inner join Photometry ON Supernovae.SN = Photometry.SN and phase < -7 and (dm15_cfa <= 1.16 or dm15_from_fits <= 1.16)\",\n",
    "                          \"SELECT * from Supernovae inner join Photometry ON Supernovae.SN = Photometry.SN and phase >= -7 and phase < -4 and (dm15_cfa <= 1.16 or dm15_from_fits <= 1.16)\",\n",
    "                          \"SELECT * from Supernovae inner join Photometry ON Supernovae.SN = Photometry.SN and phase >= -4 and phase < -2 and (dm15_cfa <= 1.16 or dm15_from_fits <= 1.16)\",\n",
    "                          \"SELECT * from Supernovae inner join Photometry ON Supernovae.SN = Photometry.SN and phase >= -2 and phase < -1 and (dm15_cfa <= 1.16 or dm15_from_fits <= 1.16)\",\n",
    "                          \"SELECT * from Supernovae inner join Photometry ON Supernovae.SN = Photometry.SN and phase >= -1 and phase < 0 and (dm15_cfa <= 1.16 or dm15_from_fits <= 1.16)\",\n",
    "                          \"SELECT * from Supernovae inner join Photometry ON Supernovae.SN = Photometry.SN and phase >= 0 and phase < 1 and (dm15_cfa <= 1.16 or dm15_from_fits <= 1.16)\",\n",
    "                          \"SELECT * from Supernovae inner join Photometry ON Supernovae.SN = Photometry.SN and phase >= 1 and phase < 2 and (dm15_cfa <= 1.16 or dm15_from_fits <= 1.16)\",\n",
    "                          \"SELECT * from Supernovae inner join Photometry ON Supernovae.SN = Photometry.SN and phase >= 2 and phase < 3 and (dm15_cfa <= 1.16 or dm15_from_fits <= 1.16)\",\n",
    "                          \"SELECT * from Supernovae inner join Photometry ON Supernovae.SN = Photometry.SN and phase >= 3 and phase < 4 and (dm15_cfa <= 1.16 or dm15_from_fits <= 1.16)\",\n",
    "                          \"SELECT * from Supernovae inner join Photometry ON Supernovae.SN = Photometry.SN and phase >= 4 and phase < 5 and (dm15_cfa <= 1.16 or dm15_from_fits <= 1.16)\",\n",
    "                          \"SELECT * from Supernovae inner join Photometry ON Supernovae.SN = Photometry.SN and phase >= 5 and phase < 6 and (dm15_cfa <= 1.16 or dm15_from_fits <= 1.16)\",\n",
    "                          \"SELECT * from Supernovae inner join Photometry ON Supernovae.SN = Photometry.SN and phase >= 6 and phase < 7 and (dm15_cfa <= 1.16 or dm15_from_fits <= 1.16)\",\n",
    "                          \"SELECT * from Supernovae inner join Photometry ON Supernovae.SN = Photometry.SN and phase >= 7 and phase < 8 and (dm15_cfa <= 1.16 or dm15_from_fits <= 1.16)\",\n",
    "                          \"SELECT * from Supernovae inner join Photometry ON Supernovae.SN = Photometry.SN and phase >= 8 and phase < 9 and (dm15_cfa <= 1.16 or dm15_from_fits <= 1.16)\",\n",
    "                          \"SELECT * from Supernovae inner join Photometry ON Supernovae.SN = Photometry.SN and phase >= 9 and phase < 10 and (dm15_cfa <= 1.16 or dm15_from_fits <= 1.16)\",\n",
    "                          \"SELECT * from Supernovae inner join Photometry ON Supernovae.SN = Photometry.SN and phase >= 10 and phase < 11 and (dm15_cfa <= 1.16 or dm15_from_fits <= 1.16)\",\n",
    "                          \"SELECT * from Supernovae inner join Photometry ON Supernovae.SN = Photometry.SN and phase >= 11 and phase < 12 and (dm15_cfa <= 1.16 or dm15_from_fits <= 1.16)\",\n",
    "                          \"SELECT * from Supernovae inner join Photometry ON Supernovae.SN = Photometry.SN and phase >= 12 and phase < 14 and (dm15_cfa <= 1.16 or dm15_from_fits <= 1.16)\",\n",
    "                          \"SELECT * from Supernovae inner join Photometry ON Supernovae.SN = Photometry.SN and phase >= 14 and phase < 16 and (dm15_cfa <= 1.16 or dm15_from_fits <= 1.16)\",\n",
    "                          \"SELECT * from Supernovae inner join Photometry ON Supernovae.SN = Photometry.SN and phase >= 16 and phase < 18 and (dm15_cfa <= 1.16 or dm15_from_fits <= 1.16)\",\n",
    "                          \"SELECT * from Supernovae inner join Photometry ON Supernovae.SN = Photometry.SN and phase >= 18 and phase < 20 and (dm15_cfa <= 1.16 or dm15_from_fits <= 1.16)\",\n",
    "                          \"SELECT * from Supernovae inner join Photometry ON Supernovae.SN = Photometry.SN and phase >= 20 and phase < 22 and (dm15_cfa <= 1.16 or dm15_from_fits <= 1.16)\",\n",
    "                          \"SELECT * from Supernovae inner join Photometry ON Supernovae.SN = Photometry.SN and phase >= 22 and phase < 25 and (dm15_cfa <= 1.16 or dm15_from_fits <= 1.16)\",\n",
    "                          \"SELECT * from Supernovae inner join Photometry ON Supernovae.SN = Photometry.SN and phase >= 25 and phase < 28 and (dm15_cfa <= 1.16 or dm15_from_fits <= 1.16)\",\n",
    "                          \"SELECT * from Supernovae inner join Photometry ON Supernovae.SN = Photometry.SN and phase >= 28 and phase < 31 and (dm15_cfa <= 1.16 or dm15_from_fits <= 1.16)\",\n",
    "                          \"SELECT * from Supernovae inner join Photometry ON Supernovae.SN = Photometry.SN and phase >= 31 and phase < 34 and (dm15_cfa <= 1.16 or dm15_from_fits <= 1.16)\",\n",
    "                          \"SELECT * from Supernovae inner join Photometry ON Supernovae.SN = Photometry.SN and phase >= 34 and phase < 39 and (dm15_cfa <= 1.16 or dm15_from_fits <= 1.16)\",\n",
    "                          \"SELECT * from Supernovae inner join Photometry ON Supernovae.SN = Photometry.SN and phase >= 39 and phase < 49 and (dm15_cfa <= 1.16 or dm15_from_fits <= 1.16)\",\n",
    "                          \"SELECT * from Supernovae inner join Photometry ON Supernovae.SN = Photometry.SN and phase >= 49 and phase < 70 and (dm15_cfa <= 1.16 or dm15_from_fits <= 1.16)\",\n",
    "                          \"SELECT * from Supernovae inner join Photometry ON Supernovae.SN = Photometry.SN and phase >= 70 and phase < 110 and (dm15_cfa <= 1.16 or dm15_from_fits <= 1.16)\",\n",
    "                          \"SELECT * from Supernovae inner join Photometry ON Supernovae.SN = Photometry.SN and phase >= 110 and (dm15_cfa <= 1.16 or dm15_from_fits <= 1.16)\"\n",
    "                         ]"
   ]
  },
  {
   "cell_type": "code",
   "execution_count": null,
   "metadata": {
    "collapsed": true
   },
   "outputs": [],
   "source": [
    "query_strings_high_dm15 = [\"SELECT * from Supernovae inner join Photometry ON Supernovae.SN = Photometry.SN and phase < -7 and (dm15_cfa > 1.16 or dm15_from_fits > 1.16)\",\n",
    "                          \"SELECT * from Supernovae inner join Photometry ON Supernovae.SN = Photometry.SN and phase >= -7 and phase < -4 and (dm15_cfa > 1.16 or dm15_from_fits > 1.16)\",\n",
    "                          \"SELECT * from Supernovae inner join Photometry ON Supernovae.SN = Photometry.SN and phase >= -4 and phase < -2 and (dm15_cfa > 1.16 or dm15_from_fits > 1.16)\",\n",
    "                          \"SELECT * from Supernovae inner join Photometry ON Supernovae.SN = Photometry.SN and phase >= -2 and phase < -1 and (dm15_cfa > 1.16 or dm15_from_fits > 1.16)\",\n",
    "                          \"SELECT * from Supernovae inner join Photometry ON Supernovae.SN = Photometry.SN and phase >= -1 and phase < 0 and (dm15_cfa > 1.16 or dm15_from_fits > 1.16)\",\n",
    "                          \"SELECT * from Supernovae inner join Photometry ON Supernovae.SN = Photometry.SN and phase >= 0 and phase < 1 and (dm15_cfa > 1.16 or dm15_from_fits > 1.16)\",\n",
    "                          \"SELECT * from Supernovae inner join Photometry ON Supernovae.SN = Photometry.SN and phase >= 1 and phase < 2 and (dm15_cfa > 1.16 or dm15_from_fits > 1.16)\",\n",
    "                          \"SELECT * from Supernovae inner join Photometry ON Supernovae.SN = Photometry.SN and phase >= 2 and phase < 3 and (dm15_cfa > 1.16 or dm15_from_fits > 1.16)\",\n",
    "                          \"SELECT * from Supernovae inner join Photometry ON Supernovae.SN = Photometry.SN and phase >= 3 and phase < 4 and (dm15_cfa > 1.16 or dm15_from_fits > 1.16)\",\n",
    "                          \"SELECT * from Supernovae inner join Photometry ON Supernovae.SN = Photometry.SN and phase >= 4 and phase < 5 and (dm15_cfa > 1.16 or dm15_from_fits > 1.16)\",\n",
    "                          \"SELECT * from Supernovae inner join Photometry ON Supernovae.SN = Photometry.SN and phase >= 5 and phase < 6 and (dm15_cfa > 1.16 or dm15_from_fits > 1.16)\",\n",
    "                          \"SELECT * from Supernovae inner join Photometry ON Supernovae.SN = Photometry.SN and phase >= 6 and phase < 7 and (dm15_cfa > 1.16 or dm15_from_fits > 1.16)\",\n",
    "                          \"SELECT * from Supernovae inner join Photometry ON Supernovae.SN = Photometry.SN and phase >= 7 and phase < 8 and (dm15_cfa > 1.16 or dm15_from_fits > 1.16)\",\n",
    "                          \"SELECT * from Supernovae inner join Photometry ON Supernovae.SN = Photometry.SN and phase >= 8 and phase < 9 and (dm15_cfa > 1.16 or dm15_from_fits > 1.16)\",\n",
    "                          \"SELECT * from Supernovae inner join Photometry ON Supernovae.SN = Photometry.SN and phase >= 9 and phase < 10 and (dm15_cfa > 1.16 or dm15_from_fits > 1.16)\",\n",
    "                          \"SELECT * from Supernovae inner join Photometry ON Supernovae.SN = Photometry.SN and phase >= 10 and phase < 11 and (dm15_cfa > 1.16 or dm15_from_fits > 1.16)\",\n",
    "                          \"SELECT * from Supernovae inner join Photometry ON Supernovae.SN = Photometry.SN and phase >= 11 and phase < 12 and (dm15_cfa > 1.16 or dm15_from_fits > 1.16)\",\n",
    "                          \"SELECT * from Supernovae inner join Photometry ON Supernovae.SN = Photometry.SN and phase >= 12 and phase < 14 and (dm15_cfa > 1.16 or dm15_from_fits > 1.16)\",\n",
    "                          \"SELECT * from Supernovae inner join Photometry ON Supernovae.SN = Photometry.SN and phase >= 14 and phase < 16 and (dm15_cfa > 1.16 or dm15_from_fits > 1.16)\",\n",
    "                          \"SELECT * from Supernovae inner join Photometry ON Supernovae.SN = Photometry.SN and phase >= 16 and phase < 18 and (dm15_cfa > 1.16 or dm15_from_fits > 1.16)\",\n",
    "                          \"SELECT * from Supernovae inner join Photometry ON Supernovae.SN = Photometry.SN and phase >= 18 and phase < 20 and (dm15_cfa > 1.16 or dm15_from_fits > 1.16)\",\n",
    "                          \"SELECT * from Supernovae inner join Photometry ON Supernovae.SN = Photometry.SN and phase >= 20 and phase < 22 and (dm15_cfa > 1.16 or dm15_from_fits > 1.16)\",\n",
    "                          \"SELECT * from Supernovae inner join Photometry ON Supernovae.SN = Photometry.SN and phase >= 22 and phase < 25 and (dm15_cfa > 1.16 or dm15_from_fits > 1.16)\",\n",
    "                          \"SELECT * from Supernovae inner join Photometry ON Supernovae.SN = Photometry.SN and phase >= 25 and phase < 28 and (dm15_cfa > 1.16 or dm15_from_fits > 1.16)\",\n",
    "                          \"SELECT * from Supernovae inner join Photometry ON Supernovae.SN = Photometry.SN and phase >= 28 and phase < 31 and (dm15_cfa > 1.16 or dm15_from_fits > 1.16)\",\n",
    "                          \"SELECT * from Supernovae inner join Photometry ON Supernovae.SN = Photometry.SN and phase >= 31 and phase < 34 and (dm15_cfa > 1.16 or dm15_from_fits > 1.16)\",\n",
    "                          \"SELECT * from Supernovae inner join Photometry ON Supernovae.SN = Photometry.SN and phase >= 34 and phase < 39 and (dm15_cfa > 1.16 or dm15_from_fits > 1.16)\",\n",
    "                          \"SELECT * from Supernovae inner join Photometry ON Supernovae.SN = Photometry.SN and phase >= 39 and phase < 49 and (dm15_cfa > 1.16 or dm15_from_fits > 1.16)\",\n",
    "                          \"SELECT * from Supernovae inner join Photometry ON Supernovae.SN = Photometry.SN and phase >= 49 and phase < 70 and (dm15_cfa > 1.16 or dm15_from_fits > 1.16)\",\n",
    "                          \"SELECT * from Supernovae inner join Photometry ON Supernovae.SN = Photometry.SN and phase >= 70 and phase < 110 and (dm15_cfa > 1.16 or dm15_from_fits > 1.16)\",\n",
    "                         ]"
   ]
  },
  {
   "cell_type": "code",
   "execution_count": null,
   "metadata": {
    "collapsed": false
   },
   "outputs": [],
   "source": [
    "comps_low_dm15 = query_db.main(len(query_strings_low_dm15), query_strings_low_dm15)\n",
    "comps_high_dm15 = query_db.main(len(query_strings_high_dm15), query_strings_high_dm15)"
   ]
  },
  {
   "cell_type": "code",
   "execution_count": 6,
   "metadata": {
    "collapsed": true
   },
   "outputs": [],
   "source": [
    "def stacked_plot(comps_low, comps_high):\n",
    "    fig, ax = plt.subplots(1,1)\n",
    "    ax.get_yaxis().set_ticks([])\n",
    "    plt.ylabel('Relative Flux + const.')\n",
    "    plt.xlabel('Wavelength (A)')\n",
    "    fig.set_size_inches(8.5, 11.)\n",
    "#     comps_low, scales = composite.optimize_scales(comps_low, comps_low[0], True)\n",
    "#     comps_high, scales = composite.optimize_scales(comps_high, comps_high[0], True)\n",
    "    upper_buff = 100\n",
    "\n",
    "    for i in range(len(comps_low)):\n",
    "#         scaled_comps, scales = composite.optimize_scales([comps_low[i], comps_high[i]], comps_low[i], True)\n",
    "        phase_1 = np.average(scaled_comps[0].phase_array[scaled_comps[0].x1:scaled_comps[0].x2])\n",
    "        phase_2 = np.average(scaled_comps[1].phase_array[scaled_comps[1].x1:scaled_comps[1].x2])\n",
    "        phase = (phase_1 + phase_2)/2.\n",
    "        ax.plot(scaled_comps[0].wavelength[scaled_comps[0].x1:scaled_comps[0].x2], 2.e15*scaled_comps[0].flux[scaled_comps[0].x1:scaled_comps[0].x2] + upper_buff - 3.*phase, 'b-')\n",
    "        ax.plot(scaled_comps[1].wavelength[scaled_comps[1].x1:scaled_comps[1].x2], 2.e15*scaled_comps[1].flux[scaled_comps[1].x1:scaled_comps[1].x2] + upper_buff - 3.*phase, 'r-')\n",
    "#         plt.fill_between(scaled_comps[0].wavelength[scaled_comps[0].x1:scaled_comps[0].x2], 2.e15*scaled_comps[0].low_conf[scaled_comps[0].x1:scaled_comps[0].x2] + upper_buff - 3.*phase, 2.e15*scaled_comps[0].up_conf[scaled_comps[0].x1:scaled_comps[0].x2] + upper_buff - 3.*phase, alpha = 0.5)\n",
    "#         plt.fill_between(scaled_comps[1].wavelength[scaled_comps[1].x1:scaled_comps[1].x2], 2.e15*scaled_comps[1].low_conf[scaled_comps[1].x1:scaled_comps[1].x2] + upper_buff - 3.*phase, 2.e15*scaled_comps[1].up_conf[scaled_comps[1].x1:scaled_comps[1].x2] + upper_buff - 3.*phase, color = 'r', alpha = 0.5)\n",
    "        plt.text(scaled_comps[0].wavelength[scaled_comps[0].x2], scaled_comps[0].flux[scaled_comps[0].x2] + upper_buff - 3.*phase + 1, str(round(phase, 2)) + ' days')\n",
    "    plt.show()"
   ]
  },
  {
   "cell_type": "code",
   "execution_count": 12,
   "metadata": {
    "collapsed": true
   },
   "outputs": [],
   "source": [
    "import composite"
   ]
  },
  {
   "cell_type": "code",
   "execution_count": null,
   "metadata": {
    "collapsed": false
   },
   "outputs": [],
   "source": [
    "query_db.set_min_num_spec(comps_low_dm15, 5)\n",
    "query_db.set_min_num_spec(comps_high_dm15, 5)"
   ]
  },
  {
   "cell_type": "code",
   "execution_count": null,
   "metadata": {
    "collapsed": false
   },
   "outputs": [],
   "source": [
    "sub_list_1_low = comps_low_dm15[0:6]\n",
    "sub_list_2_low = comps_low_dm15[6:12]\n",
    "sub_list_3_low = comps_low_dm15[12:18]\n",
    "sub_list_4_low = comps_low_dm15[18:24]\n",
    "sub_list_5_low = comps_low_dm15[24:28]\n",
    "sub_list_6_low = comps_low_dm15[28:30]\n",
    "sub_list_7_low = comps_low_dm15[30:]\n",
    "\n",
    "sub_list_1_high = comps_high_dm15[0:6]\n",
    "sub_list_2_high = comps_high_dm15[6:12]\n",
    "sub_list_3_high = comps_high_dm15[12:18]\n",
    "sub_list_4_high = comps_high_dm15[18:24]\n",
    "sub_list_5_high = comps_high_dm15[24:28]\n",
    "sub_list_6_high = comps_high_dm15[28:30]\n",
    "sub_list_7_high = comps_high_dm15[30:]"
   ]
  },
  {
   "cell_type": "code",
   "execution_count": null,
   "metadata": {
    "collapsed": false
   },
   "outputs": [],
   "source": [
    "stacked_plot(sub_list_1_low, sub_list_1_high)"
   ]
  },
  {
   "cell_type": "code",
   "execution_count": null,
   "metadata": {
    "collapsed": true
   },
   "outputs": [],
   "source": [
    "stacked_plot(sub_list_2_low, sub_list_2_high)"
   ]
  },
  {
   "cell_type": "code",
   "execution_count": null,
   "metadata": {
    "collapsed": true
   },
   "outputs": [],
   "source": [
    "stacked_plot(sub_list_3_low, sub_list_3_high)"
   ]
  },
  {
   "cell_type": "code",
   "execution_count": null,
   "metadata": {
    "collapsed": true
   },
   "outputs": [],
   "source": [
    "stacked_plot(sub_list_4_low, sub_list_4_high)"
   ]
  },
  {
   "cell_type": "code",
   "execution_count": null,
   "metadata": {
    "collapsed": false
   },
   "outputs": [],
   "source": [
    "stacked_plot(sub_list_5_low, sub_list_5_high)"
   ]
  },
  {
   "cell_type": "code",
   "execution_count": null,
   "metadata": {
    "collapsed": false
   },
   "outputs": [],
   "source": [
    "stacked_plot(sub_list_6_low, sub_list_6_high)"
   ]
  },
  {
   "cell_type": "code",
   "execution_count": null,
   "metadata": {
    "collapsed": false
   },
   "outputs": [],
   "source": [
    "stacked_plot(sub_list_7_low, sub_list_7_high)"
   ]
  },
  {
   "cell_type": "markdown",
   "metadata": {},
   "source": [
    "# Maximum Light - Max Bins"
   ]
  },
  {
   "cell_type": "code",
   "execution_count": 8,
   "metadata": {
    "collapsed": false
   },
   "outputs": [],
   "source": [
    "query_dm15_split_max = [\"SELECT * from Spectra inner join Events ON Spectra.SN = Events.SN where phase >= -3 and phase <= 3 and (dm15_cfa < .9 or dm15_from_fits < .9)\",\n",
    "                        \"SELECT * from Spectra inner join Events ON Spectra.SN = Events.SN where phase >= -3 and phase <= 3 and ((dm15_cfa >= .9 and dm15_cfa < 1.) or (dm15_from_fits >= .9 and dm15_from_fits < 1))\",\n",
    "                        \"SELECT * from Spectra inner join Events ON Spectra.SN = Events.SN where phase >= -3 and phase <= 3 and ((dm15_cfa >= 1 and dm15_cfa < 1.05) or (dm15_from_fits >= 1 and dm15_from_fits < 1.05))\",\n",
    "                        \"SELECT * from Spectra inner join Events ON Spectra.SN = Events.SN where phase >= -3 and phase <= 3 and ((dm15_cfa >= 1.05 and dm15_cfa < 1.1) or (dm15_from_fits >= 1.05 and dm15_from_fits < 1.1))\",\n",
    "                        \"SELECT * from Spectra inner join Events ON Spectra.SN = Events.SN where phase >= -3 and phase <= 3 and ((dm15_cfa >= 1.1 and dm15_cfa < 1.2) or (dm15_from_fits >= 1.1 and dm15_from_fits < 1.2))\",\n",
    "                        \"SELECT * from Spectra inner join Events ON Spectra.SN = Events.SN where phase >= -3 and phase <= 3 and ((dm15_cfa >= 1.2 and dm15_cfa < 1.3) or (dm15_from_fits >= 1.2 and dm15_from_fits < 1.3))\", \n",
    "                        \"SELECT * from Spectra inner join Events ON Spectra.SN = Events.SN where phase >= -3 and phase <= 3 and ((dm15_cfa >= 1.3 and dm15_cfa < 1.4) or (dm15_from_fits >= 1.3 and dm15_from_fits < 1.4))\", \n",
    "                        \"SELECT * from Spectra inner join Events ON Spectra.SN = Events.SN where phase >= -3 and phase <= 3 and ((dm15_cfa >= 1.4 and dm15_cfa < 1.6) or (dm15_from_fits >= 1.4 and dm15_from_fits < 1.6))\",\n",
    "                        \"SELECT * from Spectra inner join Events ON Spectra.SN = Events.SN where phase >= -3 and phase <= 3 and (dm15_cfa >= 1.6 or dm15_from_fits >= 1.6)\"\n",
    "                       ]"
   ]
  },
  {
   "cell_type": "code",
   "execution_count": null,
   "metadata": {
    "collapsed": false
   },
   "outputs": [],
   "source": [
    "comps_dm15_split_max, sn_arrays, boot_sn_arrays = query_db.main(len(query_dm15_split_max), query_dm15_split_max,verbose=False, gini_balance=True)"
   ]
  },
  {
   "cell_type": "code",
   "execution_count": 7,
   "metadata": {
    "collapsed": false
   },
   "outputs": [],
   "source": [
    "def stacked_plot_max(composites,buff,label_buff):\n",
    "    font1 = {'family' : 'serif',\n",
    "        'color'  : 'black',\n",
    "        'weight' : 'bold',\n",
    "        'size'   : 20,\n",
    "        }\n",
    "    \n",
    "    font2 = {'family' : 'serif',\n",
    "        'color'  : 'black',\n",
    "        'weight' : 'bold',\n",
    "        'size'   : 10,\n",
    "        }\n",
    "    \n",
    "    fig, ax = plt.subplots(1,1)\n",
    "    fig.set_size_inches(15, 30, forward = True)\n",
    "    ax.get_yaxis().set_ticks([])\n",
    "    ax.xaxis.set_tick_params(length=10, width = 2)\n",
    "    plt.ylabel('Relative Flux + const.', fontdict = font1, fontsize = 40)\n",
    "    plt.xlabel( 'Wavelength ' + \"($\\mathrm{\\AA}$)\", fontdict = font1, fontsize = 40)\n",
    "    plt.xticks(fontsize = 20)\n",
    "#     composites, scales = composite.optimize_scales(composites, composites[0], True)\n",
    "\n",
    "    i = 0\n",
    "    for comp in composites:\n",
    "        dm15 = np.nanmean(comp.dm15_array[comp.x1:comp.x2])\n",
    "#         ax.plot(comp.wavelength[comp.x1:comp.x2], 2.e15*comp.flux[comp.x1:comp.x2] - 1200*dm15, color = '#3F5D7D', linewidth = 4)\n",
    "        ax.plot(comp.wavelength[comp.x1:comp.x2], comp.flux[comp.x1:comp.x2] - i, color = '#3F5D7D', linewidth = 4)\n",
    "#         plt.fill_between(comp.wavelength[comp.x1:comp.x2], comp.low_conf[comp.x1:comp.x2]- i, comp.up_conf[comp.x1:comp.x2] - i, alpha = 0.5)\n",
    "#         plt.text(9700, comp.flux[comp.x2] - 1200*dm15 + 30, '$\\mathbf{\\Delta m_{15}}$ = ' + str(round(dm15, 2)), fontdict = font1)\n",
    "        plt.text(8000, comp.flux[comp.x2] - i + .1, '$\\mathbf{\\Delta m_{15}}$ = ' + str(round(dm15, 2)), fontdict = font2, fontsize = 30)\n",
    "        i += 1\n",
    "#     plt.title('Maximum Light Composite Spectra \\n for Different Light Curve Shapes', fontdict = font1, fontsize = 40)\n",
    "    plt.xlim([3000,10500])\n",
    "#     plt.savefig('../../Paper_Drafts/dm15_split_max.pdf', dpi = 300, bbox_inches = 'tight')\n",
    "    plt.show()"
   ]
  },
  {
   "cell_type": "code",
   "execution_count": null,
   "metadata": {
    "collapsed": false
   },
   "outputs": [],
   "source": [
    "# composite.optimize_scales(comps_dm15_split_max, comps_dm15_split_max[0], True)\n",
    "query_db.set_min_num_spec(comps_dm15_split_max, 5)\n",
    "# comparison_plot(comps_dm15_split_max)\n",
    "stacked_plot_max(comps_dm15_split_max, 110, 30)"
   ]
  },
  {
   "cell_type": "markdown",
   "metadata": {},
   "source": [
    "# Maximum Light - Grid Bins"
   ]
  },
  {
   "cell_type": "code",
   "execution_count": 6,
   "metadata": {
    "collapsed": false
   },
   "outputs": [],
   "source": [
    "query_dm15_max_fewer_bins = [\"SELECT * from Spectra inner join Events ON Spectra.SN = Events.SN where phase >= -3 and phase <= 3 and ((dm15_source < .95 or dm15_from_fits < .95))\",\n",
    "                         \"SELECT * from Spectra inner join Events ON Spectra.SN = Events.SN where phase >= -3 and phase <= 3 and ((dm15_source >= .95 and dm15_source < 1.15) or (dm15_from_fits >= .95 and dm15_from_fits < 1.15))\",\n",
    "                         \"SELECT * from Spectra inner join Events ON Spectra.SN = Events.SN where phase >= -3 and phase <= 3 and ((dm15_source >= 1.15 and dm15_source < 1.25) or (dm15_from_fits >= 1.15 and dm15_from_fits < 1.25))\",\n",
    "                         \"SELECT * from Spectra inner join Events ON Spectra.SN = Events.SN where phase >= -3 and phase <= 3 and ((dm15_source >= 1.25 and dm15_source < 1.5) or (dm15_from_fits >= 1.25 and dm15_from_fits < 1.5))\",\n",
    "                         \"SELECT * from Spectra inner join Events ON Spectra.SN = Events.SN where phase >= -3 and phase <= 3 and ((dm15_source >= 1.5 or dm15_from_fits >= 1.5))\"]\n",
    "# query_dm15_max_fewer_bins = [\"SELECT * from Supernovae inner join Photometry ON Supernovae.SN = Photometry.SN where phase >= -3 and phase <= 3 and (dm15_cfa < .9 or dm15_from_fits < .9)\",\n",
    "#                         \"SELECT * from Supernovae inner join Photometry ON Supernovae.SN = Photometry.SN where phase >= -3 and phase <= 3 and ((dm15_cfa >= .9 and dm15_cfa < 1.) or (dm15_from_fits >= .9 and dm15_from_fits < 1))\",\n",
    "#                         \"SELECT * from Supernovae inner join Photometry ON Supernovae.SN = Photometry.SN where phase >= -3 and phase <= 3 and ((dm15_cfa >= 1 and dm15_cfa < 1.05) or (dm15_from_fits >= 1 and dm15_from_fits < 1.05))\",\n",
    "#                         \"SELECT * from Supernovae inner join Photometry ON Supernovae.SN = Photometry.SN where phase >= -3 and phase <= 3 and ((dm15_cfa >= 1.05 and dm15_cfa < 1.1) or (dm15_from_fits >= 1.05 and dm15_from_fits < 1.1))\",\n",
    "#                         \"SELECT * from Supernovae inner join Photometry ON Supernovae.SN = Photometry.SN where phase >= -3 and phase <= 3 and ((dm15_cfa >= 1.1 and dm15_cfa < 1.2) or (dm15_from_fits >= 1.1 and dm15_from_fits < 1.2))\",\n",
    "#                         \"SELECT * from Supernovae inner join Photometry ON Supernovae.SN = Photometry.SN where phase >= -3 and phase <= 3 and ((dm15_cfa >= 1.2 and dm15_cfa < 1.3) or (dm15_from_fits >= 1.2 and dm15_from_fits < 1.3))\", \n",
    "#                         \"SELECT * from Supernovae inner join Photometry ON Supernovae.SN = Photometry.SN where phase >= -3 and phase <= 3 and ((dm15_cfa >= 1.3 and dm15_cfa < 1.4) or (dm15_from_fits >= 1.3 and dm15_from_fits < 1.4))\", \n",
    "#                         \"SELECT * from Supernovae inner join Photometry ON Supernovae.SN = Photometry.SN where phase >= -3 and phase <= 3 and ((dm15_cfa >= 1.4 and dm15_cfa < 1.6) or (dm15_from_fits >= 1.4 and dm15_from_fits < 1.6))\",\n",
    "#                         \"SELECT * from Supernovae inner join Photometry ON Supernovae.SN = Photometry.SN where phase >= -3 and phase <= 3 and (dm15_cfa >= 1.6 or dm15_from_fits >= 1.6)\"]"
   ]
  },
  {
   "cell_type": "code",
   "execution_count": 7,
   "metadata": {
    "collapsed": false,
    "scrolled": true
   },
   "outputs": [
    {
     "name": "stdout",
     "output_type": "stream",
     "text": [
      "SQL Query: SELECT * from Spectra inner join Events ON Spectra.SN = Events.SN where phase >= -3 and phase <= 3 and ((dm15_source < .95 or dm15_from_fits < .95))\n",
      "Collecting data...\n",
      "87 Total Spectra found\n",
      "105 questionable files currently ignored\n",
      "(1, 'questionable spectra removed', 86, 'spectra left')\n",
      "(0, 'Peculiar Ias removed', 86, 'spectra left')\n",
      "83 valid spectra found\n",
      "Arrays cleaned\n",
      "1 spectra may have telluric contamination\n"
     ]
    },
    {
     "name": "stderr",
     "output_type": "stream",
     "text": [
      "composite.py:1214: FutureWarning: comparison to `None` will result in an elementwise object comparison in the future.\n",
      "  if template.RMSE != None:\n",
      "composite.py:1251: RuntimeWarning: divide by zero encountered in divide\n",
      "  error = 1./np.sqrt(template.ivar)\n"
     ]
    },
    {
     "name": "stdout",
     "output_type": "stream",
     "text": [
      "30 total SNe\n",
      "removed SNe without host corrections\n",
      "Using 83 spectra of 30 SNe\n"
     ]
    },
    {
     "name": "stderr",
     "output_type": "stream",
     "text": [
      "gini.py:43: RuntimeWarning: invalid value encountered in absolute\n",
      "  g_diff = np.absolute(g_wi - g_wj)\n"
     ]
    },
    {
     "name": "stdout",
     "output_type": "stream",
     "text": [
      "Gini balancing...\n",
      "Balanced after 10 iterations\n",
      "SQL Query: SELECT * from Spectra inner join Events ON Spectra.SN = Events.SN where phase >= -3 and phase <= 3 and ((dm15_source >= .95 and dm15_source < 1.15) or (dm15_from_fits >= .95 and dm15_from_fits < 1.15))\n",
      "Collecting data...\n",
      "199 Total Spectra found\n",
      "105 questionable files currently ignored\n",
      "(13, 'questionable spectra removed', 186, 'spectra left')\n",
      "(3, 'Peculiar Ias removed', 183, 'spectra left')\n",
      "157 valid spectra found\n",
      "Arrays cleaned\n",
      "2 spectra may have telluric contamination\n",
      "61 total SNe\n",
      "removed SNe without host corrections\n",
      "Using 156 spectra of 60 SNe\n"
     ]
    },
    {
     "name": "stderr",
     "output_type": "stream",
     "text": [
      "gini.py:48: RuntimeWarning: invalid value encountered in double_scalars\n",
      "  gini_coeffs.append(gini_num/gini_denom)\n"
     ]
    },
    {
     "name": "stdout",
     "output_type": "stream",
     "text": [
      "Gini balancing...\n",
      "Balanced after 19 iterations\n",
      "SQL Query: SELECT * from Spectra inner join Events ON Spectra.SN = Events.SN where phase >= -3 and phase <= 3 and ((dm15_source >= 1.15 and dm15_source < 1.25) or (dm15_from_fits >= 1.15 and dm15_from_fits < 1.25))\n",
      "Collecting data...\n",
      "68 Total Spectra found\n",
      "105 questionable files currently ignored\n",
      "(3, 'questionable spectra removed', 65, 'spectra left')\n",
      "(0, 'Peculiar Ias removed', 65, 'spectra left')\n",
      "57 valid spectra found\n",
      "Arrays cleaned\n",
      "3 spectra may have telluric contamination\n",
      "18 total SNe\n",
      "removed SNe without host corrections\n",
      "Using 48 spectra of 16 SNe\n",
      "Gini balancing...\n",
      "Balanced after 8 iterations\n",
      "SQL Query: SELECT * from Spectra inner join Events ON Spectra.SN = Events.SN where phase >= -3 and phase <= 3 and ((dm15_source >= 1.25 and dm15_source < 1.5) or (dm15_from_fits >= 1.25 and dm15_from_fits < 1.5))\n",
      "Collecting data...\n",
      "121 Total Spectra found\n",
      "105 questionable files currently ignored\n",
      "(4, 'questionable spectra removed', 117, 'spectra left')\n",
      "(0, 'Peculiar Ias removed', 117, 'spectra left')\n",
      "100 valid spectra found\n",
      "Arrays cleaned\n",
      "9 spectra may have telluric contamination\n",
      "31 total SNe\n",
      "removed SNe without host corrections\n",
      "Using 89 spectra of 29 SNe\n",
      "Gini balancing...\n",
      "Balanced after 12 iterations\n",
      "SQL Query: SELECT * from Spectra inner join Events ON Spectra.SN = Events.SN where phase >= -3 and phase <= 3 and ((dm15_source >= 1.5 or dm15_from_fits >= 1.5))\n",
      "Collecting data...\n",
      "103 Total Spectra found\n",
      "105 questionable files currently ignored\n",
      "(4, 'questionable spectra removed', 99, 'spectra left')\n",
      "(6, 'Peculiar Ias removed', 93, 'spectra left')\n",
      "82 valid spectra found\n",
      "Arrays cleaned\n",
      "3 spectra may have telluric contamination\n",
      "29 total SNe\n",
      "removed SNe without host corrections\n",
      "Using 82 spectra of 29 SNe\n",
      "Gini balancing...\n",
      "Balanced after 12 iterations\n"
     ]
    }
   ],
   "source": [
    "comps_dm15_max_fewer_bins, sn_arrays_2, boot_sn_arrays_2 = query_db.main(len(query_dm15_max_fewer_bins), query_dm15_max_fewer_bins, boot='nb', medmean=1, verbose=False, gini_balance=True)"
   ]
  },
  {
   "cell_type": "code",
   "execution_count": 8,
   "metadata": {
    "collapsed": false
   },
   "outputs": [],
   "source": [
    "# composite.optimize_scales(comps_dm15_max_fewer_bins, comps_dm15_max_fewer_bins[0], True)\n",
    "query_db.set_min_num_spec(comps_dm15_max_fewer_bins, 5)\n",
    "# comparison_plot(comps_dm15_max_fewer_bins)\n",
    "temp = [comps_dm15_max_fewer_bins[0], comps_dm15_max_fewer_bins[3]]\n",
    "# comparison_plot(temp)\n",
    "# plt.savefig('../../Paper_Drafts/dm15_max.png', dpi = 300, bbox_inches = 'tight')\n",
    "# query_db.stacked_plot(comps_dm15_max_fewer_bins)"
   ]
  },
  {
   "cell_type": "markdown",
   "metadata": {
    "collapsed": true
   },
   "source": [
    "# Very Early"
   ]
  },
  {
   "cell_type": "code",
   "execution_count": 9,
   "metadata": {
    "collapsed": true
   },
   "outputs": [],
   "source": [
    "query_dm15_very_early = [\"SELECT * from Spectra inner join Events ON Spectra.SN = Events.SN where phase < -10 and ((dm15_source < .95 or dm15_from_fits < .95))\",\n",
    "                         \"SELECT * from Spectra inner join Events ON Spectra.SN = Events.SN where phase < -10 and ((dm15_source >= .95 and dm15_source < 1.1) or (dm15_from_fits >= .95 and dm15_from_fits < 1.1))\",\n",
    "                         \"SELECT * from Spectra inner join Events ON Spectra.SN = Events.SN where phase < -10 and ((dm15_source >= 1.1 or dm15_from_fits >= 1.1))\"]"
   ]
  },
  {
   "cell_type": "code",
   "execution_count": 10,
   "metadata": {
    "collapsed": false,
    "scrolled": true
   },
   "outputs": [
    {
     "name": "stdout",
     "output_type": "stream",
     "text": [
      "SQL Query: SELECT * from Spectra inner join Events ON Spectra.SN = Events.SN where phase < -10 and ((dm15_source < .95 or dm15_from_fits < .95))\n",
      "Collecting data...\n",
      "ERROR:  sn2006oa-20061116-not.dat None\n",
      "25 Total Spectra found\n",
      "105 questionable files currently ignored\n",
      "(0, 'questionable spectra removed', 25, 'spectra left')\n",
      "(0, 'Peculiar Ias removed', 25, 'spectra left')\n",
      "19 valid spectra found\n",
      "Arrays cleaned\n",
      "0 spectra may have telluric contamination\n",
      "13 total SNe\n",
      "removed SNe without host corrections\n",
      "Using 19 spectra of 13 SNe\n",
      "Gini balancing...\n",
      "Balanced after 4 iterations\n",
      "SQL Query: SELECT * from Spectra inner join Events ON Spectra.SN = Events.SN where phase < -10 and ((dm15_source >= .95 and dm15_source < 1.1) or (dm15_from_fits >= .95 and dm15_from_fits < 1.1))\n",
      "Collecting data...\n",
      "30 Total Spectra found\n",
      "105 questionable files currently ignored\n",
      "(1, 'questionable spectra removed', 29, 'spectra left')\n",
      "(0, 'Peculiar Ias removed', 29, 'spectra left')\n",
      "27 valid spectra found\n",
      "Arrays cleaned\n",
      "2 spectra may have telluric contamination\n",
      "11 total SNe\n",
      "removed SNe without host corrections\n",
      "Using 27 spectra of 11 SNe\n",
      "Gini balancing...\n",
      "Balanced after 7 iterations\n",
      "SQL Query: SELECT * from Spectra inner join Events ON Spectra.SN = Events.SN where phase < -10 and ((dm15_source >= 1.1 or dm15_from_fits >= 1.1))\n",
      "Collecting data...\n",
      "38 Total Spectra found\n",
      "105 questionable files currently ignored\n",
      "(0, 'questionable spectra removed', 38, 'spectra left')\n",
      "(0, 'Peculiar Ias removed', 38, 'spectra left')\n",
      "38 valid spectra found\n",
      "Arrays cleaned\n",
      "6 spectra may have telluric contamination\n",
      "11 total SNe\n",
      "removed SNe without host corrections\n",
      "Using 36 spectra of 10 SNe\n",
      "Gini balancing...\n",
      "Balanced after 20 iterations\n"
     ]
    }
   ],
   "source": [
    "comps_dm15_very_early, sn_arrays, boot_arrays = query_db.main(len(query_dm15_very_early), query_dm15_very_early, boot='nb',medmean=1, verbose=False, gini_balance=True)"
   ]
  },
  {
   "cell_type": "code",
   "execution_count": 13,
   "metadata": {
    "collapsed": false
   },
   "outputs": [],
   "source": [
    "composite.optimize_scales(comps_dm15_very_early, comps_dm15_very_early[0], True)\n",
    "query_db.set_min_num_spec(comps_dm15_very_early, 5)\n",
    "# comparison_plot(comps_dm15_very_early)\n",
    "# stacked_plot_max(comps_dm15_very_early,5,1)"
   ]
  },
  {
   "cell_type": "markdown",
   "metadata": {},
   "source": [
    "# -1 Week"
   ]
  },
  {
   "cell_type": "code",
   "execution_count": 14,
   "metadata": {
    "collapsed": true
   },
   "outputs": [],
   "source": [
    "query_dm15_m1week = [\"SELECT * from Spectra inner join Events ON Spectra.SN = Events.SN where phase >= -9 and phase <= -5 and ((dm15_source < .95 or dm15_from_fits < .95))\",\n",
    "                         \"SELECT * from Spectra inner join Events ON Spectra.SN = Events.SN where phase >= -9 and phase <= -5 and ((dm15_source >= .95 and dm15_source < 1.15) or (dm15_from_fits >= .95 and dm15_from_fits < 1.15))\",\n",
    "                         \"SELECT * from Spectra inner join Events ON Spectra.SN = Events.SN where phase >= -9 and phase <= -5 and ((dm15_source >= 1.15 and dm15_source < 1.25) or (dm15_from_fits >= 1.15 and dm15_from_fits < 1.25))\",\n",
    "                         \"SELECT * from Spectra inner join Events ON Spectra.SN = Events.SN where phase >= -9 and phase <= -5 and ((dm15_source >= 1.25 and dm15_source < 1.5) or (dm15_from_fits >= 1.25 and dm15_from_fits < 1.5))\",\n",
    "                         \"SELECT * from Spectra inner join Events ON Spectra.SN = Events.SN where phase >= -9 and phase <= -5 and ((dm15_source >= 1.5 or dm15_from_fits >= 1.5))\"]"
   ]
  },
  {
   "cell_type": "code",
   "execution_count": 15,
   "metadata": {
    "collapsed": false,
    "scrolled": true
   },
   "outputs": [
    {
     "name": "stdout",
     "output_type": "stream",
     "text": [
      "SQL Query: SELECT * from Spectra inner join Events ON Spectra.SN = Events.SN where phase >= -9 and phase <= -5 and ((dm15_source < .95 or dm15_from_fits < .95))\n",
      "Collecting data...\n",
      "71 Total Spectra found\n",
      "105 questionable files currently ignored\n",
      "(1, 'questionable spectra removed', 70, 'spectra left')\n",
      "(0, 'Peculiar Ias removed', 70, 'spectra left')\n",
      "68 valid spectra found\n",
      "Arrays cleaned\n",
      "0 spectra may have telluric contamination\n",
      "24 total SNe\n",
      "removed SNe without host corrections\n",
      "Using 68 spectra of 24 SNe\n",
      "Gini balancing...\n",
      "Balanced after 21 iterations\n",
      "SQL Query: SELECT * from Spectra inner join Events ON Spectra.SN = Events.SN where phase >= -9 and phase <= -5 and ((dm15_source >= .95 and dm15_source < 1.15) or (dm15_from_fits >= .95 and dm15_from_fits < 1.15))\n",
      "Collecting data...\n",
      "114 Total Spectra found\n",
      "105 questionable files currently ignored\n",
      "(5, 'questionable spectra removed', 109, 'spectra left')\n",
      "(0, 'Peculiar Ias removed', 109, 'spectra left')\n",
      "90 valid spectra found\n",
      "Arrays cleaned\n",
      "4 spectra may have telluric contamination\n",
      "38 total SNe\n",
      "removed SNe without host corrections\n",
      "Using 90 spectra of 37 SNe\n",
      "Gini balancing...\n",
      "Balanced after 16 iterations\n",
      "SQL Query: SELECT * from Spectra inner join Events ON Spectra.SN = Events.SN where phase >= -9 and phase <= -5 and ((dm15_source >= 1.15 and dm15_source < 1.25) or (dm15_from_fits >= 1.15 and dm15_from_fits < 1.25))\n",
      "Collecting data...\n",
      "34 Total Spectra found\n",
      "105 questionable files currently ignored\n",
      "(0, 'questionable spectra removed', 34, 'spectra left')\n",
      "(0, 'Peculiar Ias removed', 34, 'spectra left')\n",
      "30 valid spectra found\n",
      "Arrays cleaned\n",
      "4 spectra may have telluric contamination\n",
      "11 total SNe\n",
      "removed SNe without host corrections\n",
      "Using 22 spectra of 9 SNe\n",
      "Gini balancing...\n",
      "Balanced after 2 iterations\n",
      "SQL Query: SELECT * from Spectra inner join Events ON Spectra.SN = Events.SN where phase >= -9 and phase <= -5 and ((dm15_source >= 1.25 and dm15_source < 1.5) or (dm15_from_fits >= 1.25 and dm15_from_fits < 1.5))\n",
      "Collecting data...\n",
      "62 Total Spectra found\n",
      "105 questionable files currently ignored\n",
      "(1, 'questionable spectra removed', 61, 'spectra left')\n",
      "(0, 'Peculiar Ias removed', 61, 'spectra left')\n",
      "51 valid spectra found\n",
      "Arrays cleaned\n",
      "2 spectra may have telluric contamination\n",
      "15 total SNe\n",
      "removed SNe without host corrections\n",
      "Using 46 spectra of 14 SNe\n",
      "Gini balancing...\n",
      "Balanced after 8 iterations\n",
      "SQL Query: SELECT * from Spectra inner join Events ON Spectra.SN = Events.SN where phase >= -9 and phase <= -5 and ((dm15_source >= 1.5 or dm15_from_fits >= 1.5))\n",
      "Collecting data...\n",
      "31 Total Spectra found\n",
      "105 questionable files currently ignored\n",
      "(0, 'questionable spectra removed', 31, 'spectra left')\n",
      "(6, 'Peculiar Ias removed', 25, 'spectra left')\n",
      "19 valid spectra found\n",
      "Arrays cleaned\n",
      "0 spectra may have telluric contamination\n",
      "9 total SNe\n",
      "removed SNe without host corrections\n",
      "Using 19 spectra of 9 SNe\n",
      "Gini balancing...\n",
      "Balanced after 6 iterations\n"
     ]
    }
   ],
   "source": [
    "comps_dm15_m1week, sn_arrays, boot_arrays = query_db.main(len(query_dm15_m1week), query_dm15_m1week, boot='nb',medmean=1, verbose=False, gini_balance=True)"
   ]
  },
  {
   "cell_type": "code",
   "execution_count": 16,
   "metadata": {
    "collapsed": false
   },
   "outputs": [],
   "source": [
    "composite.optimize_scales(comps_dm15_m1week, comps_dm15_m1week[0], True)\n",
    "query_db.set_min_num_spec(comps_dm15_m1week, 5)\n",
    "# comparison_plot(comps_dm15_m1week)\n",
    "# stacked_plot_max(comps_dm15_m1week,5,1)"
   ]
  },
  {
   "cell_type": "markdown",
   "metadata": {},
   "source": [
    "# +1 Week"
   ]
  },
  {
   "cell_type": "code",
   "execution_count": 17,
   "metadata": {
    "collapsed": true
   },
   "outputs": [],
   "source": [
    "query_dm15_p1week = [\"SELECT * from Spectra inner join Events ON Spectra.SN = Events.SN where phase >= 5 and phase <= 9 and ((dm15_source < .95 or dm15_from_fits < .95))\",\n",
    "                         \"SELECT * from Spectra inner join Events ON Spectra.SN = Events.SN where phase >= 5 and phase <= 9 and ((dm15_source >= .95 and dm15_source < 1.15) or (dm15_from_fits >= .95 and dm15_from_fits < 1.15))\",\n",
    "                         \"SELECT * from Spectra inner join Events ON Spectra.SN = Events.SN where phase >= 5 and phase <= 9 and ((dm15_source >= 1.15 and dm15_source < 1.25) or (dm15_from_fits >= 1.15 and dm15_from_fits < 1.25))\",\n",
    "                         \"SELECT * from Spectra inner join Events ON Spectra.SN = Events.SN where phase >= 5 and phase <= 9 and ((dm15_source >= 1.25 and dm15_source < 1.5) or (dm15_from_fits >= 1.25 and dm15_from_fits < 1.5))\",\n",
    "                         \"SELECT * from Spectra inner join Events ON Spectra.SN = Events.SN where phase >= 5 and phase <= 9 and ((dm15_source >= 1.5 or dm15_from_fits >= 1.5))\"]"
   ]
  },
  {
   "cell_type": "code",
   "execution_count": 18,
   "metadata": {
    "collapsed": false,
    "scrolled": true
   },
   "outputs": [
    {
     "name": "stdout",
     "output_type": "stream",
     "text": [
      "SQL Query: SELECT * from Spectra inner join Events ON Spectra.SN = Events.SN where phase >= 5 and phase <= 9 and ((dm15_source < .95 or dm15_from_fits < .95))\n",
      "Collecting data...\n",
      "67 Total Spectra found\n",
      "105 questionable files currently ignored\n",
      "(0, 'questionable spectra removed', 67, 'spectra left')\n",
      "(0, 'Peculiar Ias removed', 67, 'spectra left')\n",
      "57 valid spectra found\n",
      "Arrays cleaned\n",
      "0 spectra may have telluric contamination\n",
      "28 total SNe\n",
      "removed SNe without host corrections\n",
      "Using 57 spectra of 28 SNe\n",
      "Gini balancing...\n",
      "Balanced after 9 iterations\n",
      "SQL Query: SELECT * from Spectra inner join Events ON Spectra.SN = Events.SN where phase >= 5 and phase <= 9 and ((dm15_source >= .95 and dm15_source < 1.15) or (dm15_from_fits >= .95 and dm15_from_fits < 1.15))\n",
      "Collecting data...\n",
      "110 Total Spectra found\n",
      "105 questionable files currently ignored\n",
      "(8, 'questionable spectra removed', 102, 'spectra left')\n",
      "(4, 'Peculiar Ias removed', 98, 'spectra left')\n",
      "90 valid spectra found\n",
      "Arrays cleaned\n",
      "4 spectra may have telluric contamination\n",
      "51 total SNe\n",
      "removed SNe without host corrections\n",
      "Using 87 spectra of 50 SNe\n",
      "Gini balancing...\n",
      "Balanced after 13 iterations\n",
      "SQL Query: SELECT * from Spectra inner join Events ON Spectra.SN = Events.SN where phase >= 5 and phase <= 9 and ((dm15_source >= 1.15 and dm15_source < 1.25) or (dm15_from_fits >= 1.15 and dm15_from_fits < 1.25))\n",
      "Collecting data...\n",
      "43 Total Spectra found\n",
      "105 questionable files currently ignored\n",
      "(2, 'questionable spectra removed', 41, 'spectra left')\n",
      "(0, 'Peculiar Ias removed', 41, 'spectra left')\n",
      "41 valid spectra found\n",
      "Arrays cleaned\n",
      "2 spectra may have telluric contamination\n",
      "19 total SNe\n",
      "removed SNe without host corrections\n",
      "Using 31 spectra of 17 SNe\n",
      "Gini balancing...\n",
      "Balanced after 6 iterations\n",
      "SQL Query: SELECT * from Spectra inner join Events ON Spectra.SN = Events.SN where phase >= 5 and phase <= 9 and ((dm15_source >= 1.25 and dm15_source < 1.5) or (dm15_from_fits >= 1.25 and dm15_from_fits < 1.5))\n",
      "Collecting data...\n",
      "76 Total Spectra found\n",
      "105 questionable files currently ignored\n",
      "(4, 'questionable spectra removed', 72, 'spectra left')\n",
      "(0, 'Peculiar Ias removed', 72, 'spectra left')\n",
      "64 valid spectra found\n",
      "Arrays cleaned\n",
      "2 spectra may have telluric contamination\n",
      "28 total SNe\n",
      "removed SNe without host corrections\n",
      "Using 60 spectra of 27 SNe\n",
      "Gini balancing...\n",
      "Balanced after 9 iterations\n",
      "SQL Query: SELECT * from Spectra inner join Events ON Spectra.SN = Events.SN where phase >= 5 and phase <= 9 and ((dm15_source >= 1.5 or dm15_from_fits >= 1.5))\n",
      "Collecting data...\n",
      "49 Total Spectra found\n",
      "105 questionable files currently ignored\n",
      "(4, 'questionable spectra removed', 45, 'spectra left')\n",
      "(1, 'Peculiar Ias removed', 44, 'spectra left')\n",
      "37 valid spectra found\n",
      "Arrays cleaned\n",
      "0 spectra may have telluric contamination\n",
      "17 total SNe\n",
      "removed SNe without host corrections\n",
      "Using 37 spectra of 17 SNe\n",
      "Gini balancing...\n",
      "Balanced after 7 iterations\n"
     ]
    }
   ],
   "source": [
    "comps_dm15_p1week, sn_arrays, boot_arrays = query_db.main(len(query_dm15_p1week), query_dm15_p1week, boot='nb',medmean=1, verbose=False, gini_balance=True)"
   ]
  },
  {
   "cell_type": "code",
   "execution_count": 19,
   "metadata": {
    "collapsed": false
   },
   "outputs": [],
   "source": [
    "# print comps_dm15_p1week[0].flux\n",
    "# plt.plot(comps_dm15_p1week[0].wavelength, comps_dm15_p1week[0].flux)\n",
    "# plt.show()\n",
    "# composite.optimize_scales(comps_dm15_p1week, comps_dm15_p1week[0], True)\n",
    "query_db.set_min_num_spec(comps_dm15_p1week, 5)\n",
    "# comparison_plot(comps_dm15_p1week)\n",
    "# stacked_plot_max(comps_dm15_p1week,5,1)"
   ]
  },
  {
   "cell_type": "markdown",
   "metadata": {},
   "source": [
    "# +2 Weeks"
   ]
  },
  {
   "cell_type": "code",
   "execution_count": 20,
   "metadata": {
    "collapsed": true
   },
   "outputs": [],
   "source": [
    "query_dm15_p2week = [\"SELECT * from Spectra inner join Events ON Spectra.SN = Events.SN where phase >= 12 and phase <= 16 and ((dm15_source < 1. or dm15_from_fits < 1.))\",\n",
    "                         \"SELECT * from Spectra inner join Events ON Spectra.SN = Events.SN where phase >= 12 and phase <= 16 and ((dm15_source >= 1. and dm15_source < 1.15) or (dm15_from_fits >= 1. and dm15_from_fits < 1.15))\",\n",
    "                         \"SELECT * from Spectra inner join Events ON Spectra.SN = Events.SN where phase >= 12 and phase <= 16 and ((dm15_source >= 1.15 and dm15_source < 1.3) or ((dm15_from_fits >= 1.1 and dm15_from_fits < 1.3)))\",\n",
    "                         \"SELECT * from Spectra inner join Events ON Spectra.SN = Events.SN where phase >= 12 and phase <= 16 and ((dm15_source >= 1.3 and dm15_source < 1.5) or ((dm15_from_fits >= 1.3 and dm15_from_fits < 1.5)))\",\n",
    "                         \"SELECT * from Spectra inner join Events ON Spectra.SN = Events.SN where phase >= 12 and phase <= 16 and ((dm15_source >= 1.5 or dm15_from_fits >= 1.5))\"]"
   ]
  },
  {
   "cell_type": "code",
   "execution_count": 21,
   "metadata": {
    "collapsed": false,
    "scrolled": true
   },
   "outputs": [
    {
     "name": "stdout",
     "output_type": "stream",
     "text": [
      "SQL Query: SELECT * from Spectra inner join Events ON Spectra.SN = Events.SN where phase >= 12 and phase <= 16 and ((dm15_source < 1. or dm15_from_fits < 1.))\n",
      "Collecting data...\n",
      "64 Total Spectra found\n",
      "105 questionable files currently ignored\n",
      "(2, 'questionable spectra removed', 62, 'spectra left')\n",
      "(1, 'Peculiar Ias removed', 61, 'spectra left')\n",
      "58 valid spectra found\n",
      "Arrays cleaned\n",
      "0 spectra may have telluric contamination\n",
      "30 total SNe\n",
      "removed SNe without host corrections\n",
      "Using 53 spectra of 28 SNe\n",
      "Gini balancing...\n",
      "Balanced after 7 iterations\n",
      "SQL Query: SELECT * from Spectra inner join Events ON Spectra.SN = Events.SN where phase >= 12 and phase <= 16 and ((dm15_source >= 1. and dm15_source < 1.15) or (dm15_from_fits >= 1. and dm15_from_fits < 1.15))\n",
      "Collecting data...\n",
      "77 Total Spectra found\n",
      "105 questionable files currently ignored\n",
      "(1, 'questionable spectra removed', 76, 'spectra left')\n",
      "(0, 'Peculiar Ias removed', 76, 'spectra left')\n",
      "71 valid spectra found\n",
      "Arrays cleaned\n",
      "2 spectra may have telluric contamination\n",
      "43 total SNe\n",
      "removed SNe without host corrections\n",
      "Using 71 spectra of 43 SNe\n",
      "Gini balancing...\n",
      "Balanced after 10 iterations\n",
      "SQL Query: SELECT * from Spectra inner join Events ON Spectra.SN = Events.SN where phase >= 12 and phase <= 16 and ((dm15_source >= 1.15 and dm15_source < 1.3) or ((dm15_from_fits >= 1.1 and dm15_from_fits < 1.3)))\n",
      "Collecting data...\n",
      "42 Total Spectra found\n",
      "105 questionable files currently ignored\n",
      "(2, 'questionable spectra removed', 40, 'spectra left')\n",
      "(0, 'Peculiar Ias removed', 40, 'spectra left')\n",
      "39 valid spectra found\n",
      "Arrays cleaned\n",
      "4 spectra may have telluric contamination\n",
      "23 total SNe\n",
      "removed SNe without host corrections\n",
      "Using 31 spectra of 21 SNe\n",
      "Gini balancing...\n",
      "Balanced after 6 iterations\n",
      "SQL Query: SELECT * from Spectra inner join Events ON Spectra.SN = Events.SN where phase >= 12 and phase <= 16 and ((dm15_source >= 1.3 and dm15_source < 1.5) or ((dm15_from_fits >= 1.3 and dm15_from_fits < 1.5)))\n",
      "Collecting data...\n",
      "38 Total Spectra found\n",
      "105 questionable files currently ignored\n",
      "(2, 'questionable spectra removed', 36, 'spectra left')\n",
      "(0, 'Peculiar Ias removed', 36, 'spectra left')\n",
      "34 valid spectra found\n",
      "Arrays cleaned\n",
      "1 spectra may have telluric contamination\n",
      "19 total SNe\n",
      "removed SNe without host corrections\n",
      "Using 34 spectra of 19 SNe\n",
      "Gini balancing...\n",
      "Balanced after 9 iterations\n",
      "SQL Query: SELECT * from Spectra inner join Events ON Spectra.SN = Events.SN where phase >= 12 and phase <= 16 and ((dm15_source >= 1.5 or dm15_from_fits >= 1.5))\n",
      "Collecting data...\n",
      "49 Total Spectra found\n",
      "105 questionable files currently ignored\n",
      "(4, 'questionable spectra removed', 45, 'spectra left')\n",
      "(4, 'Peculiar Ias removed', 41, 'spectra left')\n",
      "34 valid spectra found\n",
      "Arrays cleaned\n",
      "0 spectra may have telluric contamination\n",
      "16 total SNe\n",
      "removed SNe without host corrections\n",
      "Using 34 spectra of 16 SNe\n",
      "Gini balancing...\n",
      "Balanced after 9 iterations\n"
     ]
    }
   ],
   "source": [
    "comps_dm15_p2week, sn_arrays, boot_arrays = query_db.main(len(query_dm15_p2week), query_dm15_p2week, boot='nb',medmean=1, verbose=False, gini_balance=True)"
   ]
  },
  {
   "cell_type": "code",
   "execution_count": 22,
   "metadata": {
    "collapsed": false
   },
   "outputs": [],
   "source": [
    "composite.optimize_scales(comps_dm15_p2week, comps_dm15_p2week[0], True)\n",
    "query_db.set_min_num_spec(comps_dm15_p2week, 5)\n",
    "# comparison_plot(comps_dm15_p2week)\n",
    "# stacked_plot_max(comps_dm15_p2week,5,1)"
   ]
  },
  {
   "cell_type": "markdown",
   "metadata": {},
   "source": [
    "# +1 Month"
   ]
  },
  {
   "cell_type": "code",
   "execution_count": 23,
   "metadata": {
    "collapsed": true
   },
   "outputs": [],
   "source": [
    "query_dm15_p1month = [\"SELECT * from Spectra inner join Events ON Spectra.SN = Events.SN where phase >= 26 and phase <= 34 and ((dm15_source < .95 or dm15_from_fits < .95))\",\n",
    "                         \"SELECT * from Spectra inner join Events ON Spectra.SN = Events.SN where phase >= 26 and phase <= 34 and ((dm15_source >= .95 and dm15_source < 1.1) or (dm15_from_fits >= .95 and dm15_from_fits < 1.1))\",\n",
    "                         \"SELECT * from Spectra inner join Events ON Spectra.SN = Events.SN where phase >= 26 and phase <= 34 and ((dm15_source >= 1.1 and dm15_source < 1.3) or ((dm15_from_fits >= 1.1 and dm15_from_fits < 1.3)))\",\n",
    "                         \"SELECT * from Spectra inner join Events ON Spectra.SN = Events.SN where phase >= 26 and phase <= 34 and ((dm15_source >= 1.3 and dm15_source < 1.5) or ((dm15_from_fits >= 1.3 and dm15_from_fits < 1.5)))\",\n",
    "                         \"SELECT * from Spectra inner join Events ON Spectra.SN = Events.SN where phase >= 26 and phase <= 34 and ((dm15_source >= 1.5 or dm15_from_fits >= 1.5))\"]"
   ]
  },
  {
   "cell_type": "code",
   "execution_count": 24,
   "metadata": {
    "collapsed": false,
    "scrolled": true
   },
   "outputs": [
    {
     "name": "stdout",
     "output_type": "stream",
     "text": [
      "SQL Query: SELECT * from Spectra inner join Events ON Spectra.SN = Events.SN where phase >= 26 and phase <= 34 and ((dm15_source < .95 or dm15_from_fits < .95))\n",
      "Collecting data...\n",
      "43 Total Spectra found\n",
      "105 questionable files currently ignored\n",
      "(0, 'questionable spectra removed', 43, 'spectra left')\n",
      "(0, 'Peculiar Ias removed', 43, 'spectra left')\n",
      "43 valid spectra found\n",
      "Arrays cleaned\n",
      "0 spectra may have telluric contamination\n",
      "19 total SNe\n",
      "removed SNe without host corrections\n",
      "Using 42 spectra of 18 SNe\n",
      "Gini balancing...\n",
      "Balanced after 7 iterations\n",
      "SQL Query: SELECT * from Spectra inner join Events ON Spectra.SN = Events.SN where phase >= 26 and phase <= 34 and ((dm15_source >= .95 and dm15_source < 1.1) or (dm15_from_fits >= .95 and dm15_from_fits < 1.1))\n",
      "Collecting data...\n",
      "ERROR:  2002bo_20020421_0_2_00.dat None\n",
      "77 Total Spectra found\n",
      "105 questionable files currently ignored\n",
      "(2, 'questionable spectra removed', 75, 'spectra left')\n",
      "(3, 'Peculiar Ias removed', 72, 'spectra left')\n",
      "68 valid spectra found\n",
      "Arrays cleaned\n",
      "2 spectra may have telluric contamination\n",
      "39 total SNe\n",
      "removed SNe without host corrections\n",
      "Using 68 spectra of 39 SNe\n",
      "Gini balancing...\n",
      "Balanced after 22 iterations\n",
      "SQL Query: SELECT * from Spectra inner join Events ON Spectra.SN = Events.SN where phase >= 26 and phase <= 34 and ((dm15_source >= 1.1 and dm15_source < 1.3) or ((dm15_from_fits >= 1.1 and dm15_from_fits < 1.3)))\n",
      "Collecting data...\n",
      "98 Total Spectra found\n",
      "105 questionable files currently ignored\n",
      "(3, 'questionable spectra removed', 95, 'spectra left')\n",
      "(0, 'Peculiar Ias removed', 95, 'spectra left')\n",
      "86 valid spectra found\n",
      "Arrays cleaned\n",
      "2 spectra may have telluric contamination\n",
      "44 total SNe\n",
      "removed SNe without host corrections\n",
      "Using 72 spectra of 42 SNe\n",
      "Gini balancing...\n",
      "Balanced after 19 iterations\n",
      "SQL Query: SELECT * from Spectra inner join Events ON Spectra.SN = Events.SN where phase >= 26 and phase <= 34 and ((dm15_source >= 1.3 and dm15_source < 1.5) or ((dm15_from_fits >= 1.3 and dm15_from_fits < 1.5)))\n",
      "Collecting data...\n",
      "31 Total Spectra found\n",
      "105 questionable files currently ignored\n",
      "(0, 'questionable spectra removed', 31, 'spectra left')\n",
      "(0, 'Peculiar Ias removed', 31, 'spectra left')\n",
      "29 valid spectra found\n",
      "Arrays cleaned\n",
      "0 spectra may have telluric contamination\n",
      "15 total SNe\n",
      "removed SNe without host corrections\n",
      "Using 29 spectra of 15 SNe\n",
      "Gini balancing...\n",
      "Balanced after 9 iterations\n",
      "SQL Query: SELECT * from Spectra inner join Events ON Spectra.SN = Events.SN where phase >= 26 and phase <= 34 and ((dm15_source >= 1.5 or dm15_from_fits >= 1.5))\n",
      "Collecting data...\n",
      "46 Total Spectra found\n",
      "105 questionable files currently ignored\n",
      "(0, 'questionable spectra removed', 46, 'spectra left')\n",
      "(4, 'Peculiar Ias removed', 42, 'spectra left')\n",
      "38 valid spectra found\n",
      "Arrays cleaned\n",
      "0 spectra may have telluric contamination\n",
      "22 total SNe\n",
      "removed SNe without host corrections\n",
      "Using 38 spectra of 22 SNe\n",
      "Gini balancing...\n",
      "Balanced after 8 iterations\n"
     ]
    }
   ],
   "source": [
    "comps_dm15_p1month, sn_arrays, boot_arrays = query_db.main(len(query_dm15_p1month), query_dm15_p1month, boot='nb',medmean=1, verbose=False, gini_balance=True)"
   ]
  },
  {
   "cell_type": "code",
   "execution_count": 25,
   "metadata": {
    "collapsed": false
   },
   "outputs": [],
   "source": [
    "composite.optimize_scales(comps_dm15_p1month, comps_dm15_p1month[0], True)\n",
    "query_db.set_min_num_spec(comps_dm15_p1month, 5)\n",
    "# comparison_plot(comps_dm15_p1month)\n",
    "# stacked_plot_max(comps_dm15_p1month,5,1)"
   ]
  },
  {
   "cell_type": "markdown",
   "metadata": {},
   "source": [
    "# +2 Months"
   ]
  },
  {
   "cell_type": "code",
   "execution_count": 26,
   "metadata": {
    "collapsed": true
   },
   "outputs": [],
   "source": [
    "query_dm15_p2month = [\"SELECT * from Spectra inner join Events ON Spectra.SN = Events.SN where phase >= 56 and phase <= 64 and ((dm15_source < 1. or dm15_from_fits < 1.))\",\n",
    "                         \"SELECT * from Spectra inner join Events ON Spectra.SN = Events.SN where phase >= 56 and phase <= 64 and ((dm15_source >= 1. and dm15_source < 1.15) or (dm15_from_fits >= 1. and dm15_from_fits < 1.15))\",\n",
    "                         \"SELECT * from Spectra inner join Events ON Spectra.SN = Events.SN where phase >= 56 and phase <= 64 and ((dm15_source >= 1.15 and dm15_source < 1.35) or (dm15_from_fits >= 1.15 and dm15_from_fits < 1.35))\",\n",
    "                         \"SELECT * from Spectra inner join Events ON Spectra.SN = Events.SN where phase >= 56 and phase <= 64 and ((dm15_source >= 1.35 or dm15_from_fits >= 1.35))\"]"
   ]
  },
  {
   "cell_type": "code",
   "execution_count": 27,
   "metadata": {
    "collapsed": false,
    "scrolled": true
   },
   "outputs": [
    {
     "name": "stdout",
     "output_type": "stream",
     "text": [
      "SQL Query: SELECT * from Spectra inner join Events ON Spectra.SN = Events.SN where phase >= 56 and phase <= 64 and ((dm15_source < 1. or dm15_from_fits < 1.))\n",
      "Collecting data...\n",
      "26 Total Spectra found\n",
      "105 questionable files currently ignored\n",
      "(0, 'questionable spectra removed', 26, 'spectra left')\n",
      "(2, 'Peculiar Ias removed', 24, 'spectra left')\n",
      "23 valid spectra found\n",
      "Arrays cleaned\n",
      "0 spectra may have telluric contamination\n",
      "14 total SNe\n",
      "removed SNe without host corrections\n",
      "Using 23 spectra of 14 SNe\n",
      "Gini balancing...\n",
      "Balanced after 7 iterations\n",
      "SQL Query: SELECT * from Spectra inner join Events ON Spectra.SN = Events.SN where phase >= 56 and phase <= 64 and ((dm15_source >= 1. and dm15_source < 1.15) or (dm15_from_fits >= 1. and dm15_from_fits < 1.15))\n",
      "Collecting data...\n",
      "36 Total Spectra found\n",
      "105 questionable files currently ignored\n",
      "(0, 'questionable spectra removed', 36, 'spectra left')\n",
      "(0, 'Peculiar Ias removed', 36, 'spectra left')\n",
      "34 valid spectra found\n",
      "Arrays cleaned\n",
      "1 spectra may have telluric contamination\n",
      "19 total SNe\n",
      "removed SNe without host corrections\n",
      "Using 34 spectra of 19 SNe\n",
      "Gini balancing...\n",
      "Balanced after 11 iterations\n",
      "SQL Query: SELECT * from Spectra inner join Events ON Spectra.SN = Events.SN where phase >= 56 and phase <= 64 and ((dm15_source >= 1.15 and dm15_source < 1.35) or (dm15_from_fits >= 1.15 and dm15_from_fits < 1.35))\n",
      "Collecting data...\n",
      "23 Total Spectra found\n",
      "105 questionable files currently ignored\n",
      "(3, 'questionable spectra removed', 20, 'spectra left')\n",
      "(0, 'Peculiar Ias removed', 20, 'spectra left')\n",
      "18 valid spectra found\n",
      "Arrays cleaned\n",
      "0 spectra may have telluric contamination\n",
      "12 total SNe\n",
      "removed SNe without host corrections\n",
      "Using 13 spectra of 11 SNe\n",
      "Gini balancing...\n",
      "Balanced after 2 iterations\n",
      "SQL Query: SELECT * from Spectra inner join Events ON Spectra.SN = Events.SN where phase >= 56 and phase <= 64 and ((dm15_source >= 1.35 or dm15_from_fits >= 1.35))\n",
      "Collecting data...\n",
      "13 Total Spectra found\n",
      "105 questionable files currently ignored\n",
      "(0, 'questionable spectra removed', 13, 'spectra left')\n",
      "(1, 'Peculiar Ias removed', 12, 'spectra left')\n",
      "12 valid spectra found\n",
      "Arrays cleaned\n",
      "0 spectra may have telluric contamination\n",
      "10 total SNe\n",
      "removed SNe without host corrections\n",
      "Using 12 spectra of 10 SNe\n",
      "Gini balancing...\n",
      "Balanced after 3 iterations\n"
     ]
    }
   ],
   "source": [
    "comps_dm15_p2month, sn_arrays, boot_arrays = query_db.main(len(query_dm15_p2month), query_dm15_p2month, boot='nb',medmean=1, verbose=False, gini_balance=True)"
   ]
  },
  {
   "cell_type": "code",
   "execution_count": 28,
   "metadata": {
    "collapsed": false
   },
   "outputs": [],
   "source": [
    "composite.optimize_scales(comps_dm15_p2month, comps_dm15_p2month[0], True)\n",
    "query_db.set_min_num_spec(comps_dm15_p2month, 5)\n",
    "# comparison_plot(comps_dm15_p2month)\n",
    "# stacked_plot_max(comps_dm15_p2month,5,1)"
   ]
  },
  {
   "cell_type": "markdown",
   "metadata": {},
   "source": [
    "# +1 Year"
   ]
  },
  {
   "cell_type": "code",
   "execution_count": 29,
   "metadata": {
    "collapsed": true
   },
   "outputs": [],
   "source": [
    "query_dm15_plong = [\"SELECT * from Spectra inner join Events ON Spectra.SN = Events.SN where phase >= 180 and ((dm15_source < 1.2 or dm15_from_fits < 1.2))\",\n",
    "                         \"SELECT * from Spectra inner join Events ON Spectra.SN = Events.SN where phase >= 180 and ((dm15_source >= 1.2 and dm15_source < 1.8) or (dm15_from_fits >= 1.2 and dm15_from_fits < 1.8))\"]"
   ]
  },
  {
   "cell_type": "code",
   "execution_count": 30,
   "metadata": {
    "collapsed": false,
    "scrolled": true
   },
   "outputs": [
    {
     "name": "stdout",
     "output_type": "stream",
     "text": [
      "SQL Query: SELECT * from Spectra inner join Events ON Spectra.SN = Events.SN where phase >= 180 and ((dm15_source < 1.2 or dm15_from_fits < 1.2))\n",
      "Collecting data...\n",
      "ERROR:  1998bu_19990126_0_2_00.dat None\n",
      "47 Total Spectra found\n",
      "105 questionable files currently ignored\n",
      "(0, 'questionable spectra removed', 47, 'spectra left')\n",
      "(2, 'Peculiar Ias removed', 45, 'spectra left')\n",
      "45 valid spectra found\n",
      "Arrays cleaned\n",
      "0 spectra may have telluric contamination\n",
      "16 total SNe\n",
      "removed SNe without host corrections\n",
      "Using 41 spectra of 14 SNe\n",
      "Gini balancing...\n",
      "Balanced after 49 iterations\n",
      "SQL Query: SELECT * from Spectra inner join Events ON Spectra.SN = Events.SN where phase >= 180 and ((dm15_source >= 1.2 and dm15_source < 1.8) or (dm15_from_fits >= 1.2 and dm15_from_fits < 1.8))\n",
      "Collecting data...\n",
      "ERROR:  2003hv_20040901_51567_151964_00.dat None\n",
      "21 Total Spectra found\n",
      "105 questionable files currently ignored\n",
      "(1, 'questionable spectra removed', 20, 'spectra left')\n",
      "(7, 'Peculiar Ias removed', 13, 'spectra left')\n",
      "9 valid spectra found\n",
      "Arrays cleaned\n",
      "0 spectra may have telluric contamination\n",
      "7 total SNe\n",
      "removed SNe without host corrections\n",
      "Using 8 spectra of 6 SNe\n",
      "Gini balancing...\n",
      "Balanced after 2 iterations\n"
     ]
    }
   ],
   "source": [
    "comps_dm15_plong, sn_arrays, boot_arrays = query_db.main(len(query_dm15_plong), query_dm15_plong, boot='nb',medmean=1, verbose=False, gini_balance=True)"
   ]
  },
  {
   "cell_type": "code",
   "execution_count": 31,
   "metadata": {
    "collapsed": false
   },
   "outputs": [],
   "source": [
    "composite.optimize_scales(comps_dm15_plong, comps_dm15_plong[0], True)\n",
    "query_db.set_min_num_spec(comps_dm15_plong, 4)\n",
    "# comparison_plot(comps_dm15_plong)\n",
    "# stacked_plot_max(comps_dm15_plong,20,1)"
   ]
  },
  {
   "cell_type": "code",
   "execution_count": 32,
   "metadata": {
    "collapsed": false
   },
   "outputs": [],
   "source": [
    "#normalize to first comp\n",
    "comps_dm15_very_early = query_db.normalize_comps(comps_dm15_very_early, scale=10.)\n",
    "comps_dm15_m1week = query_db.normalize_comps(comps_dm15_m1week, scale=10.)\n",
    "comps_dm15_max_fewer_bins = query_db.normalize_comps(comps_dm15_max_fewer_bins, scale=10.)\n",
    "comps_dm15_p1week = query_db.normalize_comps(comps_dm15_p1week, scale=10.)\n",
    "comps_dm15_p2week = query_db.normalize_comps(comps_dm15_p2week, scale=10.)\n",
    "comps_dm15_p1month = query_db.normalize_comps(comps_dm15_p1month, scale=10.)\n",
    "comps_dm15_p2month = query_db.normalize_comps(comps_dm15_p2month, scale=10.)\n",
    "comps_dm15_plong = query_db.normalize_comps(comps_dm15_plong, scale=10.)"
   ]
  },
  {
   "cell_type": "code",
   "execution_count": 33,
   "metadata": {
    "collapsed": false
   },
   "outputs": [],
   "source": [
    "# composite.optimize_scales(comps_dm15_very_early, comps_dm15_very_early[0], True)\n",
    "# composite.optimize_scales(comps_dm15_m1week, comps_dm15_m1week[0], True)\n",
    "# composite.optimize_scales(comps_dm15_max_fewer_bins, comps_dm15_max_fewer_bins[0], True)\n",
    "# composite.optimize_scales(comps_dm15_p1week, comps_dm15_p1week[0], True)\n",
    "# composite.optimize_scales(comps_dm15_p2week, comps_dm15_p2week[0], True)\n",
    "# composite.optimize_scales(comps_dm15_p1month, comps_dm15_p1month[0], True)\n",
    "# composite.optimize_scales(comps_dm15_p2month, comps_dm15_p2month[0], True)\n",
    "# composite.optimize_scales(comps_dm15_plong, comps_dm15_plong[0], True)"
   ]
  },
  {
   "cell_type": "code",
   "execution_count": 35,
   "metadata": {
    "collapsed": false
   },
   "outputs": [],
   "source": [
    "f, axarr = plt.subplots(8, 5, figsize=[30,20], sharex = True, sharey = True)\n",
    "plt.rc('font', family='serif')\n",
    "f.text(0.51, 0.06, 'Rest Wavelength ($\\mathrm{\\AA}$)', ha='center', fontsize=30)\n",
    "f.text(0.1, 0.5, 'Relative Flux', va='center', rotation='vertical', fontsize=30)\n",
    "axarr[0, 0].set_title('$\\Delta m_{15} < 0.95$', fontsize=25)\n",
    "axarr[0, 1].set_title('$0.95 < \\Delta m_{15} < 1.15$', fontsize=25)\n",
    "axarr[0, 2].set_title('$1.15 < \\Delta m_{15} < 1.25$',fontsize=25)\n",
    "axarr[0, 3].set_title('$1.25 < \\Delta m_{15} < 1.50$', fontsize=25)\n",
    "axarr[0, 4].set_title('$\\Delta m_{15} > 1.50$', fontsize=25)\n",
    "\n",
    "axarr[0, 4].yaxis.set_label_position(\"right\")\n",
    "axarr[1, 4].yaxis.set_label_position(\"right\")\n",
    "axarr[2, 4].yaxis.set_label_position(\"right\")\n",
    "axarr[3, 4].yaxis.set_label_position(\"right\")\n",
    "axarr[4, 4].yaxis.set_label_position(\"right\")\n",
    "axarr[5, 4].yaxis.set_label_position(\"right\")\n",
    "axarr[6, 4].yaxis.set_label_position(\"right\")\n",
    "axarr[7, 4].yaxis.set_label_position(\"right\")\n",
    "axarr[0, 4].set_ylabel(r'$\\tau$$ < -10$', fontsize=16)\n",
    "axarr[1, 4].set_ylabel(r'$-9 < $$\\tau$$ < -5$', fontsize=16)\n",
    "axarr[2, 4].set_ylabel(r'$-3 < $$\\tau$$ < +3$',fontsize=16)\n",
    "axarr[3, 4].set_ylabel(r'$+5 < $$\\tau$$ < +9$', fontsize=16)\n",
    "axarr[4, 4].set_ylabel(r'$+12 < $$\\tau$$ < +16$', fontsize=16)\n",
    "axarr[5, 4].set_ylabel(r'$+26 < $$\\tau$$ < +34$', fontsize=16)\n",
    "axarr[6, 4].set_ylabel(r'$+56 < $$\\tau$$ < +64$', fontsize=16)\n",
    "axarr[7, 4].set_ylabel(r'$\\tau$$ > +180$', fontsize=16)\n",
    "i = 0\n",
    "for comp in comps_dm15_very_early:\n",
    "    dm15 = np.round(np.average(comp.dm15_array[comp.x1:comp.x2]),2)\n",
    "#     axarr[0, i].text(9700, .7, dm15)\n",
    "    axarr[0, i].plot(comp.wavelength[comp.x1:comp.x2], comp.flux[comp.x1:comp.x2], color = '#3F5D7D')\n",
    "#     axarr[0, i].fill_between(comp.wavelength[comp.x1:comp.x2], \n",
    "#                              comp.low_conf[comp.x1:comp.x2], \n",
    "#                              comp.up_conf[comp.x1:comp.x2], alpha = 0.5)\n",
    "    axarr[0, i].text(8000,  6, \"$N = $ \" + str(np.amax(comp.spec_bin[comp.x1:comp.x2])), fontsize=18)\n",
    "    i+=1\n",
    "    \n",
    "i = 0\n",
    "for comp in comps_dm15_m1week:\n",
    "    dm15 = np.round(np.average(comp.dm15_array[comp.x1:comp.x2]),2)\n",
    "#     axarr[1, i].text(9700, .7, dm15)\n",
    "    axarr[1, i].plot(comp.wavelength[comp.x1:comp.x2], comp.flux[comp.x1:comp.x2], color = '#3F5D7D')\n",
    "#     axarr[1, i].fill_between(comp.wavelength[comp.x1:comp.x2], \n",
    "#                              comp.low_conf[comp.x1:comp.x2], \n",
    "#                              comp.up_conf[comp.x1:comp.x2], alpha = 0.5)\n",
    "    axarr[1, i].text(8000,  6, \"N = \" + str(np.amax(comp.spec_bin[comp.x1:comp.x2])), fontsize=18)\n",
    "    i+=1\n",
    "    \n",
    "i = 0\n",
    "for comp in comps_dm15_max_fewer_bins:\n",
    "    dm15 = np.round(np.average(comp.dm15_array[comp.x1:comp.x2]),2)\n",
    "#     axarr[2, i].text(9700, .7, dm15)\n",
    "    axarr[2, i].plot(comp.wavelength[comp.x1:comp.x2], comp.flux[comp.x1:comp.x2], color = '#3F5D7D')\n",
    "#     axarr[2, i].fill_between(comp.wavelength[comp.x1:comp.x2], \n",
    "#                              comp.low_conf[comp.x1:comp.x2], \n",
    "#                              comp.up_conf[comp.x1:comp.x2], alpha = 0.5)\n",
    "    axarr[2, i].text(8000,  6, \"N = \" + str(np.amax(comp.spec_bin[comp.x1:comp.x2])), fontsize=18)\n",
    "    i+=1\n",
    "\n",
    "i = 0\n",
    "for comp in comps_dm15_p1week:\n",
    "    dm15 = np.round(np.average(comp.dm15_array[comp.x1:comp.x2]),2)\n",
    "#     axarr[3, i].text(9700, .7, dm15)\n",
    "    axarr[3, i].plot(comp.wavelength[comp.x1:comp.x2], comp.flux[comp.x1:comp.x2], color = '#3F5D7D')\n",
    "#     axarr[3, i].fill_between(comp.wavelength[comp.x1:comp.x2], \n",
    "#                              comp.low_conf[comp.x1:comp.x2], \n",
    "#                              comp.up_conf[comp.x1:comp.x2], alpha = 0.5)\n",
    "    axarr[3, i].text(8000,  6, \"N = \" + str(np.amax(comp.spec_bin[comp.x1:comp.x2])), fontsize=18)\n",
    "    i+=1\n",
    "\n",
    "i = 0\n",
    "for comp in comps_dm15_p2week:\n",
    "    dm15 = np.round(np.average(comp.dm15_array[comp.x1:comp.x2]),2)\n",
    "#     axarr[4, i].text(9700, .7, dm15)\n",
    "    axarr[4, i].plot(comp.wavelength[comp.x1:comp.x2], comp.flux[comp.x1:comp.x2], color = '#3F5D7D')\n",
    "#     axarr[4, i].fill_between(comp.wavelength[comp.x1:comp.x2], \n",
    "#                              comp.low_conf[comp.x1:comp.x2], \n",
    "#                              comp.up_conf[comp.x1:comp.x2], alpha = 0.5)\n",
    "    axarr[4, i].text(8000,  6, \"N = \" + str(np.amax(comp.spec_bin[comp.x1:comp.x2])), fontsize=18)\n",
    "    i+=1\n",
    "    \n",
    "i = 0\n",
    "for comp in comps_dm15_p1month:\n",
    "    dm15 = np.round(np.average(comp.dm15_array[comp.x1:comp.x2]),2)\n",
    "#     axarr[5, i].text(9700, .7, dm15)\n",
    "    axarr[5, i].plot(comp.wavelength[comp.x1:comp.x2], comp.flux[comp.x1:comp.x2], color = '#3F5D7D')\n",
    "#     axarr[5, i].fill_between(comp.wavelength[comp.x1:comp.x2], \n",
    "#                              comp.low_conf[comp.x1:comp.x2], \n",
    "#                              comp.up_conf[comp.x1:comp.x2], alpha = 0.5)\n",
    "    axarr[5, i].text(8000,  6, \"N = \" + str(np.amax(comp.spec_bin[comp.x1:comp.x2])), fontsize=18)\n",
    "    i+=1\n",
    "\n",
    "i = 0\n",
    "for comp in comps_dm15_p2month:\n",
    "    dm15 = np.round(np.average(comp.dm15_array[comp.x1:comp.x2]),2)\n",
    "#     axarr[6, i].text(9700, .7, dm15)\n",
    "    axarr[6, i].plot(comp.wavelength[comp.x1:comp.x2], comp.flux[comp.x1:comp.x2], color = '#3F5D7D')\n",
    "#     axarr[6, i].fill_between(comp.wavelength[comp.x1:comp.x2], \n",
    "#                              comp.low_conf[comp.x1:comp.x2], \n",
    "#                              comp.up_conf[comp.x1:comp.x2], alpha = 0.5)\n",
    "    axarr[6, i].text(8000,  6, \"N = \" + str(np.amax(comp.spec_bin[comp.x1:comp.x2])), fontsize=18)\n",
    "    i+=1\n",
    "\n",
    "dm15 = np.round(np.average(comps_dm15_plong[0].dm15_array[comps_dm15_plong[0].x1:comps_dm15_plong[0].x2]),2)\n",
    "# axarr[7, 1].text(9700, .7, dm15)\n",
    "axarr[7, 1].plot(comps_dm15_plong[0].wavelength[comps_dm15_plong[0].x1:comps_dm15_plong[0].x2], \n",
    "                 comps_dm15_plong[0].flux[comps_dm15_plong[0].x1:comps_dm15_plong[0].x2], color = '#3F5D7D')\n",
    "# axarr[7, 1].fill_between(comps_dm15_plong[0].wavelength[comps_dm15_plong[0].x1:comps_dm15_plong[0].x2], \n",
    "#                          comps_dm15_plong[0].low_conf[comps_dm15_plong[0].x1:comps_dm15_plong[0].x2], \n",
    "#                          comps_dm15_plong[0].up_conf[comps_dm15_plong[0].x1:comps_dm15_plong[0].x2], alpha = 0.5)\n",
    "axarr[7, 1].text(8000,  6, \"N = \" + str(np.amax(comps_dm15_plong[0].spec_bin[comps_dm15_plong[0].x1:comps_dm15_plong[0].x2])), fontsize=18)\n",
    "\n",
    "dm15 = np.round(np.average(comps_dm15_plong[1].dm15_array[comps_dm15_plong[1].x1:comps_dm15_plong[1].x2]),2)\n",
    "# axarr[7, 2].text(9700, .7, dm15)\n",
    "axarr[7, 2].plot(comps_dm15_plong[1].wavelength[comps_dm15_plong[1].x1:comps_dm15_plong[1].x2], \n",
    "                 comps_dm15_plong[1].flux[comps_dm15_plong[1].x1:comps_dm15_plong[1].x2], color = '#3F5D7D')\n",
    "# axarr[7, 2].fill_between(comps_dm15_plong[1].wavelength[comps_dm15_plong[1].x1:comps_dm15_plong[1].x2], \n",
    "#                          comps_dm15_plong[1].low_conf[comps_dm15_plong[1].x1:comps_dm15_plong[1].x2], \n",
    "#                          comps_dm15_plong[1].up_conf[comps_dm15_plong[1].x1:comps_dm15_plong[1].x2], alpha = 0.5)\n",
    "axarr[7, 2].text(8000,  6, \"N = \" + str(np.amax(comps_dm15_plong[1].spec_bin[comps_dm15_plong[1].x1:comps_dm15_plong[1].x2])), fontsize=18)\n",
    "\n",
    "f.subplots_adjust(hspace=0, wspace=0)\n",
    "plt.setp([a.get_xticklabels() for a in f.axes[:-5]], visible=False)\n",
    "need_label = [29,31,32,33]\n",
    "for i in range(len(f.axes)):\n",
    "    f.axes[i].set_ylim([-.1*10,1.1*10])\n",
    "    f.axes[i].set_xlim([3000,11000])\n",
    "    f.axes[i].minorticks_on()\n",
    "    # ax.xaxis.set_ticks(np.arange(np.round(old_wave[0],-3),np.round(old_wave[-1],-3),1000))\n",
    "    f.axes[i].tick_params(\n",
    "        which='major', \n",
    "        bottom='on', \n",
    "        top='on',\n",
    "        left='on',\n",
    "        right='on',\n",
    "        length=10)\n",
    "    f.axes[i].tick_params(\n",
    "        which='minor', \n",
    "        bottom='on', \n",
    "        top='on',\n",
    "        left='on',\n",
    "        right='on',\n",
    "        length=5)\n",
    "#     if i%5 != 0 and i not in need_label:\n",
    "#         pip plt.setp(f.axes[i].get_yticklabels(), visible=False)\n",
    "    f.axes[i].xaxis.set_ticks(np.arange(4000,11000,1000))\n",
    "# f.delaxes(axarr[0, 3])\n",
    "# f.delaxes(axarr[0, 4])\n",
    "# f.delaxes(axarr[6, 4])\n",
    "# f.delaxes(axarr[7, 1])\n",
    "# f.delaxes(axarr[7, 2])\n",
    "# f.delaxes(axarr[7, 3])\n",
    "plt.savefig('../../../Paper_Drafts/main_composites_updated/dm15_grid.pdf', dpi =100, bbox_inches = 'tight')\n",
    "plt.savefig('../../../Paper_Drafts/main_composites_updated/dm15_grid.png', dpi =100, bbox_inches = 'tight')\n",
    "plt.show()"
   ]
  },
  {
   "cell_type": "code",
   "execution_count": null,
   "metadata": {
    "collapsed": true
   },
   "outputs": [],
   "source": [
    "import spectral_analysis as sa\n",
    "plt.cla()"
   ]
  },
  {
   "cell_type": "code",
   "execution_count": null,
   "metadata": {
    "collapsed": true
   },
   "outputs": [],
   "source": [
    "all_comps = []\n",
    "all_comps.append(comps_dm15_very_early)\n",
    "all_comps.append(comps_dm15_max_fewer_bins)\n",
    "all_comps.append(comps_dm15_p1week)\n",
    "all_comps.append(comps_dm15_p2week)\n",
    "all_comps.append(comps_dm15_p1month)"
   ]
  },
  {
   "cell_type": "code",
   "execution_count": null,
   "metadata": {
    "collapsed": false
   },
   "outputs": [],
   "source": [
    "all_vels = []\n",
    "all_phases = []\n",
    "for epoch in all_comps:\n",
    "    velocities = []\n",
    "    phases = []\n",
    "    for comp in epoch:\n",
    "        p = np.average(comp.phase_array[comp.x1:comp.x2])\n",
    "        v = -1.*sa.measure_si_velocity(comp)/1000.\n",
    "        velocities.append(v)\n",
    "        phases.append(p)\n",
    "    all_vels.append(velocities)\n",
    "    all_phases.append(phases)"
   ]
  },
  {
   "cell_type": "code",
   "execution_count": null,
   "metadata": {
    "collapsed": false
   },
   "outputs": [],
   "source": [
    "for i in range (len(all_vels)):\n",
    "    plt.plot(all_phases[i], all_vels[i], 'o')\n",
    "plt.gca().invert_yaxis()\n",
    "plt.show()"
   ]
  },
  {
   "cell_type": "code",
   "execution_count": null,
   "metadata": {
    "collapsed": true
   },
   "outputs": [],
   "source": []
  }
 ],
 "metadata": {
  "anaconda-cloud": {},
  "kernelspec": {
   "display_name": "Python [conda root]",
   "language": "python",
   "name": "conda-root-py"
  },
  "language_info": {
   "codemirror_mode": {
    "name": "ipython",
    "version": 2
   },
   "file_extension": ".py",
   "mimetype": "text/x-python",
   "name": "python",
   "nbconvert_exporter": "python",
   "pygments_lexer": "ipython2",
   "version": "2.7.12"
  },
  "toc": {
   "base_numbering": 1,
   "nav_menu": {},
   "number_sections": true,
   "sideBar": true,
   "skip_h1_title": false,
   "title_cell": "Table of Contents",
   "title_sidebar": "Contents",
   "toc_cell": false,
   "toc_position": {},
   "toc_section_display": true,
   "toc_window_display": false
  }
 },
 "nbformat": 4,
 "nbformat_minor": 1
}
