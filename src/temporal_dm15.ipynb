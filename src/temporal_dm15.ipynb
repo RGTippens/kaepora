{
 "cells": [
  {
   "cell_type": "code",
   "execution_count": 1,
   "metadata": {
    "collapsed": false
   },
   "outputs": [],
   "source": [
    "import matplotlib\n",
    "matplotlib.use('qt5agg')\n",
    "import matplotlib.pyplot as plt\n",
    "import time\n",
    "import numpy as np\n",
    "import query_db"
   ]
  },
  {
   "cell_type": "code",
   "execution_count": 2,
   "metadata": {
    "collapsed": false
   },
   "outputs": [],
   "source": [
    "%load_ext autoreload\n",
    "%autoreload 2"
   ]
  },
  {
   "cell_type": "code",
   "execution_count": 3,
   "metadata": {
    "collapsed": true
   },
   "outputs": [],
   "source": [
    "import matplotlib.gridspec as gridspec\n",
    "import spectral_analysis as sa\n",
    "from scipy.special import erf\n",
    "import datafidelity as df"
   ]
  },
  {
   "cell_type": "code",
   "execution_count": 4,
   "metadata": {
    "collapsed": true
   },
   "outputs": [],
   "source": [
    "def make_colorbar(composites):\n",
    "    params = []\n",
    "    # for comp in composites:\n",
    "    # \tparams.append(np.average(comp.dm15_array[comp.x1:comp.x2]))\n",
    "    # norm = matplotlib.colors.Normalize(vmin=np.min(params),vmax=np.max(params))\n",
    "    norm = matplotlib.colors.Normalize(vmin=1.,vmax=len(composites) + 1.)\n",
    "    c_m = matplotlib.cm.plasma\n",
    "    # c_m = matplotlib.cm.winter_r\n",
    "    s_m = matplotlib.cm.ScalarMappable(cmap=c_m, norm=norm)\n",
    "    s_m.set_array([])\n",
    "\n",
    "    return s_m"
   ]
  },
  {
   "cell_type": "code",
   "execution_count": 5,
   "metadata": {
    "collapsed": true
   },
   "outputs": [],
   "source": [
    "def comparison_plot(composites):\n",
    "\n",
    "#     plt.style.use('ggplot')\n",
    "    colors = [color['color'] for color in list(plt.rcParams['axes.prop_cycle'])]\n",
    "    h = [3,1,1,1,1,1,1]\n",
    "    font = {'family' : 'serif',\n",
    "        'color'  : 'black',\n",
    "        'weight' : 'bold',\n",
    "        'size'   : 10,\n",
    "        }\n",
    "\n",
    "#     gs = gridspec.GridSpec(7, 1, height_ratios=h, hspace = .001)\n",
    "#     fig = plt.figure(num = 1, dpi = 100, figsize = [10,10])\n",
    "    fig = plt.figure(num = 1, dpi = 100, figsize = [10,8])\n",
    "    s_m = make_colorbar(composites)\n",
    "    lw = 3\n",
    "\n",
    "    composites, scales = composite.optimize_scales(composites, composites[0], True)\n",
    "\n",
    "    i = 0\n",
    "    k = 1\n",
    "    for comp in composites:\n",
    "        # param = np.average(comp.dm15_array[comp.x1:comp.x2])\n",
    "        param = k\n",
    "\n",
    "#         rel_flux = plt.subplot(gs[0])\n",
    "        rel_flux = plt.subplot(111)\n",
    "#         plt.setp(rel_flux.get_xticklabels(), visible=False)\n",
    "        plt.ylabel('Relative Flux', fontdict = font)\n",
    "        rel_flux.axes.get_yaxis().set_ticks([])\n",
    "        # plt.plot(comp.wavelength[comp.x1:comp.x2], comp.flux[comp.x1:comp.x2], color = s_m.to_rgba(param))\n",
    "        plt.plot(comp.wavelength[comp.x1:comp.x2], comp.flux[comp.x1:comp.x2], linewidth = lw, color = s_m.to_rgba(param))\n",
    "        if len(comp.low_conf) > 0 and len(comp.up_conf) > 0:\n",
    "            plt.fill_between(comp.wavelength[comp.x1:comp.x2], comp.low_conf[comp.x1:comp.x2], \n",
    "                             comp.up_conf[comp.x1:comp.x2], color = s_m.to_rgba(param), alpha = 0.5)\n",
    "            # plt.fill_between(comp.wavelength[comp.x1:comp.x2], comp.low_conf[comp.x1:comp.x2], \n",
    "            # \t             comp.up_conf[comp.x1:comp.x2], color = colors[i%len(colors)], alpha = 0.5)\n",
    "\n",
    "#         var = plt.subplot(gs[1], sharex = rel_flux)\n",
    "#         plt.setp(var.get_xticklabels(), visible=False)\n",
    "#         plt.ylabel('Variance', fontdict = font)\n",
    "#         # plt.plot(comp.wavelength[comp.x1:comp.x2], comp.ivar[comp.x1:comp.x2], color = s_m.to_rgba(param))\n",
    "#         plt.plot(comp.wavelength[comp.x1:comp.x2], comp.ivar[comp.x1:comp.x2], linewidth = lw, color = s_m.to_rgba(param))\n",
    "\n",
    "#         res = plt.subplot(gs[2], sharex = rel_flux)\n",
    "#         plt.setp(res.get_xticklabels(), visible=False)\n",
    "#         plt.ylabel('Residuals', fontdict = font)\n",
    "#         # plt.plot(comp.wavelength[comp.x1:comp.x2], comp.flux[comp.x1:comp.x2] - composites[0].flux[comp.x1:comp.x2], color = s_m.to_rgba(param))\n",
    "#         plt.plot(comp.wavelength[comp.x1:comp.x2], comp.flux[comp.x1:comp.x2] - composites[0].flux[comp.x1:comp.x2], linewidth = lw, color = s_m.to_rgba(param))\n",
    "#         if len(comp.low_conf) > 0 and len(comp.up_conf) > 0:\n",
    "#             low_resid = comp.low_conf[comp.x1:comp.x2] - composites[0].flux[comp.x1:comp.x2]\n",
    "#             up_resid = comp.up_conf[comp.x1:comp.x2] - composites[0].flux[comp.x1:comp.x2]\n",
    "#             plt.fill_between(comp.wavelength[comp.x1:comp.x2], low_resid, up_resid, color = s_m.to_rgba(param), alpha = 0.5)\n",
    "#             # plt.fill_between(comp.wavelength[comp.x1:comp.x2], low_resid, up_resid, color = colors[i%len(colors)], alpha = 0.5)\n",
    "\n",
    "#         spec = plt.subplot(gs[3], sharex = rel_flux)\n",
    "#         plt.setp(spec.get_xticklabels(), visible=False)\n",
    "#         plt.ylabel('Spectra/Bin', fontdict = font)\n",
    "#         # plt.plot(comp.wavelength[comp.x1:comp.x2], comp.spec_bin[comp.x1:comp.x2], color = s_m.to_rgba(param))\n",
    "#         plt.plot(comp.wavelength[comp.x1:comp.x2], comp.spec_bin[comp.x1:comp.x2], linewidth = lw, color = s_m.to_rgba(param))\n",
    "\n",
    "#         phase = plt.subplot(gs[4], sharex = rel_flux)\n",
    "#         plt.setp(phase.get_xticklabels(), visible=False)\n",
    "#         plt.ylabel('Phase [d]', fontdict = font)\n",
    "#         # plt.plot(comp.wavelength[comp.x1:comp.x2], comp.phase_array[comp.x1:comp.x2], color = s_m.to_rgba(param))\n",
    "#         plt.plot(comp.wavelength[comp.x1:comp.x2], comp.phase_array[comp.x1:comp.x2], linewidth = lw, color = s_m.to_rgba(param))\n",
    "\n",
    "#         delt = plt.subplot(gs[5], sharex = rel_flux)\n",
    "#         plt.setp(delt.get_xticklabels(), visible=False)\n",
    "#         plt.ylabel('$\\Delta$m$_{15}$', fontdict = font)\n",
    "#         # plt.plot(comp.wavelength[comp.x1:comp.x2], comp.dm15[comp.x1:comp.x2], color = s_m.to_rgba(param))\n",
    "#         plt.plot(comp.wavelength[comp.x1:comp.x2], comp.dm15[comp.x1:comp.x2], linewidth = lw, color = s_m.to_rgba(param))\n",
    "\n",
    "#         plt.subplot(gs[6], sharex = rel_flux)\n",
    "#         plt.ylabel('Redshift', fontdict = font)\n",
    "#         # plt.plot(comp.wavelength[comp.x1:comp.x2], comp.red_array[comp.x1:comp.x2], color = s_m.to_rgba(param))\n",
    "#         plt.plot(comp.wavelength[comp.x1:comp.x2], comp.red_array[comp.x1:comp.x2], linewidth = lw, color = s_m.to_rgba(param))\n",
    "\n",
    "        i+=1\n",
    "        k+=1\n",
    "\n",
    "    plt.xlabel( 'Wavelength ' + \"($\\mathrm{\\AA}$)\", fontdict = font)\n",
    "    # cb = plt.colorbar(s_m, ax = fig.axes)\n",
    "    # cb.set_label('Phase', fontdict = font)\n",
    "    # for ax in fig.axes:\n",
    "    # \tax.set_axis_bgcolor('white')\n",
    "\n",
    "    plt.show()"
   ]
  },
  {
   "cell_type": "code",
   "execution_count": null,
   "metadata": {
    "collapsed": true
   },
   "outputs": [],
   "source": [
    "query_strings_low_dm15 = [\"SELECT * from Supernovae inner join Photometry ON Supernovae.SN = Photometry.SN and phase < -7 and (dm15_cfa <= 1.16 or dm15_from_fits <= 1.16)\",\n",
    "                          \"SELECT * from Supernovae inner join Photometry ON Supernovae.SN = Photometry.SN and phase >= -7 and phase < -4 and (dm15_cfa <= 1.16 or dm15_from_fits <= 1.16)\",\n",
    "                          \"SELECT * from Supernovae inner join Photometry ON Supernovae.SN = Photometry.SN and phase >= -4 and phase < -2 and (dm15_cfa <= 1.16 or dm15_from_fits <= 1.16)\",\n",
    "                          \"SELECT * from Supernovae inner join Photometry ON Supernovae.SN = Photometry.SN and phase >= -2 and phase < -1 and (dm15_cfa <= 1.16 or dm15_from_fits <= 1.16)\",\n",
    "                          \"SELECT * from Supernovae inner join Photometry ON Supernovae.SN = Photometry.SN and phase >= -1 and phase < 0 and (dm15_cfa <= 1.16 or dm15_from_fits <= 1.16)\",\n",
    "                          \"SELECT * from Supernovae inner join Photometry ON Supernovae.SN = Photometry.SN and phase >= 0 and phase < 1 and (dm15_cfa <= 1.16 or dm15_from_fits <= 1.16)\",\n",
    "                          \"SELECT * from Supernovae inner join Photometry ON Supernovae.SN = Photometry.SN and phase >= 1 and phase < 2 and (dm15_cfa <= 1.16 or dm15_from_fits <= 1.16)\",\n",
    "                          \"SELECT * from Supernovae inner join Photometry ON Supernovae.SN = Photometry.SN and phase >= 2 and phase < 3 and (dm15_cfa <= 1.16 or dm15_from_fits <= 1.16)\",\n",
    "                          \"SELECT * from Supernovae inner join Photometry ON Supernovae.SN = Photometry.SN and phase >= 3 and phase < 4 and (dm15_cfa <= 1.16 or dm15_from_fits <= 1.16)\",\n",
    "                          \"SELECT * from Supernovae inner join Photometry ON Supernovae.SN = Photometry.SN and phase >= 4 and phase < 5 and (dm15_cfa <= 1.16 or dm15_from_fits <= 1.16)\",\n",
    "                          \"SELECT * from Supernovae inner join Photometry ON Supernovae.SN = Photometry.SN and phase >= 5 and phase < 6 and (dm15_cfa <= 1.16 or dm15_from_fits <= 1.16)\",\n",
    "                          \"SELECT * from Supernovae inner join Photometry ON Supernovae.SN = Photometry.SN and phase >= 6 and phase < 7 and (dm15_cfa <= 1.16 or dm15_from_fits <= 1.16)\",\n",
    "                          \"SELECT * from Supernovae inner join Photometry ON Supernovae.SN = Photometry.SN and phase >= 7 and phase < 8 and (dm15_cfa <= 1.16 or dm15_from_fits <= 1.16)\",\n",
    "                          \"SELECT * from Supernovae inner join Photometry ON Supernovae.SN = Photometry.SN and phase >= 8 and phase < 9 and (dm15_cfa <= 1.16 or dm15_from_fits <= 1.16)\",\n",
    "                          \"SELECT * from Supernovae inner join Photometry ON Supernovae.SN = Photometry.SN and phase >= 9 and phase < 10 and (dm15_cfa <= 1.16 or dm15_from_fits <= 1.16)\",\n",
    "                          \"SELECT * from Supernovae inner join Photometry ON Supernovae.SN = Photometry.SN and phase >= 10 and phase < 11 and (dm15_cfa <= 1.16 or dm15_from_fits <= 1.16)\",\n",
    "                          \"SELECT * from Supernovae inner join Photometry ON Supernovae.SN = Photometry.SN and phase >= 11 and phase < 12 and (dm15_cfa <= 1.16 or dm15_from_fits <= 1.16)\",\n",
    "                          \"SELECT * from Supernovae inner join Photometry ON Supernovae.SN = Photometry.SN and phase >= 12 and phase < 14 and (dm15_cfa <= 1.16 or dm15_from_fits <= 1.16)\",\n",
    "                          \"SELECT * from Supernovae inner join Photometry ON Supernovae.SN = Photometry.SN and phase >= 14 and phase < 16 and (dm15_cfa <= 1.16 or dm15_from_fits <= 1.16)\",\n",
    "                          \"SELECT * from Supernovae inner join Photometry ON Supernovae.SN = Photometry.SN and phase >= 16 and phase < 18 and (dm15_cfa <= 1.16 or dm15_from_fits <= 1.16)\",\n",
    "                          \"SELECT * from Supernovae inner join Photometry ON Supernovae.SN = Photometry.SN and phase >= 18 and phase < 20 and (dm15_cfa <= 1.16 or dm15_from_fits <= 1.16)\",\n",
    "                          \"SELECT * from Supernovae inner join Photometry ON Supernovae.SN = Photometry.SN and phase >= 20 and phase < 22 and (dm15_cfa <= 1.16 or dm15_from_fits <= 1.16)\",\n",
    "                          \"SELECT * from Supernovae inner join Photometry ON Supernovae.SN = Photometry.SN and phase >= 22 and phase < 25 and (dm15_cfa <= 1.16 or dm15_from_fits <= 1.16)\",\n",
    "                          \"SELECT * from Supernovae inner join Photometry ON Supernovae.SN = Photometry.SN and phase >= 25 and phase < 28 and (dm15_cfa <= 1.16 or dm15_from_fits <= 1.16)\",\n",
    "                          \"SELECT * from Supernovae inner join Photometry ON Supernovae.SN = Photometry.SN and phase >= 28 and phase < 31 and (dm15_cfa <= 1.16 or dm15_from_fits <= 1.16)\",\n",
    "                          \"SELECT * from Supernovae inner join Photometry ON Supernovae.SN = Photometry.SN and phase >= 31 and phase < 34 and (dm15_cfa <= 1.16 or dm15_from_fits <= 1.16)\",\n",
    "                          \"SELECT * from Supernovae inner join Photometry ON Supernovae.SN = Photometry.SN and phase >= 34 and phase < 39 and (dm15_cfa <= 1.16 or dm15_from_fits <= 1.16)\",\n",
    "                          \"SELECT * from Supernovae inner join Photometry ON Supernovae.SN = Photometry.SN and phase >= 39 and phase < 49 and (dm15_cfa <= 1.16 or dm15_from_fits <= 1.16)\",\n",
    "                          \"SELECT * from Supernovae inner join Photometry ON Supernovae.SN = Photometry.SN and phase >= 49 and phase < 70 and (dm15_cfa <= 1.16 or dm15_from_fits <= 1.16)\",\n",
    "                          \"SELECT * from Supernovae inner join Photometry ON Supernovae.SN = Photometry.SN and phase >= 70 and phase < 110 and (dm15_cfa <= 1.16 or dm15_from_fits <= 1.16)\",\n",
    "                          \"SELECT * from Supernovae inner join Photometry ON Supernovae.SN = Photometry.SN and phase >= 110 and (dm15_cfa <= 1.16 or dm15_from_fits <= 1.16)\"\n",
    "                         ]"
   ]
  },
  {
   "cell_type": "code",
   "execution_count": null,
   "metadata": {
    "collapsed": true
   },
   "outputs": [],
   "source": [
    "query_strings_high_dm15 = [\"SELECT * from Supernovae inner join Photometry ON Supernovae.SN = Photometry.SN and phase < -7 and (dm15_cfa > 1.16 or dm15_from_fits > 1.16)\",\n",
    "                          \"SELECT * from Supernovae inner join Photometry ON Supernovae.SN = Photometry.SN and phase >= -7 and phase < -4 and (dm15_cfa > 1.16 or dm15_from_fits > 1.16)\",\n",
    "                          \"SELECT * from Supernovae inner join Photometry ON Supernovae.SN = Photometry.SN and phase >= -4 and phase < -2 and (dm15_cfa > 1.16 or dm15_from_fits > 1.16)\",\n",
    "                          \"SELECT * from Supernovae inner join Photometry ON Supernovae.SN = Photometry.SN and phase >= -2 and phase < -1 and (dm15_cfa > 1.16 or dm15_from_fits > 1.16)\",\n",
    "                          \"SELECT * from Supernovae inner join Photometry ON Supernovae.SN = Photometry.SN and phase >= -1 and phase < 0 and (dm15_cfa > 1.16 or dm15_from_fits > 1.16)\",\n",
    "                          \"SELECT * from Supernovae inner join Photometry ON Supernovae.SN = Photometry.SN and phase >= 0 and phase < 1 and (dm15_cfa > 1.16 or dm15_from_fits > 1.16)\",\n",
    "                          \"SELECT * from Supernovae inner join Photometry ON Supernovae.SN = Photometry.SN and phase >= 1 and phase < 2 and (dm15_cfa > 1.16 or dm15_from_fits > 1.16)\",\n",
    "                          \"SELECT * from Supernovae inner join Photometry ON Supernovae.SN = Photometry.SN and phase >= 2 and phase < 3 and (dm15_cfa > 1.16 or dm15_from_fits > 1.16)\",\n",
    "                          \"SELECT * from Supernovae inner join Photometry ON Supernovae.SN = Photometry.SN and phase >= 3 and phase < 4 and (dm15_cfa > 1.16 or dm15_from_fits > 1.16)\",\n",
    "                          \"SELECT * from Supernovae inner join Photometry ON Supernovae.SN = Photometry.SN and phase >= 4 and phase < 5 and (dm15_cfa > 1.16 or dm15_from_fits > 1.16)\",\n",
    "                          \"SELECT * from Supernovae inner join Photometry ON Supernovae.SN = Photometry.SN and phase >= 5 and phase < 6 and (dm15_cfa > 1.16 or dm15_from_fits > 1.16)\",\n",
    "                          \"SELECT * from Supernovae inner join Photometry ON Supernovae.SN = Photometry.SN and phase >= 6 and phase < 7 and (dm15_cfa > 1.16 or dm15_from_fits > 1.16)\",\n",
    "                          \"SELECT * from Supernovae inner join Photometry ON Supernovae.SN = Photometry.SN and phase >= 7 and phase < 8 and (dm15_cfa > 1.16 or dm15_from_fits > 1.16)\",\n",
    "                          \"SELECT * from Supernovae inner join Photometry ON Supernovae.SN = Photometry.SN and phase >= 8 and phase < 9 and (dm15_cfa > 1.16 or dm15_from_fits > 1.16)\",\n",
    "                          \"SELECT * from Supernovae inner join Photometry ON Supernovae.SN = Photometry.SN and phase >= 9 and phase < 10 and (dm15_cfa > 1.16 or dm15_from_fits > 1.16)\",\n",
    "                          \"SELECT * from Supernovae inner join Photometry ON Supernovae.SN = Photometry.SN and phase >= 10 and phase < 11 and (dm15_cfa > 1.16 or dm15_from_fits > 1.16)\",\n",
    "                          \"SELECT * from Supernovae inner join Photometry ON Supernovae.SN = Photometry.SN and phase >= 11 and phase < 12 and (dm15_cfa > 1.16 or dm15_from_fits > 1.16)\",\n",
    "                          \"SELECT * from Supernovae inner join Photometry ON Supernovae.SN = Photometry.SN and phase >= 12 and phase < 14 and (dm15_cfa > 1.16 or dm15_from_fits > 1.16)\",\n",
    "                          \"SELECT * from Supernovae inner join Photometry ON Supernovae.SN = Photometry.SN and phase >= 14 and phase < 16 and (dm15_cfa > 1.16 or dm15_from_fits > 1.16)\",\n",
    "                          \"SELECT * from Supernovae inner join Photometry ON Supernovae.SN = Photometry.SN and phase >= 16 and phase < 18 and (dm15_cfa > 1.16 or dm15_from_fits > 1.16)\",\n",
    "                          \"SELECT * from Supernovae inner join Photometry ON Supernovae.SN = Photometry.SN and phase >= 18 and phase < 20 and (dm15_cfa > 1.16 or dm15_from_fits > 1.16)\",\n",
    "                          \"SELECT * from Supernovae inner join Photometry ON Supernovae.SN = Photometry.SN and phase >= 20 and phase < 22 and (dm15_cfa > 1.16 or dm15_from_fits > 1.16)\",\n",
    "                          \"SELECT * from Supernovae inner join Photometry ON Supernovae.SN = Photometry.SN and phase >= 22 and phase < 25 and (dm15_cfa > 1.16 or dm15_from_fits > 1.16)\",\n",
    "                          \"SELECT * from Supernovae inner join Photometry ON Supernovae.SN = Photometry.SN and phase >= 25 and phase < 28 and (dm15_cfa > 1.16 or dm15_from_fits > 1.16)\",\n",
    "                          \"SELECT * from Supernovae inner join Photometry ON Supernovae.SN = Photometry.SN and phase >= 28 and phase < 31 and (dm15_cfa > 1.16 or dm15_from_fits > 1.16)\",\n",
    "                          \"SELECT * from Supernovae inner join Photometry ON Supernovae.SN = Photometry.SN and phase >= 31 and phase < 34 and (dm15_cfa > 1.16 or dm15_from_fits > 1.16)\",\n",
    "                          \"SELECT * from Supernovae inner join Photometry ON Supernovae.SN = Photometry.SN and phase >= 34 and phase < 39 and (dm15_cfa > 1.16 or dm15_from_fits > 1.16)\",\n",
    "                          \"SELECT * from Supernovae inner join Photometry ON Supernovae.SN = Photometry.SN and phase >= 39 and phase < 49 and (dm15_cfa > 1.16 or dm15_from_fits > 1.16)\",\n",
    "                          \"SELECT * from Supernovae inner join Photometry ON Supernovae.SN = Photometry.SN and phase >= 49 and phase < 70 and (dm15_cfa > 1.16 or dm15_from_fits > 1.16)\",\n",
    "                          \"SELECT * from Supernovae inner join Photometry ON Supernovae.SN = Photometry.SN and phase >= 70 and phase < 110 and (dm15_cfa > 1.16 or dm15_from_fits > 1.16)\",\n",
    "                         ]"
   ]
  },
  {
   "cell_type": "code",
   "execution_count": null,
   "metadata": {
    "collapsed": false
   },
   "outputs": [],
   "source": [
    "comps_low_dm15 = query_db.main(len(query_strings_low_dm15), query_strings_low_dm15)\n",
    "comps_high_dm15 = query_db.main(len(query_strings_high_dm15), query_strings_high_dm15)"
   ]
  },
  {
   "cell_type": "code",
   "execution_count": 6,
   "metadata": {
    "collapsed": true
   },
   "outputs": [],
   "source": [
    "def stacked_plot(comps_low, comps_high):\n",
    "    fig, ax = plt.subplots(1,1)\n",
    "    ax.get_yaxis().set_ticks([])\n",
    "    plt.ylabel('Relative Flux + const.')\n",
    "    plt.xlabel('Wavelength (A)')\n",
    "    fig.set_size_inches(8.5, 11.)\n",
    "#     comps_low, scales = composite.optimize_scales(comps_low, comps_low[0], True)\n",
    "#     comps_high, scales = composite.optimize_scales(comps_high, comps_high[0], True)\n",
    "    upper_buff = 100\n",
    "\n",
    "    for i in range(len(comps_low)):\n",
    "#         scaled_comps, scales = composite.optimize_scales([comps_low[i], comps_high[i]], comps_low[i], True)\n",
    "        phase_1 = np.average(scaled_comps[0].phase_array[scaled_comps[0].x1:scaled_comps[0].x2])\n",
    "        phase_2 = np.average(scaled_comps[1].phase_array[scaled_comps[1].x1:scaled_comps[1].x2])\n",
    "        phase = (phase_1 + phase_2)/2.\n",
    "        ax.plot(scaled_comps[0].wavelength[scaled_comps[0].x1:scaled_comps[0].x2], 2.e15*scaled_comps[0].flux[scaled_comps[0].x1:scaled_comps[0].x2] + upper_buff - 3.*phase, 'b-')\n",
    "        ax.plot(scaled_comps[1].wavelength[scaled_comps[1].x1:scaled_comps[1].x2], 2.e15*scaled_comps[1].flux[scaled_comps[1].x1:scaled_comps[1].x2] + upper_buff - 3.*phase, 'r-')\n",
    "#         plt.fill_between(scaled_comps[0].wavelength[scaled_comps[0].x1:scaled_comps[0].x2], 2.e15*scaled_comps[0].low_conf[scaled_comps[0].x1:scaled_comps[0].x2] + upper_buff - 3.*phase, 2.e15*scaled_comps[0].up_conf[scaled_comps[0].x1:scaled_comps[0].x2] + upper_buff - 3.*phase, alpha = 0.5)\n",
    "#         plt.fill_between(scaled_comps[1].wavelength[scaled_comps[1].x1:scaled_comps[1].x2], 2.e15*scaled_comps[1].low_conf[scaled_comps[1].x1:scaled_comps[1].x2] + upper_buff - 3.*phase, 2.e15*scaled_comps[1].up_conf[scaled_comps[1].x1:scaled_comps[1].x2] + upper_buff - 3.*phase, color = 'r', alpha = 0.5)\n",
    "        plt.text(scaled_comps[0].wavelength[scaled_comps[0].x2], scaled_comps[0].flux[scaled_comps[0].x2] + upper_buff - 3.*phase + 1, str(round(phase, 2)) + ' days')\n",
    "    plt.show()"
   ]
  },
  {
   "cell_type": "code",
   "execution_count": 7,
   "metadata": {
    "collapsed": true
   },
   "outputs": [],
   "source": [
    "import composite"
   ]
  },
  {
   "cell_type": "code",
   "execution_count": null,
   "metadata": {
    "collapsed": false
   },
   "outputs": [],
   "source": [
    "query_db.set_min_num_spec(comps_low_dm15, 5)\n",
    "query_db.set_min_num_spec(comps_high_dm15, 5)"
   ]
  },
  {
   "cell_type": "code",
   "execution_count": null,
   "metadata": {
    "collapsed": false
   },
   "outputs": [],
   "source": [
    "sub_list_1_low = comps_low_dm15[0:6]\n",
    "sub_list_2_low = comps_low_dm15[6:12]\n",
    "sub_list_3_low = comps_low_dm15[12:18]\n",
    "sub_list_4_low = comps_low_dm15[18:24]\n",
    "sub_list_5_low = comps_low_dm15[24:28]\n",
    "sub_list_6_low = comps_low_dm15[28:30]\n",
    "sub_list_7_low = comps_low_dm15[30:]\n",
    "\n",
    "sub_list_1_high = comps_high_dm15[0:6]\n",
    "sub_list_2_high = comps_high_dm15[6:12]\n",
    "sub_list_3_high = comps_high_dm15[12:18]\n",
    "sub_list_4_high = comps_high_dm15[18:24]\n",
    "sub_list_5_high = comps_high_dm15[24:28]\n",
    "sub_list_6_high = comps_high_dm15[28:30]\n",
    "sub_list_7_high = comps_high_dm15[30:]"
   ]
  },
  {
   "cell_type": "code",
   "execution_count": null,
   "metadata": {
    "collapsed": false
   },
   "outputs": [],
   "source": [
    "stacked_plot(sub_list_1_low, sub_list_1_high)"
   ]
  },
  {
   "cell_type": "code",
   "execution_count": null,
   "metadata": {
    "collapsed": true
   },
   "outputs": [],
   "source": [
    "stacked_plot(sub_list_2_low, sub_list_2_high)"
   ]
  },
  {
   "cell_type": "code",
   "execution_count": null,
   "metadata": {
    "collapsed": true
   },
   "outputs": [],
   "source": [
    "stacked_plot(sub_list_3_low, sub_list_3_high)"
   ]
  },
  {
   "cell_type": "code",
   "execution_count": null,
   "metadata": {
    "collapsed": true
   },
   "outputs": [],
   "source": [
    "stacked_plot(sub_list_4_low, sub_list_4_high)"
   ]
  },
  {
   "cell_type": "code",
   "execution_count": null,
   "metadata": {
    "collapsed": false
   },
   "outputs": [],
   "source": [
    "stacked_plot(sub_list_5_low, sub_list_5_high)"
   ]
  },
  {
   "cell_type": "code",
   "execution_count": null,
   "metadata": {
    "collapsed": false
   },
   "outputs": [],
   "source": [
    "stacked_plot(sub_list_6_low, sub_list_6_high)"
   ]
  },
  {
   "cell_type": "code",
   "execution_count": null,
   "metadata": {
    "collapsed": false
   },
   "outputs": [],
   "source": [
    "stacked_plot(sub_list_7_low, sub_list_7_high)"
   ]
  },
  {
   "cell_type": "markdown",
   "metadata": {},
   "source": [
    "# Maximum Light - Max Bins"
   ]
  },
  {
   "cell_type": "code",
   "execution_count": null,
   "metadata": {
    "collapsed": false
   },
   "outputs": [],
   "source": [
    "query_dm15_split_max = [\"SELECT * from Supernovae inner join Photometry ON Supernovae.SN = Photometry.SN where phase >= -3 and phase <= 3 and (dm15_cfa < .9 or dm15_from_fits < .9)\",\n",
    "                        \"SELECT * from Supernovae inner join Photometry ON Supernovae.SN = Photometry.SN where phase >= -3 and phase <= 3 and ((dm15_cfa >= .9 and dm15_cfa < 1.) or (dm15_from_fits >= .9 and dm15_from_fits < 1))\",\n",
    "                        \"SELECT * from Supernovae inner join Photometry ON Supernovae.SN = Photometry.SN where phase >= -3 and phase <= 3 and ((dm15_cfa >= 1 and dm15_cfa < 1.05) or (dm15_from_fits >= 1 and dm15_from_fits < 1.05))\",\n",
    "                        \"SELECT * from Supernovae inner join Photometry ON Supernovae.SN = Photometry.SN where phase >= -3 and phase <= 3 and ((dm15_cfa >= 1.05 and dm15_cfa < 1.1) or (dm15_from_fits >= 1.05 and dm15_from_fits < 1.1))\",\n",
    "                        \"SELECT * from Supernovae inner join Photometry ON Supernovae.SN = Photometry.SN where phase >= -3 and phase <= 3 and ((dm15_cfa >= 1.1 and dm15_cfa < 1.2) or (dm15_from_fits >= 1.1 and dm15_from_fits < 1.2))\",\n",
    "                        \"SELECT * from Supernovae inner join Photometry ON Supernovae.SN = Photometry.SN where phase >= -3 and phase <= 3 and ((dm15_cfa >= 1.2 and dm15_cfa < 1.3) or (dm15_from_fits >= 1.2 and dm15_from_fits < 1.3))\", \n",
    "                        \"SELECT * from Supernovae inner join Photometry ON Supernovae.SN = Photometry.SN where phase >= -3 and phase <= 3 and ((dm15_cfa >= 1.3 and dm15_cfa < 1.4) or (dm15_from_fits >= 1.3 and dm15_from_fits < 1.4))\", \n",
    "                        \"SELECT * from Supernovae inner join Photometry ON Supernovae.SN = Photometry.SN where phase >= -3 and phase <= 3 and ((dm15_cfa >= 1.4 and dm15_cfa < 1.6) or (dm15_from_fits >= 1.4 and dm15_from_fits < 1.6))\",\n",
    "                        \"SELECT * from Supernovae inner join Photometry ON Supernovae.SN = Photometry.SN where phase >= -3 and phase <= 3 and (dm15_cfa >= 1.6 or dm15_from_fits >= 1.6)\"\n",
    "                       ]"
   ]
  },
  {
   "cell_type": "code",
   "execution_count": null,
   "metadata": {
    "collapsed": false
   },
   "outputs": [],
   "source": [
    "comps_dm15_split_max, sn_arrays, boot_sn_arrays = query_db.main(len(query_dm15_split_max), query_dm15_split_max)"
   ]
  },
  {
   "cell_type": "code",
   "execution_count": 4,
   "metadata": {
    "collapsed": false
   },
   "outputs": [],
   "source": [
    "def stacked_plot_max(composites,buff,label_buff):\n",
    "    font1 = {'family' : 'serif',\n",
    "        'color'  : 'black',\n",
    "        'weight' : 'bold',\n",
    "        'size'   : 20,\n",
    "        }\n",
    "    \n",
    "    font2 = {'family' : 'serif',\n",
    "        'color'  : 'black',\n",
    "        'weight' : 'bold',\n",
    "        'size'   : 10,\n",
    "        }\n",
    "    \n",
    "    fig, ax = plt.subplots(1,1)\n",
    "    fig.set_size_inches(15, 30, forward = True)\n",
    "    ax.get_yaxis().set_ticks([])\n",
    "    ax.xaxis.set_tick_params(length=10, width = 2)\n",
    "    plt.ylabel('Relative Flux + const.', fontdict = font1, fontsize = 40)\n",
    "    plt.xlabel( 'Wavelength ' + \"($\\mathrm{\\AA}$)\", fontdict = font1, fontsize = 40)\n",
    "    plt.xticks(fontsize = 20)\n",
    "#     composites, scales = composite.optimize_scales(composites, composites[0], True)\n",
    "\n",
    "    i = 0\n",
    "    for comp in composites:\n",
    "        dm15 = np.nanmean(comp.dm15_array[comp.x1:comp.x2])\n",
    "#         ax.plot(comp.wavelength[comp.x1:comp.x2], 2.e15*comp.flux[comp.x1:comp.x2] - 1200*dm15, color = '#3F5D7D', linewidth = 4)\n",
    "        ax.plot(comp.wavelength[comp.x1:comp.x2], comp.flux[comp.x1:comp.x2] - i, color = '#3F5D7D', linewidth = 4)\n",
    "#         plt.fill_between(comp.wavelength[comp.x1:comp.x2], comp.low_conf[comp.x1:comp.x2]- i, comp.up_conf[comp.x1:comp.x2] - i, alpha = 0.5)\n",
    "#         plt.text(9700, comp.flux[comp.x2] - 1200*dm15 + 30, '$\\mathbf{\\Delta m_{15}}$ = ' + str(round(dm15, 2)), fontdict = font1)\n",
    "        plt.text(8000, comp.flux[comp.x2] - i + .1, '$\\mathbf{\\Delta m_{15}}$ = ' + str(round(dm15, 2)), fontdict = font2, fontsize = 30)\n",
    "        i += 1\n",
    "#     plt.title('Maximum Light Composite Spectra \\n for Different Light Curve Shapes', fontdict = font1, fontsize = 40)\n",
    "    plt.xlim([3000,10500])\n",
    "#     plt.savefig('../../Paper_Drafts/dm15_split_max.pdf', dpi = 300, bbox_inches = 'tight')\n",
    "    plt.show()"
   ]
  },
  {
   "cell_type": "code",
   "execution_count": 60,
   "metadata": {
    "collapsed": false
   },
   "outputs": [
    {
     "ename": "NameError",
     "evalue": "name 'comps_dm15_split_max' is not defined",
     "output_type": "error",
     "traceback": [
      "\u001b[0;31m---------------------------------------------------------------------------\u001b[0m",
      "\u001b[0;31mNameError\u001b[0m                                 Traceback (most recent call last)",
      "\u001b[0;32m<ipython-input-60-aa44ec3af161>\u001b[0m in \u001b[0;36m<module>\u001b[0;34m()\u001b[0m\n\u001b[1;32m      1\u001b[0m \u001b[1;31m# composite.optimize_scales(comps_dm15_split_max, comps_dm15_split_max[0], True)\u001b[0m\u001b[1;33m\u001b[0m\u001b[1;33m\u001b[0m\u001b[0m\n\u001b[0;32m----> 2\u001b[0;31m \u001b[0mquery_db\u001b[0m\u001b[1;33m.\u001b[0m\u001b[0mset_min_num_spec\u001b[0m\u001b[1;33m(\u001b[0m\u001b[0mcomps_dm15_split_max\u001b[0m\u001b[1;33m,\u001b[0m \u001b[1;36m5\u001b[0m\u001b[1;33m)\u001b[0m\u001b[1;33m\u001b[0m\u001b[0m\n\u001b[0m\u001b[1;32m      3\u001b[0m \u001b[1;31m# comparison_plot(comps_dm15_split_max)\u001b[0m\u001b[1;33m\u001b[0m\u001b[1;33m\u001b[0m\u001b[0m\n\u001b[1;32m      4\u001b[0m \u001b[0mstacked_plot_max\u001b[0m\u001b[1;33m(\u001b[0m\u001b[0mcomps_dm15_split_max\u001b[0m\u001b[1;33m,\u001b[0m \u001b[1;36m110\u001b[0m\u001b[1;33m,\u001b[0m \u001b[1;36m30\u001b[0m\u001b[1;33m)\u001b[0m\u001b[1;33m\u001b[0m\u001b[0m\n",
      "\u001b[0;31mNameError\u001b[0m: name 'comps_dm15_split_max' is not defined"
     ]
    }
   ],
   "source": [
    "# composite.optimize_scales(comps_dm15_split_max, comps_dm15_split_max[0], True)\n",
    "query_db.set_min_num_spec(comps_dm15_split_max, 5)\n",
    "# comparison_plot(comps_dm15_split_max)\n",
    "stacked_plot_max(comps_dm15_split_max, 110, 30)"
   ]
  },
  {
   "cell_type": "markdown",
   "metadata": {},
   "source": [
    "# Maximum Light - Grid Bins"
   ]
  },
  {
   "cell_type": "code",
   "execution_count": 5,
   "metadata": {
    "collapsed": false
   },
   "outputs": [],
   "source": [
    "query_dm15_max_fewer_bins = [\"SELECT * from Supernovae inner join Photometry ON Supernovae.SN = Photometry.SN where phase >= -1 and phase <= 1 and ((dm15_cfa < .95 or dm15_from_fits < .95)) and Supernovae.SN !='2002bf'\",\n",
    "                         \"SELECT * from Supernovae inner join Photometry ON Supernovae.SN = Photometry.SN where phase >= -1 and phase <= 1 and ((dm15_cfa >= .95 and dm15_cfa < 1.15) or (dm15_from_fits >= .95 and dm15_from_fits < 1.15)) and Supernovae.SN !='2002bf'\",\n",
    "                         \"SELECT * from Supernovae inner join Photometry ON Supernovae.SN = Photometry.SN where phase >= -1 and phase <= 1 and ((dm15_cfa >= 1.15 and dm15_cfa < 1.25) or (dm15_from_fits >= 1.15 and dm15_from_fits < 1.25)) and Supernovae.SN !='2002bf'\",\n",
    "                         \"SELECT * from Supernovae inner join Photometry ON Supernovae.SN = Photometry.SN where phase >= -1 and phase <= 1 and ((dm15_cfa >= 1.25 and dm15_cfa < 1.42) or (dm15_from_fits >= 1.25 and dm15_from_fits < 1.42)) and Supernovae.SN !='2002bf'\",\n",
    "                         \"SELECT * from Supernovae inner join Photometry ON Supernovae.SN = Photometry.SN where phase >= -1 and phase <= 1 and ((dm15_cfa >= 1.42 and dm15_cfa < 1.7) or (dm15_from_fits >= 1.42 and dm15_from_fits < 1.7)) and Supernovae.SN !='2002bf'\",\n",
    "                         \"SELECT * from Supernovae inner join Photometry ON Supernovae.SN = Photometry.SN where phase >= -1 and phase <= 1 and ((dm15_cfa >= 1.7 or dm15_from_fits >= 1.7)) and Supernovae.SN !='2002bf'\"]\n",
    "# query_dm15_max_fewer_bins = [\"SELECT * from Supernovae inner join Photometry ON Supernovae.SN = Photometry.SN where phase >= -3 and phase <= 3 and (dm15_cfa < .9 or dm15_from_fits < .9)\",\n",
    "#                         \"SELECT * from Supernovae inner join Photometry ON Supernovae.SN = Photometry.SN where phase >= -3 and phase <= 3 and ((dm15_cfa >= .9 and dm15_cfa < 1.) or (dm15_from_fits >= .9 and dm15_from_fits < 1))\",\n",
    "#                         \"SELECT * from Supernovae inner join Photometry ON Supernovae.SN = Photometry.SN where phase >= -3 and phase <= 3 and ((dm15_cfa >= 1 and dm15_cfa < 1.05) or (dm15_from_fits >= 1 and dm15_from_fits < 1.05))\",\n",
    "#                         \"SELECT * from Supernovae inner join Photometry ON Supernovae.SN = Photometry.SN where phase >= -3 and phase <= 3 and ((dm15_cfa >= 1.05 and dm15_cfa < 1.1) or (dm15_from_fits >= 1.05 and dm15_from_fits < 1.1))\",\n",
    "#                         \"SELECT * from Supernovae inner join Photometry ON Supernovae.SN = Photometry.SN where phase >= -3 and phase <= 3 and ((dm15_cfa >= 1.1 and dm15_cfa < 1.2) or (dm15_from_fits >= 1.1 and dm15_from_fits < 1.2))\",\n",
    "#                         \"SELECT * from Supernovae inner join Photometry ON Supernovae.SN = Photometry.SN where phase >= -3 and phase <= 3 and ((dm15_cfa >= 1.2 and dm15_cfa < 1.3) or (dm15_from_fits >= 1.2 and dm15_from_fits < 1.3))\", \n",
    "#                         \"SELECT * from Supernovae inner join Photometry ON Supernovae.SN = Photometry.SN where phase >= -3 and phase <= 3 and ((dm15_cfa >= 1.3 and dm15_cfa < 1.4) or (dm15_from_fits >= 1.3 and dm15_from_fits < 1.4))\", \n",
    "#                         \"SELECT * from Supernovae inner join Photometry ON Supernovae.SN = Photometry.SN where phase >= -3 and phase <= 3 and ((dm15_cfa >= 1.4 and dm15_cfa < 1.6) or (dm15_from_fits >= 1.4 and dm15_from_fits < 1.6))\",\n",
    "#                         \"SELECT * from Supernovae inner join Photometry ON Supernovae.SN = Photometry.SN where phase >= -3 and phase <= 3 and (dm15_cfa >= 1.6 or dm15_from_fits >= 1.6)\"]"
   ]
  },
  {
   "cell_type": "code",
   "execution_count": 6,
   "metadata": {
    "collapsed": false
   },
   "outputs": [
    {
     "name": "stdout",
     "output_type": "stream",
     "text": [
      "SQL Query: SELECT * from Supernovae inner join Photometry ON Supernovae.SN = Photometry.SN where phase >= -1 and phase <= 1 and ((dm15_cfa < .95 or dm15_from_fits < .95)) and Supernovae.SN !='2002bf'\n",
      "Collecting data...\n",
      "19 spectra found\n",
      "151 questionable files currently ignored\n",
      "0 questionable spectra removed 19 spectra left\n",
      "0 Peculiar Ias removed 19 spectra left\n",
      "19 SNs with host corrections\n",
      "Arrays cleaned\n",
      "151 questionable files currently ignored\n",
      "1 spectra with nan ivars removed 18 spectra left\n",
      "1996ai sn1996ai-19960620.15-mmt.flm 28.307554791 0.88 None -0.949999999997 cfa\n",
      "AV:  3.811\n",
      "Host correction...\n",
      "1998es sn1998es-19981125-ui-corrected.flm 69.1436677309 0.85 None 0.28 bsnip\n",
      "AV:  0.3098\n",
      "Host correction...\n",
      "1999aa sn1999aa-19990223-ui.flm 44.0459361476 0.78 None 0.24 bsnip\n",
      "AV:  0.00306815\n",
      "Host correction...\n",
      "2005eq sn2005eq-20051011.376-ui-corrected.flm 37.8569772533 0.88 None 0.66 bsnip\n",
      "AV:  0.5011\n",
      "Host correction...\n",
      "1994s sn1994S-19940616.24-fast.flm 28.5796929951 0.94 None 0.939999999995 cfa\n",
      "AV:  0.00291627\n",
      "Host correction...\n",
      "1999dq sn1999dq-19990915.45-fast.flm 82.2719313334 0.86 None 0.449999999997 cfa\n",
      "AV:  0.4492\n",
      "Host correction...\n",
      "1999gp sn1999gp-20000107.13-fast.flm 25.5206786605 0.87 None 0.0299999999988 cfa\n",
      "AV:  0.2578\n",
      "Host correction...\n",
      "2001cp sn2001cp-20010629.28-fast.flm 28.064815056 0.88 None 0.879999999997 cfa\n",
      "AV:  0.00283719\n",
      "Host correction...\n",
      "2001eh sn2001eh-20010917.39-fast.flm 25.9461667787 0.92 None -0.110000000001 cfa\n",
      "AV:  0.1021\n",
      "Host correction...\n",
      "2002cd sn2002cd-20020419.48-fast.flm 20.7958345144 0.84 None 0.280000000006 cfa\n",
      "AV:  1.3704\n",
      "Host correction...\n",
      "2002jy sn2002jy-20021226.12-fast.flm 31.1301164169 0.88 None 0.120000000003 cfa\n",
      "AV:  0.0864978\n",
      "Host correction...\n",
      "2003hu sn2003hu-20030919.19-fast.flm 11.1326469482 None 0.880569111523 0.0900000000038 cfa\n",
      "AV:  0.0749893\n",
      "Host correction...\n",
      "2004as sn2004as-20040321.27-fast.flm 29.9561901178 0.92 None -0.130000000005 cfa\n",
      "AV:  0.2321\n",
      "Host correction...\n",
      "2005m sn2005M-20050204.26-fast.flm 27.220117384 0.87 None 0.160000000003 cfa\n",
      "AV:  0.5258\n",
      "Host correction...\n",
      "2006oa sn2006oa-20061127.10-fast.flm 11.2074538846 0.89 None -0.0999999999985 cfa\n",
      "AV:  0.2003\n",
      "Host correction...\n",
      "2006ot sn2006ot-20061124.23-fast.flm 11.7353430976 0.84 None -0.469999999994 cfa\n",
      "AV:  0.8797\n",
      "Host correction...\n",
      "2006s sn2006S-20060202.47-fast.flm 34.4213979711 0.93 None -0.729999999996 cfa\n",
      "AV:  0.3858\n",
      "Host correction...\n",
      "2007s sn2007S-20070212.33-fast.flm 46.7606200036 0.94 None -0.769999999997 cfa\n",
      "AV:  1.2828\n",
      "Host correction...\n",
      "18 SNs with host corrections\n",
      "Creating composite...\n"
     ]
    },
    {
     "name": "stderr",
     "output_type": "stream",
     "text": [
      "C:\\Program Files\\Anaconda2\\lib\\site-packages\\numpy\\lib\\nanfunctions.py:769: RuntimeWarning: All-NaN slice encountered\n",
      "  warnings.warn(\"All-NaN slice encountered\", RuntimeWarning)\n"
     ]
    },
    {
     "name": "stdout",
     "output_type": "stream",
     "text": [
      "Done.\n",
      "Bootstrapping\n",
      "scaling boots...\n",
      "plotting...\n",
      "computing confidence intervals...\n",
      "SQL Query: SELECT * from Supernovae inner join Photometry ON Supernovae.SN = Photometry.SN where phase >= -1 and phase <= 1 and ((dm15_cfa >= .95 and dm15_cfa < 1.15) or (dm15_from_fits >= .95 and dm15_from_fits < 1.15)) and Supernovae.SN !='2002bf'\n",
      "Collecting data...\n",
      "36 spectra found\n",
      "151 questionable files currently ignored\n",
      "3 questionable spectra removed 33 spectra left\n",
      "1 Peculiar Ias removed 32 spectra left\n",
      "27 SNs with host corrections\n",
      "Arrays cleaned\n",
      "151 questionable files currently ignored\n",
      "1 spectra with nan ivars removed 26 spectra left\n",
      "1998dk sn1998dk-19980831-ui.flm 70.6132013702 1.05 None -0.54 bsnip\n",
      "AV:  0.6158\n",
      "Host correction...\n",
      "2001fe sn2001fe-20011115-ui.flm 63.0968901259 1.0 None -0.99 bsnip\n",
      "AV:  0.1943\n",
      "Host correction...\n",
      "2002de sn2002de-20020608.374-ui-corrected.flm 7.9496540894 0.96 None -0.32 bsnip\n",
      "AV:  0.5574\n",
      "Host correction...\n",
      "2005na sn2005na-20060105.335-ui.flm 23.8296042949 1.09 None 0.03 bsnip\n",
      "AV:  0.2038\n",
      "Host correction...\n",
      "2007o sn2007o-20070122.663-deimos.flm 42.7383273579 None 1.14429493781 -0.33 bsnip\n",
      "AV:  0.00304743\n",
      "Host correction...\n",
      "1994ae sn1994ae-19941130.49-fast.flm 137.218074829 0.96 None 0.989999999998 cfa\n",
      "AV:  0.1093\n",
      "Host correction...\n",
      "1997dt sn1997dt-19971204.11-fast.flm 56.9668367955 1.04 None 0.209999999999 cfa\n",
      "AV:  1.5803\n",
      "Host correction...\n",
      "1998aq sn1998aq-19980428.26-fast.flm 141.039854289 1.11 None 0.0600000000049 cfa\n",
      "AV:  0.00303885\n",
      "Host correction...\n",
      "1998bu sn1998bu-19980520.15-fast.flm 152.728893978 1.03 None 0.450000000004 cfa\n",
      "AV:  0.9318\n",
      "Host correction...\n",
      "1998eg sn1998eg-19981024.15-fast.flm 32.3460405034 1.14 None -0.75 cfa\n",
      "AV:  0.2009\n",
      "Host correction...\n",
      "1998v sn1998V-19980319.51-fast.flm 30.4713646656 0.99 None 0.310000000005 cfa\n",
      "AV:  0.1911\n",
      "Host correction...\n",
      "2001bf sn2001bf-20010517.48-fast.flm 53.0801486092 0.99 None 0.780000000006 cfa\n",
      "AV:  0.3002\n",
      "Host correction...\n",
      "2001da sn2001da-20010716.46-fast.flm 37.6780862615 1.12 None -0.0400000000009 cfa\n",
      "AV:  0.356\n",
      "Host correction...\n",
      "2001n sn2001N-20010122.46-fast.flm 20.2770059103 None 1.11269436615 0.659999999996 cfa\n",
      "AV:  0.7735\n",
      "Host correction...\n",
      "2002ck sn2002ck-20020502.46-fast.flm 14.1023856776 1.08 None -0.540000000001 cfa\n",
      "AV:  0.1625\n",
      "Host correction...\n",
      "2002hu sn2002hu-20021113.25-fast.flm 12.5387071627 1.05 None -0.75 cfa\n",
      "AV:  0.074941\n",
      "Host correction...\n",
      "2003w sn2003W-20030209.35-fast.flm 27.3208414568 1.14 None -0.349999999999 cfa\n",
      "AV:  0.4044\n",
      "Host correction...\n",
      "2005a sn2005A-20050110.11-ldss2.flm 9.38778641688 1.11 None 0.610000000001 cfa\n",
      "AV:  2.9711\n",
      "Host correction...\n",
      "2005cf 2005cf_20050612_3201_9285_00.dat 75.589270233 1.1 None -0.699999999997 other\n",
      "AV:  0.2019\n",
      "Host correction...\n",
      "2006ax SN06ax_060402_b01_DUP_WF.dat 53.7487921507 1.06 None 0.5 csp\n",
      "AV:  0.1907\n",
      "Host correction...\n",
      "2006br SN06br_060426_b01_DUP_WF.dat 23.0514109304 1.12 None 0.560000000056 csp\n",
      "AV:  2.0237\n",
      "Host correction...\n",
      "2007af SN07af_070314_b01_DUP_BC.dat 61.2838260345 1.04 None -0.470000000205 csp\n",
      "AV:  0.1696\n",
      "Host correction...\n",
      "2007f sn2007F-20070122.49-fast.flm 26.2070731511 0.96 None -0.910000000003 cfa\n",
      "AV:  0.1654\n",
      "Host correction...\n",
      "2008bf SN08bf_080328_g01_NTT_EM.dat 19.0359605452 1.05 None -0.709999999963 csp\n",
      "AV:  0.1817\n",
      "Host correction...\n",
      "2005hc SN05hc_051024_b01_MGH_BC.dat 26.8404829147 1.03 None 0.699999999721 csp\n",
      "AV:  0.439\n",
      "Host correction...\n",
      "2002bo 2002bo_20020323_3356_10385_00.dat 112.38995816 1.08 None -0.699999999997 other\n",
      "AV:  1.1382\n",
      "Host correction...\n",
      "26 SNs with host corrections\n",
      "Creating composite...\n",
      "Done.\n",
      "Bootstrapping\n",
      "scaling boots...\n",
      "plotting...\n",
      "computing confidence intervals...\n",
      "SQL Query: SELECT * from Supernovae inner join Photometry ON Supernovae.SN = Photometry.SN where phase >= -1 and phase <= 1 and ((dm15_cfa >= 1.15 and dm15_cfa < 1.25) or (dm15_from_fits >= 1.15 and dm15_from_fits < 1.25)) and Supernovae.SN !='2002bf'\n",
      "Collecting data...\n",
      "14 spectra found\n",
      "151 questionable files currently ignored\n",
      "2 questionable spectra removed 12 spectra left\n",
      "0 Peculiar Ias removed 12 spectra left\n",
      "11 SNs with host corrections\n",
      "Arrays cleaned\n",
      "151 questionable files currently ignored\n",
      "0 spectra with nan ivars removed 11 spectra left\n",
      "1999ac sn1999ac-19990312-ui-corrected.flm 66.9161014359 1.23 None -0.89 bsnip\n",
      "AV:  0.3141\n",
      "Host correction...\n",
      "2002ha sn2002ha-20021102-ui-corrected.flm 48.9404969523 1.22 None -0.85 bsnip\n",
      "AV:  0.00562947\n",
      "Host correction...\n",
      "2003cq sn2003cq-20030408-ui.flm 15.7476139398 1.2 None -0.15 bsnip\n",
      "AV:  0.3021\n",
      "Host correction...\n",
      "2007co sn2007co-20070614.468-ui-corrected.flm 40.524617158 1.16 None 0.85 bsnip\n",
      "AV:  0.3793\n",
      "Host correction...\n",
      "1995e sn1995E-19950226.27-fast.flm 23.3670233998 1.16 None -0.93 cfa\n",
      "AV:  2.0822\n",
      "Host correction...\n",
      "1998dh sn1998dh-19980804.36-fast.flm 58.8004615819 1.17 None -0.540000000001 cfa\n",
      "AV:  0.3894\n",
      "Host correction...\n",
      "2002cr sn2002cr-20020515.28-fast.flm 77.3222473254 1.19 None 0.68 cfa\n",
      "AV:  0.2263\n",
      "Host correction...\n",
      "2003ch sn2003ch-20030327.13-fast.flm 12.1824545416 1.22 None -0.170000000006 cfa\n",
      "AV:  0.00299212\n",
      "Host correction...\n",
      "2006sr sn2006sr-20061222.12-fast.flm 35.2315119643 1.24 None -0.979999999996 cfa\n",
      "AV:  0.1294\n",
      "Host correction...\n",
      "2005kc SN05kc_051124_b01_DUP_MS.dat 25.2914590868 1.24 None 0.910000000149 csp\n",
      "AV:  0.7745\n",
      "Host correction...\n",
      "2002er 2002er_20020908_3737_9384_00.dat 29.3788838226 1.23 None 0.0999999999985 other\n",
      "AV:  0.3865\n",
      "Host correction...\n",
      "11 SNs with host corrections\n",
      "Creating composite...\n",
      "Done.\n",
      "Bootstrapping\n",
      "scaling boots...\n",
      "plotting...\n",
      "computing confidence intervals...\n",
      "SQL Query: SELECT * from Supernovae inner join Photometry ON Supernovae.SN = Photometry.SN where phase >= -1 and phase <= 1 and ((dm15_cfa >= 1.25 and dm15_cfa < 1.42) or (dm15_from_fits >= 1.25 and dm15_from_fits < 1.42)) and Supernovae.SN !='2002bf'\n",
      "Collecting data...\n",
      "15 spectra found\n",
      "151 questionable files currently ignored\n",
      "0 questionable spectra removed 15 spectra left\n",
      "0 Peculiar Ias removed 15 spectra left\n",
      "13 SNs with host corrections\n",
      "Arrays cleaned\n",
      "151 questionable files currently ignored\n",
      "0 spectra with nan ivars removed 13 spectra left\n",
      "2004gs sn2004gs-20041217.447-ui-corrected.flm 28.3734591732 1.41 None 0.44 bsnip\n",
      "AV:  0.0015139\n",
      "Host correction...\n",
      "2005lz sn2005lz-20060101.381-deimos.flm 22.438944213 1.34 None 0.58 bsnip\n",
      "AV:  0.2384\n",
      "Host correction...\n",
      "2007bc sn2007bc-20070410.323-ui-corrected.flm 40.8042361928 1.37 None 0.61 bsnip\n",
      "AV:  0.8591\n",
      "Host correction...\n",
      "1994d sn1994D-19940321.35-fast.flm 143.508679821 1.37 None -0.150000000001 cfa\n",
      "AV:  0.00164215\n",
      "Host correction...\n",
      "1996x 1996X_19960419_3077_10669_00.dat 72.6747082167 1.26 None 0.900000000001 other\n",
      "AV:  0.0395526\n",
      "Host correction...\n",
      "1998dx sn1998dx-19980915.22-fast.flm 8.89334401872 1.32 None -0.68 cfa\n",
      "AV:  0.00287637\n",
      "Host correction...\n",
      "1999cc sn1999cc-19990517.40-fast.flm 19.0235542368 1.35 None -0.199999999997 cfa\n",
      "AV:  0.00307477\n",
      "Host correction...\n",
      "2001ep sn2001ep-20011017.42-fast.flm 57.1332125932 1.3 None -0.18 cfa\n",
      "AV:  0.4287\n",
      "Host correction...\n",
      "2003cg 2003cg_20030401_3650_9347_00.dat 28.619385844 1.26 None 0.599999999999 other\n",
      "AV:  2.932\n",
      "Host correction...\n",
      "2003it sn2003it-20031022.26-fast.flm 38.894080221 1.36 None -0.239999999998 cfa\n",
      "AV:  0.070164\n",
      "Host correction...\n",
      "2004ef sn2004ef-20040916.34-fast.flm 25.087450214 1.39 None 0.639999999999 cfa\n",
      "AV:  0.00224872\n",
      "Host correction...\n",
      "2005bo SN05bo_050419_b01_DUP_WF.dat 23.4703954806 1.28 None -0.019999999553 csp\n",
      "AV:  0.8989\n",
      "Host correction...\n",
      "2007bd SN07bd_070417_b01_DUP_WF.dat 28.1437031822 1.3 None 0.540000000037 csp\n",
      "AV:  0.2644\n",
      "Host correction...\n",
      "13 SNs with host corrections\n",
      "Creating composite...\n",
      "Done.\n",
      "Bootstrapping\n",
      "scaling boots...\n",
      "plotting...\n",
      "computing confidence intervals...\n",
      "SQL Query: SELECT * from Supernovae inner join Photometry ON Supernovae.SN = Photometry.SN where phase >= -1 and phase <= 1 and ((dm15_cfa >= 1.42 and dm15_cfa < 1.7) or (dm15_from_fits >= 1.42 and dm15_from_fits < 1.7)) and Supernovae.SN !='2002bf'\n",
      "Collecting data...\n",
      "11 spectra found\n",
      "151 questionable files currently ignored\n",
      "0 questionable spectra removed 11 spectra left\n",
      "1 Peculiar Ias removed 10 spectra left\n",
      "10 SNs with host corrections\n",
      "Arrays cleaned\n",
      "151 questionable files currently ignored\n",
      "0 spectra with nan ivars removed 10 spectra left\n",
      "2000dk sn2000dk-20000926-ui-corrected.flm 46.5582359543 1.62 None 1.0 bsnip\n",
      "AV:  0.00267157\n",
      "Host correction...\n",
      "2002eu sn2002eu-20020903-ui.flm 21.8482743207 1.52 None -0.06 bsnip\n",
      "AV:  0.00300204\n",
      "Host correction...\n",
      "2002he sn2002he-20021108-br.flm 70.9263350618 1.44 None 0.29 bsnip\n",
      "AV:  0.00287043\n",
      "Host correction...\n",
      "2006n sn2006n-20060124.285-ui.flm 33.5303792292 1.5 None -0.9 bsnip\n",
      "AV:  0.0791017\n",
      "Host correction...\n",
      "1994t sn1994T-19940612.19-fast.flm 3.62813221224 1.51 None 0.790000000001 cfa\n",
      "AV:  0.00277907\n",
      "Host correction...\n",
      "1998co sn1998co-19980623.45-fast.flm 41.8372717871 None 1.43684328517 -0.0500000000029 cfa\n",
      "AV:  0.3591\n",
      "Host correction...\n",
      "2003iv sn2003iv-20031021.38-fast.flm 23.770719402 1.65 None -0.520000000004 cfa\n",
      "AV:  0.00275556\n",
      "Host correction...\n",
      "2003u sn2003U-20030206.55-fast.flm 11.7309258213 1.46 None -0.75 cfa\n",
      "AV:  0.00307815\n",
      "Host correction...\n",
      "2006gj sn2006gj-20060920.43-fast.flm 19.217234825 1.48 None -0.669999999998 cfa\n",
      "AV:  0.5024\n",
      "Host correction...\n",
      "2006gt SN06gt_060925_b01_DUP_WF.dat 21.7787084927 1.66 None 0.279999999795 csp\n",
      "AV:  0.00289451\n",
      "Host correction...\n",
      "10 SNs with host corrections\n",
      "Creating composite...\n",
      "Done.\n",
      "Bootstrapping\n",
      "scaling boots...\n",
      "plotting...\n",
      "computing confidence intervals...\n",
      "SQL Query: SELECT * from Supernovae inner join Photometry ON Supernovae.SN = Photometry.SN where phase >= -1 and phase <= 1 and ((dm15_cfa >= 1.7 or dm15_from_fits >= 1.7)) and Supernovae.SN !='2002bf'\n",
      "Collecting data...\n",
      "11 spectra found\n",
      "151 questionable files currently ignored\n",
      "0 questionable spectra removed 11 spectra left\n",
      "0 Peculiar Ias removed 11 spectra left\n",
      "9 SNs with host corrections\n",
      "Arrays cleaned\n",
      "151 questionable files currently ignored\n",
      "0 spectra with nan ivars removed 9 spectra left\n",
      "2002fb sn2002fb-20020913-ui-corrected.flm 27.2042647112 1.77 None 0.98 bsnip\n",
      "AV:  0.1693\n",
      "Host correction...\n",
      "2005dv sn2005dv-20050911.170-ui.flm 13.1133435614 None 1.82222873525 -0.57 bsnip\n",
      "AV:  0.00296838\n",
      "Host correction...\n",
      "2007n sn2007n-20070122.583-deimos.flm 46.123607582 None 1.88681529203 0.44 bsnip\n",
      "AV:  0.887\n",
      "Host correction...\n",
      "1998bp sn1998bp-19980502.47-fast.flm 48.584181819 1.79 None -0.93 cfa\n",
      "AV:  0.0028391\n",
      "Host correction...\n",
      "1998de sn1998de-19980801.41-fast.flm 15.5703309178 1.88 None -0.289999999994 cfa\n",
      "AV:  0.209\n",
      "Host correction...\n",
      "2005ke sn2005ke-20051125.30-fast.flm 77.2516834187 1.82 None 0.5 cfa\n",
      "AV:  0.3338\n",
      "Host correction...\n",
      "2006bz sn2006bz-20060507.22-fast.flm 9.02500254848 2.09 None -0.379999999997 cfa\n",
      "AV:  0.4655\n",
      "Host correction...\n",
      "2007ax sn2007ax-20070327.26-fast.flm 27.8542595009 1.87 None -0.839999999997 cfa\n",
      "AV:  0.7107\n",
      "Host correction...\n",
      "2007al SN07al_070313_g01_BAA_IM.dat 44.9317389293 1.89 None 0.950000000186 csp\n",
      "AV:  0.446\n",
      "Host correction...\n",
      "9 SNs with host corrections\n",
      "Creating composite...\n",
      "Done.\n",
      "Bootstrapping\n",
      "scaling boots...\n",
      "plotting...\n",
      "computing confidence intervals...\n"
     ]
    }
   ],
   "source": [
    "comps_dm15_max_fewer_bins, sn_arrays_2, boot_sn_arrays_2 = query_db.main(len(query_dm15_max_fewer_bins), query_dm15_max_fewer_bins, boot='b', medmean=2)"
   ]
  },
  {
   "cell_type": "code",
   "execution_count": 7,
   "metadata": {
    "collapsed": false
   },
   "outputs": [],
   "source": [
    "# composite.optimize_scales(comps_dm15_max_fewer_bins, comps_dm15_max_fewer_bins[0], True)\n",
    "query_db.set_min_num_spec(comps_dm15_max_fewer_bins, 5)\n",
    "# comparison_plot(comps_dm15_max_fewer_bins)\n",
    "temp = [comps_dm15_max_fewer_bins[0], comps_dm15_max_fewer_bins[3]]\n",
    "# comparison_plot(temp)\n",
    "# plt.savefig('../../Paper_Drafts/dm15_max.png', dpi = 300, bbox_inches = 'tight')\n",
    "stacked_plot_max(comps_dm15_max_fewer_bins,5,1)"
   ]
  },
  {
   "cell_type": "code",
   "execution_count": 8,
   "metadata": {
    "collapsed": false
   },
   "outputs": [],
   "source": [
    "si_ratios = []\n",
    "phases = []\n",
    "dm15s = []\n",
    "for comp in comps_dm15_max_fewer_bins:\n",
    "    p = np.average(comp.phase_array[comp.x1:comp.x2])\n",
    "    dm15 = np.round(np.nanmean(comp.dm15_array[comp.x1:comp.x2]),2)\n",
    "    r = sa.measure_si_ratio(comp.wavelength[comp.x1:comp.x2], comp.flux[comp.x1:comp.x2], vexp=.002)\n",
    "    phases.append(p)\n",
    "    dm15s.append(dm15)\n",
    "    si_ratios.append(r)"
   ]
  },
  {
   "cell_type": "code",
   "execution_count": 9,
   "metadata": {
    "collapsed": false,
    "scrolled": true
   },
   "outputs": [
    {
     "name": "stdout",
     "output_type": "stream",
     "text": [
      "0\n",
      "1\n",
      "Could not find maximum in a specified range!\n",
      "Could not find maximum in a specified range!\n",
      "Could not find maximum in a specified range!\n",
      "2\n",
      "3\n",
      "4\n",
      "5\n"
     ]
    }
   ],
   "source": [
    "boot_ratios = []\n",
    "errors  = []\n",
    "percentile = erf(1/np.sqrt(2.))\n",
    "low_pc = 0.5 - percentile*0.5\n",
    "up_pc = 0.5 + percentile*0.5\n",
    "# for k in range(len(boot_sn_arrays[0:27])):\n",
    "for k in range(len(boot_sn_arrays_2)):\n",
    "    rs = []\n",
    "    print k\n",
    "    for comp in boot_sn_arrays_2[k]:\n",
    "        r = sa.measure_si_ratio(comp.wavelength[comp.x1:comp.x2], comp.flux[comp.x1:comp.x2], vexp=.002)\n",
    "        rs.append(r)\n",
    "    boot_ratios.append(rs)"
   ]
  },
  {
   "cell_type": "code",
   "execution_count": 236,
   "metadata": {
    "collapsed": false
   },
   "outputs": [],
   "source": [
    "low_errors = []\n",
    "up_errors = []\n",
    "boot_resids = []\n",
    "boot_ratios = np.asarray(boot_ratios)\n",
    "for j in range(len(boot_ratios)):\n",
    "    r_resids = []\n",
    "    r_resids.append(boot_ratios[j] - si_ratios[j])\n",
    "    resid_sort = np.sort(r_resids)[0]\n",
    "    boot_resids.append(resid_sort)\n",
    "    low_ind = np.round((len(resid_sort)-1) * low_pc).astype(int)\n",
    "    up_ind = np.round((len(resid_sort)-1) * up_pc).astype(int)\n",
    "    low_errors.append(np.absolute(resid_sort[low_ind]))\n",
    "    up_errors.append(resid_sort[up_ind])\n",
    "#     errors.append(np.nanstd(rs))\n",
    "errors = [low_errors, up_errors]"
   ]
  },
  {
   "cell_type": "code",
   "execution_count": 237,
   "metadata": {
    "collapsed": false
   },
   "outputs": [
    {
     "name": "stdout",
     "output_type": "stream",
     "text": [
      "0\n",
      "1\n",
      "Could not find maximum in a specified range!\n",
      "2\n",
      "3\n",
      "4\n",
      "5\n"
     ]
    }
   ],
   "source": [
    "all_dm15s = []\n",
    "all_ratios = []\n",
    "i=0\n",
    "for sn_arr in sn_arrays_2:\n",
    "    print i\n",
    "    dm15_bin = []\n",
    "    ratio_bin = []\n",
    "    for SN in sn_arr:\n",
    "        if SN.dm15_cfa != None:\n",
    "            dm15 = SN.dm15_cfa\n",
    "        else:\n",
    "            dm15 = SN.dm15_from_fits\n",
    "        var = 1./SN.ivar\n",
    "        r = sa.measure_si_ratio(SN.wavelength[SN.x1:SN.x2], SN.flux[SN.x1:SN.x2], varflux = var[SN.x1:SN.x2], vexp=.002)\n",
    "        dm15_bin.append(dm15)\n",
    "        ratio_bin.append(r)\n",
    "    all_dm15s.append(dm15_bin)\n",
    "    all_ratios.append(ratio_bin)\n",
    "    i+=1"
   ]
  },
  {
   "cell_type": "code",
   "execution_count": 241,
   "metadata": {
    "collapsed": false
   },
   "outputs": [
    {
     "name": "stdout",
     "output_type": "stream",
     "text": [
      "[0.094974307999339952, 0.18169301788542966, 0.24344863869126623, 0.24900582329754156, 0.36395709107595259, 0.6843107772206678]\n"
     ]
    }
   ],
   "source": [
    "plt.rc('font', family='serif')\n",
    "fig, ax = plt.subplots(1,1)\n",
    "fig.set_size_inches(16, 12, forward = True)\n",
    "plt.minorticks_on()\n",
    "plt.xticks(fontsize = 20)\n",
    "plt.yticks(fontsize = 20)\n",
    "plt.xlabel('Si Ratio', fontsize = 35)\n",
    "plt.ylabel('dm15', fontsize = 35)\n",
    "plt.tick_params(\n",
    "    which='major', \n",
    "    bottom='on', \n",
    "    top='on',\n",
    "    left='on',\n",
    "    right='on',\n",
    "    length=10)\n",
    "plt.tick_params(\n",
    "    which='minor', \n",
    "    bottom='on', \n",
    "    top='on',\n",
    "    left='on',\n",
    "    right='on',\n",
    "    length=5)\n",
    "dm15_bin_medians = []\n",
    "ratio_bin_medians = []\n",
    "print si_ratios\n",
    "for i in range(len(all_dm15s)):\n",
    "    dm15_bin_medians.append(np.nanmedian(all_dm15s[i]))\n",
    "    ratio_bin_medians.append(np.nanmedian(all_ratios[i]))\n",
    "    plt.plot(np.asarray(all_ratios[i]), all_dm15s[i], 'o', alpha=.3)\n",
    "plt.plot(ratio_bin_medians, dm15_bin_medians, 'd', markersize=20, alpha=.6, color = 'maroon')\n",
    "plt.errorbar(si_ratios, dm15s, xerr=errors, fmt='o', markersize=10)\n",
    "plt.gca().invert_yaxis()\n",
    "# plt.savefig('../../Paper_Drafts/si_ratio_median.pdf', dpi = 300, bbox_inches = 'tight')\n",
    "plt.show()"
   ]
  },
  {
   "cell_type": "code",
   "execution_count": 227,
   "metadata": {
    "collapsed": false
   },
   "outputs": [
    {
     "name": "stdout",
     "output_type": "stream",
     "text": [
      "0 1996ai sn1996ai-19960622-uoi.flm 1.231 46.9712987061 0.88 0.263444651555 120067.998853\n",
      "1 1998dk sn1998dk-19980831-ui.flm -0.54 70.6132013702 1.05 0.172598163235 142494.271212\n",
      "2 2004dt sn2004dt-20040824-vis2-corrected.flm 1.38 63.786388267 1.14 0.164799721091 106047.783783\n",
      "3 2007a sn2007a-20070113.208-br.flm 2.37 66.6691522711 0.95 0.217310165551 123069.357785\n",
      "4 2007af sn2007af-20070313.545-ui-corrected.flm -1.25 62.682927791 1.04 0.268928165942 113157.340425\n",
      "5 1994ae sn1994ae-19941201.50-fast.flm 2.0 150.102991241 0.96 0.19819124967 135459.210351\n",
      "6 1998aq sn1998aq-19980429.26-fast.flm 1.06 161.199075666 1.11 0.20201171181 181922.254971\n",
      "7 1998bu sn1998bu-19980517.15-fast.flm -2.55 137.136179272 1.03 0.246357843462 169670.892463\n",
      "8 2002fk sn2002fk-20020929.44-fast.flm -1.46 178.698803338 1.13 0.216680712746 217086.040032\n",
      "9 2007le SN07le_071028_g01_CLA_LD.dat 2.84999999963 78.7656416336 1.01 0.168129189068 255507.458784\n",
      "10 1999ac sn1999ac-19990312-ui-corrected.flm -0.89 66.9161014359 1.23 0.279872732032 112857.496445\n",
      "11 1996x 1996X_19960419_3077_10669_00.dat 0.900000000001 72.6747082167 1.26 0.202903465288 114137.529021\n",
      "12 2006d sn2006d-20060120-snifs-r.dat -2.0 96.6707202467 1.35 0.354531679626 163786.739892\n"
     ]
    }
   ],
   "source": [
    "check_SN_rs = []\n",
    "j = 0\n",
    "for i in range(len(all_ratios)):\n",
    "    for k in range(len(all_ratios[i])):\n",
    "        r = all_ratios[i][k]\n",
    "        dm15 = all_dm15s[i][k]\n",
    "        SN = sn_arrays_2[i][k]\n",
    "        if np.average(SN.ivar[SN.x1:SN.x2]) > 100000:\n",
    "            print j, SN.name, SN.filename, SN.phase, SN.SNR, dm15, r, np.average(SN.ivar[SN.x1:SN.x2])\n",
    "            check_SN_rs.append(SN)\n",
    "            j+=1"
   ]
  },
  {
   "cell_type": "code",
   "execution_count": 229,
   "metadata": {
    "collapsed": false
   },
   "outputs": [],
   "source": [
    "plt.plot(check_SN_rs[1].wavelength, check_SN_rs[1].flux)\n",
    "plt.show()"
   ]
  },
  {
   "cell_type": "code",
   "execution_count": 230,
   "metadata": {
    "collapsed": false
   },
   "outputs": [],
   "source": [
    "comp = comps_dm15_max_fewer_bins[2]\n",
    "boot_waves = []\n",
    "boot_sm_fluxes = []\n",
    "for boot in boot_sn_arrays_2[2]:\n",
    "    varflux = np.zeros(len(boot.wavelength[boot.x1:boot.x2]), float)\n",
    "    sm_flux = df.gsmooth(boot.wavelength[boot.x1:boot.x2], boot.flux[boot.x1:boot.x2], varflux, vexp=.002)\n",
    "    plt.plot(boot.wavelength[boot.x1:boot.x2], sm_flux, 'g')\n",
    "    boot_waves.append(boot.wavelength[boot.x1:boot.x2])\n",
    "    boot_sm_fluxes.append(sm_flux)\n",
    "varflux = np.zeros(len(comp.wavelength[comp.x1:comp.x2]), float)\n",
    "sm_flux = df.gsmooth(comp.wavelength[comp.x1:comp.x2], comp.flux[comp.x1:comp.x2], varflux, vexp=.002)\n",
    "plt.plot(comp.wavelength[comp.x1:comp.x2], sm_flux, linewidth=4)\n",
    "plt.show()"
   ]
  },
  {
   "cell_type": "code",
   "execution_count": 194,
   "metadata": {
    "collapsed": false
   },
   "outputs": [
    {
     "name": "stderr",
     "output_type": "stream",
     "text": [
      "spectral_analysis.py:22: FutureWarning: comparison to `None` will result in an elementwise object comparison in the future.\n",
      "  if varflux == None:\n"
     ]
    },
    {
     "name": "stdout",
     "output_type": "stream",
     "text": [
      "0.252239433753\n",
      "0.243773561449\n",
      "0.258728098862\n",
      "0.231399234431\n",
      "0.230797092257\n",
      "0.201066015019\n",
      "0.257103786985\n",
      "0.244080020546\n",
      "0.298631691438\n",
      "0.262782272479\n",
      "0.270741594963\n",
      "0.262122116735\n",
      "0.210320933057\n",
      "0.245947858838\n",
      "0.252083041474\n",
      "0.22827433063\n",
      "0.242909868531\n",
      "0.224607881394\n",
      "0.223157135996\n",
      "0.273224669277\n",
      "0.217928471721\n",
      "0.264482969536\n",
      "0.238615622098\n",
      "0.243890059986\n",
      "0.231569090247\n",
      "0.21972779177\n",
      "0.25057383176\n",
      "0.268811085073\n",
      "0.252740549329\n",
      "0.242064839134\n",
      "0.254901991517\n",
      "0.246906469154\n",
      "0.225463275991\n",
      "0.244290837648\n",
      "0.225583302557\n",
      "0.224871646288\n",
      "0.204435355049\n",
      "0.246880942505\n",
      "0.25768574103\n",
      "0.205866143867\n",
      "0.259718121566\n",
      "0.262619772032\n",
      "0.215617209709\n",
      "0.261778050963\n",
      "0.209579100035\n",
      "0.258577237429\n",
      "0.19696363853\n",
      "0.277461590888\n",
      "0.232714379415\n",
      "0.251100100763\n",
      "0.218376049633\n",
      "0.227626581986\n",
      "0.226955612898\n",
      "0.249061341864\n",
      "0.231736101035\n",
      "0.257290689536\n",
      "0.26421399059\n",
      "0.283779130347\n",
      "0.265437360801\n",
      "0.220125513737\n",
      "0.270211307189\n",
      "0.23353594601\n",
      "0.214116859029\n",
      "0.229615791603\n",
      "0.246163792081\n",
      "0.290402781929\n",
      "0.22477056352\n",
      "0.216734657168\n",
      "0.286184071351\n",
      "0.24251339894\n",
      "0.231438925451\n",
      "0.212610977566\n",
      "0.219676027349\n",
      "0.259287534794\n",
      "0.243712854069\n",
      "0.246974266081\n",
      "0.238968035699\n",
      "0.205120290883\n",
      "0.226576109674\n",
      "0.199981409199\n",
      "0.25609599818\n",
      "0.267270448008\n",
      "0.201211089906\n",
      "0.20287522228\n",
      "0.252998627807\n",
      "0.235842561545\n",
      "0.245871925421\n",
      "0.243602306893\n",
      "0.235126309773\n",
      "0.27505376825\n",
      "0.252616916532\n",
      "0.198841642674\n",
      "0.246130263405\n",
      "0.213500674715\n",
      "0.252364845632\n",
      "0.235229820954\n",
      "0.199754231484\n",
      "0.248237704501\n",
      "0.230173323417\n",
      "0.263996534665\n"
     ]
    }
   ],
   "source": [
    "# sa.measure_si_ratio(comp.wavelength[comp.x1:comp.x2], sm_flux, varflux = varflux, smooth=False)\n",
    "for i in range(len(boot_sm_fluxes)):\n",
    "    r = sa.measure_si_ratio(boot_waves[i], boot_sm_fluxes[i], varflux = varflux, smooth=False)\n",
    "    print r"
   ]
  },
  {
   "cell_type": "code",
   "execution_count": 195,
   "metadata": {
    "collapsed": false
   },
   "outputs": [
    {
     "name": "stdout",
     "output_type": "stream",
     "text": [
      "0.240610364436\n",
      "0.263996534665 1.15\n",
      "0.212014639485 1.2\n"
     ]
    }
   ],
   "source": [
    "boot = boot_sn_arrays_2[2][-1]\n",
    "print np.nanmean(boot_ratios[2])\n",
    "r = sa.measure_si_ratio(boot_waves[-1], boot_sm_fluxes[-1], varflux = varflux, smooth=False)\n",
    "dm15 = np.round(np.average(boot.dm15_array[boot.x1:boot.x2]),2)\n",
    "print r, dm15\n",
    "r = sa.measure_si_ratio(comp.wavelength[comp.x1:comp.x2], sm_flux, varflux = varflux, smooth=False)\n",
    "dm15 = np.round(np.average(comp.dm15_array[comp.x1:comp.x2]),2)\n",
    "print r, dm15"
   ]
  },
  {
   "cell_type": "code",
   "execution_count": null,
   "metadata": {
    "collapsed": false
   },
   "outputs": [],
   "source": [
    "ca_ratios = []\n",
    "phases = []\n",
    "dm15s = []\n",
    "wave_ranges = [[3550.,3650.], [3550.,3650.], [3600.,3650.], [3600.,3680.], [3600.,3700.], [3480.,3600.]]\n",
    "i=0\n",
    "for i in range(len(comps_dm15_max_fewer_bins)):\n",
    "    comp = comps_dm15_max_fewer_bins[i]\n",
    "    p = np.average(comp.phase_array[comp.x1:comp.x2])\n",
    "    dm15 = np.round(np.average(comp.dm15[comp.x1:comp.x2]),2)\n",
    "    r = sa.measure_ca_ratio(comp.wavelength[comp.x1:comp.x2], comp.flux[comp.x1:comp.x2], wave1=wave_ranges[i][0], wave2=wave_ranges[i][1])\n",
    "    phases.append(p)\n",
    "    dm15s.append(dm15)\n",
    "    ca_ratios.append(r)\n",
    "    i+=1"
   ]
  },
  {
   "cell_type": "code",
   "execution_count": 13,
   "metadata": {
    "collapsed": true
   },
   "outputs": [],
   "source": [
    "plt.scatter(si_ratios, dm15s)\n",
    "plt.gca().invert_yaxis()\n",
    "plt.show()"
   ]
  },
  {
   "cell_type": "code",
   "execution_count": null,
   "metadata": {
    "collapsed": true
   },
   "outputs": [],
   "source": [
    "plt.scatter(ca_ratios, dm15s)\n",
    "plt.gca().invert_yaxis()\n",
    "plt.show()"
   ]
  },
  {
   "cell_type": "markdown",
   "metadata": {
    "collapsed": true
   },
   "source": [
    "# Very Early"
   ]
  },
  {
   "cell_type": "code",
   "execution_count": null,
   "metadata": {
    "collapsed": true
   },
   "outputs": [],
   "source": [
    "query_dm15_very_early = [\"SELECT * from Supernovae inner join Photometry ON Supernovae.SN = Photometry.SN where phase < -10 and ((dm15_cfa < .95 or dm15_from_fits < .95))\",\n",
    "                         \"SELECT * from Supernovae inner join Photometry ON Supernovae.SN = Photometry.SN where phase < -10 and ((dm15_cfa >= .95 and dm15_cfa < 1.1) or (dm15_from_fits >= .95 and dm15_from_fits < 1.1))\",\n",
    "                         \"SELECT * from Supernovae inner join Photometry ON Supernovae.SN = Photometry.SN where phase < -10 and ((dm15_cfa >= 1.1 or dm15_from_fits >= 1.1))\"]"
   ]
  },
  {
   "cell_type": "code",
   "execution_count": null,
   "metadata": {
    "collapsed": false
   },
   "outputs": [],
   "source": [
    "comps_dm15_very_early, sn_arrays = query_db.main(len(query_dm15_very_early), query_dm15_very_early, boot='b')"
   ]
  },
  {
   "cell_type": "code",
   "execution_count": null,
   "metadata": {
    "collapsed": false
   },
   "outputs": [],
   "source": [
    "composite.optimize_scales(comps_dm15_very_early, comps_dm15_very_early[0], True)\n",
    "query_db.set_min_num_spec(comps_dm15_very_early, 5)\n",
    "comparison_plot(comps_dm15_very_early)\n",
    "# stacked_plot_max(comps_dm15_very_early,5,1)"
   ]
  },
  {
   "cell_type": "markdown",
   "metadata": {},
   "source": [
    "# -1 Week"
   ]
  },
  {
   "cell_type": "code",
   "execution_count": null,
   "metadata": {
    "collapsed": true
   },
   "outputs": [],
   "source": [
    "query_dm15_m1week = [\"SELECT * from Supernovae inner join Photometry ON Supernovae.SN = Photometry.SN where phase >= -9 and phase <= -5 and ((dm15_cfa < .95 or dm15_from_fits < .95))\",\n",
    "                         \"SELECT * from Supernovae inner join Photometry ON Supernovae.SN = Photometry.SN where phase >= -9 and phase <= -5 and ((dm15_cfa >= .95 and dm15_cfa < 1.15) or (dm15_from_fits >= .95 and dm15_from_fits < 1.15))\",\n",
    "                         \"SELECT * from Supernovae inner join Photometry ON Supernovae.SN = Photometry.SN where phase >= -9 and phase <= -5 and ((dm15_cfa >= 1.15 and dm15_cfa < 1.25) or (dm15_from_fits >= 1.15 and dm15_from_fits < 1.25))\",\n",
    "                         \"SELECT * from Supernovae inner join Photometry ON Supernovae.SN = Photometry.SN where phase >= -9 and phase <= -5 and ((dm15_cfa >= 1.25 and dm15_cfa < 1.5) or (dm15_from_fits >= 1.25 and dm15_from_fits < 1.5))\",\n",
    "                         \"SELECT * from Supernovae inner join Photometry ON Supernovae.SN = Photometry.SN where phase >= -9 and phase <= -5 and ((dm15_cfa >= 1.5 or dm15_from_fits >= 1.5))\"]"
   ]
  },
  {
   "cell_type": "code",
   "execution_count": null,
   "metadata": {
    "collapsed": false
   },
   "outputs": [],
   "source": [
    "comps_dm15_m1week, sn_arrays = query_db.main(len(query_dm15_m1week), query_dm15_m1week)"
   ]
  },
  {
   "cell_type": "code",
   "execution_count": null,
   "metadata": {
    "collapsed": false
   },
   "outputs": [],
   "source": [
    "composite.optimize_scales(comps_dm15_m1week, comps_dm15_m1week[0], True)\n",
    "query_db.set_min_num_spec(comps_dm15_m1week, 5)\n",
    "comparison_plot(comps_dm15_m1week)\n",
    "stacked_plot_max(comps_dm15_m1week,5,1)"
   ]
  },
  {
   "cell_type": "markdown",
   "metadata": {},
   "source": [
    "# +1 Week"
   ]
  },
  {
   "cell_type": "code",
   "execution_count": null,
   "metadata": {
    "collapsed": true
   },
   "outputs": [],
   "source": [
    "query_dm15_p1week = [\"SELECT * from Supernovae inner join Photometry ON Supernovae.SN = Photometry.SN where phase >= 5 and phase <= 9 and ((dm15_cfa < .95 or dm15_from_fits < .95))\",\n",
    "                         \"SELECT * from Supernovae inner join Photometry ON Supernovae.SN = Photometry.SN where phase >= 5 and phase <= 9 and ((dm15_cfa >= .95 and dm15_cfa < 1.15) or (dm15_from_fits >= .95 and dm15_from_fits < 1.15))\",\n",
    "                         \"SELECT * from Supernovae inner join Photometry ON Supernovae.SN = Photometry.SN where phase >= 5 and phase <= 9 and ((dm15_cfa >= 1.15 and dm15_cfa < 1.25) or (dm15_from_fits >= 1.15 and dm15_from_fits < 1.25))\",\n",
    "                         \"SELECT * from Supernovae inner join Photometry ON Supernovae.SN = Photometry.SN where phase >= 5 and phase <= 9 and ((dm15_cfa >= 1.25 and dm15_cfa < 1.5) or (dm15_from_fits >= 1.25 and dm15_from_fits < 1.5))\",\n",
    "                         \"SELECT * from Supernovae inner join Photometry ON Supernovae.SN = Photometry.SN where phase >= 5 and phase <= 9 and ((dm15_cfa >= 1.5 or dm15_from_fits >= 1.5))\"]"
   ]
  },
  {
   "cell_type": "code",
   "execution_count": null,
   "metadata": {
    "collapsed": false
   },
   "outputs": [],
   "source": [
    "comps_dm15_p1week, sn_arrays = query_db.main(len(query_dm15_p1week), query_dm15_p1week)"
   ]
  },
  {
   "cell_type": "code",
   "execution_count": null,
   "metadata": {
    "collapsed": true
   },
   "outputs": [],
   "source": [
    "composite.optimize_scales(comps_dm15_p1week, comps_dm15_p1week[0], True)\n",
    "query_db.set_min_num_spec(comps_dm15_p1week, 5)\n",
    "comparison_plot(comps_dm15_p1week)\n",
    "stacked_plot_max(comps_dm15_p1week,5,1)"
   ]
  },
  {
   "cell_type": "markdown",
   "metadata": {},
   "source": [
    "# +2 Weeks"
   ]
  },
  {
   "cell_type": "code",
   "execution_count": null,
   "metadata": {
    "collapsed": true
   },
   "outputs": [],
   "source": [
    "query_dm15_p2week = [\"SELECT * from Supernovae inner join Photometry ON Supernovae.SN = Photometry.SN where phase >= 12 and phase <= 16 and ((dm15_cfa < 1. or dm15_from_fits < 1.))\",\n",
    "                         \"SELECT * from Supernovae inner join Photometry ON Supernovae.SN = Photometry.SN where phase >= 12 and phase <= 16 and ((dm15_cfa >= 1. and dm15_cfa < 1.15) or (dm15_from_fits >= 1. and dm15_from_fits < 1.15))\",\n",
    "                         \"SELECT * from Supernovae inner join Photometry ON Supernovae.SN = Photometry.SN where phase >= 12 and phase <= 16 and ((dm15_cfa >= 1.15 and dm15_cfa < 1.3) or ((dm15_from_fits >= 1.1 and dm15_from_fits < 1.3)))\",\n",
    "                         \"SELECT * from Supernovae inner join Photometry ON Supernovae.SN = Photometry.SN where phase >= 12 and phase <= 16 and ((dm15_cfa >= 1.3 and dm15_cfa < 1.5) or ((dm15_from_fits >= 1.3 and dm15_from_fits < 1.5)))\",\n",
    "                         \"SELECT * from Supernovae inner join Photometry ON Supernovae.SN = Photometry.SN where phase >= 12 and phase <= 16 and ((dm15_cfa >= 1.5 or dm15_from_fits >= 1.5))\"]"
   ]
  },
  {
   "cell_type": "code",
   "execution_count": null,
   "metadata": {
    "collapsed": false
   },
   "outputs": [],
   "source": [
    "comps_dm15_p2week,sn_arrays = query_db.main(len(query_dm15_p2week), query_dm15_p2week)"
   ]
  },
  {
   "cell_type": "code",
   "execution_count": null,
   "metadata": {
    "collapsed": false
   },
   "outputs": [],
   "source": [
    "composite.optimize_scales(comps_dm15_p2week, comps_dm15_p2week[0], True)\n",
    "query_db.set_min_num_spec(comps_dm15_p2week, 5)\n",
    "comparison_plot(comps_dm15_p2week)\n",
    "stacked_plot_max(comps_dm15_p2week,5,1)"
   ]
  },
  {
   "cell_type": "markdown",
   "metadata": {},
   "source": [
    "# +1 Month"
   ]
  },
  {
   "cell_type": "code",
   "execution_count": null,
   "metadata": {
    "collapsed": true
   },
   "outputs": [],
   "source": [
    "query_dm15_p1month = [\"SELECT * from Supernovae inner join Photometry ON Supernovae.SN = Photometry.SN where phase >= 26 and phase <= 34 and ((dm15_cfa < .95 or dm15_from_fits < .95))\",\n",
    "                         \"SELECT * from Supernovae inner join Photometry ON Supernovae.SN = Photometry.SN where phase >= 26 and phase <= 34 and ((dm15_cfa >= .95 and dm15_cfa < 1.1) or (dm15_from_fits >= .95 and dm15_from_fits < 1.1))\",\n",
    "                         \"SELECT * from Supernovae inner join Photometry ON Supernovae.SN = Photometry.SN where phase >= 26 and phase <= 34 and ((dm15_cfa >= 1.1 and dm15_cfa < 1.3) or ((dm15_from_fits >= 1.1 and dm15_from_fits < 1.3)))\",\n",
    "                         \"SELECT * from Supernovae inner join Photometry ON Supernovae.SN = Photometry.SN where phase >= 26 and phase <= 34 and ((dm15_cfa >= 1.3 and dm15_cfa < 1.5) or ((dm15_from_fits >= 1.3 and dm15_from_fits < 1.5)))\",\n",
    "                         \"SELECT * from Supernovae inner join Photometry ON Supernovae.SN = Photometry.SN where phase >= 26 and phase <= 34 and ((dm15_cfa >= 1.5 or dm15_from_fits >= 1.5))\"]"
   ]
  },
  {
   "cell_type": "code",
   "execution_count": null,
   "metadata": {
    "collapsed": false
   },
   "outputs": [],
   "source": [
    "comps_dm15_p1month, sn_arrays = query_db.main(len(query_dm15_p1month), query_dm15_p1month)"
   ]
  },
  {
   "cell_type": "code",
   "execution_count": null,
   "metadata": {
    "collapsed": false
   },
   "outputs": [],
   "source": [
    "composite.optimize_scales(comps_dm15_p1month, comps_dm15_p1month[0], True)\n",
    "query_db.set_min_num_spec(comps_dm15_p1month, 5)\n",
    "comparison_plot(comps_dm15_p1month)\n",
    "stacked_plot_max(comps_dm15_p1month,5,1)"
   ]
  },
  {
   "cell_type": "markdown",
   "metadata": {},
   "source": [
    "# +2 Months"
   ]
  },
  {
   "cell_type": "code",
   "execution_count": null,
   "metadata": {
    "collapsed": true
   },
   "outputs": [],
   "source": [
    "query_dm15_p2month = [\"SELECT * from Supernovae inner join Photometry ON Supernovae.SN = Photometry.SN where phase >= 56 and phase <= 64 and ((dm15_cfa < 1. or dm15_from_fits < 1.))\",\n",
    "                         \"SELECT * from Supernovae inner join Photometry ON Supernovae.SN = Photometry.SN where phase >= 56 and phase <= 64 and ((dm15_cfa >= 1. and dm15_cfa < 1.15) or (dm15_from_fits >= 1. and dm15_from_fits < 1.15))\",\n",
    "                         \"SELECT * from Supernovae inner join Photometry ON Supernovae.SN = Photometry.SN where phase >= 56 and phase <= 64 and ((dm15_cfa >= 1.15 and dm15_cfa < 1.35) or (dm15_from_fits >= 1.15 and dm15_from_fits < 1.35))\",\n",
    "                         \"SELECT * from Supernovae inner join Photometry ON Supernovae.SN = Photometry.SN where phase >= 56 and phase <= 64 and ((dm15_cfa >= 1.35 or dm15_from_fits >= 1.35))\"]"
   ]
  },
  {
   "cell_type": "code",
   "execution_count": null,
   "metadata": {
    "collapsed": false
   },
   "outputs": [],
   "source": [
    "comps_dm15_p2month, sn_arrays = query_db.main(len(query_dm15_p2month), query_dm15_p2month)"
   ]
  },
  {
   "cell_type": "code",
   "execution_count": null,
   "metadata": {
    "collapsed": false
   },
   "outputs": [],
   "source": [
    "composite.optimize_scales(comps_dm15_p2month, comps_dm15_p2month[0], True)\n",
    "query_db.set_min_num_spec(comps_dm15_p2month, 5)\n",
    "comparison_plot(comps_dm15_p2month)\n",
    "stacked_plot_max(comps_dm15_p2month,5,1)"
   ]
  },
  {
   "cell_type": "markdown",
   "metadata": {},
   "source": [
    "# +1 Year"
   ]
  },
  {
   "cell_type": "code",
   "execution_count": null,
   "metadata": {
    "collapsed": true
   },
   "outputs": [],
   "source": [
    "query_dm15_plong = [\"SELECT * from Supernovae inner join Photometry ON Supernovae.SN = Photometry.SN where phase >= 180 and ((dm15_cfa < 1.2 or dm15_from_fits < 1.2))\",\n",
    "                         \"SELECT * from Supernovae inner join Photometry ON Supernovae.SN = Photometry.SN where phase >= 180 and ((dm15_cfa >= 1.2 or dm15_from_fits >= 1.2))\"]"
   ]
  },
  {
   "cell_type": "code",
   "execution_count": null,
   "metadata": {
    "collapsed": false
   },
   "outputs": [],
   "source": [
    "comps_dm15_plong, sn_arrays = query_db.main(len(query_dm15_plong), query_dm15_plong)"
   ]
  },
  {
   "cell_type": "code",
   "execution_count": null,
   "metadata": {
    "collapsed": false
   },
   "outputs": [],
   "source": [
    "composite.optimize_scales(comps_dm15_plong, comps_dm15_plong[0], True)\n",
    "query_db.set_min_num_spec(comps_dm15_plong, 5)\n",
    "comparison_plot(comps_dm15_plong)\n",
    "stacked_plot_max(comps_dm15_plong,20,1)"
   ]
  },
  {
   "cell_type": "code",
   "execution_count": null,
   "metadata": {
    "collapsed": false
   },
   "outputs": [],
   "source": [
    "#normalize to first comp\n",
    "comps_dm15_very_early = query_db.normalize_comps(comps_dm15_very_early)\n",
    "comps_dm15_m1week = query_db.normalize_comps(comps_dm15_m1week)\n",
    "comps_dm15_max_fewer_bins = query_db.normalize_comps(comps_dm15_max_fewer_bins)\n",
    "comps_dm15_p1week = query_db.normalize_comps(comps_dm15_p1week)\n",
    "comps_dm15_p2week = query_db.normalize_comps(comps_dm15_p2week)\n",
    "comps_dm15_p1month = query_db.normalize_comps(comps_dm15_p1month)\n",
    "comps_dm15_p2month = query_db.normalize_comps(comps_dm15_p2month)\n",
    "comps_dm15_plong = query_db.normalize_comps(comps_dm15_plong)"
   ]
  },
  {
   "cell_type": "code",
   "execution_count": null,
   "metadata": {
    "collapsed": false
   },
   "outputs": [],
   "source": [
    "composite.optimize_scales(comps_dm15_very_early, comps_dm15_very_early[0], True)\n",
    "composite.optimize_scales(comps_dm15_m1week, comps_dm15_m1week[0], True)\n",
    "composite.optimize_scales(comps_dm15_max_fewer_bins, comps_dm15_max_fewer_bins[0], True)\n",
    "composite.optimize_scales(comps_dm15_p1week, comps_dm15_p1week[0], True)\n",
    "composite.optimize_scales(comps_dm15_p2week, comps_dm15_p2week[0], True)\n",
    "composite.optimize_scales(comps_dm15_p1month, comps_dm15_p1month[0], True)\n",
    "composite.optimize_scales(comps_dm15_p2month, comps_dm15_p2month[0], True)\n",
    "composite.optimize_scales(comps_dm15_plong, comps_dm15_plong[0], True)"
   ]
  },
  {
   "cell_type": "code",
   "execution_count": null,
   "metadata": {
    "collapsed": false
   },
   "outputs": [],
   "source": [
    "f, axarr = plt.subplots(8, 5, figsize=[30,20], sharex = True, sharey = True)\n",
    "axarr[0, 0].set_title('$\\Delta m_{15} < 0.95$', fontsize=30)\n",
    "axarr[0, 1].set_title('$0.95 < \\Delta m_{15} < 1.15$', fontsize=30)\n",
    "axarr[0, 2].set_title('$1.15 < \\Delta m_{15} < 1.25$',fontsize=30)\n",
    "axarr[0, 3].set_title('$1.25 < \\Delta m_{15} < 1.50$', fontsize=30)\n",
    "axarr[0, 4].set_title('$\\Delta m_{15} > 1.50$', fontsize=30)\n",
    "\n",
    "axarr[0, 0].set_ylabel('$\\Delta t < -10$', fontsize=15)\n",
    "axarr[1, 0].set_ylabel('$-9 < \\Delta t < -5$', fontsize=15)\n",
    "axarr[2, 0].set_ylabel('$-3 < \\Delta t < +3$',fontsize=15)\n",
    "axarr[3, 0].set_ylabel('$+5 < \\Delta t < +9$', fontsize=15)\n",
    "axarr[4, 0].set_ylabel('$+12 < \\Delta t < +16$', fontsize=15)\n",
    "axarr[5, 0].set_ylabel('$+26 < \\Delta t < +34$', fontsize=15)\n",
    "axarr[6, 0].set_ylabel('$+56 < \\Delta t < +64$', fontsize=15)\n",
    "axarr[7, 0].set_ylabel('$\\Delta t > +180$', fontsize=15)\n",
    "i = 0\n",
    "for comp in comps_dm15_very_early:\n",
    "    dm15 = np.round(np.average(comp.dm15[comp.x1:comp.x2]),2)\n",
    "#     axarr[0, i].text(9700, .7, dm15)\n",
    "    axarr[0, i].plot(comp.wavelength[comp.x1:comp.x2], comp.flux[comp.x1:comp.x2])\n",
    "    axarr[0, i].fill_between(comp.wavelength[comp.x1:comp.x2], \n",
    "                             comp.low_conf[comp.x1:comp.x2], \n",
    "                             comp.up_conf[comp.x1:comp.x2], alpha = 0.5)\n",
    "    i+=1\n",
    "    \n",
    "i = 0\n",
    "for comp in comps_dm15_m1week:\n",
    "    dm15 = np.round(np.average(comp.dm15[comp.x1:comp.x2]),2)\n",
    "#     axarr[1, i].text(9700, .7, dm15)\n",
    "    axarr[1, i].plot(comp.wavelength[comp.x1:comp.x2], comp.flux[comp.x1:comp.x2])\n",
    "    axarr[1, i].fill_between(comp.wavelength[comp.x1:comp.x2], \n",
    "                             comp.low_conf[comp.x1:comp.x2], \n",
    "                             comp.up_conf[comp.x1:comp.x2], alpha = 0.5)\n",
    "    i+=1\n",
    "    \n",
    "i = 0\n",
    "for comp in comps_dm15_max_fewer_bins:\n",
    "    dm15 = np.round(np.average(comp.dm15[comp.x1:comp.x2]),2)\n",
    "#     axarr[2, i].text(9700, .7, dm15)\n",
    "    axarr[2, i].plot(comp.wavelength[comp.x1:comp.x2], comp.flux[comp.x1:comp.x2])\n",
    "    axarr[2, i].fill_between(comp.wavelength[comp.x1:comp.x2], \n",
    "                             comp.low_conf[comp.x1:comp.x2], \n",
    "                             comp.up_conf[comp.x1:comp.x2], alpha = 0.5)\n",
    "    i+=1\n",
    "\n",
    "i = 0\n",
    "for comp in comps_dm15_p1week:\n",
    "    dm15 = np.round(np.average(comp.dm15[comp.x1:comp.x2]),2)\n",
    "#     axarr[3, i].text(9700, .7, dm15)\n",
    "    axarr[3, i].plot(comp.wavelength[comp.x1:comp.x2], comp.flux[comp.x1:comp.x2])\n",
    "    axarr[3, i].fill_between(comp.wavelength[comp.x1:comp.x2], \n",
    "                             comp.low_conf[comp.x1:comp.x2], \n",
    "                             comp.up_conf[comp.x1:comp.x2], alpha = 0.5)\n",
    "    i+=1\n",
    "\n",
    "i = 0\n",
    "for comp in comps_dm15_p2week:\n",
    "    dm15 = np.round(np.average(comp.dm15[comp.x1:comp.x2]),2)\n",
    "#     axarr[4, i].text(9700, .7, dm15)\n",
    "    axarr[4, i].plot(comp.wavelength[comp.x1:comp.x2], comp.flux[comp.x1:comp.x2])\n",
    "    axarr[4, i].fill_between(comp.wavelength[comp.x1:comp.x2], \n",
    "                             comp.low_conf[comp.x1:comp.x2], \n",
    "                             comp.up_conf[comp.x1:comp.x2], alpha = 0.5)\n",
    "    i+=1\n",
    "    \n",
    "i = 0\n",
    "for comp in comps_dm15_p1month:\n",
    "    dm15 = np.round(np.average(comp.dm15[comp.x1:comp.x2]),2)\n",
    "#     axarr[5, i].text(9700, .7, dm15)\n",
    "    axarr[5, i].plot(comp.wavelength[comp.x1:comp.x2], comp.flux[comp.x1:comp.x2])\n",
    "    axarr[5, i].fill_between(comp.wavelength[comp.x1:comp.x2], \n",
    "                             comp.low_conf[comp.x1:comp.x2], \n",
    "                             comp.up_conf[comp.x1:comp.x2], alpha = 0.5)\n",
    "    i+=1\n",
    "\n",
    "i = 0\n",
    "for comp in comps_dm15_p2month:\n",
    "    dm15 = np.round(np.average(comp.dm15[comp.x1:comp.x2]),2)\n",
    "#     axarr[6, i].text(9700, .7, dm15)\n",
    "    axarr[6, i].plot(comp.wavelength[comp.x1:comp.x2], comp.flux[comp.x1:comp.x2])\n",
    "    axarr[6, i].fill_between(comp.wavelength[comp.x1:comp.x2], \n",
    "                             comp.low_conf[comp.x1:comp.x2], \n",
    "                             comp.up_conf[comp.x1:comp.x2], alpha = 0.5)\n",
    "    i+=1\n",
    "\n",
    "dm15 = np.round(np.average(comps_dm15_plong[0].dm15[comps_dm15_plong[0].x1:comps_dm15_plong[0].x2]),2)\n",
    "# axarr[7, 1].text(9700, .7, dm15)\n",
    "axarr[7, 1].plot(comps_dm15_plong[0].wavelength[comps_dm15_plong[0].x1:comps_dm15_plong[0].x2], \n",
    "                 comps_dm15_plong[0].flux[comps_dm15_plong[0].x1:comps_dm15_plong[0].x2])\n",
    "axarr[7, 1].fill_between(comps_dm15_plong[0].wavelength[comps_dm15_plong[0].x1:comps_dm15_plong[0].x2], \n",
    "                         comps_dm15_plong[0].low_conf[comps_dm15_plong[0].x1:comps_dm15_plong[0].x2], \n",
    "                         comps_dm15_plong[0].up_conf[comps_dm15_plong[0].x1:comps_dm15_plong[0].x2], alpha = 0.5)\n",
    "dm15 = np.round(np.average(comps_dm15_plong[1].dm15[comps_dm15_plong[1].x1:comps_dm15_plong[1].x2]),2)\n",
    "# axarr[7, 4].text(9700, .7, dm15)\n",
    "axarr[7, 4].plot(comps_dm15_plong[1].wavelength[comps_dm15_plong[1].x1:comps_dm15_plong[1].x2], \n",
    "                 comps_dm15_plong[1].flux[comps_dm15_plong[1].x1:comps_dm15_plong[1].x2])\n",
    "axarr[7, 4].fill_between(comps_dm15_plong[1].wavelength[comps_dm15_plong[1].x1:comps_dm15_plong[1].x2], \n",
    "                         comps_dm15_plong[1].low_conf[comps_dm15_plong[1].x1:comps_dm15_plong[1].x2], \n",
    "                         comps_dm15_plong[1].up_conf[comps_dm15_plong[1].x1:comps_dm15_plong[1].x2], alpha = 0.5)\n",
    "\n",
    "f.subplots_adjust(hspace=0, wspace=0)\n",
    "plt.setp([a.get_xticklabels() for a in f.axes[:-5]], visible=False)\n",
    "need_label = [29,31,32,33]\n",
    "for i in range(len(f.axes)):\n",
    "    f.axes[i].set_ylim([-.1,1.1])\n",
    "    f.axes[i].minorticks_on()\n",
    "    # ax.xaxis.set_ticks(np.arange(np.round(old_wave[0],-3),np.round(old_wave[-1],-3),1000))\n",
    "    f.axes[i].tick_params(\n",
    "        which='major', \n",
    "        bottom='on', \n",
    "        top='on',\n",
    "        left='on',\n",
    "        right='on',\n",
    "        length=10)\n",
    "    f.axes[i].tick_params(\n",
    "        which='minor', \n",
    "        bottom='on', \n",
    "        top='on',\n",
    "        left='on',\n",
    "        right='on',\n",
    "        length=5)\n",
    "#     if i%5 != 0 and i not in need_label:\n",
    "#         plt.setp(f.axes[i].get_yticklabels(), visible=False)\n",
    "    f.axes[i].xaxis.set_ticks(np.arange(4000,11000,1000))\n",
    "# f.delaxes(axarr[0, 3])\n",
    "# f.delaxes(axarr[0, 4])\n",
    "# f.delaxes(axarr[6, 4])\n",
    "# f.delaxes(axarr[7, 1])\n",
    "# f.delaxes(axarr[7, 2])\n",
    "# f.delaxes(axarr[7, 3])\n",
    "plt.savefig('../../Paper_Drafts/dm15_grid.png', dpi = 100, bbox_inches = 'tight')\n",
    "plt.show()"
   ]
  },
  {
   "cell_type": "code",
   "execution_count": null,
   "metadata": {
    "collapsed": true
   },
   "outputs": [],
   "source": [
    "import spectral_analysis as sa\n",
    "plt.cla()"
   ]
  },
  {
   "cell_type": "code",
   "execution_count": null,
   "metadata": {
    "collapsed": true
   },
   "outputs": [],
   "source": [
    "all_comps = []\n",
    "all_comps.append(comps_dm15_very_early)\n",
    "all_comps.append(comps_dm15_max_fewer_bins)\n",
    "all_comps.append(comps_dm15_p1week)\n",
    "all_comps.append(comps_dm15_p2week)\n",
    "all_comps.append(comps_dm15_p1month)"
   ]
  },
  {
   "cell_type": "code",
   "execution_count": null,
   "metadata": {
    "collapsed": false
   },
   "outputs": [],
   "source": [
    "all_vels = []\n",
    "all_phases = []\n",
    "for epoch in all_comps:\n",
    "    velocities = []\n",
    "    phases = []\n",
    "    for comp in epoch:\n",
    "        p = np.average(comp.phase_array[comp.x1:comp.x2])\n",
    "        v = -1.*sa.measure_si_velocity(comp)/1000.\n",
    "        velocities.append(v)\n",
    "        phases.append(p)\n",
    "    all_vels.append(velocities)\n",
    "    all_phases.append(phases)"
   ]
  },
  {
   "cell_type": "code",
   "execution_count": null,
   "metadata": {
    "collapsed": false
   },
   "outputs": [],
   "source": [
    "for i in range (len(all_vels)):\n",
    "    plt.plot(all_phases[i], all_vels[i], 'o')\n",
    "plt.gca().invert_yaxis()\n",
    "plt.show()"
   ]
  },
  {
   "cell_type": "code",
   "execution_count": null,
   "metadata": {
    "collapsed": true
   },
   "outputs": [],
   "source": []
  }
 ],
 "metadata": {
  "anaconda-cloud": {},
  "kernelspec": {
   "display_name": "Python [conda root]",
   "language": "python",
   "name": "conda-root-py"
  },
  "language_info": {
   "codemirror_mode": {
    "name": "ipython",
    "version": 2
   },
   "file_extension": ".py",
   "mimetype": "text/x-python",
   "name": "python",
   "nbconvert_exporter": "python",
   "pygments_lexer": "ipython2",
   "version": "2.7.12"
  }
 },
 "nbformat": 4,
 "nbformat_minor": 1
}
