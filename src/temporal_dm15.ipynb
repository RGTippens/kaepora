{
 "cells": [
  {
   "cell_type": "code",
   "execution_count": 1,
   "metadata": {
    "collapsed": false
   },
   "outputs": [],
   "source": [
    "import matplotlib\n",
    "matplotlib.use('qt5agg')\n",
    "import matplotlib.pyplot as plt\n",
    "import time\n",
    "import numpy as np\n",
    "import query_db"
   ]
  },
  {
   "cell_type": "code",
   "execution_count": 2,
   "metadata": {
    "collapsed": false
   },
   "outputs": [],
   "source": [
    "%load_ext autoreload\n",
    "%autoreload 2"
   ]
  },
  {
   "cell_type": "code",
   "execution_count": 3,
   "metadata": {
    "collapsed": true
   },
   "outputs": [],
   "source": [
    "import matplotlib.gridspec as gridspec\n",
    "import spectral_analysis as sa"
   ]
  },
  {
   "cell_type": "code",
   "execution_count": null,
   "metadata": {
    "collapsed": true
   },
   "outputs": [],
   "source": [
    "def make_colorbar(composites):\n",
    "    params = []\n",
    "    # for comp in composites:\n",
    "    # \tparams.append(np.average(comp.dm15_array[comp.x1:comp.x2]))\n",
    "    # norm = matplotlib.colors.Normalize(vmin=np.min(params),vmax=np.max(params))\n",
    "    norm = matplotlib.colors.Normalize(vmin=1.,vmax=len(composites) + 1.)\n",
    "    c_m = matplotlib.cm.plasma\n",
    "    # c_m = matplotlib.cm.winter_r\n",
    "    s_m = matplotlib.cm.ScalarMappable(cmap=c_m, norm=norm)\n",
    "    s_m.set_array([])\n",
    "\n",
    "    return s_m"
   ]
  },
  {
   "cell_type": "code",
   "execution_count": null,
   "metadata": {
    "collapsed": true
   },
   "outputs": [],
   "source": [
    "def comparison_plot(composites):\n",
    "\n",
    "#     plt.style.use('ggplot')\n",
    "    colors = [color['color'] for color in list(plt.rcParams['axes.prop_cycle'])]\n",
    "    h = [3,1,1,1,1,1,1]\n",
    "    font = {'family' : 'serif',\n",
    "        'color'  : 'black',\n",
    "        'weight' : 'bold',\n",
    "        'size'   : 10,\n",
    "        }\n",
    "\n",
    "#     gs = gridspec.GridSpec(7, 1, height_ratios=h, hspace = .001)\n",
    "#     fig = plt.figure(num = 1, dpi = 100, figsize = [10,10])\n",
    "    fig = plt.figure(num = 1, dpi = 100, figsize = [10,8])\n",
    "    s_m = make_colorbar(composites)\n",
    "    lw = 3\n",
    "\n",
    "    composites, scales = composite.optimize_scales(composites, composites[0], True)\n",
    "\n",
    "    i = 0\n",
    "    k = 1\n",
    "    for comp in composites:\n",
    "        # param = np.average(comp.dm15_array[comp.x1:comp.x2])\n",
    "        param = k\n",
    "\n",
    "#         rel_flux = plt.subplot(gs[0])\n",
    "        rel_flux = plt.subplot(111)\n",
    "#         plt.setp(rel_flux.get_xticklabels(), visible=False)\n",
    "        plt.ylabel('Relative Flux', fontdict = font)\n",
    "        rel_flux.axes.get_yaxis().set_ticks([])\n",
    "        # plt.plot(comp.wavelength[comp.x1:comp.x2], comp.flux[comp.x1:comp.x2], color = s_m.to_rgba(param))\n",
    "        plt.plot(comp.wavelength[comp.x1:comp.x2], comp.flux[comp.x1:comp.x2], linewidth = lw, color = s_m.to_rgba(param))\n",
    "        if len(comp.low_conf) > 0 and len(comp.up_conf) > 0:\n",
    "            plt.fill_between(comp.wavelength[comp.x1:comp.x2], comp.low_conf[comp.x1:comp.x2], \n",
    "                             comp.up_conf[comp.x1:comp.x2], color = s_m.to_rgba(param), alpha = 0.5)\n",
    "            # plt.fill_between(comp.wavelength[comp.x1:comp.x2], comp.low_conf[comp.x1:comp.x2], \n",
    "            # \t             comp.up_conf[comp.x1:comp.x2], color = colors[i%len(colors)], alpha = 0.5)\n",
    "\n",
    "#         var = plt.subplot(gs[1], sharex = rel_flux)\n",
    "#         plt.setp(var.get_xticklabels(), visible=False)\n",
    "#         plt.ylabel('Variance', fontdict = font)\n",
    "#         # plt.plot(comp.wavelength[comp.x1:comp.x2], comp.ivar[comp.x1:comp.x2], color = s_m.to_rgba(param))\n",
    "#         plt.plot(comp.wavelength[comp.x1:comp.x2], comp.ivar[comp.x1:comp.x2], linewidth = lw, color = s_m.to_rgba(param))\n",
    "\n",
    "#         res = plt.subplot(gs[2], sharex = rel_flux)\n",
    "#         plt.setp(res.get_xticklabels(), visible=False)\n",
    "#         plt.ylabel('Residuals', fontdict = font)\n",
    "#         # plt.plot(comp.wavelength[comp.x1:comp.x2], comp.flux[comp.x1:comp.x2] - composites[0].flux[comp.x1:comp.x2], color = s_m.to_rgba(param))\n",
    "#         plt.plot(comp.wavelength[comp.x1:comp.x2], comp.flux[comp.x1:comp.x2] - composites[0].flux[comp.x1:comp.x2], linewidth = lw, color = s_m.to_rgba(param))\n",
    "#         if len(comp.low_conf) > 0 and len(comp.up_conf) > 0:\n",
    "#             low_resid = comp.low_conf[comp.x1:comp.x2] - composites[0].flux[comp.x1:comp.x2]\n",
    "#             up_resid = comp.up_conf[comp.x1:comp.x2] - composites[0].flux[comp.x1:comp.x2]\n",
    "#             plt.fill_between(comp.wavelength[comp.x1:comp.x2], low_resid, up_resid, color = s_m.to_rgba(param), alpha = 0.5)\n",
    "#             # plt.fill_between(comp.wavelength[comp.x1:comp.x2], low_resid, up_resid, color = colors[i%len(colors)], alpha = 0.5)\n",
    "\n",
    "#         spec = plt.subplot(gs[3], sharex = rel_flux)\n",
    "#         plt.setp(spec.get_xticklabels(), visible=False)\n",
    "#         plt.ylabel('Spectra/Bin', fontdict = font)\n",
    "#         # plt.plot(comp.wavelength[comp.x1:comp.x2], comp.spec_bin[comp.x1:comp.x2], color = s_m.to_rgba(param))\n",
    "#         plt.plot(comp.wavelength[comp.x1:comp.x2], comp.spec_bin[comp.x1:comp.x2], linewidth = lw, color = s_m.to_rgba(param))\n",
    "\n",
    "#         phase = plt.subplot(gs[4], sharex = rel_flux)\n",
    "#         plt.setp(phase.get_xticklabels(), visible=False)\n",
    "#         plt.ylabel('Phase [d]', fontdict = font)\n",
    "#         # plt.plot(comp.wavelength[comp.x1:comp.x2], comp.phase_array[comp.x1:comp.x2], color = s_m.to_rgba(param))\n",
    "#         plt.plot(comp.wavelength[comp.x1:comp.x2], comp.phase_array[comp.x1:comp.x2], linewidth = lw, color = s_m.to_rgba(param))\n",
    "\n",
    "#         delt = plt.subplot(gs[5], sharex = rel_flux)\n",
    "#         plt.setp(delt.get_xticklabels(), visible=False)\n",
    "#         plt.ylabel('$\\Delta$m$_{15}$', fontdict = font)\n",
    "#         # plt.plot(comp.wavelength[comp.x1:comp.x2], comp.dm15[comp.x1:comp.x2], color = s_m.to_rgba(param))\n",
    "#         plt.plot(comp.wavelength[comp.x1:comp.x2], comp.dm15[comp.x1:comp.x2], linewidth = lw, color = s_m.to_rgba(param))\n",
    "\n",
    "#         plt.subplot(gs[6], sharex = rel_flux)\n",
    "#         plt.ylabel('Redshift', fontdict = font)\n",
    "#         # plt.plot(comp.wavelength[comp.x1:comp.x2], comp.red_array[comp.x1:comp.x2], color = s_m.to_rgba(param))\n",
    "#         plt.plot(comp.wavelength[comp.x1:comp.x2], comp.red_array[comp.x1:comp.x2], linewidth = lw, color = s_m.to_rgba(param))\n",
    "\n",
    "        i+=1\n",
    "        k+=1\n",
    "\n",
    "    plt.xlabel( 'Wavelength ' + \"($\\mathrm{\\AA}$)\", fontdict = font)\n",
    "    # cb = plt.colorbar(s_m, ax = fig.axes)\n",
    "    # cb.set_label('Phase', fontdict = font)\n",
    "    # for ax in fig.axes:\n",
    "    # \tax.set_axis_bgcolor('white')\n",
    "\n",
    "    plt.show()"
   ]
  },
  {
   "cell_type": "code",
   "execution_count": null,
   "metadata": {
    "collapsed": true
   },
   "outputs": [],
   "source": [
    "query_strings_low_dm15 = [\"SELECT * from Supernovae inner join Photometry ON Supernovae.SN = Photometry.SN and phase < -7 and (dm15_cfa <= 1.16 or dm15_from_fits <= 1.16)\",\n",
    "                          \"SELECT * from Supernovae inner join Photometry ON Supernovae.SN = Photometry.SN and phase >= -7 and phase < -4 and (dm15_cfa <= 1.16 or dm15_from_fits <= 1.16)\",\n",
    "                          \"SELECT * from Supernovae inner join Photometry ON Supernovae.SN = Photometry.SN and phase >= -4 and phase < -2 and (dm15_cfa <= 1.16 or dm15_from_fits <= 1.16)\",\n",
    "                          \"SELECT * from Supernovae inner join Photometry ON Supernovae.SN = Photometry.SN and phase >= -2 and phase < -1 and (dm15_cfa <= 1.16 or dm15_from_fits <= 1.16)\",\n",
    "                          \"SELECT * from Supernovae inner join Photometry ON Supernovae.SN = Photometry.SN and phase >= -1 and phase < 0 and (dm15_cfa <= 1.16 or dm15_from_fits <= 1.16)\",\n",
    "                          \"SELECT * from Supernovae inner join Photometry ON Supernovae.SN = Photometry.SN and phase >= 0 and phase < 1 and (dm15_cfa <= 1.16 or dm15_from_fits <= 1.16)\",\n",
    "                          \"SELECT * from Supernovae inner join Photometry ON Supernovae.SN = Photometry.SN and phase >= 1 and phase < 2 and (dm15_cfa <= 1.16 or dm15_from_fits <= 1.16)\",\n",
    "                          \"SELECT * from Supernovae inner join Photometry ON Supernovae.SN = Photometry.SN and phase >= 2 and phase < 3 and (dm15_cfa <= 1.16 or dm15_from_fits <= 1.16)\",\n",
    "                          \"SELECT * from Supernovae inner join Photometry ON Supernovae.SN = Photometry.SN and phase >= 3 and phase < 4 and (dm15_cfa <= 1.16 or dm15_from_fits <= 1.16)\",\n",
    "                          \"SELECT * from Supernovae inner join Photometry ON Supernovae.SN = Photometry.SN and phase >= 4 and phase < 5 and (dm15_cfa <= 1.16 or dm15_from_fits <= 1.16)\",\n",
    "                          \"SELECT * from Supernovae inner join Photometry ON Supernovae.SN = Photometry.SN and phase >= 5 and phase < 6 and (dm15_cfa <= 1.16 or dm15_from_fits <= 1.16)\",\n",
    "                          \"SELECT * from Supernovae inner join Photometry ON Supernovae.SN = Photometry.SN and phase >= 6 and phase < 7 and (dm15_cfa <= 1.16 or dm15_from_fits <= 1.16)\",\n",
    "                          \"SELECT * from Supernovae inner join Photometry ON Supernovae.SN = Photometry.SN and phase >= 7 and phase < 8 and (dm15_cfa <= 1.16 or dm15_from_fits <= 1.16)\",\n",
    "                          \"SELECT * from Supernovae inner join Photometry ON Supernovae.SN = Photometry.SN and phase >= 8 and phase < 9 and (dm15_cfa <= 1.16 or dm15_from_fits <= 1.16)\",\n",
    "                          \"SELECT * from Supernovae inner join Photometry ON Supernovae.SN = Photometry.SN and phase >= 9 and phase < 10 and (dm15_cfa <= 1.16 or dm15_from_fits <= 1.16)\",\n",
    "                          \"SELECT * from Supernovae inner join Photometry ON Supernovae.SN = Photometry.SN and phase >= 10 and phase < 11 and (dm15_cfa <= 1.16 or dm15_from_fits <= 1.16)\",\n",
    "                          \"SELECT * from Supernovae inner join Photometry ON Supernovae.SN = Photometry.SN and phase >= 11 and phase < 12 and (dm15_cfa <= 1.16 or dm15_from_fits <= 1.16)\",\n",
    "                          \"SELECT * from Supernovae inner join Photometry ON Supernovae.SN = Photometry.SN and phase >= 12 and phase < 14 and (dm15_cfa <= 1.16 or dm15_from_fits <= 1.16)\",\n",
    "                          \"SELECT * from Supernovae inner join Photometry ON Supernovae.SN = Photometry.SN and phase >= 14 and phase < 16 and (dm15_cfa <= 1.16 or dm15_from_fits <= 1.16)\",\n",
    "                          \"SELECT * from Supernovae inner join Photometry ON Supernovae.SN = Photometry.SN and phase >= 16 and phase < 18 and (dm15_cfa <= 1.16 or dm15_from_fits <= 1.16)\",\n",
    "                          \"SELECT * from Supernovae inner join Photometry ON Supernovae.SN = Photometry.SN and phase >= 18 and phase < 20 and (dm15_cfa <= 1.16 or dm15_from_fits <= 1.16)\",\n",
    "                          \"SELECT * from Supernovae inner join Photometry ON Supernovae.SN = Photometry.SN and phase >= 20 and phase < 22 and (dm15_cfa <= 1.16 or dm15_from_fits <= 1.16)\",\n",
    "                          \"SELECT * from Supernovae inner join Photometry ON Supernovae.SN = Photometry.SN and phase >= 22 and phase < 25 and (dm15_cfa <= 1.16 or dm15_from_fits <= 1.16)\",\n",
    "                          \"SELECT * from Supernovae inner join Photometry ON Supernovae.SN = Photometry.SN and phase >= 25 and phase < 28 and (dm15_cfa <= 1.16 or dm15_from_fits <= 1.16)\",\n",
    "                          \"SELECT * from Supernovae inner join Photometry ON Supernovae.SN = Photometry.SN and phase >= 28 and phase < 31 and (dm15_cfa <= 1.16 or dm15_from_fits <= 1.16)\",\n",
    "                          \"SELECT * from Supernovae inner join Photometry ON Supernovae.SN = Photometry.SN and phase >= 31 and phase < 34 and (dm15_cfa <= 1.16 or dm15_from_fits <= 1.16)\",\n",
    "                          \"SELECT * from Supernovae inner join Photometry ON Supernovae.SN = Photometry.SN and phase >= 34 and phase < 39 and (dm15_cfa <= 1.16 or dm15_from_fits <= 1.16)\",\n",
    "                          \"SELECT * from Supernovae inner join Photometry ON Supernovae.SN = Photometry.SN and phase >= 39 and phase < 49 and (dm15_cfa <= 1.16 or dm15_from_fits <= 1.16)\",\n",
    "                          \"SELECT * from Supernovae inner join Photometry ON Supernovae.SN = Photometry.SN and phase >= 49 and phase < 70 and (dm15_cfa <= 1.16 or dm15_from_fits <= 1.16)\",\n",
    "                          \"SELECT * from Supernovae inner join Photometry ON Supernovae.SN = Photometry.SN and phase >= 70 and phase < 110 and (dm15_cfa <= 1.16 or dm15_from_fits <= 1.16)\",\n",
    "                          \"SELECT * from Supernovae inner join Photometry ON Supernovae.SN = Photometry.SN and phase >= 110 and (dm15_cfa <= 1.16 or dm15_from_fits <= 1.16)\"\n",
    "                         ]"
   ]
  },
  {
   "cell_type": "code",
   "execution_count": null,
   "metadata": {
    "collapsed": true
   },
   "outputs": [],
   "source": [
    "query_strings_high_dm15 = [\"SELECT * from Supernovae inner join Photometry ON Supernovae.SN = Photometry.SN and phase < -7 and (dm15_cfa > 1.16 or dm15_from_fits > 1.16)\",\n",
    "                          \"SELECT * from Supernovae inner join Photometry ON Supernovae.SN = Photometry.SN and phase >= -7 and phase < -4 and (dm15_cfa > 1.16 or dm15_from_fits > 1.16)\",\n",
    "                          \"SELECT * from Supernovae inner join Photometry ON Supernovae.SN = Photometry.SN and phase >= -4 and phase < -2 and (dm15_cfa > 1.16 or dm15_from_fits > 1.16)\",\n",
    "                          \"SELECT * from Supernovae inner join Photometry ON Supernovae.SN = Photometry.SN and phase >= -2 and phase < -1 and (dm15_cfa > 1.16 or dm15_from_fits > 1.16)\",\n",
    "                          \"SELECT * from Supernovae inner join Photometry ON Supernovae.SN = Photometry.SN and phase >= -1 and phase < 0 and (dm15_cfa > 1.16 or dm15_from_fits > 1.16)\",\n",
    "                          \"SELECT * from Supernovae inner join Photometry ON Supernovae.SN = Photometry.SN and phase >= 0 and phase < 1 and (dm15_cfa > 1.16 or dm15_from_fits > 1.16)\",\n",
    "                          \"SELECT * from Supernovae inner join Photometry ON Supernovae.SN = Photometry.SN and phase >= 1 and phase < 2 and (dm15_cfa > 1.16 or dm15_from_fits > 1.16)\",\n",
    "                          \"SELECT * from Supernovae inner join Photometry ON Supernovae.SN = Photometry.SN and phase >= 2 and phase < 3 and (dm15_cfa > 1.16 or dm15_from_fits > 1.16)\",\n",
    "                          \"SELECT * from Supernovae inner join Photometry ON Supernovae.SN = Photometry.SN and phase >= 3 and phase < 4 and (dm15_cfa > 1.16 or dm15_from_fits > 1.16)\",\n",
    "                          \"SELECT * from Supernovae inner join Photometry ON Supernovae.SN = Photometry.SN and phase >= 4 and phase < 5 and (dm15_cfa > 1.16 or dm15_from_fits > 1.16)\",\n",
    "                          \"SELECT * from Supernovae inner join Photometry ON Supernovae.SN = Photometry.SN and phase >= 5 and phase < 6 and (dm15_cfa > 1.16 or dm15_from_fits > 1.16)\",\n",
    "                          \"SELECT * from Supernovae inner join Photometry ON Supernovae.SN = Photometry.SN and phase >= 6 and phase < 7 and (dm15_cfa > 1.16 or dm15_from_fits > 1.16)\",\n",
    "                          \"SELECT * from Supernovae inner join Photometry ON Supernovae.SN = Photometry.SN and phase >= 7 and phase < 8 and (dm15_cfa > 1.16 or dm15_from_fits > 1.16)\",\n",
    "                          \"SELECT * from Supernovae inner join Photometry ON Supernovae.SN = Photometry.SN and phase >= 8 and phase < 9 and (dm15_cfa > 1.16 or dm15_from_fits > 1.16)\",\n",
    "                          \"SELECT * from Supernovae inner join Photometry ON Supernovae.SN = Photometry.SN and phase >= 9 and phase < 10 and (dm15_cfa > 1.16 or dm15_from_fits > 1.16)\",\n",
    "                          \"SELECT * from Supernovae inner join Photometry ON Supernovae.SN = Photometry.SN and phase >= 10 and phase < 11 and (dm15_cfa > 1.16 or dm15_from_fits > 1.16)\",\n",
    "                          \"SELECT * from Supernovae inner join Photometry ON Supernovae.SN = Photometry.SN and phase >= 11 and phase < 12 and (dm15_cfa > 1.16 or dm15_from_fits > 1.16)\",\n",
    "                          \"SELECT * from Supernovae inner join Photometry ON Supernovae.SN = Photometry.SN and phase >= 12 and phase < 14 and (dm15_cfa > 1.16 or dm15_from_fits > 1.16)\",\n",
    "                          \"SELECT * from Supernovae inner join Photometry ON Supernovae.SN = Photometry.SN and phase >= 14 and phase < 16 and (dm15_cfa > 1.16 or dm15_from_fits > 1.16)\",\n",
    "                          \"SELECT * from Supernovae inner join Photometry ON Supernovae.SN = Photometry.SN and phase >= 16 and phase < 18 and (dm15_cfa > 1.16 or dm15_from_fits > 1.16)\",\n",
    "                          \"SELECT * from Supernovae inner join Photometry ON Supernovae.SN = Photometry.SN and phase >= 18 and phase < 20 and (dm15_cfa > 1.16 or dm15_from_fits > 1.16)\",\n",
    "                          \"SELECT * from Supernovae inner join Photometry ON Supernovae.SN = Photometry.SN and phase >= 20 and phase < 22 and (dm15_cfa > 1.16 or dm15_from_fits > 1.16)\",\n",
    "                          \"SELECT * from Supernovae inner join Photometry ON Supernovae.SN = Photometry.SN and phase >= 22 and phase < 25 and (dm15_cfa > 1.16 or dm15_from_fits > 1.16)\",\n",
    "                          \"SELECT * from Supernovae inner join Photometry ON Supernovae.SN = Photometry.SN and phase >= 25 and phase < 28 and (dm15_cfa > 1.16 or dm15_from_fits > 1.16)\",\n",
    "                          \"SELECT * from Supernovae inner join Photometry ON Supernovae.SN = Photometry.SN and phase >= 28 and phase < 31 and (dm15_cfa > 1.16 or dm15_from_fits > 1.16)\",\n",
    "                          \"SELECT * from Supernovae inner join Photometry ON Supernovae.SN = Photometry.SN and phase >= 31 and phase < 34 and (dm15_cfa > 1.16 or dm15_from_fits > 1.16)\",\n",
    "                          \"SELECT * from Supernovae inner join Photometry ON Supernovae.SN = Photometry.SN and phase >= 34 and phase < 39 and (dm15_cfa > 1.16 or dm15_from_fits > 1.16)\",\n",
    "                          \"SELECT * from Supernovae inner join Photometry ON Supernovae.SN = Photometry.SN and phase >= 39 and phase < 49 and (dm15_cfa > 1.16 or dm15_from_fits > 1.16)\",\n",
    "                          \"SELECT * from Supernovae inner join Photometry ON Supernovae.SN = Photometry.SN and phase >= 49 and phase < 70 and (dm15_cfa > 1.16 or dm15_from_fits > 1.16)\",\n",
    "                          \"SELECT * from Supernovae inner join Photometry ON Supernovae.SN = Photometry.SN and phase >= 70 and phase < 110 and (dm15_cfa > 1.16 or dm15_from_fits > 1.16)\",\n",
    "                         ]"
   ]
  },
  {
   "cell_type": "code",
   "execution_count": null,
   "metadata": {
    "collapsed": false
   },
   "outputs": [],
   "source": [
    "comps_low_dm15 = query_db.main(len(query_strings_low_dm15), query_strings_low_dm15)\n",
    "comps_high_dm15 = query_db.main(len(query_strings_high_dm15), query_strings_high_dm15)"
   ]
  },
  {
   "cell_type": "code",
   "execution_count": 4,
   "metadata": {
    "collapsed": true
   },
   "outputs": [],
   "source": [
    "def stacked_plot(comps_low, comps_high):\n",
    "    fig, ax = plt.subplots(1,1)\n",
    "    ax.get_yaxis().set_ticks([])\n",
    "    plt.ylabel('Relative Flux + const.')\n",
    "    plt.xlabel('Wavelength (A)')\n",
    "    fig.set_size_inches(8.5, 11.)\n",
    "#     comps_low, scales = composite.optimize_scales(comps_low, comps_low[0], True)\n",
    "#     comps_high, scales = composite.optimize_scales(comps_high, comps_high[0], True)\n",
    "    upper_buff = 100\n",
    "\n",
    "    for i in range(len(comps_low)):\n",
    "#         scaled_comps, scales = composite.optimize_scales([comps_low[i], comps_high[i]], comps_low[i], True)\n",
    "        phase_1 = np.average(scaled_comps[0].phase_array[scaled_comps[0].x1:scaled_comps[0].x2])\n",
    "        phase_2 = np.average(scaled_comps[1].phase_array[scaled_comps[1].x1:scaled_comps[1].x2])\n",
    "        phase = (phase_1 + phase_2)/2.\n",
    "        ax.plot(scaled_comps[0].wavelength[scaled_comps[0].x1:scaled_comps[0].x2], 2.e15*scaled_comps[0].flux[scaled_comps[0].x1:scaled_comps[0].x2] + upper_buff - 3.*phase, 'b-')\n",
    "        ax.plot(scaled_comps[1].wavelength[scaled_comps[1].x1:scaled_comps[1].x2], 2.e15*scaled_comps[1].flux[scaled_comps[1].x1:scaled_comps[1].x2] + upper_buff - 3.*phase, 'r-')\n",
    "#         plt.fill_between(scaled_comps[0].wavelength[scaled_comps[0].x1:scaled_comps[0].x2], 2.e15*scaled_comps[0].low_conf[scaled_comps[0].x1:scaled_comps[0].x2] + upper_buff - 3.*phase, 2.e15*scaled_comps[0].up_conf[scaled_comps[0].x1:scaled_comps[0].x2] + upper_buff - 3.*phase, alpha = 0.5)\n",
    "#         plt.fill_between(scaled_comps[1].wavelength[scaled_comps[1].x1:scaled_comps[1].x2], 2.e15*scaled_comps[1].low_conf[scaled_comps[1].x1:scaled_comps[1].x2] + upper_buff - 3.*phase, 2.e15*scaled_comps[1].up_conf[scaled_comps[1].x1:scaled_comps[1].x2] + upper_buff - 3.*phase, color = 'r', alpha = 0.5)\n",
    "        plt.text(scaled_comps[0].wavelength[scaled_comps[0].x2], scaled_comps[0].flux[scaled_comps[0].x2] + upper_buff - 3.*phase + 1, str(round(phase, 2)) + ' days')\n",
    "    plt.show()"
   ]
  },
  {
   "cell_type": "code",
   "execution_count": 5,
   "metadata": {
    "collapsed": true
   },
   "outputs": [],
   "source": [
    "import composite"
   ]
  },
  {
   "cell_type": "code",
   "execution_count": null,
   "metadata": {
    "collapsed": false
   },
   "outputs": [],
   "source": [
    "query_db.set_min_num_spec(comps_low_dm15, 5)\n",
    "query_db.set_min_num_spec(comps_high_dm15, 5)"
   ]
  },
  {
   "cell_type": "code",
   "execution_count": null,
   "metadata": {
    "collapsed": false
   },
   "outputs": [],
   "source": [
    "sub_list_1_low = comps_low_dm15[0:6]\n",
    "sub_list_2_low = comps_low_dm15[6:12]\n",
    "sub_list_3_low = comps_low_dm15[12:18]\n",
    "sub_list_4_low = comps_low_dm15[18:24]\n",
    "sub_list_5_low = comps_low_dm15[24:28]\n",
    "sub_list_6_low = comps_low_dm15[28:30]\n",
    "sub_list_7_low = comps_low_dm15[30:]\n",
    "\n",
    "sub_list_1_high = comps_high_dm15[0:6]\n",
    "sub_list_2_high = comps_high_dm15[6:12]\n",
    "sub_list_3_high = comps_high_dm15[12:18]\n",
    "sub_list_4_high = comps_high_dm15[18:24]\n",
    "sub_list_5_high = comps_high_dm15[24:28]\n",
    "sub_list_6_high = comps_high_dm15[28:30]\n",
    "sub_list_7_high = comps_high_dm15[30:]"
   ]
  },
  {
   "cell_type": "code",
   "execution_count": null,
   "metadata": {
    "collapsed": false
   },
   "outputs": [],
   "source": [
    "stacked_plot(sub_list_1_low, sub_list_1_high)"
   ]
  },
  {
   "cell_type": "code",
   "execution_count": null,
   "metadata": {
    "collapsed": true
   },
   "outputs": [],
   "source": [
    "stacked_plot(sub_list_2_low, sub_list_2_high)"
   ]
  },
  {
   "cell_type": "code",
   "execution_count": null,
   "metadata": {
    "collapsed": true
   },
   "outputs": [],
   "source": [
    "stacked_plot(sub_list_3_low, sub_list_3_high)"
   ]
  },
  {
   "cell_type": "code",
   "execution_count": null,
   "metadata": {
    "collapsed": true
   },
   "outputs": [],
   "source": [
    "stacked_plot(sub_list_4_low, sub_list_4_high)"
   ]
  },
  {
   "cell_type": "code",
   "execution_count": null,
   "metadata": {
    "collapsed": false
   },
   "outputs": [],
   "source": [
    "stacked_plot(sub_list_5_low, sub_list_5_high)"
   ]
  },
  {
   "cell_type": "code",
   "execution_count": null,
   "metadata": {
    "collapsed": false
   },
   "outputs": [],
   "source": [
    "stacked_plot(sub_list_6_low, sub_list_6_high)"
   ]
  },
  {
   "cell_type": "code",
   "execution_count": null,
   "metadata": {
    "collapsed": false
   },
   "outputs": [],
   "source": [
    "stacked_plot(sub_list_7_low, sub_list_7_high)"
   ]
  },
  {
   "cell_type": "markdown",
   "metadata": {},
   "source": [
    "# Maximum Light - Max Bins"
   ]
  },
  {
   "cell_type": "code",
   "execution_count": 6,
   "metadata": {
    "collapsed": false
   },
   "outputs": [],
   "source": [
    "query_dm15_split_max = [\"SELECT * from Supernovae inner join Photometry ON Supernovae.SN = Photometry.SN where phase >= -3 and phase <= 3 and (dm15_cfa < .9 or dm15_from_fits < .9)\",\n",
    "                        \"SELECT * from Supernovae inner join Photometry ON Supernovae.SN = Photometry.SN where phase >= -3 and phase <= 3 and ((dm15_cfa >= .9 and dm15_cfa < 1.) or (dm15_from_fits >= .9 and dm15_from_fits < 1))\",\n",
    "                        \"SELECT * from Supernovae inner join Photometry ON Supernovae.SN = Photometry.SN where phase >= -3 and phase <= 3 and ((dm15_cfa >= 1 and dm15_cfa < 1.05) or (dm15_from_fits >= 1 and dm15_from_fits < 1.05))\",\n",
    "                        \"SELECT * from Supernovae inner join Photometry ON Supernovae.SN = Photometry.SN where phase >= -3 and phase <= 3 and ((dm15_cfa >= 1.05 and dm15_cfa < 1.1) or (dm15_from_fits >= 1.05 and dm15_from_fits < 1.1))\",\n",
    "                        \"SELECT * from Supernovae inner join Photometry ON Supernovae.SN = Photometry.SN where phase >= -3 and phase <= 3 and ((dm15_cfa >= 1.1 and dm15_cfa < 1.2) or (dm15_from_fits >= 1.1 and dm15_from_fits < 1.2))\",\n",
    "                        \"SELECT * from Supernovae inner join Photometry ON Supernovae.SN = Photometry.SN where phase >= -3 and phase <= 3 and ((dm15_cfa >= 1.2 and dm15_cfa < 1.3) or (dm15_from_fits >= 1.2 and dm15_from_fits < 1.3))\", \n",
    "                        \"SELECT * from Supernovae inner join Photometry ON Supernovae.SN = Photometry.SN where phase >= -3 and phase <= 3 and ((dm15_cfa >= 1.3 and dm15_cfa < 1.4) or (dm15_from_fits >= 1.3 and dm15_from_fits < 1.4))\", \n",
    "                        \"SELECT * from Supernovae inner join Photometry ON Supernovae.SN = Photometry.SN where phase >= -3 and phase <= 3 and ((dm15_cfa >= 1.4 and dm15_cfa < 1.6) or (dm15_from_fits >= 1.4 and dm15_from_fits < 1.6))\",\n",
    "                        \"SELECT * from Supernovae inner join Photometry ON Supernovae.SN = Photometry.SN where phase >= -3 and phase <= 3 and (dm15_cfa >= 1.6 or dm15_from_fits >= 1.6)\"\n",
    "                       ]"
   ]
  },
  {
   "cell_type": "code",
   "execution_count": 7,
   "metadata": {
    "collapsed": false
   },
   "outputs": [
    {
     "name": "stdout",
     "output_type": "stream",
     "text": [
      "SQL Query: SELECT * from Supernovae inner join Photometry ON Supernovae.SN = Photometry.SN where phase >= -3 and phase <= 3 and (dm15_cfa < .9 or dm15_from_fits < .9)\n",
      "Collecting data...\n",
      "19 spectra found\n",
      "151 questionable files currently ignored\n",
      "2 questionable spectra removed 17 spectra left\n",
      "0 Peculiar Ias removed 17 spectra left\n",
      "16 SNs with host corrections\n",
      "Arrays cleaned\n",
      "151 questionable files currently ignored\n",
      "0 spectra with nan ivars removed 16 spectra left\n",
      "1996ai sn1996ai-19960622-uoi.flm\n",
      "Host correction...\n",
      "1998es sn1998es-19981125-ui-corrected.flm\n",
      "Host correction...\n",
      "1999aa sn1999aa-19990223-ui.flm\n",
      "Host correction...\n",
      "1999dq sn1999dq-near-19990917-clear-ui-corrected.flm\n",
      "Host correction...\n",
      "2001cp sn2001cp-20010629-ui.flm\n",
      "Host correction...\n",
      "2002cd sn2002cd-20020420-ui-corrected.flm\n",
      "Host correction...\n",
      "2005eq sn2005eq-20051011.376-ui-corrected.flm\n",
      "Host correction...\n",
      "2006ot sn2006ot-20061123.362-br.flm\n",
      "Host correction...\n",
      "1999gp sn1999gp-20000105.10-fast.flm\n",
      "Host correction...\n",
      "2001ay sn2001ay-20010421.48-fast.flm\n",
      "Host correction...\n",
      "2002jy sn2002jy-20021226.12-fast.flm\n",
      "Host correction...\n",
      "2003hu sn2003hu-20030919.19-fast.flm\n",
      "Host correction...\n",
      "2006cj sn2006cj-20060522.29-fast.flm\n",
      "Host correction...\n",
      "2006gr sn2006gr-20061002.26-fast.flm\n",
      "Host correction...\n",
      "2006oa sn2006oa-20061125.08-fast.flm\n",
      "Host correction...\n",
      "2007ca SN07ca_070508_b01_BAA_IM.dat\n",
      "Host correction...\n",
      "16 SNs with host corrections\n",
      "Creating composite...\n",
      "Done.\n",
      "SQL Query: SELECT * from Supernovae inner join Photometry ON Supernovae.SN = Photometry.SN where phase >= -3 and phase <= 3 and ((dm15_cfa >= .9 and dm15_cfa < 1.) or (dm15_from_fits >= .9 and dm15_from_fits < 1))\n",
      "Collecting data...\n",
      "16 spectra found\n",
      "151 questionable files currently ignored\n",
      "0 questionable spectra removed 16 spectra left\n",
      "1 Peculiar Ias removed 15 spectra left\n",
      "14 SNs with host corrections\n",
      "Arrays cleaned\n",
      "151 questionable files currently ignored\n",
      "1 spectra with nan ivars removed 13 spectra left\n",
      "1994s sn1994s-19940616-uoi.flm\n",
      "Host correction...\n",
      "2001bf sn2001bf-20010516-ui-corrected.flm\n",
      "Host correction...\n",
      "2002de sn2002de-20020608.374-ui-corrected.flm\n",
      "Host correction...\n",
      "2006cq sn2006cq-20060605.307-ui.flm\n",
      "Host correction...\n",
      "2006s sn2006s-20060206.517-ui.flm\n",
      "Host correction...\n",
      "2007a sn2007a-20070113.208-br.flm\n",
      "Host correction...\n",
      "1994ae sn1994ae-19941201.50-fast.flm\n",
      "Host correction...\n",
      "1996c sn1996C-19960217.48-fast.flm\n",
      "Host correction...\n",
      "1998v sn1998V-19980319.51-fast.flm\n",
      "Host correction...\n",
      "2001eh sn2001eh-20010915.42-fast.flm\n",
      "Host correction...\n",
      "2004as sn2004as-20040319.28-fast.flm\n",
      "Host correction...\n",
      "2007ae sn2007ae-20070225.54-fast.flm\n",
      "Host correction...\n",
      "2007s sn2007S-20070210.32-fast.flm\n",
      "Host correction...\n",
      "13 SNs with host corrections\n",
      "Creating composite...\n",
      "Done.\n",
      "SQL Query: SELECT * from Supernovae inner join Photometry ON Supernovae.SN = Photometry.SN where phase >= -3 and phase <= 3 and ((dm15_cfa >= 1 and dm15_cfa < 1.05) or (dm15_from_fits >= 1 and dm15_from_fits < 1.05))\n",
      "Collecting data...\n",
      "14 spectra found\n",
      "151 questionable files currently ignored\n",
      "1 questionable spectra removed 13 spectra left\n",
      "0 Peculiar Ias removed 13 spectra left\n",
      "11 SNs with host corrections\n",
      "Arrays cleaned\n",
      "151 questionable files currently ignored\n",
      "0 spectra with nan ivars removed 11 spectra left\n",
      "2001fe sn2001fe-20011115-ui.flm\n",
      "Host correction...\n",
      "2005ms sn2005ms-20060106.400-ui.flm\n",
      "Host correction...\n",
      "2006bt sn2006bt-20060505.444-ui.flm\n",
      "Host correction...\n",
      "2007af sn2007af-20070313.545-ui-corrected.flm\n",
      "Host correction...\n",
      "1996ab sn1996ab-19960522.37-fast.flm\n",
      "Host correction...\n",
      "1997dt sn1997dt-19971204.11-fast.flm\n",
      "Host correction...\n",
      "1998bu sn1998bu-19980517.15-fast.flm\n",
      "Host correction...\n",
      "2000fa sn2000fa-20001215.36-fast.flm\n",
      "Host correction...\n",
      "2006et sn2006et-20060918.36-fast.flm\n",
      "Host correction...\n",
      "2005hc SN05hc_051024_b01_MGH_BC.dat\n",
      "Host correction...\n",
      "2007le SN07le_071028_g01_CLA_LD.dat\n",
      "Host correction...\n",
      "11 SNs with host corrections\n",
      "Creating composite...\n",
      "Done.\n",
      "SQL Query: SELECT * from Supernovae inner join Photometry ON Supernovae.SN = Photometry.SN where phase >= -3 and phase <= 3 and ((dm15_cfa >= 1.05 and dm15_cfa < 1.1) or (dm15_from_fits >= 1.05 and dm15_from_fits < 1.1))\n",
      "Collecting data...\n",
      "20 spectra found\n",
      "151 questionable files currently ignored\n",
      "2 questionable spectra removed 18 spectra left\n",
      "0 Peculiar Ias removed 18 spectra left\n",
      "14 SNs with host corrections\n",
      "Arrays cleaned\n",
      "151 questionable files currently ignored\n",
      "0 spectra with nan ivars removed 14 spectra left\n",
      "1998dk sn1998dk-19980831-ui.flm\n",
      "Host correction...\n",
      "2002bo sn2002bo-20020322-ui-corrected.flm\n",
      "Host correction...\n",
      "2004fu sn2004fu-20041119-ui.flm\n",
      "Host correction...\n",
      "2005na sn2005na-20060105.335-ui.flm\n",
      "Host correction...\n",
      "2007bz sn2007bz-20070426.419-ui.flm\n",
      "Host correction...\n",
      "1996bl sn1996bl-19961018.18-fast.flm\n",
      "Host correction...\n",
      "1998ec sn1998ec-19980930.50-fast.flm\n",
      "Host correction...\n",
      "2002ck sn2002ck-20020502.46-fast.flm\n",
      "Host correction...\n",
      "2002hu sn2002hu-20021113.25-fast.flm\n",
      "Host correction...\n",
      "2004bg sn2004bg-20040417.19-fast.flm\n",
      "Host correction...\n",
      "2006ax SN06ax_060330_b01_DUP_WF.dat\n",
      "Host correction...\n",
      "2006cf sn2006cf-20060519.25-fast.flm\n",
      "Host correction...\n",
      "2008bf SN08bf_080326_b01_CLA_LD.dat\n",
      "Host correction...\n",
      "2006os SN06os_061122_b01_DUP_WF.dat\n",
      "Host correction...\n",
      "14 SNs with host corrections\n",
      "Creating composite...\n",
      "Done.\n",
      "SQL Query: SELECT * from Supernovae inner join Photometry ON Supernovae.SN = Photometry.SN where phase >= -3 and phase <= 3 and ((dm15_cfa >= 1.1 and dm15_cfa < 1.2) or (dm15_from_fits >= 1.1 and dm15_from_fits < 1.2))\n",
      "Collecting data...\n",
      "26 spectra found\n",
      "151 questionable files currently ignored\n",
      "2 questionable spectra removed 24 spectra left\n",
      "0 Peculiar Ias removed 24 spectra left\n",
      "22 SNs with host corrections\n",
      "Arrays cleaned\n",
      "151 questionable files currently ignored\n",
      "0 spectra with nan ivars removed 22 spectra left\n",
      "1995e sn1995e-19950224-uoi2.flm\n",
      "Host correction...\n",
      "1997y sn1997y-19970209-uohp.flm\n",
      "Host correction...\n",
      "1999gd sn1999gd-19991205-uvoir.flm\n",
      "Host correction...\n",
      "2001da sn2001da-20010716-ui-corrected.flm\n",
      "Host correction...\n",
      "2002bf sn2002bf-20020307-os.flm\n",
      "Host correction...\n",
      "2004dt sn2004dt-20040824-vis2-corrected.flm\n",
      "Host correction...\n",
      "2005cf sn2005cf-20050610.7-uvot.flm\n",
      "Host correction...\n",
      "2007co sn2007co-20070614.468-ui-corrected.flm\n",
      "Host correction...\n",
      "2007o sn2007o-20070122.663-deimos.flm\n",
      "Host correction...\n",
      "1998aq sn1998aq-19980429.26-fast.flm\n",
      "Host correction...\n",
      "1998dh sn1998dh-19980804.36-fast.flm\n",
      "Host correction...\n",
      "1998eg sn1998eg-19981024.15-fast.flm\n",
      "Host correction...\n",
      "2001en sn2001en-20011011.39-fast.flm\n",
      "Host correction...\n",
      "2001n sn2001N-20010122.46-fast.flm\n",
      "Host correction...\n",
      "2002cr sn2002cr-20020515.28-fast.flm\n",
      "Host correction...\n",
      "2002fk sn2002fk-20020929.44-fast.flm\n",
      "Host correction...\n",
      "2002hd sn2002hd-20021029.52-fast.flm\n",
      "Host correction...\n",
      "2003w sn2003W-20030207.40-fast.flm\n",
      "Host correction...\n",
      "2004l sn2004L-20040127.40-fast.flm\n",
      "Host correction...\n",
      "2005a sn2005A-20050110.11-ldss2.flm\n",
      "Host correction...\n",
      "2006br SN06br_060426_b01_DUP_WF.dat\n",
      "Host correction...\n",
      "2007jg SN07jg_070922_b01_CLA_LD.dat\n",
      "Host correction...\n",
      "22 SNs with host corrections\n",
      "Creating composite...\n",
      "Done.\n",
      "SQL Query: SELECT * from Supernovae inner join Photometry ON Supernovae.SN = Photometry.SN where phase >= -3 and phase <= 3 and ((dm15_cfa >= 1.2 and dm15_cfa < 1.3) or (dm15_from_fits >= 1.2 and dm15_from_fits < 1.3))\n",
      "Collecting data...\n",
      "18 spectra found\n",
      "151 questionable files currently ignored\n",
      "1 questionable spectra removed 17 spectra left\n",
      "0 Peculiar Ias removed 17 spectra left\n",
      "15 SNs with host corrections\n",
      "Arrays cleaned\n",
      "151 questionable files currently ignored\n",
      "0 spectra with nan ivars removed 15 spectra left\n",
      "1999ac sn1999ac-19990312-ui-corrected.flm\n",
      "Host correction...\n",
      "2002ha sn2002ha-20021102-ui-corrected.flm\n",
      "Host correction...\n",
      "2003cq sn2003cq-20030408-ui.flm\n",
      "Host correction...\n",
      "2005el sn2005el-20051004.534-ui-corrected.flm\n",
      "Host correction...\n",
      "2006sr sn2006sr-20061220.097-ui.flm\n",
      "Host correction...\n",
      "1994m sn1994M-19940504.15-fast.flm\n",
      "Host correction...\n",
      "1996x 1996X_19960419_3077_10669_00.dat\n",
      "Host correction...\n",
      "1998ef sn1998ef-19981029.31-fast.flm\n",
      "Host correction...\n",
      "2002g sn2002G-20020122.52-fast.flm\n",
      "Host correction...\n",
      "2002kf sn2002kf-20021231.34-fast.flm\n",
      "Host correction...\n",
      "2003ch sn2003ch-20030329.11-mmt.flm\n",
      "Host correction...\n",
      "2005bo SN05bo_050418_b01_DUP_WF.dat\n",
      "Host correction...\n",
      "2006az sn2006az-20060331.37-fast.flm\n",
      "Host correction...\n",
      "2005kc SN05kc_051125_b01_DUP_MS.dat\n",
      "Host correction...\n",
      "2002er 2002er_20020910_3209_9997_00.dat\n",
      "Host correction...\n",
      "15 SNs with host corrections\n",
      "Creating composite...\n",
      "Done.\n",
      "SQL Query: SELECT * from Supernovae inner join Photometry ON Supernovae.SN = Photometry.SN where phase >= -3 and phase <= 3 and ((dm15_cfa >= 1.3 and dm15_cfa < 1.4) or (dm15_from_fits >= 1.3 and dm15_from_fits < 1.4))\n",
      "Collecting data...\n",
      "16 spectra found\n",
      "151 questionable files currently ignored\n",
      "1 questionable spectra removed 15 spectra left\n",
      "0 Peculiar Ias removed 15 spectra left\n",
      "13 SNs with host corrections\n",
      "Arrays cleaned\n",
      "151 questionable files currently ignored\n",
      "0 spectra with nan ivars removed 13 spectra left\n",
      "2001ep sn2001ep-20011020-ui-corrected.flm\n",
      "Host correction...\n",
      "2005lz sn2005lz-20060101.381-deimos.flm\n",
      "Host correction...\n",
      "2007bc sn2007bc-20070410.323-ui-corrected.flm\n",
      "Host correction...\n",
      "1998dx sn1998dx-19980914.18-fast.flm\n",
      "Host correction...\n",
      "1999cc sn1999cc-19990516.34-fast.flm\n",
      "Host correction...\n",
      "2002es sn2002es-20020903.45-fast.flm\n",
      "Host correction...\n",
      "2003ic sn2003ic-20030921.36-fast.flm\n",
      "Host correction...\n",
      "2003it sn2003it-20031020.23-fast.flm\n",
      "Host correction...\n",
      "2004ef SN04ef_040914_b01_DUP_WF.dat\n",
      "Host correction...\n",
      "2005am sn2005am-20050303.30-fast.flm\n",
      "Host correction...\n",
      "2006al sn2006al-20060224.34-fast.flm\n",
      "Host correction...\n",
      "2007bd SN07bd_070417_b01_DUP_WF.dat\n",
      "Host correction...\n",
      "2006d sn2006d-20060120-snifs-r.dat\n",
      "Host correction...\n",
      "13 SNs with host corrections\n",
      "Creating composite...\n",
      "Done.\n",
      "SQL Query: SELECT * from Supernovae inner join Photometry ON Supernovae.SN = Photometry.SN where phase >= -3 and phase <= 3 and ((dm15_cfa >= 1.4 and dm15_cfa < 1.6) or (dm15_from_fits >= 1.4 and dm15_from_fits < 1.6))\n",
      "Collecting data...\n",
      "17 spectra found\n",
      "151 questionable files currently ignored\n",
      "1 questionable spectra removed 16 spectra left\n",
      "2 Peculiar Ias removed 14 spectra left\n",
      "12 SNs with host corrections\n",
      "Arrays cleaned\n",
      "151 questionable files currently ignored\n",
      "0 spectra with nan ivars removed 12 spectra left\n",
      "2002eu sn2002eu-20020903-ui.flm\n",
      "Host correction...\n",
      "2002he sn2002he-20021108-br.flm\n",
      "Host correction...\n",
      "2003u sn2003U-20030204-ui.flm\n",
      "Host correction...\n",
      "2004gs sn2004gs-20041217.447-ui-corrected.flm\n",
      "Host correction...\n",
      "2005ki sn2005ki-20051202.649-deimos.flm\n",
      "Host correction...\n",
      "2006n sn2006n-20060123.286-ui.flm\n",
      "Host correction...\n",
      "1994t sn1994T-19940612.19-fast.flm\n",
      "Host correction...\n",
      "1998co sn1998co-19980623.45-fast.flm\n",
      "Host correction...\n",
      "1999ej sn1999ej-19991030.28-fast.flm\n",
      "Host correction...\n",
      "2002do sn2002do-20020619.43-fast.flm\n",
      "Host correction...\n",
      "2006gj sn2006gj-20060920.43-fast.flm\n",
      "Host correction...\n",
      "2006kf SN06kf_061103_g01_NTT_EM.dat\n",
      "Host correction...\n",
      "12 SNs with host corrections\n",
      "Creating composite...\n",
      "Done.\n",
      "SQL Query: SELECT * from Supernovae inner join Photometry ON Supernovae.SN = Photometry.SN where phase >= -3 and phase <= 3 and (dm15_cfa >= 1.6 or dm15_from_fits >= 1.6)\n",
      "Collecting data...\n",
      "26 spectra found\n",
      "151 questionable files currently ignored\n",
      "5 questionable spectra removed 21 spectra left\n",
      "2 Peculiar Ias removed 19 spectra left\n",
      "15 SNs with host corrections\n",
      "Arrays cleaned\n",
      "151 questionable files currently ignored\n",
      "0 spectra with nan ivars removed 15 spectra left\n",
      "1999da sn1999da-19990709-ui.flm\n",
      "Host correction...\n",
      "2000dk sn2000dk-20000926-ui-corrected.flm\n",
      "Host correction...\n",
      "2002fb sn2002fb-20020913-ui-corrected.flm\n",
      "Host correction...\n",
      "2005dv sn2005dv-20050911.170-ui.flm\n",
      "Host correction...\n",
      "2006bz sn2006bz-20060505.218-ui.flm\n",
      "Host correction...\n",
      "2006cs sn2006cs-20060605.335-ui.flm\n",
      "Host correction...\n",
      "2007ba sn2007ba-20070410.475-ui.flm\n",
      "Host correction...\n",
      "2007ci sn2007ci-20070524.264-ui-corrected.flm\n",
      "Host correction...\n",
      "2007n sn2007n-20070122.583-deimos.flm\n",
      "Host correction...\n",
      "1998bp sn1998bp-19980430.47-fast.flm\n",
      "Host correction...\n",
      "1998de sn1998de-19980730.46-fast.flm\n",
      "Host correction...\n",
      "1999by sn1999by-19990514.15-fast.flm\n",
      "Host correction...\n",
      "2006gt SN06gt_060925_b01_DUP_WF.dat\n",
      "Host correction...\n",
      "2007au sn2007au-20070326.15-fast.flm\n",
      "Host correction...\n",
      "2007ax SN07ax_070326_b01_DUP_BC.dat\n",
      "Host correction...\n",
      "15 SNs with host corrections\n",
      "Creating composite...\n",
      "Done.\n"
     ]
    }
   ],
   "source": [
    "comps_dm15_split_max, sn_arrays, boot_sn_arrays = query_db.main(len(query_dm15_split_max), query_dm15_split_max)"
   ]
  },
  {
   "cell_type": "code",
   "execution_count": 8,
   "metadata": {
    "collapsed": false
   },
   "outputs": [],
   "source": [
    "def stacked_plot_max(composites,buff,label_buff):\n",
    "    font1 = {'family' : 'serif',\n",
    "        'color'  : 'black',\n",
    "        'weight' : 'bold',\n",
    "        'size'   : 20,\n",
    "        }\n",
    "    \n",
    "    font2 = {'family' : 'serif',\n",
    "        'color'  : 'black',\n",
    "        'weight' : 'bold',\n",
    "        'size'   : 10,\n",
    "        }\n",
    "    \n",
    "    fig, ax = plt.subplots(1,1)\n",
    "    fig.set_size_inches(15, 30, forward = True)\n",
    "    ax.get_yaxis().set_ticks([])\n",
    "    ax.xaxis.set_tick_params(length=10, width = 2)\n",
    "    plt.ylabel('Relative Flux + const.', fontdict = font1, fontsize = 40)\n",
    "    plt.xlabel( 'Wavelength ' + \"($\\mathrm{\\AA}$)\", fontdict = font1, fontsize = 40)\n",
    "    plt.xticks(fontsize = 20)\n",
    "#     composites, scales = composite.optimize_scales(composites, composites[0], True)\n",
    "\n",
    "    i = 0\n",
    "    for comp in composites:\n",
    "        dm15 = np.nanmean(comp.dm15_array[comp.x1:comp.x2])\n",
    "#         ax.plot(comp.wavelength[comp.x1:comp.x2], 2.e15*comp.flux[comp.x1:comp.x2] - 1200*dm15, color = '#3F5D7D', linewidth = 4)\n",
    "        ax.plot(comp.wavelength[comp.x1:comp.x2], comp.flux[comp.x1:comp.x2] - i, color = '#3F5D7D', linewidth = 4)\n",
    "#         plt.fill_between(comp.wavelength[comp.x1:comp.x2], comp.low_conf[comp.x1:comp.x2]- i, comp.up_conf[comp.x1:comp.x2] - i, alpha = 0.5)\n",
    "#         plt.text(9700, comp.flux[comp.x2] - 1200*dm15 + 30, '$\\mathbf{\\Delta m_{15}}$ = ' + str(round(dm15, 2)), fontdict = font1)\n",
    "        plt.text(8000, comp.flux[comp.x2] - i + .1, '$\\mathbf{\\Delta m_{15}}$ = ' + str(round(dm15, 2)), fontdict = font2, fontsize = 30)\n",
    "        i += 1\n",
    "#     plt.title('Maximum Light Composite Spectra \\n for Different Light Curve Shapes', fontdict = font1, fontsize = 40)\n",
    "    plt.xlim([3000,10500])\n",
    "#     plt.savefig('../../FOE_figures/dm15_split_max.png', dpi = 300, bbox_inches = 'tight')\n",
    "    plt.show()"
   ]
  },
  {
   "cell_type": "code",
   "execution_count": 9,
   "metadata": {
    "collapsed": false
   },
   "outputs": [],
   "source": [
    "# composite.optimize_scales(comps_dm15_split_max, comps_dm15_split_max[0], True)\n",
    "query_db.set_min_num_spec(comps_dm15_split_max, 5)\n",
    "# comparison_plot(comps_dm15_split_max)\n",
    "stacked_plot_max(comps_dm15_split_max, 110, 30)"
   ]
  },
  {
   "cell_type": "markdown",
   "metadata": {},
   "source": [
    "# Maximum Light - Grid Bins"
   ]
  },
  {
   "cell_type": "code",
   "execution_count": 37,
   "metadata": {
    "collapsed": true
   },
   "outputs": [],
   "source": [
    "query_dm15_max_fewer_bins = [\"SELECT * from Supernovae inner join Photometry ON Supernovae.SN = Photometry.SN where phase >= -3 and phase <= 3 and ((dm15_cfa < .95 or dm15_from_fits < .95))\",\n",
    "                         \"SELECT * from Supernovae inner join Photometry ON Supernovae.SN = Photometry.SN where phase >= -3 and phase <= 3 and ((dm15_cfa >= .95 and dm15_cfa < 1.15) or (dm15_from_fits >= .95 and dm15_from_fits < 1.15))\",\n",
    "                         \"SELECT * from Supernovae inner join Photometry ON Supernovae.SN = Photometry.SN where phase >= -3 and phase <= 3 and ((dm15_cfa >= 1.15 and dm15_cfa < 1.25) or (dm15_from_fits >= 1.15 and dm15_from_fits < 1.25))\",\n",
    "                         \"SELECT * from Supernovae inner join Photometry ON Supernovae.SN = Photometry.SN where phase >= -3 and phase <= 3 and ((dm15_cfa >= 1.25 and dm15_cfa < 1.42) or (dm15_from_fits >= 1.25 and dm15_from_fits < 1.42))\",\n",
    "                         \"SELECT * from Supernovae inner join Photometry ON Supernovae.SN = Photometry.SN where phase >= -3 and phase <= 3 and ((dm15_cfa >= 1.42 and dm15_cfa < 1.7) or (dm15_from_fits >= 1.42 and dm15_from_fits < 1.7))\",\n",
    "                         \"SELECT * from Supernovae inner join Photometry ON Supernovae.SN = Photometry.SN where phase >= -3 and phase <= 3 and ((dm15_cfa >= 1.7 or dm15_from_fits >= 1.7))\"]"
   ]
  },
  {
   "cell_type": "code",
   "execution_count": 38,
   "metadata": {
    "collapsed": false
   },
   "outputs": [
    {
     "name": "stdout",
     "output_type": "stream",
     "text": [
      "SQL Query: SELECT * from Supernovae inner join Photometry ON Supernovae.SN = Photometry.SN where phase >= -3 and phase <= 3 and ((dm15_cfa < .95 or dm15_from_fits < .95))\n",
      "Collecting data...\n",
      "27 spectra found\n",
      "151 questionable files currently ignored\n",
      "2 questionable spectra removed 25 spectra left\n",
      "0 Peculiar Ias removed 25 spectra left\n",
      "23 SNs with host corrections\n",
      "Arrays cleaned\n",
      "151 questionable files currently ignored\n",
      "0 spectra with nan ivars removed 23 spectra left\n",
      "1994s sn1994s-19940616-uoi.flm\n",
      "Host correction...\n",
      "1996ai sn1996ai-19960622-uoi.flm\n",
      "Host correction...\n",
      "1998es sn1998es-19981125-ui-corrected.flm\n",
      "Host correction...\n",
      "1999aa sn1999aa-19990223-ui.flm\n",
      "Host correction...\n",
      "1999dq sn1999dq-near-19990917-clear-ui-corrected.flm\n",
      "Host correction...\n",
      "2001cp sn2001cp-20010629-ui.flm\n",
      "Host correction...\n",
      "2002cd sn2002cd-20020420-ui-corrected.flm\n",
      "Host correction...\n",
      "2005eq sn2005eq-20051011.376-ui-corrected.flm\n",
      "Host correction...\n",
      "2006cq sn2006cq-20060605.307-ui.flm\n",
      "Host correction...\n",
      "2006ot sn2006ot-20061123.362-br.flm\n",
      "Host correction...\n",
      "2006s sn2006s-20060206.517-ui.flm\n",
      "Host correction...\n",
      "1996c sn1996C-19960217.48-fast.flm\n",
      "Host correction...\n",
      "1999gp sn1999gp-20000105.10-fast.flm\n",
      "Host correction...\n",
      "2001ay sn2001ay-20010421.48-fast.flm\n",
      "Host correction...\n",
      "2001eh sn2001eh-20010915.42-fast.flm\n",
      "Host correction...\n",
      "2002jy sn2002jy-20021226.12-fast.flm\n",
      "Host correction...\n",
      "2003hu sn2003hu-20030919.19-fast.flm\n",
      "Host correction...\n",
      "2004as sn2004as-20040319.28-fast.flm\n",
      "Host correction...\n",
      "2006cj sn2006cj-20060522.29-fast.flm\n",
      "Host correction...\n",
      "2006gr sn2006gr-20061002.26-fast.flm\n",
      "Host correction...\n",
      "2006oa sn2006oa-20061125.08-fast.flm\n",
      "Host correction...\n",
      "2007s sn2007S-20070210.32-fast.flm\n",
      "Host correction...\n",
      "2007ca SN07ca_070508_b01_BAA_IM.dat\n",
      "Host correction...\n",
      "23 SNs with host corrections\n",
      "Creating composite...\n",
      "Done.\n",
      "SQL Query: SELECT * from Supernovae inner join Photometry ON Supernovae.SN = Photometry.SN where phase >= -3 and phase <= 3 and ((dm15_cfa >= .95 and dm15_cfa < 1.15) or (dm15_from_fits >= .95 and dm15_from_fits < 1.15))\n",
      "Collecting data...\n",
      "57 spectra found\n",
      "151 questionable files currently ignored\n",
      "3 questionable spectra removed 54 spectra left\n",
      "1 Peculiar Ias removed 53 spectra left\n",
      "46 SNs with host corrections\n",
      "Arrays cleaned\n",
      "151 questionable files currently ignored\n",
      "1 spectra with nan ivars removed 45 spectra left\n",
      "1998dk sn1998dk-19980831-ui.flm\n",
      "Host correction...\n",
      "2001bf sn2001bf-20010516-ui-corrected.flm\n",
      "Host correction...\n",
      "2001da sn2001da-20010716-ui-corrected.flm\n",
      "Host correction...\n",
      "2001fe sn2001fe-20011115-ui.flm\n",
      "Host correction...\n",
      "2002bf sn2002bf-20020307-os.flm\n",
      "Host correction...\n",
      "2002bo sn2002bo-20020322-ui-corrected.flm\n",
      "Host correction...\n",
      "2002de sn2002de-20020608.374-ui-corrected.flm\n",
      "Host correction...\n",
      "2004dt sn2004dt-20040824-vis2-corrected.flm\n",
      "Host correction...\n",
      "2004fu sn2004fu-20041119-ui.flm\n",
      "Host correction...\n",
      "2005cf sn2005cf-20050610.7-uvot.flm\n",
      "Host correction...\n",
      "2005ms sn2005ms-20060106.400-ui.flm\n",
      "Host correction...\n",
      "2005na sn2005na-20060105.335-ui.flm\n",
      "Host correction...\n",
      "2006bt sn2006bt-20060505.444-ui.flm\n",
      "Host correction...\n",
      "2007a sn2007a-20070113.208-br.flm\n",
      "Host correction...\n",
      "2007af sn2007af-20070313.545-ui-corrected.flm\n",
      "Host correction...\n",
      "2007bz sn2007bz-20070426.419-ui.flm\n",
      "Host correction...\n",
      "2007o sn2007o-20070122.663-deimos.flm\n",
      "Host correction...\n",
      "1994ae sn1994ae-19941201.50-fast.flm\n",
      "Host correction...\n",
      "1996ab sn1996ab-19960522.37-fast.flm\n",
      "Host correction...\n",
      "1996bl sn1996bl-19961018.18-fast.flm\n",
      "Host correction...\n",
      "1997dt sn1997dt-19971204.11-fast.flm\n",
      "Host correction...\n",
      "1998aq sn1998aq-19980429.26-fast.flm\n",
      "Host correction...\n",
      "1998bu sn1998bu-19980517.15-fast.flm\n",
      "Host correction...\n",
      "1998ec sn1998ec-19980930.50-fast.flm\n",
      "Host correction...\n",
      "1998eg sn1998eg-19981024.15-fast.flm\n",
      "Host correction...\n",
      "1998v sn1998V-19980319.51-fast.flm\n",
      "Host correction...\n",
      "2000fa sn2000fa-20001215.36-fast.flm\n",
      "Host correction...\n",
      "2001en sn2001en-20011011.39-fast.flm\n",
      "Host correction...\n",
      "2001n sn2001N-20010122.46-fast.flm\n",
      "Host correction...\n",
      "2002ck sn2002ck-20020502.46-fast.flm\n",
      "Host correction...\n",
      "2002fk sn2002fk-20020929.44-fast.flm\n",
      "Host correction...\n",
      "2002hu sn2002hu-20021113.25-fast.flm\n",
      "Host correction...\n",
      "2003w sn2003W-20030207.40-fast.flm\n",
      "Host correction...\n",
      "2004bg sn2004bg-20040417.19-fast.flm\n",
      "Host correction...\n",
      "2004l sn2004L-20040127.40-fast.flm\n",
      "Host correction...\n",
      "2005a sn2005A-20050110.11-ldss2.flm\n",
      "Host correction...\n",
      "2006ax SN06ax_060330_b01_DUP_WF.dat\n",
      "Host correction...\n",
      "2006br SN06br_060426_b01_DUP_WF.dat\n",
      "Host correction...\n",
      "2006cf sn2006cf-20060519.25-fast.flm\n",
      "Host correction...\n",
      "2006et sn2006et-20060918.36-fast.flm\n",
      "Host correction...\n",
      "2007ae sn2007ae-20070225.54-fast.flm\n",
      "Host correction...\n",
      "2008bf SN08bf_080326_b01_CLA_LD.dat\n",
      "Host correction...\n",
      "2005hc SN05hc_051024_b01_MGH_BC.dat\n",
      "Host correction...\n",
      "2006os SN06os_061122_b01_DUP_WF.dat\n",
      "Host correction...\n",
      "2007le SN07le_071028_g01_CLA_LD.dat\n",
      "Host correction...\n",
      "45 SNs with host corrections\n",
      "Creating composite...\n",
      "Done.\n",
      "SQL Query: SELECT * from Supernovae inner join Photometry ON Supernovae.SN = Photometry.SN where phase >= -3 and phase <= 3 and ((dm15_cfa >= 1.15 and dm15_cfa < 1.25) or (dm15_from_fits >= 1.15 and dm15_from_fits < 1.25))\n",
      "Collecting data...\n",
      "19 spectra found\n",
      "151 questionable files currently ignored\n",
      "2 questionable spectra removed 17 spectra left\n",
      "0 Peculiar Ias removed 17 spectra left\n",
      "16 SNs with host corrections\n",
      "Arrays cleaned\n",
      "151 questionable files currently ignored\n",
      "0 spectra with nan ivars removed 16 spectra left\n",
      "1995e sn1995e-19950224-uoi2.flm\n",
      "Host correction...\n",
      "1997y sn1997y-19970209-uohp.flm\n",
      "Host correction...\n",
      "1999ac sn1999ac-19990312-ui-corrected.flm\n",
      "Host correction...\n",
      "1999gd sn1999gd-19991205-uvoir.flm\n",
      "Host correction...\n",
      "2002ha sn2002ha-20021102-ui-corrected.flm\n",
      "Host correction...\n",
      "2003cq sn2003cq-20030408-ui.flm\n",
      "Host correction...\n",
      "2006sr sn2006sr-20061220.097-ui.flm\n",
      "Host correction...\n",
      "2007co sn2007co-20070614.468-ui-corrected.flm\n",
      "Host correction...\n",
      "1998dh sn1998dh-19980804.36-fast.flm\n",
      "Host correction...\n",
      "2002cr sn2002cr-20020515.28-fast.flm\n",
      "Host correction...\n",
      "2002hd sn2002hd-20021029.52-fast.flm\n",
      "Host correction...\n",
      "2002kf sn2002kf-20021231.34-fast.flm\n",
      "Host correction...\n",
      "2003ch sn2003ch-20030329.11-mmt.flm\n",
      "Host correction...\n",
      "2007jg SN07jg_070922_b01_CLA_LD.dat\n",
      "Host correction...\n",
      "2005kc SN05kc_051125_b01_DUP_MS.dat\n",
      "Host correction...\n",
      "2002er 2002er_20020910_3209_9997_00.dat\n",
      "Host correction...\n",
      "16 SNs with host corrections\n",
      "Creating composite...\n",
      "Done.\n",
      "SQL Query: SELECT * from Supernovae inner join Photometry ON Supernovae.SN = Photometry.SN where phase >= -3 and phase <= 3 and ((dm15_cfa >= 1.25 and dm15_cfa < 1.42) or (dm15_from_fits >= 1.25 and dm15_from_fits < 1.42))\n",
      "Collecting data...\n",
      "28 spectra found\n",
      "151 questionable files currently ignored\n",
      "2 questionable spectra removed 26 spectra left\n",
      "0 Peculiar Ias removed 26 spectra left\n",
      "22 SNs with host corrections\n",
      "Arrays cleaned\n",
      "151 questionable files currently ignored\n",
      "0 spectra with nan ivars removed 22 spectra left\n",
      "2001ep sn2001ep-20011020-ui-corrected.flm\n",
      "Host correction...\n",
      "2004gs sn2004gs-20041217.447-ui-corrected.flm\n",
      "Host correction...\n",
      "2005el sn2005el-20051004.534-ui-corrected.flm\n",
      "Host correction...\n",
      "2005ki sn2005ki-20051202.649-deimos.flm\n",
      "Host correction...\n",
      "2005lz sn2005lz-20060101.381-deimos.flm\n",
      "Host correction...\n",
      "2007bc sn2007bc-20070410.323-ui-corrected.flm\n",
      "Host correction...\n",
      "1994m sn1994M-19940504.15-fast.flm\n",
      "Host correction...\n",
      "1996x 1996X_19960419_3077_10669_00.dat\n",
      "Host correction...\n",
      "1998dx sn1998dx-19980914.18-fast.flm\n",
      "Host correction...\n",
      "1998ef sn1998ef-19981029.31-fast.flm\n",
      "Host correction...\n",
      "1999cc sn1999cc-19990516.34-fast.flm\n",
      "Host correction...\n",
      "2002es sn2002es-20020903.45-fast.flm\n",
      "Host correction...\n",
      "2002g sn2002G-20020122.52-fast.flm\n",
      "Host correction...\n",
      "2003ic sn2003ic-20030921.36-fast.flm\n",
      "Host correction...\n",
      "2003it sn2003it-20031020.23-fast.flm\n",
      "Host correction...\n",
      "2004ef SN04ef_040914_b01_DUP_WF.dat\n",
      "Host correction...\n",
      "2005am sn2005am-20050303.30-fast.flm\n",
      "Host correction...\n",
      "2005bo SN05bo_050418_b01_DUP_WF.dat\n",
      "Host correction...\n",
      "2006al sn2006al-20060224.34-fast.flm\n",
      "Host correction...\n",
      "2006az sn2006az-20060331.37-fast.flm\n",
      "Host correction...\n",
      "2007bd SN07bd_070417_b01_DUP_WF.dat\n",
      "Host correction...\n",
      "2006d sn2006d-20060120-snifs-r.dat\n",
      "Host correction...\n",
      "22 SNs with host corrections\n",
      "Creating composite...\n",
      "Done.\n",
      "SQL Query: SELECT * from Supernovae inner join Photometry ON Supernovae.SN = Photometry.SN where phase >= -3 and phase <= 3 and ((dm15_cfa >= 1.42 and dm15_cfa < 1.7) or (dm15_from_fits >= 1.42 and dm15_from_fits < 1.7))\n",
      "Collecting data...\n",
      "22 spectra found\n",
      "151 questionable files currently ignored\n",
      "2 questionable spectra removed 20 spectra left\n",
      "3 Peculiar Ias removed 17 spectra left\n",
      "14 SNs with host corrections\n",
      "Arrays cleaned\n",
      "151 questionable files currently ignored\n",
      "0 spectra with nan ivars removed 14 spectra left\n",
      "2000dk sn2000dk-20000926-ui-corrected.flm\n",
      "Host correction...\n",
      "2002eu sn2002eu-20020903-ui.flm\n",
      "Host correction...\n",
      "2002he sn2002he-20021108-br.flm\n",
      "Host correction...\n",
      "2003u sn2003U-20030204-ui.flm\n",
      "Host correction...\n",
      "2006n sn2006n-20060123.286-ui.flm\n",
      "Host correction...\n",
      "2007ci sn2007ci-20070524.264-ui-corrected.flm\n",
      "Host correction...\n",
      "1994t sn1994T-19940612.19-fast.flm\n",
      "Host correction...\n",
      "1998co sn1998co-19980623.45-fast.flm\n",
      "Host correction...\n",
      "1999ej sn1999ej-19991030.28-fast.flm\n",
      "Host correction...\n",
      "2002do sn2002do-20020619.43-fast.flm\n",
      "Host correction...\n",
      "2006gj sn2006gj-20060920.43-fast.flm\n",
      "Host correction...\n",
      "2006gt SN06gt_060925_b01_DUP_WF.dat\n",
      "Host correction...\n",
      "2007au sn2007au-20070326.15-fast.flm\n",
      "Host correction...\n",
      "2006kf SN06kf_061103_g01_NTT_EM.dat\n",
      "Host correction...\n",
      "14 SNs with host corrections\n",
      "Creating composite...\n",
      "Done.\n",
      "SQL Query: SELECT * from Supernovae inner join Photometry ON Supernovae.SN = Photometry.SN where phase >= -3 and phase <= 3 and ((dm15_cfa >= 1.7 or dm15_from_fits >= 1.7))\n",
      "Collecting data...\n",
      "19 spectra found\n",
      "151 questionable files currently ignored\n",
      "4 questionable spectra removed 15 spectra left\n",
      "1 Peculiar Ias removed 14 spectra left\n",
      "11 SNs with host corrections\n",
      "Arrays cleaned\n",
      "151 questionable files currently ignored\n",
      "0 spectra with nan ivars removed 11 spectra left\n",
      "1999da sn1999da-19990709-ui.flm\n",
      "Host correction...\n",
      "2002fb sn2002fb-20020913-ui-corrected.flm\n",
      "Host correction...\n",
      "2005dv sn2005dv-20050911.170-ui.flm\n",
      "Host correction...\n",
      "2006bz sn2006bz-20060505.218-ui.flm\n",
      "Host correction...\n",
      "2006cs sn2006cs-20060605.335-ui.flm\n",
      "Host correction...\n",
      "2007ba sn2007ba-20070410.475-ui.flm\n",
      "Host correction...\n",
      "2007n sn2007n-20070122.583-deimos.flm\n",
      "Host correction...\n",
      "1998bp sn1998bp-19980430.47-fast.flm\n",
      "Host correction...\n",
      "1998de sn1998de-19980730.46-fast.flm\n",
      "Host correction...\n",
      "1999by sn1999by-19990514.15-fast.flm\n",
      "Host correction...\n",
      "2007ax SN07ax_070326_b01_DUP_BC.dat\n",
      "Host correction...\n",
      "11 SNs with host corrections\n",
      "Creating composite...\n",
      "Done.\n"
     ]
    }
   ],
   "source": [
    "comps_dm15_max_fewer_bins, sn_arrays_2, boot_sn_arrays_2 = query_db.main(len(query_dm15_max_fewer_bins), query_dm15_max_fewer_bins)"
   ]
  },
  {
   "cell_type": "code",
   "execution_count": 48,
   "metadata": {
    "collapsed": false
   },
   "outputs": [],
   "source": [
    "# composite.optimize_scales(comps_dm15_max_fewer_bins, comps_dm15_max_fewer_bins[0], True)\n",
    "query_db.set_min_num_spec(comps_dm15_max_fewer_bins, 5)\n",
    "# comparison_plot(comps_dm15_max_fewer_bins)\n",
    "temp = [comps_dm15_max_fewer_bins[0], comps_dm15_max_fewer_bins[3]]\n",
    "# comparison_plot(temp)\n",
    "# plt.savefig('../../Paper_Drafts/dm15_max.png', dpi = 300, bbox_inches = 'tight')\n",
    "stacked_plot_max(comps_dm15_max_fewer_bins,5,1)"
   ]
  },
  {
   "cell_type": "code",
   "execution_count": 40,
   "metadata": {
    "collapsed": false
   },
   "outputs": [
    {
     "name": "stdout",
     "output_type": "stream",
     "text": [
      "0.136922414565\n",
      "0.108191072448\n",
      "0.203141958087\n",
      "0.24583018708\n",
      "0.361720333993\n",
      "0.605463552902\n"
     ]
    }
   ],
   "source": [
    "si_ratios = []\n",
    "phases = []\n",
    "dm15s = []\n",
    "for comp in comps_dm15_max_fewer_bins:\n",
    "    p = np.average(comp.phase_array[comp.x1:comp.x2])\n",
    "    dm15 = np.round(np.average(comp.dm15[comp.x1:comp.x2]),2)\n",
    "    r = sa.measure_si_ratio(comp.wavelength[comp.x1:comp.x2], comp.flux[comp.x1:comp.x2])\n",
    "    phases.append(p)\n",
    "    dm15s.append(dm15)\n",
    "    si_ratios.append(r)"
   ]
  },
  {
   "cell_type": "code",
   "execution_count": 42,
   "metadata": {
    "collapsed": false
   },
   "outputs": [
    {
     "name": "stdout",
     "output_type": "stream",
     "text": [
      "0.986300295746\n",
      "1.11979144271\n",
      "1.38138042688\n",
      "1.31565907565\n",
      "1.30539075511\n",
      "3.54859722242\n"
     ]
    }
   ],
   "source": [
    "ca_ratios = []\n",
    "phases = []\n",
    "dm15s = []\n",
    "wave_ranges = [[3550.,3650.], [3550.,3650.], [3600.,3650.], [3600.,3680.], [3600.,3700.], [3480.,3600.]]\n",
    "i=0\n",
    "for i in range(len(comps_dm15_max_fewer_bins)):\n",
    "    comp = comps_dm15_max_fewer_bins[i]\n",
    "    p = np.average(comp.phase_array[comp.x1:comp.x2])\n",
    "    dm15 = np.round(np.average(comp.dm15[comp.x1:comp.x2]),2)\n",
    "    r = sa.measure_ca_ratio(comp.wavelength[comp.x1:comp.x2], comp.flux[comp.x1:comp.x2], wave1=wave_ranges[i][0], wave2=wave_ranges[i][1])\n",
    "    phases.append(p)\n",
    "    dm15s.append(dm15)\n",
    "    ca_ratios.append(r)\n",
    "    i+=1"
   ]
  },
  {
   "cell_type": "code",
   "execution_count": 49,
   "metadata": {
    "collapsed": true
   },
   "outputs": [],
   "source": [
    "plt.scatter(si_ratios, dm15s)\n",
    "plt.gca().invert_yaxis()\n",
    "plt.show()"
   ]
  },
  {
   "cell_type": "code",
   "execution_count": 45,
   "metadata": {
    "collapsed": true
   },
   "outputs": [],
   "source": [
    "plt.scatter(ca_ratios, dm15s)\n",
    "plt.gca().invert_yaxis()\n",
    "plt.show()"
   ]
  },
  {
   "cell_type": "markdown",
   "metadata": {
    "collapsed": true
   },
   "source": [
    "# Very Early"
   ]
  },
  {
   "cell_type": "code",
   "execution_count": null,
   "metadata": {
    "collapsed": true
   },
   "outputs": [],
   "source": [
    "query_dm15_very_early = [\"SELECT * from Supernovae inner join Photometry ON Supernovae.SN = Photometry.SN where phase < -10 and ((dm15_cfa < .95 or dm15_from_fits < .95))\",\n",
    "                         \"SELECT * from Supernovae inner join Photometry ON Supernovae.SN = Photometry.SN where phase < -10 and ((dm15_cfa >= .95 and dm15_cfa < 1.1) or (dm15_from_fits >= .95 and dm15_from_fits < 1.1))\",\n",
    "                         \"SELECT * from Supernovae inner join Photometry ON Supernovae.SN = Photometry.SN where phase < -10 and ((dm15_cfa >= 1.1 or dm15_from_fits >= 1.1))\"]"
   ]
  },
  {
   "cell_type": "code",
   "execution_count": null,
   "metadata": {
    "collapsed": false
   },
   "outputs": [],
   "source": [
    "comps_dm15_very_early, sn_arrays = query_db.main(len(query_dm15_very_early), query_dm15_very_early, boot='b')"
   ]
  },
  {
   "cell_type": "code",
   "execution_count": null,
   "metadata": {
    "collapsed": false
   },
   "outputs": [],
   "source": [
    "composite.optimize_scales(comps_dm15_very_early, comps_dm15_very_early[0], True)\n",
    "query_db.set_min_num_spec(comps_dm15_very_early, 5)\n",
    "comparison_plot(comps_dm15_very_early)\n",
    "# stacked_plot_max(comps_dm15_very_early,5,1)"
   ]
  },
  {
   "cell_type": "markdown",
   "metadata": {},
   "source": [
    "# -1 Week"
   ]
  },
  {
   "cell_type": "code",
   "execution_count": null,
   "metadata": {
    "collapsed": true
   },
   "outputs": [],
   "source": [
    "query_dm15_m1week = [\"SELECT * from Supernovae inner join Photometry ON Supernovae.SN = Photometry.SN where phase >= -9 and phase <= -5 and ((dm15_cfa < .95 or dm15_from_fits < .95))\",\n",
    "                         \"SELECT * from Supernovae inner join Photometry ON Supernovae.SN = Photometry.SN where phase >= -9 and phase <= -5 and ((dm15_cfa >= .95 and dm15_cfa < 1.15) or (dm15_from_fits >= .95 and dm15_from_fits < 1.15))\",\n",
    "                         \"SELECT * from Supernovae inner join Photometry ON Supernovae.SN = Photometry.SN where phase >= -9 and phase <= -5 and ((dm15_cfa >= 1.15 and dm15_cfa < 1.25) or (dm15_from_fits >= 1.15 and dm15_from_fits < 1.25))\",\n",
    "                         \"SELECT * from Supernovae inner join Photometry ON Supernovae.SN = Photometry.SN where phase >= -9 and phase <= -5 and ((dm15_cfa >= 1.25 and dm15_cfa < 1.5) or (dm15_from_fits >= 1.25 and dm15_from_fits < 1.5))\",\n",
    "                         \"SELECT * from Supernovae inner join Photometry ON Supernovae.SN = Photometry.SN where phase >= -9 and phase <= -5 and ((dm15_cfa >= 1.5 or dm15_from_fits >= 1.5))\"]"
   ]
  },
  {
   "cell_type": "code",
   "execution_count": null,
   "metadata": {
    "collapsed": false
   },
   "outputs": [],
   "source": [
    "comps_dm15_m1week, sn_arrays = query_db.main(len(query_dm15_m1week), query_dm15_m1week)"
   ]
  },
  {
   "cell_type": "code",
   "execution_count": null,
   "metadata": {
    "collapsed": false
   },
   "outputs": [],
   "source": [
    "composite.optimize_scales(comps_dm15_m1week, comps_dm15_m1week[0], True)\n",
    "query_db.set_min_num_spec(comps_dm15_m1week, 5)\n",
    "comparison_plot(comps_dm15_m1week)\n",
    "stacked_plot_max(comps_dm15_m1week,5,1)"
   ]
  },
  {
   "cell_type": "markdown",
   "metadata": {},
   "source": [
    "# +1 Week"
   ]
  },
  {
   "cell_type": "code",
   "execution_count": null,
   "metadata": {
    "collapsed": true
   },
   "outputs": [],
   "source": [
    "query_dm15_p1week = [\"SELECT * from Supernovae inner join Photometry ON Supernovae.SN = Photometry.SN where phase >= 5 and phase <= 9 and ((dm15_cfa < .95 or dm15_from_fits < .95))\",\n",
    "                         \"SELECT * from Supernovae inner join Photometry ON Supernovae.SN = Photometry.SN where phase >= 5 and phase <= 9 and ((dm15_cfa >= .95 and dm15_cfa < 1.15) or (dm15_from_fits >= .95 and dm15_from_fits < 1.15))\",\n",
    "                         \"SELECT * from Supernovae inner join Photometry ON Supernovae.SN = Photometry.SN where phase >= 5 and phase <= 9 and ((dm15_cfa >= 1.15 and dm15_cfa < 1.25) or (dm15_from_fits >= 1.15 and dm15_from_fits < 1.25))\",\n",
    "                         \"SELECT * from Supernovae inner join Photometry ON Supernovae.SN = Photometry.SN where phase >= 5 and phase <= 9 and ((dm15_cfa >= 1.25 and dm15_cfa < 1.5) or (dm15_from_fits >= 1.25 and dm15_from_fits < 1.5))\",\n",
    "                         \"SELECT * from Supernovae inner join Photometry ON Supernovae.SN = Photometry.SN where phase >= 5 and phase <= 9 and ((dm15_cfa >= 1.5 or dm15_from_fits >= 1.5))\"]"
   ]
  },
  {
   "cell_type": "code",
   "execution_count": null,
   "metadata": {
    "collapsed": false
   },
   "outputs": [],
   "source": [
    "comps_dm15_p1week, sn_arrays = query_db.main(len(query_dm15_p1week), query_dm15_p1week)"
   ]
  },
  {
   "cell_type": "code",
   "execution_count": null,
   "metadata": {
    "collapsed": true
   },
   "outputs": [],
   "source": [
    "composite.optimize_scales(comps_dm15_p1week, comps_dm15_p1week[0], True)\n",
    "query_db.set_min_num_spec(comps_dm15_p1week, 5)\n",
    "comparison_plot(comps_dm15_p1week)\n",
    "stacked_plot_max(comps_dm15_p1week,5,1)"
   ]
  },
  {
   "cell_type": "markdown",
   "metadata": {},
   "source": [
    "# +2 Weeks"
   ]
  },
  {
   "cell_type": "code",
   "execution_count": null,
   "metadata": {
    "collapsed": true
   },
   "outputs": [],
   "source": [
    "query_dm15_p2week = [\"SELECT * from Supernovae inner join Photometry ON Supernovae.SN = Photometry.SN where phase >= 12 and phase <= 16 and ((dm15_cfa < 1. or dm15_from_fits < 1.))\",\n",
    "                         \"SELECT * from Supernovae inner join Photometry ON Supernovae.SN = Photometry.SN where phase >= 12 and phase <= 16 and ((dm15_cfa >= 1. and dm15_cfa < 1.15) or (dm15_from_fits >= 1. and dm15_from_fits < 1.15))\",\n",
    "                         \"SELECT * from Supernovae inner join Photometry ON Supernovae.SN = Photometry.SN where phase >= 12 and phase <= 16 and ((dm15_cfa >= 1.15 and dm15_cfa < 1.3) or ((dm15_from_fits >= 1.1 and dm15_from_fits < 1.3)))\",\n",
    "                         \"SELECT * from Supernovae inner join Photometry ON Supernovae.SN = Photometry.SN where phase >= 12 and phase <= 16 and ((dm15_cfa >= 1.3 and dm15_cfa < 1.5) or ((dm15_from_fits >= 1.3 and dm15_from_fits < 1.5)))\",\n",
    "                         \"SELECT * from Supernovae inner join Photometry ON Supernovae.SN = Photometry.SN where phase >= 12 and phase <= 16 and ((dm15_cfa >= 1.5 or dm15_from_fits >= 1.5))\"]"
   ]
  },
  {
   "cell_type": "code",
   "execution_count": null,
   "metadata": {
    "collapsed": false
   },
   "outputs": [],
   "source": [
    "comps_dm15_p2week,sn_arrays = query_db.main(len(query_dm15_p2week), query_dm15_p2week)"
   ]
  },
  {
   "cell_type": "code",
   "execution_count": null,
   "metadata": {
    "collapsed": false
   },
   "outputs": [],
   "source": [
    "composite.optimize_scales(comps_dm15_p2week, comps_dm15_p2week[0], True)\n",
    "query_db.set_min_num_spec(comps_dm15_p2week, 5)\n",
    "comparison_plot(comps_dm15_p2week)\n",
    "stacked_plot_max(comps_dm15_p2week,5,1)"
   ]
  },
  {
   "cell_type": "markdown",
   "metadata": {},
   "source": [
    "# +1 Month"
   ]
  },
  {
   "cell_type": "code",
   "execution_count": null,
   "metadata": {
    "collapsed": true
   },
   "outputs": [],
   "source": [
    "query_dm15_p1month = [\"SELECT * from Supernovae inner join Photometry ON Supernovae.SN = Photometry.SN where phase >= 26 and phase <= 34 and ((dm15_cfa < .95 or dm15_from_fits < .95))\",\n",
    "                         \"SELECT * from Supernovae inner join Photometry ON Supernovae.SN = Photometry.SN where phase >= 26 and phase <= 34 and ((dm15_cfa >= .95 and dm15_cfa < 1.1) or (dm15_from_fits >= .95 and dm15_from_fits < 1.1))\",\n",
    "                         \"SELECT * from Supernovae inner join Photometry ON Supernovae.SN = Photometry.SN where phase >= 26 and phase <= 34 and ((dm15_cfa >= 1.1 and dm15_cfa < 1.3) or ((dm15_from_fits >= 1.1 and dm15_from_fits < 1.3)))\",\n",
    "                         \"SELECT * from Supernovae inner join Photometry ON Supernovae.SN = Photometry.SN where phase >= 26 and phase <= 34 and ((dm15_cfa >= 1.3 and dm15_cfa < 1.5) or ((dm15_from_fits >= 1.3 and dm15_from_fits < 1.5)))\",\n",
    "                         \"SELECT * from Supernovae inner join Photometry ON Supernovae.SN = Photometry.SN where phase >= 26 and phase <= 34 and ((dm15_cfa >= 1.5 or dm15_from_fits >= 1.5))\"]"
   ]
  },
  {
   "cell_type": "code",
   "execution_count": null,
   "metadata": {
    "collapsed": false
   },
   "outputs": [],
   "source": [
    "comps_dm15_p1month, sn_arrays = query_db.main(len(query_dm15_p1month), query_dm15_p1month)"
   ]
  },
  {
   "cell_type": "code",
   "execution_count": null,
   "metadata": {
    "collapsed": false
   },
   "outputs": [],
   "source": [
    "composite.optimize_scales(comps_dm15_p1month, comps_dm15_p1month[0], True)\n",
    "query_db.set_min_num_spec(comps_dm15_p1month, 5)\n",
    "comparison_plot(comps_dm15_p1month)\n",
    "stacked_plot_max(comps_dm15_p1month,5,1)"
   ]
  },
  {
   "cell_type": "markdown",
   "metadata": {},
   "source": [
    "# +2 Months"
   ]
  },
  {
   "cell_type": "code",
   "execution_count": null,
   "metadata": {
    "collapsed": true
   },
   "outputs": [],
   "source": [
    "query_dm15_p2month = [\"SELECT * from Supernovae inner join Photometry ON Supernovae.SN = Photometry.SN where phase >= 56 and phase <= 64 and ((dm15_cfa < 1. or dm15_from_fits < 1.))\",\n",
    "                         \"SELECT * from Supernovae inner join Photometry ON Supernovae.SN = Photometry.SN where phase >= 56 and phase <= 64 and ((dm15_cfa >= 1. and dm15_cfa < 1.15) or (dm15_from_fits >= 1. and dm15_from_fits < 1.15))\",\n",
    "                         \"SELECT * from Supernovae inner join Photometry ON Supernovae.SN = Photometry.SN where phase >= 56 and phase <= 64 and ((dm15_cfa >= 1.15 and dm15_cfa < 1.35) or (dm15_from_fits >= 1.15 and dm15_from_fits < 1.35))\",\n",
    "                         \"SELECT * from Supernovae inner join Photometry ON Supernovae.SN = Photometry.SN where phase >= 56 and phase <= 64 and ((dm15_cfa >= 1.35 or dm15_from_fits >= 1.35))\"]"
   ]
  },
  {
   "cell_type": "code",
   "execution_count": null,
   "metadata": {
    "collapsed": false
   },
   "outputs": [],
   "source": [
    "comps_dm15_p2month, sn_arrays = query_db.main(len(query_dm15_p2month), query_dm15_p2month)"
   ]
  },
  {
   "cell_type": "code",
   "execution_count": null,
   "metadata": {
    "collapsed": false
   },
   "outputs": [],
   "source": [
    "composite.optimize_scales(comps_dm15_p2month, comps_dm15_p2month[0], True)\n",
    "query_db.set_min_num_spec(comps_dm15_p2month, 5)\n",
    "comparison_plot(comps_dm15_p2month)\n",
    "stacked_plot_max(comps_dm15_p2month,5,1)"
   ]
  },
  {
   "cell_type": "markdown",
   "metadata": {},
   "source": [
    "# +1 Year"
   ]
  },
  {
   "cell_type": "code",
   "execution_count": null,
   "metadata": {
    "collapsed": true
   },
   "outputs": [],
   "source": [
    "query_dm15_plong = [\"SELECT * from Supernovae inner join Photometry ON Supernovae.SN = Photometry.SN where phase >= 180 and ((dm15_cfa < 1.2 or dm15_from_fits < 1.2))\",\n",
    "                         \"SELECT * from Supernovae inner join Photometry ON Supernovae.SN = Photometry.SN where phase >= 180 and ((dm15_cfa >= 1.2 or dm15_from_fits >= 1.2))\"]"
   ]
  },
  {
   "cell_type": "code",
   "execution_count": null,
   "metadata": {
    "collapsed": false
   },
   "outputs": [],
   "source": [
    "comps_dm15_plong, sn_arrays = query_db.main(len(query_dm15_plong), query_dm15_plong)"
   ]
  },
  {
   "cell_type": "code",
   "execution_count": null,
   "metadata": {
    "collapsed": false
   },
   "outputs": [],
   "source": [
    "composite.optimize_scales(comps_dm15_plong, comps_dm15_plong[0], True)\n",
    "query_db.set_min_num_spec(comps_dm15_plong, 5)\n",
    "comparison_plot(comps_dm15_plong)\n",
    "stacked_plot_max(comps_dm15_plong,20,1)"
   ]
  },
  {
   "cell_type": "code",
   "execution_count": null,
   "metadata": {
    "collapsed": false
   },
   "outputs": [],
   "source": [
    "#normalize to first comp\n",
    "comps_dm15_very_early = query_db.normalize_comps(comps_dm15_very_early)\n",
    "comps_dm15_m1week = query_db.normalize_comps(comps_dm15_m1week)\n",
    "comps_dm15_max_fewer_bins = query_db.normalize_comps(comps_dm15_max_fewer_bins)\n",
    "comps_dm15_p1week = query_db.normalize_comps(comps_dm15_p1week)\n",
    "comps_dm15_p2week = query_db.normalize_comps(comps_dm15_p2week)\n",
    "comps_dm15_p1month = query_db.normalize_comps(comps_dm15_p1month)\n",
    "comps_dm15_p2month = query_db.normalize_comps(comps_dm15_p2month)\n",
    "comps_dm15_plong = query_db.normalize_comps(comps_dm15_plong)"
   ]
  },
  {
   "cell_type": "code",
   "execution_count": null,
   "metadata": {
    "collapsed": false
   },
   "outputs": [],
   "source": [
    "composite.optimize_scales(comps_dm15_very_early, comps_dm15_very_early[0], True)\n",
    "composite.optimize_scales(comps_dm15_m1week, comps_dm15_m1week[0], True)\n",
    "composite.optimize_scales(comps_dm15_max_fewer_bins, comps_dm15_max_fewer_bins[0], True)\n",
    "composite.optimize_scales(comps_dm15_p1week, comps_dm15_p1week[0], True)\n",
    "composite.optimize_scales(comps_dm15_p2week, comps_dm15_p2week[0], True)\n",
    "composite.optimize_scales(comps_dm15_p1month, comps_dm15_p1month[0], True)\n",
    "composite.optimize_scales(comps_dm15_p2month, comps_dm15_p2month[0], True)\n",
    "composite.optimize_scales(comps_dm15_plong, comps_dm15_plong[0], True)"
   ]
  },
  {
   "cell_type": "code",
   "execution_count": null,
   "metadata": {
    "collapsed": false
   },
   "outputs": [],
   "source": [
    "f, axarr = plt.subplots(8, 5, figsize=[30,20], sharex = True, sharey = True)\n",
    "axarr[0, 0].set_title('$\\Delta m_{15} < 0.95$', fontsize=30)\n",
    "axarr[0, 1].set_title('$0.95 < \\Delta m_{15} < 1.15$', fontsize=30)\n",
    "axarr[0, 2].set_title('$1.15 < \\Delta m_{15} < 1.25$',fontsize=30)\n",
    "axarr[0, 3].set_title('$1.25 < \\Delta m_{15} < 1.50$', fontsize=30)\n",
    "axarr[0, 4].set_title('$\\Delta m_{15} > 1.50$', fontsize=30)\n",
    "\n",
    "axarr[0, 0].set_ylabel('$\\Delta t < -10$', fontsize=15)\n",
    "axarr[1, 0].set_ylabel('$-9 < \\Delta t < -5$', fontsize=15)\n",
    "axarr[2, 0].set_ylabel('$-3 < \\Delta t < +3$',fontsize=15)\n",
    "axarr[3, 0].set_ylabel('$+5 < \\Delta t < +9$', fontsize=15)\n",
    "axarr[4, 0].set_ylabel('$+12 < \\Delta t < +16$', fontsize=15)\n",
    "axarr[5, 0].set_ylabel('$+26 < \\Delta t < +34$', fontsize=15)\n",
    "axarr[6, 0].set_ylabel('$+56 < \\Delta t < +64$', fontsize=15)\n",
    "axarr[7, 0].set_ylabel('$\\Delta t > +180$', fontsize=15)\n",
    "i = 0\n",
    "for comp in comps_dm15_very_early:\n",
    "    dm15 = np.round(np.average(comp.dm15[comp.x1:comp.x2]),2)\n",
    "#     axarr[0, i].text(9700, .7, dm15)\n",
    "    axarr[0, i].plot(comp.wavelength[comp.x1:comp.x2], comp.flux[comp.x1:comp.x2])\n",
    "    axarr[0, i].fill_between(comp.wavelength[comp.x1:comp.x2], \n",
    "                             comp.low_conf[comp.x1:comp.x2], \n",
    "                             comp.up_conf[comp.x1:comp.x2], alpha = 0.5)\n",
    "    i+=1\n",
    "    \n",
    "i = 0\n",
    "for comp in comps_dm15_m1week:\n",
    "    dm15 = np.round(np.average(comp.dm15[comp.x1:comp.x2]),2)\n",
    "#     axarr[1, i].text(9700, .7, dm15)\n",
    "    axarr[1, i].plot(comp.wavelength[comp.x1:comp.x2], comp.flux[comp.x1:comp.x2])\n",
    "    axarr[1, i].fill_between(comp.wavelength[comp.x1:comp.x2], \n",
    "                             comp.low_conf[comp.x1:comp.x2], \n",
    "                             comp.up_conf[comp.x1:comp.x2], alpha = 0.5)\n",
    "    i+=1\n",
    "    \n",
    "i = 0\n",
    "for comp in comps_dm15_max_fewer_bins:\n",
    "    dm15 = np.round(np.average(comp.dm15[comp.x1:comp.x2]),2)\n",
    "#     axarr[2, i].text(9700, .7, dm15)\n",
    "    axarr[2, i].plot(comp.wavelength[comp.x1:comp.x2], comp.flux[comp.x1:comp.x2])\n",
    "    axarr[2, i].fill_between(comp.wavelength[comp.x1:comp.x2], \n",
    "                             comp.low_conf[comp.x1:comp.x2], \n",
    "                             comp.up_conf[comp.x1:comp.x2], alpha = 0.5)\n",
    "    i+=1\n",
    "\n",
    "i = 0\n",
    "for comp in comps_dm15_p1week:\n",
    "    dm15 = np.round(np.average(comp.dm15[comp.x1:comp.x2]),2)\n",
    "#     axarr[3, i].text(9700, .7, dm15)\n",
    "    axarr[3, i].plot(comp.wavelength[comp.x1:comp.x2], comp.flux[comp.x1:comp.x2])\n",
    "    axarr[3, i].fill_between(comp.wavelength[comp.x1:comp.x2], \n",
    "                             comp.low_conf[comp.x1:comp.x2], \n",
    "                             comp.up_conf[comp.x1:comp.x2], alpha = 0.5)\n",
    "    i+=1\n",
    "\n",
    "i = 0\n",
    "for comp in comps_dm15_p2week:\n",
    "    dm15 = np.round(np.average(comp.dm15[comp.x1:comp.x2]),2)\n",
    "#     axarr[4, i].text(9700, .7, dm15)\n",
    "    axarr[4, i].plot(comp.wavelength[comp.x1:comp.x2], comp.flux[comp.x1:comp.x2])\n",
    "    axarr[4, i].fill_between(comp.wavelength[comp.x1:comp.x2], \n",
    "                             comp.low_conf[comp.x1:comp.x2], \n",
    "                             comp.up_conf[comp.x1:comp.x2], alpha = 0.5)\n",
    "    i+=1\n",
    "    \n",
    "i = 0\n",
    "for comp in comps_dm15_p1month:\n",
    "    dm15 = np.round(np.average(comp.dm15[comp.x1:comp.x2]),2)\n",
    "#     axarr[5, i].text(9700, .7, dm15)\n",
    "    axarr[5, i].plot(comp.wavelength[comp.x1:comp.x2], comp.flux[comp.x1:comp.x2])\n",
    "    axarr[5, i].fill_between(comp.wavelength[comp.x1:comp.x2], \n",
    "                             comp.low_conf[comp.x1:comp.x2], \n",
    "                             comp.up_conf[comp.x1:comp.x2], alpha = 0.5)\n",
    "    i+=1\n",
    "\n",
    "i = 0\n",
    "for comp in comps_dm15_p2month:\n",
    "    dm15 = np.round(np.average(comp.dm15[comp.x1:comp.x2]),2)\n",
    "#     axarr[6, i].text(9700, .7, dm15)\n",
    "    axarr[6, i].plot(comp.wavelength[comp.x1:comp.x2], comp.flux[comp.x1:comp.x2])\n",
    "    axarr[6, i].fill_between(comp.wavelength[comp.x1:comp.x2], \n",
    "                             comp.low_conf[comp.x1:comp.x2], \n",
    "                             comp.up_conf[comp.x1:comp.x2], alpha = 0.5)\n",
    "    i+=1\n",
    "\n",
    "dm15 = np.round(np.average(comps_dm15_plong[0].dm15[comps_dm15_plong[0].x1:comps_dm15_plong[0].x2]),2)\n",
    "# axarr[7, 1].text(9700, .7, dm15)\n",
    "axarr[7, 1].plot(comps_dm15_plong[0].wavelength[comps_dm15_plong[0].x1:comps_dm15_plong[0].x2], \n",
    "                 comps_dm15_plong[0].flux[comps_dm15_plong[0].x1:comps_dm15_plong[0].x2])\n",
    "axarr[7, 1].fill_between(comps_dm15_plong[0].wavelength[comps_dm15_plong[0].x1:comps_dm15_plong[0].x2], \n",
    "                         comps_dm15_plong[0].low_conf[comps_dm15_plong[0].x1:comps_dm15_plong[0].x2], \n",
    "                         comps_dm15_plong[0].up_conf[comps_dm15_plong[0].x1:comps_dm15_plong[0].x2], alpha = 0.5)\n",
    "dm15 = np.round(np.average(comps_dm15_plong[1].dm15[comps_dm15_plong[1].x1:comps_dm15_plong[1].x2]),2)\n",
    "# axarr[7, 4].text(9700, .7, dm15)\n",
    "axarr[7, 4].plot(comps_dm15_plong[1].wavelength[comps_dm15_plong[1].x1:comps_dm15_plong[1].x2], \n",
    "                 comps_dm15_plong[1].flux[comps_dm15_plong[1].x1:comps_dm15_plong[1].x2])\n",
    "axarr[7, 4].fill_between(comps_dm15_plong[1].wavelength[comps_dm15_plong[1].x1:comps_dm15_plong[1].x2], \n",
    "                         comps_dm15_plong[1].low_conf[comps_dm15_plong[1].x1:comps_dm15_plong[1].x2], \n",
    "                         comps_dm15_plong[1].up_conf[comps_dm15_plong[1].x1:comps_dm15_plong[1].x2], alpha = 0.5)\n",
    "\n",
    "f.subplots_adjust(hspace=0, wspace=0)\n",
    "plt.setp([a.get_xticklabels() for a in f.axes[:-5]], visible=False)\n",
    "need_label = [29,31,32,33]\n",
    "for i in range(len(f.axes)):\n",
    "    f.axes[i].set_ylim([-.1,1.1])\n",
    "    f.axes[i].minorticks_on()\n",
    "    # ax.xaxis.set_ticks(np.arange(np.round(old_wave[0],-3),np.round(old_wave[-1],-3),1000))\n",
    "    f.axes[i].tick_params(\n",
    "        which='major', \n",
    "        bottom='on', \n",
    "        top='on',\n",
    "        left='on',\n",
    "        right='on',\n",
    "        length=10)\n",
    "    f.axes[i].tick_params(\n",
    "        which='minor', \n",
    "        bottom='on', \n",
    "        top='on',\n",
    "        left='on',\n",
    "        right='on',\n",
    "        length=5)\n",
    "#     if i%5 != 0 and i not in need_label:\n",
    "#         plt.setp(f.axes[i].get_yticklabels(), visible=False)\n",
    "    f.axes[i].xaxis.set_ticks(np.arange(4000,11000,1000))\n",
    "# f.delaxes(axarr[0, 3])\n",
    "# f.delaxes(axarr[0, 4])\n",
    "# f.delaxes(axarr[6, 4])\n",
    "# f.delaxes(axarr[7, 1])\n",
    "# f.delaxes(axarr[7, 2])\n",
    "# f.delaxes(axarr[7, 3])\n",
    "plt.savefig('../../Paper_Drafts/dm15_grid.png', dpi = 100, bbox_inches = 'tight')\n",
    "plt.show()"
   ]
  },
  {
   "cell_type": "code",
   "execution_count": null,
   "metadata": {
    "collapsed": true
   },
   "outputs": [],
   "source": [
    "import spectral_analysis as sa\n",
    "plt.cla()"
   ]
  },
  {
   "cell_type": "code",
   "execution_count": null,
   "metadata": {
    "collapsed": true
   },
   "outputs": [],
   "source": [
    "all_comps = []\n",
    "all_comps.append(comps_dm15_very_early)\n",
    "all_comps.append(comps_dm15_max_fewer_bins)\n",
    "all_comps.append(comps_dm15_p1week)\n",
    "all_comps.append(comps_dm15_p2week)\n",
    "all_comps.append(comps_dm15_p1month)"
   ]
  },
  {
   "cell_type": "code",
   "execution_count": null,
   "metadata": {
    "collapsed": false
   },
   "outputs": [],
   "source": [
    "all_vels = []\n",
    "all_phases = []\n",
    "for epoch in all_comps:\n",
    "    velocities = []\n",
    "    phases = []\n",
    "    for comp in epoch:\n",
    "        p = np.average(comp.phase_array[comp.x1:comp.x2])\n",
    "        v = -1.*sa.measure_si_velocity(comp)/1000.\n",
    "        velocities.append(v)\n",
    "        phases.append(p)\n",
    "    all_vels.append(velocities)\n",
    "    all_phases.append(phases)"
   ]
  },
  {
   "cell_type": "code",
   "execution_count": null,
   "metadata": {
    "collapsed": false
   },
   "outputs": [],
   "source": [
    "for i in range (len(all_vels)):\n",
    "    plt.plot(all_phases[i], all_vels[i], 'o')\n",
    "plt.gca().invert_yaxis()\n",
    "plt.show()"
   ]
  },
  {
   "cell_type": "code",
   "execution_count": null,
   "metadata": {
    "collapsed": true
   },
   "outputs": [],
   "source": []
  }
 ],
 "metadata": {
  "anaconda-cloud": {},
  "kernelspec": {
   "display_name": "Python [conda root]",
   "language": "python",
   "name": "conda-root-py"
  },
  "language_info": {
   "codemirror_mode": {
    "name": "ipython",
    "version": 2
   },
   "file_extension": ".py",
   "mimetype": "text/x-python",
   "name": "python",
   "nbconvert_exporter": "python",
   "pygments_lexer": "ipython2",
   "version": "2.7.12"
  }
 },
 "nbformat": 4,
 "nbformat_minor": 1
}
